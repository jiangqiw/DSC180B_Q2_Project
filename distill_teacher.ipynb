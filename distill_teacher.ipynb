{
  "cells": [
    {
      "cell_type": "markdown",
      "metadata": {
        "id": "3bREGbUT_Y8F"
      },
      "source": [
        "### Import required packages and limit GPU usage"
      ]
    },
    {
      "cell_type": "code",
      "execution_count": 27,
      "metadata": {
        "colab": {
          "base_uri": "https://localhost:8080/"
        },
        "id": "uhcqwxR8_Y8I",
        "outputId": "26140e84-9279-479e-cc80-7c9a0b1a8fd5"
      },
      "outputs": [
        {
          "name": "stdout",
          "output_type": "stream",
          "text": [
            "The autoreload extension is already loaded. To reload it, use:\n",
            "  %reload_ext autoreload\n"
          ]
        }
      ],
      "source": [
        "import numpy as np\n",
        "import math\n",
        "import pandas as pd\n",
        "\n",
        "%matplotlib inline\n",
        "import matplotlib.pyplot as plt\n",
        "\n",
        "import pickle\n",
        "import argparse\n",
        "import time\n",
        "import itertools\n",
        "from copy import deepcopy\n",
        "import os\n",
        "\n",
        "import torch\n",
        "import torch.nn as nn\n",
        "import torch.nn.functional as F\n",
        "import torch.optim as optim\n",
        "\n",
        "import csv\n",
        "\n",
        "# Import the module\n",
        "import networks\n",
        "import utils\n",
        "from quantize_neural_net import QuantizeNeuralNet\n",
        "\n",
        "%load_ext autoreload\n",
        "%autoreload 2"
      ]
    },
    {
      "cell_type": "code",
      "execution_count": 28,
      "metadata": {
        "id": "n73sKlgl_Y8K"
      },
      "outputs": [],
      "source": [
        "use_gpu = True    # set use_gpu to True if system has gpu\n",
        "gpu_id = 0        # id of gpu to be used\n",
        "cpu_device = torch.device('cpu')\n",
        "# fast_device is where computation (training, inference) happens\n",
        "fast_device = torch.device('cpu')\n",
        "if use_gpu:\n",
        "    os.environ['CUDA_VISIBLE_DEVICES'] = '0,1,2'    # set visible devices depending on system configuration\n",
        "    fast_device = torch.device('cuda:' + str(gpu_id))"
      ]
    },
    {
      "cell_type": "code",
      "execution_count": 29,
      "metadata": {
        "id": "DAfPa7mw_Y8L"
      },
      "outputs": [],
      "source": [
        "def reproducibilitySeed():\n",
        "    \"\"\"\n",
        "    Ensure reproducibility of results; Seeds to 0\n",
        "    \"\"\"\n",
        "    torch_init_seed = 0\n",
        "    torch.manual_seed(torch_init_seed)\n",
        "    numpy_init_seed = 0\n",
        "    np.random.seed(numpy_init_seed)\n",
        "    if use_gpu:\n",
        "        torch.backends.cudnn.deterministic = True\n",
        "        torch.backends.cudnn.benchmark = False\n",
        "\n",
        "reproducibilitySeed()"
      ]
    },
    {
      "cell_type": "code",
      "execution_count": 30,
      "metadata": {
        "id": "o0sxuxkJbUEI"
      },
      "outputs": [],
      "source": [
        "checkpoints_path_teacher = 'checkpoints_teacher/'\n",
        "checkpoints_path_student_nokd = 'checkpoints_student/checkpoints_student_NoKD/'\n",
        "checkpoints_path_student_van = 'checkpoints_student/checkpoints_student_VAN/'\n",
        "checkpoints_path_student_qat = 'checkpoints_student/checkpoints_student_QAT/'\n",
        "checkpoints_path_student_dml = 'checkpoints_student/checkpoints_student_DML/'\n",
        "if not os.path.exists(checkpoints_path_teacher):\n",
        "    os.makedirs(checkpoints_path_teacher)\n",
        "if not os.path.exists(checkpoints_path_student_nokd):\n",
        "    os.makedirs(checkpoints_path_student_nokd)\n",
        "if not os.path.exists(checkpoints_path_student_van):\n",
        "    os.makedirs(checkpoints_path_student_van)\n",
        "if not os.path.exists(checkpoints_path_student_qat):\n",
        "    os.makedirs(checkpoints_path_student_qat)\n",
        "if not os.path.exists(checkpoints_path_student_dml):\n",
        "    os.makedirs(checkpoints_path_student_dml)"
      ]
    },
    {
      "cell_type": "markdown",
      "metadata": {
        "id": "JWCz4Pup_Y8M"
      },
      "source": [
        "### Load dataset"
      ]
    },
    {
      "cell_type": "code",
      "execution_count": 31,
      "metadata": {},
      "outputs": [
        {
          "name": "stdout",
          "output_type": "stream",
          "text": [
            "Files already downloaded and verified\n",
            "Files already downloaded and verified\n"
          ]
        }
      ],
      "source": [
        "import torchvision\n",
        "import torchvision.transforms as transforms\n",
        "import PIL\n",
        "\n",
        "# Set up transformations for CIFAR-10\n",
        "transform_train = transforms.Compose(\n",
        "    [\n",
        "        #transforms.RandomCrop(32, padding=4),  # Augment training data by padding 4 and random cropping\n",
        "        transforms.RandomHorizontalFlip(),     # Randomly flip images horizontally\n",
        "        transforms.ToTensor(),\n",
        "        transforms.Normalize((0.4914, 0.4822, 0.4465), (0.2023, 0.1994, 0.2010))  # Normalization for CIFAR-10\n",
        "    ]\n",
        ")\n",
        "\n",
        "transform_test = transforms.Compose(\n",
        "    [\n",
        "        transforms.ToTensor(),\n",
        "        transforms.Normalize((0.4914, 0.4822, 0.4465), (0.2023, 0.1994, 0.2010))  # Normalization for CIFAR-10\n",
        "    ]\n",
        ")\n",
        "\n",
        "import torchvision as tv\n",
        "preprocess_train = tv.transforms.Compose([\n",
        "    tv.transforms.Resize((160, 160), interpolation=PIL.Image.BILINEAR),  # It's the default, just being explicit for the reader.\n",
        "    tv.transforms.RandomCrop((128, 128)),\n",
        "    tv.transforms.RandomHorizontalFlip(),\n",
        "    tv.transforms.ToTensor(),\n",
        "    tv.transforms.Normalize((0.4914, 0.4822, 0.4465), (0.2023, 0.1994, 0.2010))  # Normalization for CIFAR-10\n",
        "])\n",
        "\n",
        "preprocess_eval = tv.transforms.Compose([\n",
        "    tv.transforms.Resize((128, 128), interpolation=PIL.Image.BILINEAR),\n",
        "    tv.transforms.ToTensor(),\n",
        "    tv.transforms.Normalize((0.4914, 0.4822, 0.4465), (0.2023, 0.1994, 0.2010))  # Normalization for CIFAR-10\n",
        "])\n",
        "\n",
        "# Load CIFAR-10 dataset\n",
        "train_val_dataset = torchvision.datasets.CIFAR10(root='./CIFAR10_dataset/', train=True,\n",
        "                                            download=True, transform=transform_train)\n",
        "\n",
        "test_dataset = torchvision.datasets.CIFAR10(root='./CIFAR10_dataset/', train=False,\n",
        "                                            download=True, transform=transform_test)\n",
        "\n",
        "# Split the training dataset into training and validation\n",
        "num_train = int(0.95 * len(train_val_dataset))  # 95% of the dataset for training\n",
        "num_val = len(train_val_dataset) - num_train  # Remaining 5% for validation\n",
        "train_dataset, val_dataset = torch.utils.data.random_split(train_val_dataset, [num_train, num_val])\n",
        "\n",
        "# DataLoader setup\n",
        "batch_size = 128\n",
        "train_val_loader = torch.utils.data.DataLoader(train_val_dataset, batch_size=batch_size, shuffle=True, num_workers=2)\n",
        "train_loader = torch.utils.data.DataLoader(train_dataset, batch_size=batch_size, shuffle=True, num_workers=2)\n",
        "val_loader = torch.utils.data.DataLoader(val_dataset, batch_size=batch_size, shuffle=False, num_workers=2)\n",
        "test_loader = torch.utils.data.DataLoader(test_dataset, batch_size=batch_size, shuffle=False, num_workers=2)"
      ]
    },
    {
      "cell_type": "code",
      "execution_count": 32,
      "metadata": {},
      "outputs": [],
      "source": [
        "def count_parameters(model):\n",
        "    \"\"\"\n",
        "    Counts the total number of trainable parameters in a PyTorch model.\n",
        "\n",
        "    Args:\n",
        "        model (torch.nn.Module): The model whose parameters need to be counted.\n",
        "\n",
        "    Returns:\n",
        "        int: Total number of trainable parameters.\n",
        "    \"\"\"\n",
        "    return sum((p.data != 0).sum().item() for p in model.parameters() if p.requires_grad)\n",
        "\n",
        "\n",
        "def count_zero_parameters(model):\n",
        "    \"\"\"\n",
        "    Counts the number of trainable parameters that are exactly zero in a PyTorch model.\n",
        "\n",
        "    Args:\n",
        "        model (torch.nn.Module): The model whose zero parameters need to be counted.\n",
        "\n",
        "    Returns:\n",
        "        int: Total number of trainable parameters that are exactly zero.\n",
        "    \"\"\"\n",
        "    return sum((p.data == 0).sum().item() for p in model.parameters() if p.requires_grad)"
      ]
    },
    {
      "cell_type": "code",
      "execution_count": 33,
      "metadata": {},
      "outputs": [],
      "source": [
        "def calculate_bit_size(model):\n",
        "    \"\"\"\n",
        "    Calculate the effective bit size of a quantized model.\n",
        "    \n",
        "    Parameters:\n",
        "        model: nn.Module\n",
        "            The quantized neural network model.\n",
        "    \n",
        "    Returns:\n",
        "        float: The average bit size across all layers.\n",
        "    \"\"\"\n",
        "    total_bits = 0\n",
        "    total_params = 0\n",
        "    \n",
        "    for name, param in model.named_parameters():\n",
        "        if param.requires_grad:\n",
        "            # Calculate unique values and their count\n",
        "            unique_values = torch.unique(param.data).cpu().numpy()\n",
        "            num_unique_values = len(unique_values)\n",
        "            \n",
        "            # Calculate bit size for this layer\n",
        "            layer_bits = np.ceil(np.log2(num_unique_values)) if num_unique_values > 1 else 1\n",
        "            total_bits += layer_bits * param.numel()\n",
        "            total_params += param.numel()\n",
        "    \n",
        "    # Return average bit size across all parameters\n",
        "    return total_bits / total_params if total_params > 0 else 0\n"
      ]
    },
    {
      "cell_type": "code",
      "execution_count": 34,
      "metadata": {},
      "outputs": [],
      "source": [
        "def scalar(bits):\n",
        "    if 26<bits <=32:\n",
        "        return 3.5\n",
        "    elif 20< bits <= 26:\n",
        "        return 3\n",
        "    elif 16< bits <= 20:\n",
        "        return 2.5\n",
        "    elif 8< bits <= 16:\n",
        "        return 2\n",
        "    elif 4< bits <= 8:\n",
        "        return 1.5\n",
        "    elif 3< bits <= 4:\n",
        "        return 1.16\n",
        "    else:\n",
        "        return 0.5 # only for student 2-3 bits"
      ]
    },
    {
      "cell_type": "markdown",
      "metadata": {},
      "source": [
        "## Teacher Model"
      ]
    },
    {
      "cell_type": "markdown",
      "metadata": {},
      "source": [
        "### load pre-trained teacher model"
      ]
    },
    {
      "cell_type": "code",
      "execution_count": 35,
      "metadata": {},
      "outputs": [
        {
          "name": "stdout",
          "output_type": "stream",
          "text": [
            "test accuracy:  0.9225\n"
          ]
        }
      ],
      "source": [
        "import detectors\n",
        "import timm\n",
        "\n",
        "teacher_net = timm.create_model(\"resnet50_cifar10\", pretrained=True)\n",
        "\n",
        "teacher_net = teacher_net.to(fast_device)\n",
        "# pre-trained teacher accuracy\n",
        "reproducibilitySeed()\n",
        "_, test_accuracy = utils.getLossAccuracyOnDataset(teacher_net, test_loader, fast_device)\n",
        "print('test accuracy: ', test_accuracy)\n"
      ]
    },
    {
      "cell_type": "code",
      "execution_count": 36,
      "metadata": {},
      "outputs": [
        {
          "name": "stderr",
          "output_type": "stream",
          "text": [
            "c:\\Users\\17598\\AppData\\Local\\Programs\\Python\\Python310\\lib\\site-packages\\torchvision\\models\\_utils.py:223: UserWarning: Arguments other than a weight enum or `None` for 'weights' are deprecated since 0.13 and may be removed in the future. The current behavior is equivalent to passing `weights=ResNet50_Weights.IMAGENET1K_V1`. You can also use `weights=ResNet50_Weights.DEFAULT` to get the most up-to-date weights.\n",
            "  warnings.warn(msg)\n",
            "C:\\Users\\17598\\AppData\\Local\\Temp\\ipykernel_13896\\1025170478.py:4: FutureWarning: You are using `torch.load` with `weights_only=False` (the current default value), which uses the default pickle module implicitly. It is possible to construct malicious pickle data which will execute arbitrary code during unpickling (See https://github.com/pytorch/pytorch/blob/main/SECURITY.md#untrusted-models for more details). In a future release, the default value for `weights_only` will be flipped to `True`. This limits the functions that could be executed during unpickling. Arbitrary objects will no longer be allowed to be loaded via this mode unless they are explicitly allowlisted by the user via `torch.serialization.add_safe_globals`. We recommend you start setting `weights_only=True` for any use case where you don't have full control of the loaded file. Please open an issue on GitHub for any issues related to this experimental feature.\n",
            "  checkpoint = torch.load('resnet50_cifar10_pretrained.bin')\n"
          ]
        },
        {
          "name": "stdout",
          "output_type": "stream",
          "text": [
            "test accuracy:  0.9225\n"
          ]
        }
      ],
      "source": [
        "# another way load teacher\n",
        "teacher_net = networks.TeacherNetwork50()\n",
        "\n",
        "checkpoint = torch.load('resnet50_cifar10_pretrained.bin')\n",
        "\n",
        "teacher_net.model.load_state_dict(checkpoint)\n",
        "teacher_net.to(fast_device)\n",
        "\n",
        "reproducibilitySeed()\n",
        "_, test_accuracy = utils.getLossAccuracyOnDataset(teacher_net, test_loader, fast_device)\n",
        "print('test accuracy: ', test_accuracy)"
      ]
    },
    {
      "cell_type": "markdown",
      "metadata": {},
      "source": [
        "### Quantized Teacher Model"
      ]
    },
    {
      "cell_type": "code",
      "execution_count": 12,
      "metadata": {},
      "outputs": [],
      "source": [
        "# Quantization CSV file setup\n",
        "csv_file = \"checkpoints_teacher/results_teacher_quantization.csv\"\n",
        "with open(csv_file, mode='w', newline='') as file:\n",
        "    writer = csv.writer(file)\n",
        "    writer.writerow([\"Bits\", \"Effective Bits\", \"Original Test Accuracy\", \"Quantized Test Accuracy\", \"Sparsity\", \"Training Time (s)\"])"
      ]
    },
    {
      "cell_type": "code",
      "execution_count": 21,
      "metadata": {},
      "outputs": [
        {
          "name": "stdout",
          "output_type": "stream",
          "text": [
            "The number of groups: 1\n",
            "\n"
          ]
        },
        {
          "name": "stderr",
          "output_type": "stream",
          "text": [
            "100%|██████████| 27/27 [00:00<00:00, 376.94it/s]\n"
          ]
        },
        {
          "name": "stdout",
          "output_type": "stream",
          "text": [
            "The number of groups: 1\n",
            "\n"
          ]
        },
        {
          "name": "stderr",
          "output_type": "stream",
          "text": [
            "100%|██████████| 64/64 [00:00<00:00, 237.58it/s]\n"
          ]
        },
        {
          "name": "stdout",
          "output_type": "stream",
          "text": [
            "The number of groups: 1\n",
            "\n"
          ]
        },
        {
          "name": "stderr",
          "output_type": "stream",
          "text": [
            "100%|██████████| 576/576 [00:00<00:00, 2605.75it/s]\n"
          ]
        },
        {
          "name": "stdout",
          "output_type": "stream",
          "text": [
            "The number of groups: 1\n",
            "\n"
          ]
        },
        {
          "name": "stderr",
          "output_type": "stream",
          "text": [
            "100%|██████████| 64/64 [00:00<00:00, 189.73it/s]\n"
          ]
        },
        {
          "name": "stdout",
          "output_type": "stream",
          "text": [
            "The number of groups: 1\n",
            "\n"
          ]
        },
        {
          "name": "stderr",
          "output_type": "stream",
          "text": [
            "100%|██████████| 64/64 [00:00<00:00, 190.80it/s]\n"
          ]
        },
        {
          "name": "stdout",
          "output_type": "stream",
          "text": [
            "The number of groups: 1\n",
            "\n"
          ]
        },
        {
          "name": "stderr",
          "output_type": "stream",
          "text": [
            "100%|██████████| 256/256 [00:00<00:00, 415.56it/s]\n"
          ]
        },
        {
          "name": "stdout",
          "output_type": "stream",
          "text": [
            "The number of groups: 1\n",
            "\n"
          ]
        },
        {
          "name": "stderr",
          "output_type": "stream",
          "text": [
            "100%|██████████| 576/576 [00:00<00:00, 2813.72it/s]\n"
          ]
        },
        {
          "name": "stdout",
          "output_type": "stream",
          "text": [
            "The number of groups: 1\n",
            "\n"
          ]
        },
        {
          "name": "stderr",
          "output_type": "stream",
          "text": [
            "100%|██████████| 64/64 [00:00<00:00, 192.67it/s]\n"
          ]
        },
        {
          "name": "stdout",
          "output_type": "stream",
          "text": [
            "The number of groups: 1\n",
            "\n"
          ]
        },
        {
          "name": "stderr",
          "output_type": "stream",
          "text": [
            "100%|██████████| 256/256 [00:00<00:00, 408.33it/s]\n"
          ]
        },
        {
          "name": "stdout",
          "output_type": "stream",
          "text": [
            "The number of groups: 1\n",
            "\n"
          ]
        },
        {
          "name": "stderr",
          "output_type": "stream",
          "text": [
            "100%|██████████| 576/576 [00:00<00:00, 2759.54it/s]\n"
          ]
        },
        {
          "name": "stdout",
          "output_type": "stream",
          "text": [
            "The number of groups: 1\n",
            "\n"
          ]
        },
        {
          "name": "stderr",
          "output_type": "stream",
          "text": [
            "100%|██████████| 64/64 [00:00<00:00, 174.59it/s]\n"
          ]
        },
        {
          "name": "stdout",
          "output_type": "stream",
          "text": [
            "The number of groups: 1\n",
            "\n"
          ]
        },
        {
          "name": "stderr",
          "output_type": "stream",
          "text": [
            "100%|██████████| 256/256 [00:01<00:00, 199.30it/s]\n"
          ]
        },
        {
          "name": "stdout",
          "output_type": "stream",
          "text": [
            "The number of groups: 1\n",
            "\n"
          ]
        },
        {
          "name": "stderr",
          "output_type": "stream",
          "text": [
            "100%|██████████| 1152/1152 [00:00<00:00, 1784.81it/s]\n"
          ]
        },
        {
          "name": "stdout",
          "output_type": "stream",
          "text": [
            "The number of groups: 1\n",
            "\n"
          ]
        },
        {
          "name": "stderr",
          "output_type": "stream",
          "text": [
            "100%|██████████| 128/128 [00:00<00:00, 527.43it/s]\n"
          ]
        },
        {
          "name": "stdout",
          "output_type": "stream",
          "text": [
            "The number of groups: 1\n",
            "\n"
          ]
        },
        {
          "name": "stderr",
          "output_type": "stream",
          "text": [
            "100%|██████████| 256/256 [00:04<00:00, 58.94it/s]\n"
          ]
        },
        {
          "name": "stdout",
          "output_type": "stream",
          "text": [
            "The number of groups: 1\n",
            "\n"
          ]
        },
        {
          "name": "stderr",
          "output_type": "stream",
          "text": [
            "100%|██████████| 512/512 [00:00<00:00, 1746.15it/s]\n"
          ]
        },
        {
          "name": "stdout",
          "output_type": "stream",
          "text": [
            "The number of groups: 1\n",
            "\n"
          ]
        },
        {
          "name": "stderr",
          "output_type": "stream",
          "text": [
            "100%|██████████| 1152/1152 [00:00<00:00, 2875.33it/s]\n"
          ]
        },
        {
          "name": "stdout",
          "output_type": "stream",
          "text": [
            "The number of groups: 1\n",
            "\n"
          ]
        },
        {
          "name": "stderr",
          "output_type": "stream",
          "text": [
            "100%|██████████| 128/128 [00:00<00:00, 641.85it/s]\n"
          ]
        },
        {
          "name": "stdout",
          "output_type": "stream",
          "text": [
            "The number of groups: 1\n",
            "\n"
          ]
        },
        {
          "name": "stderr",
          "output_type": "stream",
          "text": [
            "100%|██████████| 512/512 [00:00<00:00, 1623.17it/s]\n"
          ]
        },
        {
          "name": "stdout",
          "output_type": "stream",
          "text": [
            "The number of groups: 1\n",
            "\n"
          ]
        },
        {
          "name": "stderr",
          "output_type": "stream",
          "text": [
            "100%|██████████| 1152/1152 [00:00<00:00, 2938.22it/s]\n"
          ]
        },
        {
          "name": "stdout",
          "output_type": "stream",
          "text": [
            "The number of groups: 1\n",
            "\n"
          ]
        },
        {
          "name": "stderr",
          "output_type": "stream",
          "text": [
            "100%|██████████| 128/128 [00:00<00:00, 644.64it/s]\n"
          ]
        },
        {
          "name": "stdout",
          "output_type": "stream",
          "text": [
            "The number of groups: 1\n",
            "\n"
          ]
        },
        {
          "name": "stderr",
          "output_type": "stream",
          "text": [
            "100%|██████████| 512/512 [00:00<00:00, 1719.24it/s]\n"
          ]
        },
        {
          "name": "stdout",
          "output_type": "stream",
          "text": [
            "The number of groups: 1\n",
            "\n"
          ]
        },
        {
          "name": "stderr",
          "output_type": "stream",
          "text": [
            "100%|██████████| 1152/1152 [00:00<00:00, 2929.76it/s]\n"
          ]
        },
        {
          "name": "stdout",
          "output_type": "stream",
          "text": [
            "The number of groups: 1\n",
            "\n"
          ]
        },
        {
          "name": "stderr",
          "output_type": "stream",
          "text": [
            "100%|██████████| 128/128 [00:00<00:00, 686.87it/s]\n"
          ]
        },
        {
          "name": "stdout",
          "output_type": "stream",
          "text": [
            "The number of groups: 1\n",
            "\n"
          ]
        },
        {
          "name": "stderr",
          "output_type": "stream",
          "text": [
            "100%|██████████| 512/512 [00:00<00:00, 977.19it/s]\n"
          ]
        },
        {
          "name": "stdout",
          "output_type": "stream",
          "text": [
            "The number of groups: 1\n",
            "\n"
          ]
        },
        {
          "name": "stderr",
          "output_type": "stream",
          "text": [
            "100%|██████████| 2304/2304 [00:00<00:00, 2873.10it/s]\n"
          ]
        },
        {
          "name": "stdout",
          "output_type": "stream",
          "text": [
            "The number of groups: 1\n",
            "\n"
          ]
        },
        {
          "name": "stderr",
          "output_type": "stream",
          "text": [
            "100%|██████████| 256/256 [00:00<00:00, 1157.44it/s]\n"
          ]
        },
        {
          "name": "stdout",
          "output_type": "stream",
          "text": [
            "The number of groups: 1\n",
            "\n"
          ]
        },
        {
          "name": "stderr",
          "output_type": "stream",
          "text": [
            "100%|██████████| 512/512 [00:01<00:00, 337.51it/s]\n"
          ]
        },
        {
          "name": "stdout",
          "output_type": "stream",
          "text": [
            "The number of groups: 1\n",
            "\n"
          ]
        },
        {
          "name": "stderr",
          "output_type": "stream",
          "text": [
            "100%|██████████| 1024/1024 [00:00<00:00, 2260.03it/s]\n"
          ]
        },
        {
          "name": "stdout",
          "output_type": "stream",
          "text": [
            "The number of groups: 1\n",
            "\n"
          ]
        },
        {
          "name": "stderr",
          "output_type": "stream",
          "text": [
            "100%|██████████| 2304/2304 [00:00<00:00, 3331.22it/s]\n"
          ]
        },
        {
          "name": "stdout",
          "output_type": "stream",
          "text": [
            "The number of groups: 1\n",
            "\n"
          ]
        },
        {
          "name": "stderr",
          "output_type": "stream",
          "text": [
            "100%|██████████| 256/256 [00:00<00:00, 1155.53it/s]\n"
          ]
        },
        {
          "name": "stdout",
          "output_type": "stream",
          "text": [
            "The number of groups: 1\n",
            "\n"
          ]
        },
        {
          "name": "stderr",
          "output_type": "stream",
          "text": [
            "100%|██████████| 1024/1024 [00:00<00:00, 2209.61it/s]\n"
          ]
        },
        {
          "name": "stdout",
          "output_type": "stream",
          "text": [
            "The number of groups: 1\n",
            "\n"
          ]
        },
        {
          "name": "stderr",
          "output_type": "stream",
          "text": [
            "100%|██████████| 2304/2304 [00:00<00:00, 3185.93it/s]\n"
          ]
        },
        {
          "name": "stdout",
          "output_type": "stream",
          "text": [
            "The number of groups: 1\n",
            "\n"
          ]
        },
        {
          "name": "stderr",
          "output_type": "stream",
          "text": [
            "100%|██████████| 256/256 [00:00<00:00, 1177.76it/s]\n"
          ]
        },
        {
          "name": "stdout",
          "output_type": "stream",
          "text": [
            "The number of groups: 1\n",
            "\n"
          ]
        },
        {
          "name": "stderr",
          "output_type": "stream",
          "text": [
            "100%|██████████| 1024/1024 [00:00<00:00, 2295.21it/s]\n"
          ]
        },
        {
          "name": "stdout",
          "output_type": "stream",
          "text": [
            "The number of groups: 1\n",
            "\n"
          ]
        },
        {
          "name": "stderr",
          "output_type": "stream",
          "text": [
            "100%|██████████| 2304/2304 [00:00<00:00, 3380.12it/s]\n"
          ]
        },
        {
          "name": "stdout",
          "output_type": "stream",
          "text": [
            "The number of groups: 1\n",
            "\n"
          ]
        },
        {
          "name": "stderr",
          "output_type": "stream",
          "text": [
            "100%|██████████| 256/256 [00:00<00:00, 1093.95it/s]\n"
          ]
        },
        {
          "name": "stdout",
          "output_type": "stream",
          "text": [
            "The number of groups: 1\n",
            "\n"
          ]
        },
        {
          "name": "stderr",
          "output_type": "stream",
          "text": [
            "100%|██████████| 1024/1024 [00:00<00:00, 2297.50it/s]\n"
          ]
        },
        {
          "name": "stdout",
          "output_type": "stream",
          "text": [
            "The number of groups: 1\n",
            "\n"
          ]
        },
        {
          "name": "stderr",
          "output_type": "stream",
          "text": [
            "100%|██████████| 2304/2304 [00:00<00:00, 3488.59it/s]\n"
          ]
        },
        {
          "name": "stdout",
          "output_type": "stream",
          "text": [
            "The number of groups: 1\n",
            "\n"
          ]
        },
        {
          "name": "stderr",
          "output_type": "stream",
          "text": [
            "100%|██████████| 256/256 [00:00<00:00, 1132.22it/s]\n"
          ]
        },
        {
          "name": "stdout",
          "output_type": "stream",
          "text": [
            "The number of groups: 1\n",
            "\n"
          ]
        },
        {
          "name": "stderr",
          "output_type": "stream",
          "text": [
            "100%|██████████| 1024/1024 [00:00<00:00, 2323.98it/s]\n"
          ]
        },
        {
          "name": "stdout",
          "output_type": "stream",
          "text": [
            "The number of groups: 1\n",
            "\n"
          ]
        },
        {
          "name": "stderr",
          "output_type": "stream",
          "text": [
            "100%|██████████| 2304/2304 [00:00<00:00, 3140.00it/s]\n"
          ]
        },
        {
          "name": "stdout",
          "output_type": "stream",
          "text": [
            "The number of groups: 1\n",
            "\n"
          ]
        },
        {
          "name": "stderr",
          "output_type": "stream",
          "text": [
            "100%|██████████| 256/256 [00:00<00:00, 1129.69it/s]\n"
          ]
        },
        {
          "name": "stdout",
          "output_type": "stream",
          "text": [
            "The number of groups: 1\n",
            "\n"
          ]
        },
        {
          "name": "stderr",
          "output_type": "stream",
          "text": [
            "100%|██████████| 1024/1024 [00:00<00:00, 1753.14it/s]\n"
          ]
        },
        {
          "name": "stdout",
          "output_type": "stream",
          "text": [
            "The number of groups: 1\n",
            "\n"
          ]
        },
        {
          "name": "stderr",
          "output_type": "stream",
          "text": [
            "100%|██████████| 4608/4608 [00:01<00:00, 2438.82it/s]\n"
          ]
        },
        {
          "name": "stdout",
          "output_type": "stream",
          "text": [
            "The number of groups: 1\n",
            "\n"
          ]
        },
        {
          "name": "stderr",
          "output_type": "stream",
          "text": [
            "100%|██████████| 512/512 [00:00<00:00, 1345.34it/s]\n"
          ]
        },
        {
          "name": "stdout",
          "output_type": "stream",
          "text": [
            "The number of groups: 1\n",
            "\n"
          ]
        },
        {
          "name": "stderr",
          "output_type": "stream",
          "text": [
            "100%|██████████| 1024/1024 [00:01<00:00, 578.69it/s]\n"
          ]
        },
        {
          "name": "stdout",
          "output_type": "stream",
          "text": [
            "The number of groups: 1\n",
            "\n"
          ]
        },
        {
          "name": "stderr",
          "output_type": "stream",
          "text": [
            "100%|██████████| 2048/2048 [00:00<00:00, 2876.85it/s]\n"
          ]
        },
        {
          "name": "stdout",
          "output_type": "stream",
          "text": [
            "The number of groups: 1\n",
            "\n"
          ]
        },
        {
          "name": "stderr",
          "output_type": "stream",
          "text": [
            "100%|██████████| 4608/4608 [00:01<00:00, 3392.32it/s]\n"
          ]
        },
        {
          "name": "stdout",
          "output_type": "stream",
          "text": [
            "The number of groups: 1\n",
            "\n"
          ]
        },
        {
          "name": "stderr",
          "output_type": "stream",
          "text": [
            "100%|██████████| 512/512 [00:00<00:00, 1598.78it/s]\n"
          ]
        },
        {
          "name": "stdout",
          "output_type": "stream",
          "text": [
            "The number of groups: 1\n",
            "\n"
          ]
        },
        {
          "name": "stderr",
          "output_type": "stream",
          "text": [
            "100%|██████████| 2048/2048 [00:00<00:00, 2866.58it/s]\n"
          ]
        },
        {
          "name": "stdout",
          "output_type": "stream",
          "text": [
            "The number of groups: 1\n",
            "\n"
          ]
        },
        {
          "name": "stderr",
          "output_type": "stream",
          "text": [
            "100%|██████████| 4608/4608 [00:01<00:00, 3442.41it/s]\n"
          ]
        },
        {
          "name": "stdout",
          "output_type": "stream",
          "text": [
            "The number of groups: 1\n",
            "\n"
          ]
        },
        {
          "name": "stderr",
          "output_type": "stream",
          "text": [
            "100%|██████████| 512/512 [00:00<00:00, 1681.78it/s]\n"
          ]
        },
        {
          "name": "stdout",
          "output_type": "stream",
          "text": [
            "The number of groups: 1\n",
            "\n"
          ]
        },
        {
          "name": "stderr",
          "output_type": "stream",
          "text": [
            "100%|██████████| 2048/2048 [00:00<00:00, 3430.42it/s]\n"
          ]
        },
        {
          "name": "stdout",
          "output_type": "stream",
          "text": [
            "Bits 3, Effective Quantized Bit Size: 4.012658050251773\n",
            "Bits 3, Quantized Test Accuracy: 0.9129\n",
            "The number of groups: 1\n",
            "\n"
          ]
        },
        {
          "name": "stderr",
          "output_type": "stream",
          "text": [
            "100%|██████████| 27/27 [00:00<00:00, 340.34it/s]\n"
          ]
        },
        {
          "name": "stdout",
          "output_type": "stream",
          "text": [
            "The number of groups: 1\n",
            "\n"
          ]
        },
        {
          "name": "stderr",
          "output_type": "stream",
          "text": [
            "100%|██████████| 64/64 [00:00<00:00, 161.77it/s]\n"
          ]
        },
        {
          "name": "stdout",
          "output_type": "stream",
          "text": [
            "The number of groups: 1\n",
            "\n"
          ]
        },
        {
          "name": "stderr",
          "output_type": "stream",
          "text": [
            "100%|██████████| 576/576 [00:00<00:00, 2636.98it/s]\n"
          ]
        },
        {
          "name": "stdout",
          "output_type": "stream",
          "text": [
            "The number of groups: 1\n",
            "\n"
          ]
        },
        {
          "name": "stderr",
          "output_type": "stream",
          "text": [
            "100%|██████████| 64/64 [00:00<00:00, 185.98it/s]\n"
          ]
        },
        {
          "name": "stdout",
          "output_type": "stream",
          "text": [
            "The number of groups: 1\n",
            "\n"
          ]
        },
        {
          "name": "stderr",
          "output_type": "stream",
          "text": [
            "100%|██████████| 64/64 [00:00<00:00, 194.11it/s]\n"
          ]
        },
        {
          "name": "stdout",
          "output_type": "stream",
          "text": [
            "The number of groups: 1\n",
            "\n"
          ]
        },
        {
          "name": "stderr",
          "output_type": "stream",
          "text": [
            "100%|██████████| 256/256 [00:00<00:00, 425.18it/s]\n"
          ]
        },
        {
          "name": "stdout",
          "output_type": "stream",
          "text": [
            "The number of groups: 1\n",
            "\n"
          ]
        },
        {
          "name": "stderr",
          "output_type": "stream",
          "text": [
            "100%|██████████| 576/576 [00:00<00:00, 2918.74it/s]\n"
          ]
        },
        {
          "name": "stdout",
          "output_type": "stream",
          "text": [
            "The number of groups: 1\n",
            "\n"
          ]
        },
        {
          "name": "stderr",
          "output_type": "stream",
          "text": [
            "100%|██████████| 64/64 [00:00<00:00, 188.21it/s]\n"
          ]
        },
        {
          "name": "stdout",
          "output_type": "stream",
          "text": [
            "The number of groups: 1\n",
            "\n"
          ]
        },
        {
          "name": "stderr",
          "output_type": "stream",
          "text": [
            "100%|██████████| 256/256 [00:00<00:00, 430.02it/s]\n"
          ]
        },
        {
          "name": "stdout",
          "output_type": "stream",
          "text": [
            "The number of groups: 1\n",
            "\n"
          ]
        },
        {
          "name": "stderr",
          "output_type": "stream",
          "text": [
            "100%|██████████| 576/576 [00:00<00:00, 2753.38it/s]\n"
          ]
        },
        {
          "name": "stdout",
          "output_type": "stream",
          "text": [
            "The number of groups: 1\n",
            "\n"
          ]
        },
        {
          "name": "stderr",
          "output_type": "stream",
          "text": [
            "100%|██████████| 64/64 [00:00<00:00, 189.31it/s]\n"
          ]
        },
        {
          "name": "stdout",
          "output_type": "stream",
          "text": [
            "The number of groups: 1\n",
            "\n"
          ]
        },
        {
          "name": "stderr",
          "output_type": "stream",
          "text": [
            "100%|██████████| 256/256 [00:01<00:00, 225.18it/s]\n"
          ]
        },
        {
          "name": "stdout",
          "output_type": "stream",
          "text": [
            "The number of groups: 1\n",
            "\n"
          ]
        },
        {
          "name": "stderr",
          "output_type": "stream",
          "text": [
            "100%|██████████| 1152/1152 [00:00<00:00, 2281.43it/s]\n"
          ]
        },
        {
          "name": "stdout",
          "output_type": "stream",
          "text": [
            "The number of groups: 1\n",
            "\n"
          ]
        },
        {
          "name": "stderr",
          "output_type": "stream",
          "text": [
            "100%|██████████| 128/128 [00:00<00:00, 667.82it/s]\n"
          ]
        },
        {
          "name": "stdout",
          "output_type": "stream",
          "text": [
            "The number of groups: 1\n",
            "\n"
          ]
        },
        {
          "name": "stderr",
          "output_type": "stream",
          "text": [
            "100%|██████████| 256/256 [00:04<00:00, 60.54it/s]\n"
          ]
        },
        {
          "name": "stdout",
          "output_type": "stream",
          "text": [
            "The number of groups: 1\n",
            "\n"
          ]
        },
        {
          "name": "stderr",
          "output_type": "stream",
          "text": [
            "100%|██████████| 512/512 [00:00<00:00, 1686.16it/s]\n"
          ]
        },
        {
          "name": "stdout",
          "output_type": "stream",
          "text": [
            "The number of groups: 1\n",
            "\n"
          ]
        },
        {
          "name": "stderr",
          "output_type": "stream",
          "text": [
            "100%|██████████| 1152/1152 [00:00<00:00, 3116.32it/s]\n"
          ]
        },
        {
          "name": "stdout",
          "output_type": "stream",
          "text": [
            "The number of groups: 1\n",
            "\n"
          ]
        },
        {
          "name": "stderr",
          "output_type": "stream",
          "text": [
            "100%|██████████| 128/128 [00:00<00:00, 678.24it/s]\n"
          ]
        },
        {
          "name": "stdout",
          "output_type": "stream",
          "text": [
            "The number of groups: 1\n",
            "\n"
          ]
        },
        {
          "name": "stderr",
          "output_type": "stream",
          "text": [
            "100%|██████████| 512/512 [00:00<00:00, 1694.08it/s]\n"
          ]
        },
        {
          "name": "stdout",
          "output_type": "stream",
          "text": [
            "The number of groups: 1\n",
            "\n"
          ]
        },
        {
          "name": "stderr",
          "output_type": "stream",
          "text": [
            "100%|██████████| 1152/1152 [00:00<00:00, 2970.08it/s]\n"
          ]
        },
        {
          "name": "stdout",
          "output_type": "stream",
          "text": [
            "The number of groups: 1\n",
            "\n"
          ]
        },
        {
          "name": "stderr",
          "output_type": "stream",
          "text": [
            "100%|██████████| 128/128 [00:00<00:00, 658.98it/s]\n"
          ]
        },
        {
          "name": "stdout",
          "output_type": "stream",
          "text": [
            "The number of groups: 1\n",
            "\n"
          ]
        },
        {
          "name": "stderr",
          "output_type": "stream",
          "text": [
            "100%|██████████| 512/512 [00:00<00:00, 1677.68it/s]\n"
          ]
        },
        {
          "name": "stdout",
          "output_type": "stream",
          "text": [
            "The number of groups: 1\n",
            "\n"
          ]
        },
        {
          "name": "stderr",
          "output_type": "stream",
          "text": [
            "100%|██████████| 1152/1152 [00:00<00:00, 3402.85it/s]\n"
          ]
        },
        {
          "name": "stdout",
          "output_type": "stream",
          "text": [
            "The number of groups: 1\n",
            "\n"
          ]
        },
        {
          "name": "stderr",
          "output_type": "stream",
          "text": [
            "100%|██████████| 128/128 [00:00<00:00, 677.16it/s]\n"
          ]
        },
        {
          "name": "stdout",
          "output_type": "stream",
          "text": [
            "The number of groups: 1\n",
            "\n"
          ]
        },
        {
          "name": "stderr",
          "output_type": "stream",
          "text": [
            "100%|██████████| 512/512 [00:00<00:00, 1053.52it/s]\n"
          ]
        },
        {
          "name": "stdout",
          "output_type": "stream",
          "text": [
            "The number of groups: 1\n",
            "\n"
          ]
        },
        {
          "name": "stderr",
          "output_type": "stream",
          "text": [
            "100%|██████████| 2304/2304 [00:00<00:00, 2927.75it/s]\n"
          ]
        },
        {
          "name": "stdout",
          "output_type": "stream",
          "text": [
            "The number of groups: 1\n",
            "\n"
          ]
        },
        {
          "name": "stderr",
          "output_type": "stream",
          "text": [
            "100%|██████████| 256/256 [00:00<00:00, 1136.97it/s]\n"
          ]
        },
        {
          "name": "stdout",
          "output_type": "stream",
          "text": [
            "The number of groups: 1\n",
            "\n"
          ]
        },
        {
          "name": "stderr",
          "output_type": "stream",
          "text": [
            "100%|██████████| 512/512 [00:01<00:00, 341.34it/s]\n"
          ]
        },
        {
          "name": "stdout",
          "output_type": "stream",
          "text": [
            "The number of groups: 1\n",
            "\n"
          ]
        },
        {
          "name": "stderr",
          "output_type": "stream",
          "text": [
            "100%|██████████| 1024/1024 [00:00<00:00, 2288.79it/s]\n"
          ]
        },
        {
          "name": "stdout",
          "output_type": "stream",
          "text": [
            "The number of groups: 1\n",
            "\n"
          ]
        },
        {
          "name": "stderr",
          "output_type": "stream",
          "text": [
            "100%|██████████| 2304/2304 [00:00<00:00, 3479.00it/s]\n"
          ]
        },
        {
          "name": "stdout",
          "output_type": "stream",
          "text": [
            "The number of groups: 1\n",
            "\n"
          ]
        },
        {
          "name": "stderr",
          "output_type": "stream",
          "text": [
            "100%|██████████| 256/256 [00:00<00:00, 1155.86it/s]\n"
          ]
        },
        {
          "name": "stdout",
          "output_type": "stream",
          "text": [
            "The number of groups: 1\n",
            "\n"
          ]
        },
        {
          "name": "stderr",
          "output_type": "stream",
          "text": [
            "100%|██████████| 1024/1024 [00:00<00:00, 2365.03it/s]\n"
          ]
        },
        {
          "name": "stdout",
          "output_type": "stream",
          "text": [
            "The number of groups: 1\n",
            "\n"
          ]
        },
        {
          "name": "stderr",
          "output_type": "stream",
          "text": [
            "100%|██████████| 2304/2304 [00:00<00:00, 3477.78it/s]\n"
          ]
        },
        {
          "name": "stdout",
          "output_type": "stream",
          "text": [
            "The number of groups: 1\n",
            "\n"
          ]
        },
        {
          "name": "stderr",
          "output_type": "stream",
          "text": [
            "100%|██████████| 256/256 [00:00<00:00, 1151.07it/s]\n"
          ]
        },
        {
          "name": "stdout",
          "output_type": "stream",
          "text": [
            "The number of groups: 1\n",
            "\n"
          ]
        },
        {
          "name": "stderr",
          "output_type": "stream",
          "text": [
            "100%|██████████| 1024/1024 [00:00<00:00, 2364.77it/s]\n"
          ]
        },
        {
          "name": "stdout",
          "output_type": "stream",
          "text": [
            "The number of groups: 1\n",
            "\n"
          ]
        },
        {
          "name": "stderr",
          "output_type": "stream",
          "text": [
            "100%|██████████| 2304/2304 [00:00<00:00, 3431.34it/s]\n"
          ]
        },
        {
          "name": "stdout",
          "output_type": "stream",
          "text": [
            "The number of groups: 1\n",
            "\n"
          ]
        },
        {
          "name": "stderr",
          "output_type": "stream",
          "text": [
            "100%|██████████| 256/256 [00:00<00:00, 1151.29it/s]\n"
          ]
        },
        {
          "name": "stdout",
          "output_type": "stream",
          "text": [
            "The number of groups: 1\n",
            "\n"
          ]
        },
        {
          "name": "stderr",
          "output_type": "stream",
          "text": [
            "100%|██████████| 1024/1024 [00:00<00:00, 2360.07it/s]\n"
          ]
        },
        {
          "name": "stdout",
          "output_type": "stream",
          "text": [
            "The number of groups: 1\n",
            "\n"
          ]
        },
        {
          "name": "stderr",
          "output_type": "stream",
          "text": [
            "100%|██████████| 2304/2304 [00:00<00:00, 3380.55it/s]\n"
          ]
        },
        {
          "name": "stdout",
          "output_type": "stream",
          "text": [
            "The number of groups: 1\n",
            "\n"
          ]
        },
        {
          "name": "stderr",
          "output_type": "stream",
          "text": [
            "100%|██████████| 256/256 [00:00<00:00, 1159.92it/s]\n"
          ]
        },
        {
          "name": "stdout",
          "output_type": "stream",
          "text": [
            "The number of groups: 1\n",
            "\n"
          ]
        },
        {
          "name": "stderr",
          "output_type": "stream",
          "text": [
            "100%|██████████| 1024/1024 [00:00<00:00, 2336.78it/s]\n"
          ]
        },
        {
          "name": "stdout",
          "output_type": "stream",
          "text": [
            "The number of groups: 1\n",
            "\n"
          ]
        },
        {
          "name": "stderr",
          "output_type": "stream",
          "text": [
            "100%|██████████| 2304/2304 [00:00<00:00, 3549.05it/s]\n"
          ]
        },
        {
          "name": "stdout",
          "output_type": "stream",
          "text": [
            "The number of groups: 1\n",
            "\n"
          ]
        },
        {
          "name": "stderr",
          "output_type": "stream",
          "text": [
            "100%|██████████| 256/256 [00:00<00:00, 1190.69it/s]\n"
          ]
        },
        {
          "name": "stdout",
          "output_type": "stream",
          "text": [
            "The number of groups: 1\n",
            "\n"
          ]
        },
        {
          "name": "stderr",
          "output_type": "stream",
          "text": [
            "100%|██████████| 1024/1024 [00:00<00:00, 1724.24it/s]\n"
          ]
        },
        {
          "name": "stdout",
          "output_type": "stream",
          "text": [
            "The number of groups: 1\n",
            "\n"
          ]
        },
        {
          "name": "stderr",
          "output_type": "stream",
          "text": [
            "100%|██████████| 4608/4608 [00:01<00:00, 3252.10it/s]\n"
          ]
        },
        {
          "name": "stdout",
          "output_type": "stream",
          "text": [
            "The number of groups: 1\n",
            "\n"
          ]
        },
        {
          "name": "stderr",
          "output_type": "stream",
          "text": [
            "100%|██████████| 512/512 [00:00<00:00, 1729.06it/s]\n"
          ]
        },
        {
          "name": "stdout",
          "output_type": "stream",
          "text": [
            "The number of groups: 1\n",
            "\n"
          ]
        },
        {
          "name": "stderr",
          "output_type": "stream",
          "text": [
            "100%|██████████| 1024/1024 [00:01<00:00, 657.67it/s]\n"
          ]
        },
        {
          "name": "stdout",
          "output_type": "stream",
          "text": [
            "The number of groups: 1\n",
            "\n"
          ]
        },
        {
          "name": "stderr",
          "output_type": "stream",
          "text": [
            "100%|██████████| 2048/2048 [00:00<00:00, 2963.33it/s]\n"
          ]
        },
        {
          "name": "stdout",
          "output_type": "stream",
          "text": [
            "The number of groups: 1\n",
            "\n"
          ]
        },
        {
          "name": "stderr",
          "output_type": "stream",
          "text": [
            "100%|██████████| 4608/4608 [00:01<00:00, 3473.53it/s]\n"
          ]
        },
        {
          "name": "stdout",
          "output_type": "stream",
          "text": [
            "The number of groups: 1\n",
            "\n"
          ]
        },
        {
          "name": "stderr",
          "output_type": "stream",
          "text": [
            "100%|██████████| 512/512 [00:00<00:00, 1708.93it/s]\n"
          ]
        },
        {
          "name": "stdout",
          "output_type": "stream",
          "text": [
            "The number of groups: 1\n",
            "\n"
          ]
        },
        {
          "name": "stderr",
          "output_type": "stream",
          "text": [
            "100%|██████████| 2048/2048 [00:00<00:00, 3007.67it/s]\n"
          ]
        },
        {
          "name": "stdout",
          "output_type": "stream",
          "text": [
            "The number of groups: 1\n",
            "\n"
          ]
        },
        {
          "name": "stderr",
          "output_type": "stream",
          "text": [
            "100%|██████████| 4608/4608 [00:01<00:00, 3439.15it/s]\n"
          ]
        },
        {
          "name": "stdout",
          "output_type": "stream",
          "text": [
            "The number of groups: 1\n",
            "\n"
          ]
        },
        {
          "name": "stderr",
          "output_type": "stream",
          "text": [
            "100%|██████████| 512/512 [00:00<00:00, 1730.51it/s]\n"
          ]
        },
        {
          "name": "stdout",
          "output_type": "stream",
          "text": [
            "The number of groups: 1\n",
            "\n"
          ]
        },
        {
          "name": "stderr",
          "output_type": "stream",
          "text": [
            "100%|██████████| 2048/2048 [00:00<00:00, 3389.46it/s]\n"
          ]
        },
        {
          "name": "stdout",
          "output_type": "stream",
          "text": [
            "Bits 2, Effective Quantized Bit Size: 3.0149168979579897\n",
            "Bits 2, Quantized Test Accuracy: 0.909\n",
            "Results saved to checkpoints_teacher/results_teacher_quantization.csv\n"
          ]
        }
      ],
      "source": [
        "csv_file = \"checkpoints_teacher/results_teacher_quantization.csv\"\n",
        "range1 = range(32, 20, -6)\n",
        "range2= range(20, 8, -4) \n",
        "range3= range(8, 4, -2)\n",
        "range4= range(4, 1, -1)\n",
        "bits_list = list(range1) + list(range2) + list(range3) + list(range4)\n",
        "bits_list= range(3, 1, -1)\n",
        "for bits in bits_list:\n",
        "    # Quantization process\n",
        "    quantizer = QuantizeNeuralNet(\n",
        "        teacher_net.model,\n",
        "        'resnet50',\n",
        "        batch_size=128,\n",
        "        data_loader=train_loader,\n",
        "        mlp_bits=bits,\n",
        "        cnn_bits=bits,\n",
        "        ignore_layers=[],\n",
        "        mlp_alphabet_scalar= 1.16, # scalar(bits)\n",
        "        cnn_alphabet_scalar= 1.16, #scalar(bits),\n",
        "        mlp_percentile=1,\n",
        "        cnn_percentile=1,\n",
        "        reg=None,\n",
        "        lamb=0.1,\n",
        "        retain_rate=0.25,\n",
        "        stochastic_quantization=False,\n",
        "        device=fast_device\n",
        "    )\n",
        "    \n",
        "    # Measure training time\n",
        "    start_time = time.time()\n",
        "\n",
        "    quantized_model = quantizer.quantize_network(False)\n",
        "\n",
        "    training_time = time.time() - start_time\n",
        "\n",
        "    # Check quantized model bit size\n",
        "    effective_bit_size = calculate_bit_size(quantized_model)\n",
        "    print(f\"Bits {bits}, Effective Quantized Bit Size: {effective_bit_size}\")\n",
        "\n",
        "    _, quantized_test_accuracy = utils.getLossAccuracyOnDataset(quantized_model, test_loader, fast_device)\n",
        "    print(f\"Bits {bits}, Quantized Test Accuracy: {quantized_test_accuracy}\")\n",
        "\n",
        "    parameter = count_parameters(quantized_model) \n",
        "    sparsity = utils.eval_sparsity(quantized_model)\n",
        "\n",
        "    # Write results to CSV\n",
        "    with open(csv_file, mode='a', newline='') as file:\n",
        "        writer = csv.writer(file)\n",
        "        writer.writerow([\n",
        "            bits, effective_bit_size, 0.9225, quantized_test_accuracy, sparsity,  training_time  # Include effective bit size\n",
        "        ])\n",
        "\n",
        "print(f\"Results saved to {csv_file}\")"
      ]
    },
    {
      "cell_type": "markdown",
      "metadata": {
        "id": "rayk6sDh7UXz"
      },
      "source": [
        "## Student Network"
      ]
    },
    {
      "cell_type": "markdown",
      "metadata": {},
      "source": [
        "#### Without KD "
      ]
    },
    {
      "cell_type": "code",
      "execution_count": 73,
      "metadata": {},
      "outputs": [
        {
          "name": "stdout",
          "output_type": "stream",
          "text": [
            "Training with hparamsT=4, alpha=0.0, dropout_hidden=0.0, dropout_input=0.0, lr=0.001, lr_decay=0.95, momentum=0.9, weight_decay=0.0 and pruning factor 0\n",
            "0 11173962 23520842\n",
            "epoch: 0 validation accuracy: 0.110\n",
            "[1,   100/  372] train loss: 1.450 train accuracy: 0.453\n",
            "[1,   200/  372] train loss: 0.954 train accuracy: 0.703\n",
            "[1,   300/  372] train loss: 0.751 train accuracy: 0.758\n",
            "epoch: 1 validation accuracy: 0.742\n",
            "[2,   100/  372] train loss: 0.602 train accuracy: 0.773\n",
            "[2,   200/  372] train loss: 0.441 train accuracy: 0.852\n",
            "[2,   300/  372] train loss: 0.438 train accuracy: 0.852\n",
            "epoch: 2 validation accuracy: 0.826\n",
            "[3,   100/  372] train loss: 0.491 train accuracy: 0.828\n",
            "[3,   200/  372] train loss: 0.349 train accuracy: 0.883\n",
            "[3,   300/  372] train loss: 0.368 train accuracy: 0.875\n",
            "epoch: 3 validation accuracy: 0.862\n",
            "[4,   100/  372] train loss: 0.361 train accuracy: 0.898\n",
            "[4,   200/  372] train loss: 0.385 train accuracy: 0.867\n",
            "[4,   300/  372] train loss: 0.267 train accuracy: 0.891\n",
            "epoch: 4 validation accuracy: 0.864\n",
            "[5,   100/  372] train loss: 0.312 train accuracy: 0.898\n",
            "[5,   200/  372] train loss: 0.227 train accuracy: 0.922\n",
            "[5,   300/  372] train loss: 0.216 train accuracy: 0.945\n",
            "epoch: 5 validation accuracy: 0.873\n",
            "[6,   100/  372] train loss: 0.229 train accuracy: 0.930\n",
            "[6,   200/  372] train loss: 0.149 train accuracy: 0.945\n",
            "[6,   300/  372] train loss: 0.229 train accuracy: 0.930\n",
            "epoch: 6 validation accuracy: 0.881\n",
            "[7,   100/  372] train loss: 0.230 train accuracy: 0.922\n",
            "[7,   200/  372] train loss: 0.220 train accuracy: 0.922\n",
            "[7,   300/  372] train loss: 0.158 train accuracy: 0.945\n",
            "epoch: 7 validation accuracy: 0.890\n",
            "[8,   100/  372] train loss: 0.182 train accuracy: 0.930\n",
            "[8,   200/  372] train loss: 0.153 train accuracy: 0.930\n",
            "[8,   300/  372] train loss: 0.127 train accuracy: 0.961\n",
            "epoch: 8 validation accuracy: 0.893\n",
            "[9,   100/  372] train loss: 0.216 train accuracy: 0.945\n",
            "[9,   200/  372] train loss: 0.136 train accuracy: 0.945\n",
            "[9,   300/  372] train loss: 0.167 train accuracy: 0.945\n",
            "epoch: 9 validation accuracy: 0.889\n",
            "[10,   100/  372] train loss: 0.174 train accuracy: 0.922\n",
            "[10,   200/  372] train loss: 0.099 train accuracy: 0.961\n",
            "[10,   300/  372] train loss: 0.076 train accuracy: 0.977\n",
            "epoch: 10 validation accuracy: 0.893\n",
            "[11,   100/  372] train loss: 0.061 train accuracy: 0.977\n",
            "[11,   200/  372] train loss: 0.112 train accuracy: 0.977\n",
            "[11,   300/  372] train loss: 0.145 train accuracy: 0.969\n",
            "epoch: 11 validation accuracy: 0.893\n",
            "[12,   100/  372] train loss: 0.061 train accuracy: 0.984\n",
            "[12,   200/  372] train loss: 0.056 train accuracy: 0.984\n",
            "[12,   300/  372] train loss: 0.152 train accuracy: 0.945\n",
            "epoch: 12 validation accuracy: 0.894\n",
            "[13,   100/  372] train loss: 0.073 train accuracy: 0.984\n",
            "[13,   200/  372] train loss: 0.069 train accuracy: 0.977\n",
            "[13,   300/  372] train loss: 0.125 train accuracy: 0.938\n",
            "epoch: 13 validation accuracy: 0.897\n",
            "[14,   100/  372] train loss: 0.039 train accuracy: 1.000\n",
            "[14,   200/  372] train loss: 0.095 train accuracy: 0.977\n",
            "[14,   300/  372] train loss: 0.021 train accuracy: 1.000\n",
            "epoch: 14 validation accuracy: 0.888\n",
            "[15,   100/  372] train loss: 0.062 train accuracy: 0.984\n",
            "[15,   200/  372] train loss: 0.034 train accuracy: 1.000\n",
            "[15,   300/  372] train loss: 0.123 train accuracy: 0.969\n",
            "epoch: 15 validation accuracy: 0.890\n",
            "[16,   100/  372] train loss: 0.029 train accuracy: 0.992\n",
            "[16,   200/  372] train loss: 0.027 train accuracy: 1.000\n",
            "[16,   300/  372] train loss: 0.046 train accuracy: 0.977\n",
            "epoch: 16 validation accuracy: 0.889\n",
            "[17,   100/  372] train loss: 0.042 train accuracy: 0.992\n",
            "[17,   200/  372] train loss: 0.027 train accuracy: 1.000\n",
            "[17,   300/  372] train loss: 0.035 train accuracy: 0.992\n",
            "epoch: 17 validation accuracy: 0.890\n",
            "[18,   100/  372] train loss: 0.043 train accuracy: 0.992\n",
            "[18,   200/  372] train loss: 0.032 train accuracy: 1.000\n",
            "[18,   300/  372] train loss: 0.037 train accuracy: 1.000\n",
            "epoch: 18 validation accuracy: 0.894\n",
            "[19,   100/  372] train loss: 0.066 train accuracy: 0.977\n",
            "[19,   200/  372] train loss: 0.055 train accuracy: 0.992\n",
            "[19,   300/  372] train loss: 0.049 train accuracy: 0.984\n",
            "epoch: 19 validation accuracy: 0.901\n",
            "[20,   100/  372] train loss: 0.055 train accuracy: 0.984\n",
            "[20,   200/  372] train loss: 0.036 train accuracy: 1.000\n",
            "[20,   300/  372] train loss: 0.013 train accuracy: 1.000\n",
            "epoch: 20 validation accuracy: 0.898\n",
            "Checkpoint saved Epoch 20: checkpoints_student/checkpoints_student_NoKD/student_epoch_19.pth\n",
            "Test accuracy:  0.8891\n",
            "Results saved to checkpoints_student/checkpoints_student_NoKD/results_student.csv\n"
          ]
        }
      ],
      "source": [
        "num_epochs = 20\n",
        "print_every = 100\n",
        "# Hypothetical setup, please adjust according to actual import paths and methods\n",
        "temperatures = [4]\n",
        "alphas = [0.0] # only use label for training\n",
        "learning_rates = [1e-3]\n",
        "learning_rate_decays = [0.95]\n",
        "weight_decays = [0.0]\n",
        "momentums = [0.9]\n",
        "dropout_probabilities = [(0.0, 0.0)]\n",
        "hparams_list = []\n",
        "\n",
        "\n",
        "for hparam_tuple in itertools.product(alphas, temperatures, dropout_probabilities, weight_decays, learning_rate_decays, momentums, learning_rates):\n",
        "    hparam = {}\n",
        "    hparam['alpha'] = hparam_tuple[0]\n",
        "    hparam['T'] = hparam_tuple[1]\n",
        "    hparam['dropout_input'] = hparam_tuple[2][0]\n",
        "    hparam['dropout_hidden'] = hparam_tuple[2][1]\n",
        "    hparam['weight_decay'] = hparam_tuple[3]\n",
        "    hparam['lr_decay'] = hparam_tuple[4]\n",
        "    hparam['momentum'] = hparam_tuple[5]\n",
        "    hparam['lr'] = hparam_tuple[6]\n",
        "    hparams_list.append(hparam)\n",
        "\n",
        "results_distill_nokd = {}\n",
        "pruning_factor = 0\n",
        "\n",
        "# CSV file setup\n",
        "csv_file = checkpoints_path_student_nokd + \"results_student.csv\"\n",
        "if not os.path.exists(csv_file):\n",
        "    with open(csv_file, mode='w', newline='') as file:\n",
        "        writer = csv.writer(file)\n",
        "        writer.writerow([\"Alpha\", \"Temperature\", \"Dropout Input\", \"Dropout Hidden\", \"Weight Decay\", \"LR Decay\", \"Momentum\", \"Learning Rate\", \"Pruning Factor\", \"Zero Parameters\", \"Test Accuracy\", \"Training Time (s)\"])\n",
        "\n",
        "# Training and logging\n",
        "for hparam in hparams_list:\n",
        "    print('Training with hparams' + utils.hparamToString(hparam) + f' and pruning factor {pruning_factor}')\n",
        "\n",
        "    # Measure training time\n",
        "    start_time = time.time()\n",
        "\n",
        "    reproducibilitySeed()\n",
        "    student_net = networks.StudentNetwork(pruning_factor, teacher_net, q=False, fuse=False, qat=False, dif_arch=True)\n",
        "    student_net.to(fast_device)\n",
        "    hparam_tuple = utils.hparamDictToTuple(hparam)\n",
        "\n",
        "    # Count parameters\n",
        "    student_params_num = count_parameters(student_net)\n",
        "    \n",
        "    print(pruning_factor, student_params_num, count_parameters(teacher_net))\n",
        "    results_distill_nokd[(hparam_tuple, pruning_factor)] = utils.trainStudentOnHparam(\n",
        "            teacher_net, student_net, hparam, num_epochs,\n",
        "            train_loader, val_loader,\n",
        "            print_every=print_every,\n",
        "            fast_device=fast_device, quant=False,\n",
        "            checkpoint_save_path = checkpoints_path_student_nokd\n",
        "        )\n",
        "\n",
        "    training_time = time.time() - start_time\n",
        "\n",
        "    # Final model save\n",
        "    final_save_path = checkpoints_path_student_nokd + utils.hparamToString(hparam) + '.tar'\n",
        "    torch.save({\n",
        "        'results': results_distill_nokd[(hparam_tuple, pruning_factor)],\n",
        "        'model_state_dict': quantized_model.state_dict(),\n",
        "        'epoch': num_epochs\n",
        "    }, final_save_path)\n",
        "\n",
        "    # Calculate test accuracy\n",
        "    _, test_accuracy = utils.getLossAccuracyOnDataset(student_net, test_loader, fast_device)\n",
        "    print('Test accuracy: ', test_accuracy)\n",
        "\n",
        "    # Write results to CSV\n",
        "    with open(csv_file, mode='a', newline='') as file:\n",
        "        writer = csv.writer(file)\n",
        "        writer.writerow([\n",
        "            hparam['alpha'], hparam['T'], hparam['dropout_input'], hparam['dropout_hidden'], hparam['weight_decay'],\n",
        "            hparam['lr_decay'], hparam['momentum'], hparam['lr'], pruning_factor, student_params_num,\n",
        "            test_accuracy, training_time\n",
        "        ])\n",
        "\n",
        "print(f\"Results saved to {csv_file}\")"
      ]
    },
    {
      "cell_type": "code",
      "execution_count": 21,
      "metadata": {},
      "outputs": [],
      "source": [
        "# Quantization CSV file setup\n",
        "csv_file = \"checkpoints_student/checkpoints_student_nokd/results_student_quantization.csv\"\n",
        "with open(csv_file, mode='w', newline='') as file:\n",
        "    writer = csv.writer(file)\n",
        "    writer.writerow([\"Bits\", \"Effective Bits\", \"Original Test Accuracy\", \"Quantized Test Accuracy\", \"Sparsity\", \"Training Time (s)\"])"
      ]
    },
    {
      "cell_type": "code",
      "execution_count": 22,
      "metadata": {},
      "outputs": [
        {
          "name": "stderr",
          "output_type": "stream",
          "text": [
            "C:\\Users\\17598\\AppData\\Local\\Temp\\ipykernel_14284\\2355955617.py:1: FutureWarning: You are using `torch.load` with `weights_only=False` (the current default value), which uses the default pickle module implicitly. It is possible to construct malicious pickle data which will execute arbitrary code during unpickling (See https://github.com/pytorch/pytorch/blob/main/SECURITY.md#untrusted-models for more details). In a future release, the default value for `weights_only` will be flipped to `True`. This limits the functions that could be executed during unpickling. Arbitrary objects will no longer be allowed to be loaded via this mode unless they are explicitly allowlisted by the user via `torch.serialization.add_safe_globals`. We recommend you start setting `weights_only=True` for any use case where you don't have full control of the loaded file. Please open an issue on GitHub for any issues related to this experimental feature.\n",
            "  checkpoint = torch.load('checkpoints_student/checkpoints_student_NoKD/student_epoch_19.pth')\n",
            "c:\\Users\\17598\\AppData\\Local\\Programs\\Python\\Python310\\lib\\site-packages\\torchvision\\models\\_utils.py:208: UserWarning: The parameter 'pretrained' is deprecated since 0.13 and may be removed in the future, please use 'weights' instead.\n",
            "  warnings.warn(\n",
            "c:\\Users\\17598\\AppData\\Local\\Programs\\Python\\Python310\\lib\\site-packages\\torchvision\\models\\_utils.py:223: UserWarning: Arguments other than a weight enum or `None` for 'weights' are deprecated since 0.13 and may be removed in the future. The current behavior is equivalent to passing `weights=None`.\n",
            "  warnings.warn(msg)\n"
          ]
        }
      ],
      "source": [
        "checkpoint = torch.load('checkpoints_student/checkpoints_student_NoKD/student_epoch_19.pth')\n",
        "student_net = networks.StudentNetwork(0.0, teacher_net = teacher_net)\n",
        "student_net = student_net.to(fast_device)\n",
        "student_net.load_state_dict(checkpoint)\n",
        "\n",
        "utils.getLossAccuracyOnDataset(student_net, test_loader, fast_device)\n",
        "\n",
        "csv_file = \"checkpoints_student/checkpoints_student_nokd/results_student_quantization.csv\""
      ]
    },
    {
      "cell_type": "code",
      "execution_count": 28,
      "metadata": {},
      "outputs": [
        {
          "name": "stdout",
          "output_type": "stream",
          "text": [
            "The number of groups: 1\n",
            "\n"
          ]
        },
        {
          "name": "stderr",
          "output_type": "stream",
          "text": [
            "100%|██████████| 27/27 [00:00<00:00, 253.23it/s]\n"
          ]
        },
        {
          "name": "stdout",
          "output_type": "stream",
          "text": [
            "The number of groups: 1\n",
            "\n"
          ]
        },
        {
          "name": "stderr",
          "output_type": "stream",
          "text": [
            "100%|██████████| 576/576 [00:00<00:00, 2422.05it/s]\n"
          ]
        },
        {
          "name": "stdout",
          "output_type": "stream",
          "text": [
            "The number of groups: 1\n",
            "\n"
          ]
        },
        {
          "name": "stderr",
          "output_type": "stream",
          "text": [
            "100%|██████████| 576/576 [00:00<00:00, 2139.09it/s]\n"
          ]
        },
        {
          "name": "stdout",
          "output_type": "stream",
          "text": [
            "The number of groups: 1\n",
            "\n"
          ]
        },
        {
          "name": "stderr",
          "output_type": "stream",
          "text": [
            "100%|██████████| 576/576 [00:00<00:00, 2112.42it/s]\n"
          ]
        },
        {
          "name": "stdout",
          "output_type": "stream",
          "text": [
            "The number of groups: 1\n",
            "\n"
          ]
        },
        {
          "name": "stderr",
          "output_type": "stream",
          "text": [
            "100%|██████████| 576/576 [00:00<00:00, 2172.35it/s]\n"
          ]
        },
        {
          "name": "stdout",
          "output_type": "stream",
          "text": [
            "The number of groups: 1\n",
            "\n"
          ]
        },
        {
          "name": "stderr",
          "output_type": "stream",
          "text": [
            "100%|██████████| 576/576 [00:00<00:00, 1704.79it/s]\n"
          ]
        },
        {
          "name": "stdout",
          "output_type": "stream",
          "text": [
            "The number of groups: 1\n",
            "\n"
          ]
        },
        {
          "name": "stderr",
          "output_type": "stream",
          "text": [
            "100%|██████████| 1152/1152 [00:00<00:00, 3005.22it/s]\n"
          ]
        },
        {
          "name": "stdout",
          "output_type": "stream",
          "text": [
            "The number of groups: 1\n",
            "\n"
          ]
        },
        {
          "name": "stderr",
          "output_type": "stream",
          "text": [
            "100%|██████████| 64/64 [00:00<00:00, 316.26it/s]\n"
          ]
        },
        {
          "name": "stdout",
          "output_type": "stream",
          "text": [
            "The number of groups: 1\n",
            "\n"
          ]
        },
        {
          "name": "stderr",
          "output_type": "stream",
          "text": [
            "100%|██████████| 1152/1152 [00:00<00:00, 2640.52it/s]\n"
          ]
        },
        {
          "name": "stdout",
          "output_type": "stream",
          "text": [
            "The number of groups: 1\n",
            "\n"
          ]
        },
        {
          "name": "stderr",
          "output_type": "stream",
          "text": [
            "100%|██████████| 1152/1152 [00:00<00:00, 3167.43it/s]\n"
          ]
        },
        {
          "name": "stdout",
          "output_type": "stream",
          "text": [
            "The number of groups: 1\n",
            "\n"
          ]
        },
        {
          "name": "stderr",
          "output_type": "stream",
          "text": [
            "100%|██████████| 1152/1152 [00:00<00:00, 2429.40it/s]\n"
          ]
        },
        {
          "name": "stdout",
          "output_type": "stream",
          "text": [
            "The number of groups: 1\n",
            "\n"
          ]
        },
        {
          "name": "stderr",
          "output_type": "stream",
          "text": [
            "100%|██████████| 2304/2304 [00:00<00:00, 3195.55it/s]\n"
          ]
        },
        {
          "name": "stdout",
          "output_type": "stream",
          "text": [
            "The number of groups: 1\n",
            "\n"
          ]
        },
        {
          "name": "stderr",
          "output_type": "stream",
          "text": [
            "100%|██████████| 128/128 [00:00<00:00, 859.70it/s]\n"
          ]
        },
        {
          "name": "stdout",
          "output_type": "stream",
          "text": [
            "The number of groups: 1\n",
            "\n"
          ]
        },
        {
          "name": "stderr",
          "output_type": "stream",
          "text": [
            "100%|██████████| 2304/2304 [00:00<00:00, 3000.23it/s]\n"
          ]
        },
        {
          "name": "stdout",
          "output_type": "stream",
          "text": [
            "The number of groups: 1\n",
            "\n"
          ]
        },
        {
          "name": "stderr",
          "output_type": "stream",
          "text": [
            "100%|██████████| 2304/2304 [00:00<00:00, 3172.93it/s]\n"
          ]
        },
        {
          "name": "stdout",
          "output_type": "stream",
          "text": [
            "The number of groups: 1\n",
            "\n"
          ]
        },
        {
          "name": "stderr",
          "output_type": "stream",
          "text": [
            "100%|██████████| 2304/2304 [00:00<00:00, 2977.87it/s]\n"
          ]
        },
        {
          "name": "stdout",
          "output_type": "stream",
          "text": [
            "The number of groups: 1\n",
            "\n"
          ]
        },
        {
          "name": "stderr",
          "output_type": "stream",
          "text": [
            "100%|██████████| 4608/4608 [00:01<00:00, 3095.73it/s]\n"
          ]
        },
        {
          "name": "stdout",
          "output_type": "stream",
          "text": [
            "The number of groups: 1\n",
            "\n"
          ]
        },
        {
          "name": "stderr",
          "output_type": "stream",
          "text": [
            "100%|██████████| 256/256 [00:00<00:00, 1139.21it/s]\n"
          ]
        },
        {
          "name": "stdout",
          "output_type": "stream",
          "text": [
            "The number of groups: 1\n",
            "\n"
          ]
        },
        {
          "name": "stderr",
          "output_type": "stream",
          "text": [
            "100%|██████████| 4608/4608 [00:01<00:00, 3133.13it/s]\n"
          ]
        },
        {
          "name": "stdout",
          "output_type": "stream",
          "text": [
            "The number of groups: 1\n",
            "\n"
          ]
        },
        {
          "name": "stderr",
          "output_type": "stream",
          "text": [
            "100%|██████████| 4608/4608 [00:01<00:00, 3160.62it/s]\n"
          ]
        },
        {
          "name": "stdout",
          "output_type": "stream",
          "text": [
            "The number of groups: 1\n",
            "\n"
          ]
        },
        {
          "name": "stderr",
          "output_type": "stream",
          "text": [
            "100%|██████████| 512/512 [00:00<00:00, 2984.59it/s]\n"
          ]
        },
        {
          "name": "stdout",
          "output_type": "stream",
          "text": [
            "Bits 32, Effective Quantized Bit Size: 21.121295382962643\n",
            "Bits 32, Quantized Test Accuracy: 0.8648\n",
            "The number of groups: 1\n",
            "\n"
          ]
        },
        {
          "name": "stderr",
          "output_type": "stream",
          "text": [
            "100%|██████████| 27/27 [00:00<00:00, 339.48it/s]\n"
          ]
        },
        {
          "name": "stdout",
          "output_type": "stream",
          "text": [
            "The number of groups: 1\n",
            "\n"
          ]
        },
        {
          "name": "stderr",
          "output_type": "stream",
          "text": [
            "100%|██████████| 576/576 [00:00<00:00, 928.57it/s]\n"
          ]
        },
        {
          "name": "stdout",
          "output_type": "stream",
          "text": [
            "The number of groups: 1\n",
            "\n"
          ]
        },
        {
          "name": "stderr",
          "output_type": "stream",
          "text": [
            "100%|██████████| 576/576 [00:00<00:00, 2431.27it/s]\n"
          ]
        },
        {
          "name": "stdout",
          "output_type": "stream",
          "text": [
            "The number of groups: 1\n",
            "\n"
          ]
        },
        {
          "name": "stderr",
          "output_type": "stream",
          "text": [
            "100%|██████████| 576/576 [00:00<00:00, 2365.32it/s]\n"
          ]
        },
        {
          "name": "stdout",
          "output_type": "stream",
          "text": [
            "The number of groups: 1\n",
            "\n"
          ]
        },
        {
          "name": "stderr",
          "output_type": "stream",
          "text": [
            "100%|██████████| 576/576 [00:00<00:00, 2251.74it/s]\n"
          ]
        },
        {
          "name": "stdout",
          "output_type": "stream",
          "text": [
            "The number of groups: 1\n",
            "\n"
          ]
        },
        {
          "name": "stderr",
          "output_type": "stream",
          "text": [
            "100%|██████████| 576/576 [00:00<00:00, 1433.02it/s]\n"
          ]
        },
        {
          "name": "stdout",
          "output_type": "stream",
          "text": [
            "The number of groups: 1\n",
            "\n"
          ]
        },
        {
          "name": "stderr",
          "output_type": "stream",
          "text": [
            "100%|██████████| 1152/1152 [00:00<00:00, 2726.07it/s]\n"
          ]
        },
        {
          "name": "stdout",
          "output_type": "stream",
          "text": [
            "The number of groups: 1\n",
            "\n"
          ]
        },
        {
          "name": "stderr",
          "output_type": "stream",
          "text": [
            "100%|██████████| 64/64 [00:00<00:00, 309.30it/s]\n"
          ]
        },
        {
          "name": "stdout",
          "output_type": "stream",
          "text": [
            "The number of groups: 1\n",
            "\n"
          ]
        },
        {
          "name": "stderr",
          "output_type": "stream",
          "text": [
            "100%|██████████| 1152/1152 [00:00<00:00, 3185.07it/s]\n"
          ]
        },
        {
          "name": "stdout",
          "output_type": "stream",
          "text": [
            "The number of groups: 1\n",
            "\n"
          ]
        },
        {
          "name": "stderr",
          "output_type": "stream",
          "text": [
            "100%|██████████| 1152/1152 [00:00<00:00, 3039.20it/s]\n"
          ]
        },
        {
          "name": "stdout",
          "output_type": "stream",
          "text": [
            "The number of groups: 1\n",
            "\n"
          ]
        },
        {
          "name": "stderr",
          "output_type": "stream",
          "text": [
            "100%|██████████| 1152/1152 [00:00<00:00, 2413.48it/s]\n"
          ]
        },
        {
          "name": "stdout",
          "output_type": "stream",
          "text": [
            "The number of groups: 1\n",
            "\n"
          ]
        },
        {
          "name": "stderr",
          "output_type": "stream",
          "text": [
            "100%|██████████| 2304/2304 [00:00<00:00, 2648.51it/s]\n"
          ]
        },
        {
          "name": "stdout",
          "output_type": "stream",
          "text": [
            "The number of groups: 1\n",
            "\n"
          ]
        },
        {
          "name": "stderr",
          "output_type": "stream",
          "text": [
            "100%|██████████| 128/128 [00:00<00:00, 816.46it/s]\n"
          ]
        },
        {
          "name": "stdout",
          "output_type": "stream",
          "text": [
            "The number of groups: 1\n",
            "\n"
          ]
        },
        {
          "name": "stderr",
          "output_type": "stream",
          "text": [
            "100%|██████████| 2304/2304 [00:00<00:00, 3323.56it/s]\n"
          ]
        },
        {
          "name": "stdout",
          "output_type": "stream",
          "text": [
            "The number of groups: 1\n",
            "\n"
          ]
        },
        {
          "name": "stderr",
          "output_type": "stream",
          "text": [
            "100%|██████████| 2304/2304 [00:00<00:00, 3250.70it/s]\n"
          ]
        },
        {
          "name": "stdout",
          "output_type": "stream",
          "text": [
            "The number of groups: 1\n",
            "\n"
          ]
        },
        {
          "name": "stderr",
          "output_type": "stream",
          "text": [
            "100%|██████████| 2304/2304 [00:00<00:00, 2839.58it/s]\n"
          ]
        },
        {
          "name": "stdout",
          "output_type": "stream",
          "text": [
            "The number of groups: 1\n",
            "\n"
          ]
        },
        {
          "name": "stderr",
          "output_type": "stream",
          "text": [
            "100%|██████████| 4608/4608 [00:01<00:00, 2970.47it/s]\n"
          ]
        },
        {
          "name": "stdout",
          "output_type": "stream",
          "text": [
            "The number of groups: 1\n",
            "\n"
          ]
        },
        {
          "name": "stderr",
          "output_type": "stream",
          "text": [
            "100%|██████████| 256/256 [00:00<00:00, 1474.22it/s]\n"
          ]
        },
        {
          "name": "stdout",
          "output_type": "stream",
          "text": [
            "The number of groups: 1\n",
            "\n"
          ]
        },
        {
          "name": "stderr",
          "output_type": "stream",
          "text": [
            "100%|██████████| 4608/4608 [00:01<00:00, 3119.58it/s]\n"
          ]
        },
        {
          "name": "stdout",
          "output_type": "stream",
          "text": [
            "The number of groups: 1\n",
            "\n"
          ]
        },
        {
          "name": "stderr",
          "output_type": "stream",
          "text": [
            "100%|██████████| 4608/4608 [00:01<00:00, 2798.12it/s]\n"
          ]
        },
        {
          "name": "stdout",
          "output_type": "stream",
          "text": [
            "The number of groups: 1\n",
            "\n"
          ]
        },
        {
          "name": "stderr",
          "output_type": "stream",
          "text": [
            "100%|██████████| 512/512 [00:00<00:00, 2835.13it/s]\n"
          ]
        },
        {
          "name": "stdout",
          "output_type": "stream",
          "text": [
            "Bits 28, Effective Quantized Bit Size: 21.121295382962643\n",
            "Bits 28, Quantized Test Accuracy: 0.8839\n",
            "The number of groups: 1\n",
            "\n"
          ]
        },
        {
          "name": "stderr",
          "output_type": "stream",
          "text": [
            "100%|██████████| 27/27 [00:00<00:00, 295.28it/s]\n"
          ]
        },
        {
          "name": "stdout",
          "output_type": "stream",
          "text": [
            "The number of groups: 1\n",
            "\n"
          ]
        },
        {
          "name": "stderr",
          "output_type": "stream",
          "text": [
            "100%|██████████| 576/576 [00:00<00:00, 877.34it/s] \n"
          ]
        },
        {
          "name": "stdout",
          "output_type": "stream",
          "text": [
            "The number of groups: 1\n",
            "\n"
          ]
        },
        {
          "name": "stderr",
          "output_type": "stream",
          "text": [
            "100%|██████████| 576/576 [00:00<00:00, 2386.66it/s]\n"
          ]
        },
        {
          "name": "stdout",
          "output_type": "stream",
          "text": [
            "The number of groups: 1\n",
            "\n"
          ]
        },
        {
          "name": "stderr",
          "output_type": "stream",
          "text": [
            "100%|██████████| 576/576 [00:00<00:00, 2046.57it/s]\n"
          ]
        },
        {
          "name": "stdout",
          "output_type": "stream",
          "text": [
            "The number of groups: 1\n",
            "\n"
          ]
        },
        {
          "name": "stderr",
          "output_type": "stream",
          "text": [
            "100%|██████████| 576/576 [00:00<00:00, 2110.28it/s]\n"
          ]
        },
        {
          "name": "stdout",
          "output_type": "stream",
          "text": [
            "The number of groups: 1\n",
            "\n"
          ]
        },
        {
          "name": "stderr",
          "output_type": "stream",
          "text": [
            "100%|██████████| 576/576 [00:00<00:00, 1687.27it/s]\n"
          ]
        },
        {
          "name": "stdout",
          "output_type": "stream",
          "text": [
            "The number of groups: 1\n",
            "\n"
          ]
        },
        {
          "name": "stderr",
          "output_type": "stream",
          "text": [
            "100%|██████████| 1152/1152 [00:00<00:00, 2871.82it/s]\n"
          ]
        },
        {
          "name": "stdout",
          "output_type": "stream",
          "text": [
            "The number of groups: 1\n",
            "\n"
          ]
        },
        {
          "name": "stderr",
          "output_type": "stream",
          "text": [
            "100%|██████████| 64/64 [00:00<00:00, 330.39it/s]\n"
          ]
        },
        {
          "name": "stdout",
          "output_type": "stream",
          "text": [
            "The number of groups: 1\n",
            "\n"
          ]
        },
        {
          "name": "stderr",
          "output_type": "stream",
          "text": [
            "100%|██████████| 1152/1152 [00:00<00:00, 2335.49it/s]\n"
          ]
        },
        {
          "name": "stdout",
          "output_type": "stream",
          "text": [
            "The number of groups: 1\n",
            "\n"
          ]
        },
        {
          "name": "stderr",
          "output_type": "stream",
          "text": [
            "100%|██████████| 1152/1152 [00:00<00:00, 3155.10it/s]\n"
          ]
        },
        {
          "name": "stdout",
          "output_type": "stream",
          "text": [
            "The number of groups: 1\n",
            "\n"
          ]
        },
        {
          "name": "stderr",
          "output_type": "stream",
          "text": [
            "100%|██████████| 1152/1152 [00:00<00:00, 2422.64it/s]\n"
          ]
        },
        {
          "name": "stdout",
          "output_type": "stream",
          "text": [
            "The number of groups: 1\n",
            "\n"
          ]
        },
        {
          "name": "stderr",
          "output_type": "stream",
          "text": [
            "100%|██████████| 2304/2304 [00:00<00:00, 3276.43it/s]\n"
          ]
        },
        {
          "name": "stdout",
          "output_type": "stream",
          "text": [
            "The number of groups: 1\n",
            "\n"
          ]
        },
        {
          "name": "stderr",
          "output_type": "stream",
          "text": [
            "100%|██████████| 128/128 [00:00<00:00, 917.68it/s]\n"
          ]
        },
        {
          "name": "stdout",
          "output_type": "stream",
          "text": [
            "The number of groups: 1\n",
            "\n"
          ]
        },
        {
          "name": "stderr",
          "output_type": "stream",
          "text": [
            "100%|██████████| 2304/2304 [00:00<00:00, 2605.33it/s]\n"
          ]
        },
        {
          "name": "stdout",
          "output_type": "stream",
          "text": [
            "The number of groups: 1\n",
            "\n"
          ]
        },
        {
          "name": "stderr",
          "output_type": "stream",
          "text": [
            "100%|██████████| 2304/2304 [00:00<00:00, 3081.94it/s]\n"
          ]
        },
        {
          "name": "stdout",
          "output_type": "stream",
          "text": [
            "The number of groups: 1\n",
            "\n"
          ]
        },
        {
          "name": "stderr",
          "output_type": "stream",
          "text": [
            "100%|██████████| 2304/2304 [00:00<00:00, 2697.22it/s]\n"
          ]
        },
        {
          "name": "stdout",
          "output_type": "stream",
          "text": [
            "The number of groups: 1\n",
            "\n"
          ]
        },
        {
          "name": "stderr",
          "output_type": "stream",
          "text": [
            "100%|██████████| 4608/4608 [00:01<00:00, 2834.13it/s]\n"
          ]
        },
        {
          "name": "stdout",
          "output_type": "stream",
          "text": [
            "The number of groups: 1\n",
            "\n"
          ]
        },
        {
          "name": "stderr",
          "output_type": "stream",
          "text": [
            "100%|██████████| 256/256 [00:00<00:00, 1073.28it/s]\n"
          ]
        },
        {
          "name": "stdout",
          "output_type": "stream",
          "text": [
            "The number of groups: 1\n",
            "\n"
          ]
        },
        {
          "name": "stderr",
          "output_type": "stream",
          "text": [
            "100%|██████████| 4608/4608 [00:01<00:00, 2734.81it/s]\n"
          ]
        },
        {
          "name": "stdout",
          "output_type": "stream",
          "text": [
            "The number of groups: 1\n",
            "\n"
          ]
        },
        {
          "name": "stderr",
          "output_type": "stream",
          "text": [
            "100%|██████████| 4608/4608 [00:01<00:00, 2882.14it/s]\n"
          ]
        },
        {
          "name": "stdout",
          "output_type": "stream",
          "text": [
            "The number of groups: 1\n",
            "\n"
          ]
        },
        {
          "name": "stderr",
          "output_type": "stream",
          "text": [
            "100%|██████████| 512/512 [00:00<00:00, 3695.13it/s]\n"
          ]
        },
        {
          "name": "stdout",
          "output_type": "stream",
          "text": [
            "Bits 24, Effective Quantized Bit Size: 20.223940621956654\n",
            "Bits 24, Quantized Test Accuracy: 0.8746\n",
            "The number of groups: 1\n",
            "\n"
          ]
        },
        {
          "name": "stderr",
          "output_type": "stream",
          "text": [
            "100%|██████████| 27/27 [00:00<00:00, 353.50it/s]\n"
          ]
        },
        {
          "name": "stdout",
          "output_type": "stream",
          "text": [
            "The number of groups: 1\n",
            "\n"
          ]
        },
        {
          "name": "stderr",
          "output_type": "stream",
          "text": [
            "100%|██████████| 576/576 [00:00<00:00, 1371.96it/s]\n"
          ]
        },
        {
          "name": "stdout",
          "output_type": "stream",
          "text": [
            "The number of groups: 1\n",
            "\n"
          ]
        },
        {
          "name": "stderr",
          "output_type": "stream",
          "text": [
            "100%|██████████| 576/576 [00:00<00:00, 2667.69it/s]\n"
          ]
        },
        {
          "name": "stdout",
          "output_type": "stream",
          "text": [
            "The number of groups: 1\n",
            "\n"
          ]
        },
        {
          "name": "stderr",
          "output_type": "stream",
          "text": [
            "100%|██████████| 576/576 [00:00<00:00, 2793.83it/s]\n"
          ]
        },
        {
          "name": "stdout",
          "output_type": "stream",
          "text": [
            "The number of groups: 1\n",
            "\n"
          ]
        },
        {
          "name": "stderr",
          "output_type": "stream",
          "text": [
            "100%|██████████| 576/576 [00:00<00:00, 2443.84it/s]\n"
          ]
        },
        {
          "name": "stdout",
          "output_type": "stream",
          "text": [
            "The number of groups: 1\n",
            "\n"
          ]
        },
        {
          "name": "stderr",
          "output_type": "stream",
          "text": [
            "100%|██████████| 576/576 [00:00<00:00, 1828.68it/s]\n"
          ]
        },
        {
          "name": "stdout",
          "output_type": "stream",
          "text": [
            "The number of groups: 1\n",
            "\n"
          ]
        },
        {
          "name": "stderr",
          "output_type": "stream",
          "text": [
            "100%|██████████| 1152/1152 [00:00<00:00, 3415.23it/s]\n"
          ]
        },
        {
          "name": "stdout",
          "output_type": "stream",
          "text": [
            "The number of groups: 1\n",
            "\n"
          ]
        },
        {
          "name": "stderr",
          "output_type": "stream",
          "text": [
            "100%|██████████| 64/64 [00:00<00:00, 352.71it/s]\n"
          ]
        },
        {
          "name": "stdout",
          "output_type": "stream",
          "text": [
            "The number of groups: 1\n",
            "\n"
          ]
        },
        {
          "name": "stderr",
          "output_type": "stream",
          "text": [
            "100%|██████████| 1152/1152 [00:00<00:00, 3612.95it/s]\n"
          ]
        },
        {
          "name": "stdout",
          "output_type": "stream",
          "text": [
            "The number of groups: 1\n",
            "\n"
          ]
        },
        {
          "name": "stderr",
          "output_type": "stream",
          "text": [
            "100%|██████████| 1152/1152 [00:00<00:00, 3634.16it/s]\n"
          ]
        },
        {
          "name": "stdout",
          "output_type": "stream",
          "text": [
            "The number of groups: 1\n",
            "\n"
          ]
        },
        {
          "name": "stderr",
          "output_type": "stream",
          "text": [
            "100%|██████████| 1152/1152 [00:00<00:00, 2841.29it/s]\n"
          ]
        },
        {
          "name": "stdout",
          "output_type": "stream",
          "text": [
            "The number of groups: 1\n",
            "\n"
          ]
        },
        {
          "name": "stderr",
          "output_type": "stream",
          "text": [
            "100%|██████████| 2304/2304 [00:00<00:00, 3211.72it/s]\n"
          ]
        },
        {
          "name": "stdout",
          "output_type": "stream",
          "text": [
            "The number of groups: 1\n",
            "\n"
          ]
        },
        {
          "name": "stderr",
          "output_type": "stream",
          "text": [
            "100%|██████████| 128/128 [00:00<00:00, 1081.01it/s]\n"
          ]
        },
        {
          "name": "stdout",
          "output_type": "stream",
          "text": [
            "The number of groups: 1\n",
            "\n"
          ]
        },
        {
          "name": "stderr",
          "output_type": "stream",
          "text": [
            "100%|██████████| 2304/2304 [00:00<00:00, 3541.97it/s]\n"
          ]
        },
        {
          "name": "stdout",
          "output_type": "stream",
          "text": [
            "The number of groups: 1\n",
            "\n"
          ]
        },
        {
          "name": "stderr",
          "output_type": "stream",
          "text": [
            "100%|██████████| 2304/2304 [00:00<00:00, 3603.05it/s]\n"
          ]
        },
        {
          "name": "stdout",
          "output_type": "stream",
          "text": [
            "The number of groups: 1\n",
            "\n"
          ]
        },
        {
          "name": "stderr",
          "output_type": "stream",
          "text": [
            "100%|██████████| 2304/2304 [00:00<00:00, 3207.15it/s]\n"
          ]
        },
        {
          "name": "stdout",
          "output_type": "stream",
          "text": [
            "The number of groups: 1\n",
            "\n"
          ]
        },
        {
          "name": "stderr",
          "output_type": "stream",
          "text": [
            "100%|██████████| 4608/4608 [00:01<00:00, 3062.22it/s]\n"
          ]
        },
        {
          "name": "stdout",
          "output_type": "stream",
          "text": [
            "The number of groups: 1\n",
            "\n"
          ]
        },
        {
          "name": "stderr",
          "output_type": "stream",
          "text": [
            "100%|██████████| 256/256 [00:00<00:00, 1356.89it/s]\n"
          ]
        },
        {
          "name": "stdout",
          "output_type": "stream",
          "text": [
            "The number of groups: 1\n",
            "\n"
          ]
        },
        {
          "name": "stderr",
          "output_type": "stream",
          "text": [
            "100%|██████████| 4608/4608 [00:01<00:00, 3115.35it/s]\n"
          ]
        },
        {
          "name": "stdout",
          "output_type": "stream",
          "text": [
            "The number of groups: 1\n",
            "\n"
          ]
        },
        {
          "name": "stderr",
          "output_type": "stream",
          "text": [
            "100%|██████████| 4608/4608 [00:01<00:00, 3275.76it/s]\n"
          ]
        },
        {
          "name": "stdout",
          "output_type": "stream",
          "text": [
            "The number of groups: 1\n",
            "\n"
          ]
        },
        {
          "name": "stderr",
          "output_type": "stream",
          "text": [
            "100%|██████████| 512/512 [00:00<00:00, 3214.64it/s]\n"
          ]
        },
        {
          "name": "stdout",
          "output_type": "stream",
          "text": [
            "Bits 20, Effective Quantized Bit Size: 17.898076259790393\n",
            "Bits 20, Quantized Test Accuracy: 0.8651\n",
            "The number of groups: 1\n",
            "\n"
          ]
        },
        {
          "name": "stderr",
          "output_type": "stream",
          "text": [
            "100%|██████████| 27/27 [00:00<00:00, 366.28it/s]\n"
          ]
        },
        {
          "name": "stdout",
          "output_type": "stream",
          "text": [
            "The number of groups: 1\n",
            "\n"
          ]
        },
        {
          "name": "stderr",
          "output_type": "stream",
          "text": [
            "100%|██████████| 576/576 [00:00<00:00, 953.86it/s]\n"
          ]
        },
        {
          "name": "stdout",
          "output_type": "stream",
          "text": [
            "The number of groups: 1\n",
            "\n"
          ]
        },
        {
          "name": "stderr",
          "output_type": "stream",
          "text": [
            "100%|██████████| 576/576 [00:00<00:00, 2663.77it/s]\n"
          ]
        },
        {
          "name": "stdout",
          "output_type": "stream",
          "text": [
            "The number of groups: 1\n",
            "\n"
          ]
        },
        {
          "name": "stderr",
          "output_type": "stream",
          "text": [
            "100%|██████████| 576/576 [00:00<00:00, 2696.33it/s]\n"
          ]
        },
        {
          "name": "stdout",
          "output_type": "stream",
          "text": [
            "The number of groups: 1\n",
            "\n"
          ]
        },
        {
          "name": "stderr",
          "output_type": "stream",
          "text": [
            "100%|██████████| 576/576 [00:00<00:00, 2251.75it/s]\n"
          ]
        },
        {
          "name": "stdout",
          "output_type": "stream",
          "text": [
            "The number of groups: 1\n",
            "\n"
          ]
        },
        {
          "name": "stderr",
          "output_type": "stream",
          "text": [
            "100%|██████████| 576/576 [00:00<00:00, 1928.76it/s]\n"
          ]
        },
        {
          "name": "stdout",
          "output_type": "stream",
          "text": [
            "The number of groups: 1\n",
            "\n"
          ]
        },
        {
          "name": "stderr",
          "output_type": "stream",
          "text": [
            "100%|██████████| 1152/1152 [00:00<00:00, 3096.66it/s]\n"
          ]
        },
        {
          "name": "stdout",
          "output_type": "stream",
          "text": [
            "The number of groups: 1\n",
            "\n"
          ]
        },
        {
          "name": "stderr",
          "output_type": "stream",
          "text": [
            "100%|██████████| 64/64 [00:00<00:00, 352.20it/s]\n"
          ]
        },
        {
          "name": "stdout",
          "output_type": "stream",
          "text": [
            "The number of groups: 1\n",
            "\n"
          ]
        },
        {
          "name": "stderr",
          "output_type": "stream",
          "text": [
            "100%|██████████| 1152/1152 [00:00<00:00, 3251.74it/s]\n"
          ]
        },
        {
          "name": "stdout",
          "output_type": "stream",
          "text": [
            "The number of groups: 1\n",
            "\n"
          ]
        },
        {
          "name": "stderr",
          "output_type": "stream",
          "text": [
            "100%|██████████| 1152/1152 [00:00<00:00, 3623.71it/s]\n"
          ]
        },
        {
          "name": "stdout",
          "output_type": "stream",
          "text": [
            "The number of groups: 1\n",
            "\n"
          ]
        },
        {
          "name": "stderr",
          "output_type": "stream",
          "text": [
            "100%|██████████| 1152/1152 [00:00<00:00, 2729.39it/s]\n"
          ]
        },
        {
          "name": "stdout",
          "output_type": "stream",
          "text": [
            "The number of groups: 1\n",
            "\n"
          ]
        },
        {
          "name": "stderr",
          "output_type": "stream",
          "text": [
            "100%|██████████| 2304/2304 [00:00<00:00, 3666.10it/s]\n"
          ]
        },
        {
          "name": "stdout",
          "output_type": "stream",
          "text": [
            "The number of groups: 1\n",
            "\n"
          ]
        },
        {
          "name": "stderr",
          "output_type": "stream",
          "text": [
            "100%|██████████| 128/128 [00:00<00:00, 983.42it/s] \n"
          ]
        },
        {
          "name": "stdout",
          "output_type": "stream",
          "text": [
            "The number of groups: 1\n",
            "\n"
          ]
        },
        {
          "name": "stderr",
          "output_type": "stream",
          "text": [
            "100%|██████████| 2304/2304 [00:00<00:00, 3319.87it/s]\n"
          ]
        },
        {
          "name": "stdout",
          "output_type": "stream",
          "text": [
            "The number of groups: 1\n",
            "\n"
          ]
        },
        {
          "name": "stderr",
          "output_type": "stream",
          "text": [
            "100%|██████████| 2304/2304 [00:00<00:00, 3402.21it/s]\n"
          ]
        },
        {
          "name": "stdout",
          "output_type": "stream",
          "text": [
            "The number of groups: 1\n",
            "\n"
          ]
        },
        {
          "name": "stderr",
          "output_type": "stream",
          "text": [
            "100%|██████████| 2304/2304 [00:00<00:00, 3247.02it/s]\n"
          ]
        },
        {
          "name": "stdout",
          "output_type": "stream",
          "text": [
            "The number of groups: 1\n",
            "\n"
          ]
        },
        {
          "name": "stderr",
          "output_type": "stream",
          "text": [
            "100%|██████████| 4608/4608 [00:01<00:00, 3216.46it/s]\n"
          ]
        },
        {
          "name": "stdout",
          "output_type": "stream",
          "text": [
            "The number of groups: 1\n",
            "\n"
          ]
        },
        {
          "name": "stderr",
          "output_type": "stream",
          "text": [
            "100%|██████████| 256/256 [00:00<00:00, 1581.97it/s]\n"
          ]
        },
        {
          "name": "stdout",
          "output_type": "stream",
          "text": [
            "The number of groups: 1\n",
            "\n"
          ]
        },
        {
          "name": "stderr",
          "output_type": "stream",
          "text": [
            "100%|██████████| 4608/4608 [00:01<00:00, 3591.94it/s]\n"
          ]
        },
        {
          "name": "stdout",
          "output_type": "stream",
          "text": [
            "The number of groups: 1\n",
            "\n"
          ]
        },
        {
          "name": "stderr",
          "output_type": "stream",
          "text": [
            "100%|██████████| 4608/4608 [00:01<00:00, 3513.91it/s]\n"
          ]
        },
        {
          "name": "stdout",
          "output_type": "stream",
          "text": [
            "The number of groups: 1\n",
            "\n"
          ]
        },
        {
          "name": "stderr",
          "output_type": "stream",
          "text": [
            "100%|██████████| 512/512 [00:00<00:00, 3683.69it/s]\n"
          ]
        },
        {
          "name": "stdout",
          "output_type": "stream",
          "text": [
            "Bits 16, Effective Quantized Bit Size: 14.82808192832587\n",
            "Bits 16, Quantized Test Accuracy: 0.8572\n",
            "The number of groups: 1\n",
            "\n"
          ]
        },
        {
          "name": "stderr",
          "output_type": "stream",
          "text": [
            "100%|██████████| 27/27 [00:00<00:00, 398.25it/s]\n"
          ]
        },
        {
          "name": "stdout",
          "output_type": "stream",
          "text": [
            "The number of groups: 1\n",
            "\n"
          ]
        },
        {
          "name": "stderr",
          "output_type": "stream",
          "text": [
            "100%|██████████| 576/576 [00:00<00:00, 1515.24it/s]\n"
          ]
        },
        {
          "name": "stdout",
          "output_type": "stream",
          "text": [
            "The number of groups: 1\n",
            "\n"
          ]
        },
        {
          "name": "stderr",
          "output_type": "stream",
          "text": [
            "100%|██████████| 576/576 [00:00<00:00, 2880.01it/s]\n"
          ]
        },
        {
          "name": "stdout",
          "output_type": "stream",
          "text": [
            "The number of groups: 1\n",
            "\n"
          ]
        },
        {
          "name": "stderr",
          "output_type": "stream",
          "text": [
            "100%|██████████| 576/576 [00:00<00:00, 2873.82it/s]\n"
          ]
        },
        {
          "name": "stdout",
          "output_type": "stream",
          "text": [
            "The number of groups: 1\n",
            "\n"
          ]
        },
        {
          "name": "stderr",
          "output_type": "stream",
          "text": [
            "100%|██████████| 576/576 [00:00<00:00, 2576.53it/s]\n"
          ]
        },
        {
          "name": "stdout",
          "output_type": "stream",
          "text": [
            "The number of groups: 1\n",
            "\n"
          ]
        },
        {
          "name": "stderr",
          "output_type": "stream",
          "text": [
            "100%|██████████| 576/576 [00:00<00:00, 1528.56it/s]\n"
          ]
        },
        {
          "name": "stdout",
          "output_type": "stream",
          "text": [
            "The number of groups: 1\n",
            "\n"
          ]
        },
        {
          "name": "stderr",
          "output_type": "stream",
          "text": [
            "100%|██████████| 1152/1152 [00:00<00:00, 3220.64it/s]\n"
          ]
        },
        {
          "name": "stdout",
          "output_type": "stream",
          "text": [
            "The number of groups: 1\n",
            "\n"
          ]
        },
        {
          "name": "stderr",
          "output_type": "stream",
          "text": [
            "100%|██████████| 64/64 [00:00<00:00, 346.78it/s]\n"
          ]
        },
        {
          "name": "stdout",
          "output_type": "stream",
          "text": [
            "The number of groups: 1\n",
            "\n"
          ]
        },
        {
          "name": "stderr",
          "output_type": "stream",
          "text": [
            "100%|██████████| 1152/1152 [00:00<00:00, 3497.85it/s]\n"
          ]
        },
        {
          "name": "stdout",
          "output_type": "stream",
          "text": [
            "The number of groups: 1\n",
            "\n"
          ]
        },
        {
          "name": "stderr",
          "output_type": "stream",
          "text": [
            "100%|██████████| 1152/1152 [00:00<00:00, 3118.76it/s]\n"
          ]
        },
        {
          "name": "stdout",
          "output_type": "stream",
          "text": [
            "The number of groups: 1\n",
            "\n"
          ]
        },
        {
          "name": "stderr",
          "output_type": "stream",
          "text": [
            "100%|██████████| 1152/1152 [00:00<00:00, 2353.56it/s]\n"
          ]
        },
        {
          "name": "stdout",
          "output_type": "stream",
          "text": [
            "The number of groups: 1\n",
            "\n"
          ]
        },
        {
          "name": "stderr",
          "output_type": "stream",
          "text": [
            "100%|██████████| 2304/2304 [00:00<00:00, 3446.54it/s]\n"
          ]
        },
        {
          "name": "stdout",
          "output_type": "stream",
          "text": [
            "The number of groups: 1\n",
            "\n"
          ]
        },
        {
          "name": "stderr",
          "output_type": "stream",
          "text": [
            "100%|██████████| 128/128 [00:00<00:00, 907.32it/s]\n"
          ]
        },
        {
          "name": "stdout",
          "output_type": "stream",
          "text": [
            "The number of groups: 1\n",
            "\n"
          ]
        },
        {
          "name": "stderr",
          "output_type": "stream",
          "text": [
            "100%|██████████| 2304/2304 [00:00<00:00, 3805.05it/s]\n"
          ]
        },
        {
          "name": "stdout",
          "output_type": "stream",
          "text": [
            "The number of groups: 1\n",
            "\n"
          ]
        },
        {
          "name": "stderr",
          "output_type": "stream",
          "text": [
            "100%|██████████| 2304/2304 [00:00<00:00, 3649.74it/s]\n"
          ]
        },
        {
          "name": "stdout",
          "output_type": "stream",
          "text": [
            "The number of groups: 1\n",
            "\n"
          ]
        },
        {
          "name": "stderr",
          "output_type": "stream",
          "text": [
            "100%|██████████| 2304/2304 [00:00<00:00, 3398.35it/s]\n"
          ]
        },
        {
          "name": "stdout",
          "output_type": "stream",
          "text": [
            "The number of groups: 1\n",
            "\n"
          ]
        },
        {
          "name": "stderr",
          "output_type": "stream",
          "text": [
            "100%|██████████| 4608/4608 [00:01<00:00, 3380.69it/s]\n"
          ]
        },
        {
          "name": "stdout",
          "output_type": "stream",
          "text": [
            "The number of groups: 1\n",
            "\n"
          ]
        },
        {
          "name": "stderr",
          "output_type": "stream",
          "text": [
            "100%|██████████| 256/256 [00:00<00:00, 1647.82it/s]\n"
          ]
        },
        {
          "name": "stdout",
          "output_type": "stream",
          "text": [
            "The number of groups: 1\n",
            "\n"
          ]
        },
        {
          "name": "stderr",
          "output_type": "stream",
          "text": [
            "100%|██████████| 4608/4608 [00:01<00:00, 3705.84it/s]\n"
          ]
        },
        {
          "name": "stdout",
          "output_type": "stream",
          "text": [
            "The number of groups: 1\n",
            "\n"
          ]
        },
        {
          "name": "stderr",
          "output_type": "stream",
          "text": [
            "100%|██████████| 4608/4608 [00:01<00:00, 3638.01it/s]\n"
          ]
        },
        {
          "name": "stdout",
          "output_type": "stream",
          "text": [
            "The number of groups: 1\n",
            "\n"
          ]
        },
        {
          "name": "stderr",
          "output_type": "stream",
          "text": [
            "100%|██████████| 512/512 [00:00<00:00, 2915.65it/s]\n"
          ]
        },
        {
          "name": "stdout",
          "output_type": "stream",
          "text": [
            "Bits 14, Effective Quantized Bit Size: 13.354393007601065\n",
            "Bits 14, Quantized Test Accuracy: 0.8773\n",
            "The number of groups: 1\n",
            "\n"
          ]
        },
        {
          "name": "stderr",
          "output_type": "stream",
          "text": [
            "100%|██████████| 27/27 [00:00<00:00, 283.15it/s]\n"
          ]
        },
        {
          "name": "stdout",
          "output_type": "stream",
          "text": [
            "The number of groups: 1\n",
            "\n"
          ]
        },
        {
          "name": "stderr",
          "output_type": "stream",
          "text": [
            " 27%|██▋       | 157/576 [00:00<00:01, 415.81it/s]\n"
          ]
        },
        {
          "ename": "KeyboardInterrupt",
          "evalue": "",
          "output_type": "error",
          "traceback": [
            "\u001b[1;31m---------------------------------------------------------------------------\u001b[0m",
            "\u001b[1;31mKeyboardInterrupt\u001b[0m                         Traceback (most recent call last)",
            "Cell \u001b[1;32mIn[28], line 31\u001b[0m\n\u001b[0;32m     28\u001b[0m \u001b[38;5;66;03m# Measure training time\u001b[39;00m\n\u001b[0;32m     29\u001b[0m start_time \u001b[38;5;241m=\u001b[39m time\u001b[38;5;241m.\u001b[39mtime()\n\u001b[1;32m---> 31\u001b[0m quantized_model \u001b[38;5;241m=\u001b[39m \u001b[43mquantizer\u001b[49m\u001b[38;5;241;43m.\u001b[39;49m\u001b[43mquantize_network\u001b[49m\u001b[43m(\u001b[49m\u001b[38;5;28;43;01mFalse\u001b[39;49;00m\u001b[43m)\u001b[49m\n\u001b[0;32m     33\u001b[0m training_time \u001b[38;5;241m=\u001b[39m time\u001b[38;5;241m.\u001b[39mtime() \u001b[38;5;241m-\u001b[39m start_time\n\u001b[0;32m     35\u001b[0m \u001b[38;5;66;03m# Check quantized model bit size\u001b[39;00m\n",
            "File \u001b[1;32mc:\\Users\\17598\\Downloads\\DSC180B_Q2_Project\\quantize_neural_net.py:181\u001b[0m, in \u001b[0;36mQuantizeNeuralNet.quantize_network\u001b[1;34m(self, verbose)\u001b[0m\n\u001b[0;32m    177\u001b[0m     W \u001b[38;5;241m=\u001b[39m W\u001b[38;5;241m.\u001b[39mview(W\u001b[38;5;241m.\u001b[39msize(\u001b[38;5;241m0\u001b[39m), \u001b[38;5;241m-\u001b[39m\u001b[38;5;241m1\u001b[39m)\n\u001b[0;32m    178\u001b[0m     \u001b[38;5;66;03m# shape (out_channels, in_channesl/groups*k_size[0]*k_size[1])\u001b[39;00m\n\u001b[0;32m    179\u001b[0m     \u001b[38;5;66;03m# each row of W is a neuron (vectorized sliding block)\u001b[39;00m\n\u001b[1;32m--> 181\u001b[0m     Q, quantize_error, relative_quantize_error, quantize_adder, relative_adder \u001b[38;5;241m=\u001b[39m \u001b[43mStepAlgorithm\u001b[49m\u001b[38;5;241;43m.\u001b[39;49m\u001b[43m_quantize_layer\u001b[49m\u001b[43m(\u001b[49m\n\u001b[0;32m    182\u001b[0m \u001b[43m                                \u001b[49m\u001b[43mW\u001b[49m\u001b[43m,\u001b[49m\u001b[43m \u001b[49m\n\u001b[0;32m    183\u001b[0m \u001b[43m                                \u001b[49m\u001b[43manalog_layer_input\u001b[49m\u001b[43m,\u001b[49m\u001b[43m \u001b[49m\n\u001b[0;32m    184\u001b[0m \u001b[43m                                \u001b[49m\u001b[43mquantized_layer_input\u001b[49m\u001b[43m,\u001b[49m\u001b[43m \u001b[49m\n\u001b[0;32m    185\u001b[0m \u001b[43m                                \u001b[49m\u001b[43manalog_layer_input\u001b[49m\u001b[38;5;241;43m.\u001b[39;49m\u001b[43mshape\u001b[49m\u001b[43m[\u001b[49m\u001b[38;5;241;43m0\u001b[39;49m\u001b[43m]\u001b[49m\u001b[43m,\u001b[49m\n\u001b[0;32m    186\u001b[0m \u001b[43m                                \u001b[49m\u001b[38;5;28;43mself\u001b[39;49m\u001b[38;5;241;43m.\u001b[39;49m\u001b[43mcnn_alphabet_step_size\u001b[49m\u001b[43m,\u001b[49m\n\u001b[0;32m    187\u001b[0m \u001b[43m                                \u001b[49m\u001b[38;5;28;43mself\u001b[39;49m\u001b[38;5;241;43m.\u001b[39;49m\u001b[43mcnn_boundary_idx\u001b[49m\u001b[43m,\u001b[49m\n\u001b[0;32m    188\u001b[0m \u001b[43m                                \u001b[49m\u001b[38;5;28;43mself\u001b[39;49m\u001b[38;5;241;43m.\u001b[39;49m\u001b[43mcnn_percentile\u001b[49m\u001b[43m,\u001b[49m\n\u001b[0;32m    189\u001b[0m \u001b[43m                                \u001b[49m\u001b[38;5;28;43mself\u001b[39;49m\u001b[38;5;241;43m.\u001b[39;49m\u001b[43mreg\u001b[49m\u001b[43m,\u001b[49m\u001b[43m \u001b[49m\u001b[38;5;28;43mself\u001b[39;49m\u001b[38;5;241;43m.\u001b[39;49m\u001b[43mlamb\u001b[49m\u001b[43m,\u001b[49m\n\u001b[0;32m    190\u001b[0m \u001b[43m                                \u001b[49m\u001b[43mgroups\u001b[49m\u001b[43m,\u001b[49m\u001b[43m \u001b[49m\u001b[38;5;28;43mself\u001b[39;49m\u001b[38;5;241;43m.\u001b[39;49m\u001b[43mstochastic_quantization\u001b[49m\u001b[43m,\u001b[49m\n\u001b[0;32m    191\u001b[0m \u001b[43m                                \u001b[49m\u001b[38;5;28;43mself\u001b[39;49m\u001b[38;5;241;43m.\u001b[39;49m\u001b[43mdevice\u001b[49m\n\u001b[0;32m    192\u001b[0m \u001b[43m                                \u001b[49m\u001b[43m)\u001b[49m\n\u001b[0;32m    194\u001b[0m     \u001b[38;5;28mself\u001b[39m\u001b[38;5;241m.\u001b[39mquantized_network_layers[layer_idx]\u001b[38;5;241m.\u001b[39mweight\u001b[38;5;241m.\u001b[39mdata \u001b[38;5;241m=\u001b[39m Q\u001b[38;5;241m.\u001b[39mreshape(W_shape)\u001b[38;5;241m.\u001b[39mfloat()\n\u001b[0;32m    195\u001b[0m \u001b[38;5;28;01mif\u001b[39;00m verbose:\n",
            "File \u001b[1;32mc:\\Users\\17598\\Downloads\\DSC180B_Q2_Project\\step_algorithm.py:213\u001b[0m, in \u001b[0;36mStepAlgorithm._quantize_layer\u001b[1;34m(W, analog_layer_input, quantized_layer_input, m, step_size, boundary_idx, percentile, reg, lamb, groups, stochastic_quantization, device)\u001b[0m\n\u001b[0;32m    210\u001b[0m \u001b[38;5;28mprint\u001b[39m(\u001b[38;5;124mf\u001b[39m\u001b[38;5;124m'\u001b[39m\u001b[38;5;124mThe number of groups: \u001b[39m\u001b[38;5;132;01m{\u001b[39;00mgroups\u001b[38;5;132;01m}\u001b[39;00m\u001b[38;5;130;01m\\n\u001b[39;00m\u001b[38;5;124m'\u001b[39m)\n\u001b[0;32m    212\u001b[0m \u001b[38;5;28;01mif\u001b[39;00m groups \u001b[38;5;241m==\u001b[39m \u001b[38;5;241m1\u001b[39m: \u001b[38;5;66;03m# no group convolutio\u001b[39;00m\n\u001b[1;32m--> 213\u001b[0m     \u001b[43mStepAlgorithm\u001b[49m\u001b[38;5;241;43m.\u001b[39;49m\u001b[43m_quantization\u001b[49m\u001b[43m(\u001b[49m\u001b[43mW\u001b[49m\u001b[43m,\u001b[49m\u001b[43m \u001b[49m\u001b[43mQ\u001b[49m\u001b[43m,\u001b[49m\u001b[43m \u001b[49m\u001b[43mU\u001b[49m\u001b[43m,\u001b[49m\u001b[43m \u001b[49m\u001b[43manalog_layer_input\u001b[49m\u001b[43m,\u001b[49m\u001b[43m \u001b[49m\u001b[43mquantized_layer_input\u001b[49m\u001b[43m,\u001b[49m\u001b[43m \u001b[49m\u001b[43mquantizer\u001b[49m\u001b[43m,\u001b[49m\u001b[43m \u001b[49m\n\u001b[0;32m    214\u001b[0m \u001b[43m              \u001b[49m\u001b[43mstep_size\u001b[49m\u001b[43m,\u001b[49m\u001b[43m \u001b[49m\u001b[43mboundary_idx\u001b[49m\u001b[43m,\u001b[49m\u001b[43m \u001b[49m\u001b[43mlamb\u001b[49m\u001b[43m)\u001b[49m\n\u001b[0;32m    216\u001b[0m     quantize_adder \u001b[38;5;241m=\u001b[39m U\u001b[38;5;241m.\u001b[39mT\n\u001b[0;32m    217\u001b[0m     relative_adder \u001b[38;5;241m=\u001b[39m torch\u001b[38;5;241m.\u001b[39mlinalg\u001b[38;5;241m.\u001b[39mnorm(quantize_adder, axis\u001b[38;5;241m=\u001b[39m\u001b[38;5;241m0\u001b[39m) \u001b[38;5;241m/\u001b[39m (torch\u001b[38;5;241m.\u001b[39mlinalg\u001b[38;5;241m.\u001b[39mnorm(analog_layer_input \u001b[38;5;241m@\u001b[39m W\u001b[38;5;241m.\u001b[39mT, axis\u001b[38;5;241m=\u001b[39m\u001b[38;5;241m0\u001b[39m) \u001b[38;5;241m+\u001b[39m \u001b[38;5;241m1e-5\u001b[39m)\n",
            "File \u001b[1;32mc:\\Users\\17598\\Downloads\\DSC180B_Q2_Project\\step_algorithm.py:144\u001b[0m, in \u001b[0;36mStepAlgorithm._quantization\u001b[1;34m(W, Q, U, analog_layer_input, quantized_layer_input, quantizer, step_size, boundary_idx, lamb)\u001b[0m\n\u001b[0;32m    142\u001b[0m norm \u001b[38;5;241m=\u001b[39m torch\u001b[38;5;241m.\u001b[39mlinalg\u001b[38;5;241m.\u001b[39mnorm(quantized_layer_input[:, t], \u001b[38;5;241m2\u001b[39m) \u001b[38;5;241m*\u001b[39m\u001b[38;5;241m*\u001b[39m \u001b[38;5;241m2\u001b[39m\n\u001b[0;32m    143\u001b[0m \u001b[38;5;28;01mif\u001b[39;00m norm \u001b[38;5;241m>\u001b[39m \u001b[38;5;241m0\u001b[39m:\n\u001b[1;32m--> 144\u001b[0m     q_arg \u001b[38;5;241m=\u001b[39m \u001b[43mU\u001b[49m\u001b[38;5;241;43m.\u001b[39;49m\u001b[43mmatmul\u001b[49m\u001b[43m(\u001b[49m\u001b[43mquantized_layer_input\u001b[49m\u001b[43m[\u001b[49m\u001b[43m:\u001b[49m\u001b[43m,\u001b[49m\u001b[43m \u001b[49m\u001b[43mt\u001b[49m\u001b[43m]\u001b[49m\u001b[43m)\u001b[49m \u001b[38;5;241m/\u001b[39m norm\n\u001b[0;32m    145\u001b[0m \u001b[38;5;28;01melse\u001b[39;00m: \n\u001b[0;32m    146\u001b[0m     q_arg \u001b[38;5;241m=\u001b[39m torch\u001b[38;5;241m.\u001b[39mzeros_like(U[:, \u001b[38;5;241m0\u001b[39m])\n",
            "\u001b[1;31mKeyboardInterrupt\u001b[0m: "
          ]
        }
      ],
      "source": [
        "# Create two range objects\n",
        "range1 = range(32, 16,-4)\n",
        "range2= range(16, 8, -2)\n",
        "range3= range(8, 0, -1)\n",
        "bits_list = list(range1) + list(range2) + list(range3)\n",
        "\n",
        "for bits in bits_list:\n",
        "    # Quantization process\n",
        "    quantizer = QuantizeNeuralNet(\n",
        "        student_net.model,\n",
        "        'resnet18',\n",
        "        batch_size=128,\n",
        "        data_loader=train_loader,\n",
        "        mlp_bits=bits,\n",
        "        cnn_bits=bits,\n",
        "        ignore_layers=[],\n",
        "        mlp_alphabet_scalar=3.5,\n",
        "        cnn_alphabet_scalar=3.5,\n",
        "        mlp_percentile=1,\n",
        "        cnn_percentile=1,\n",
        "        reg=None,\n",
        "        lamb=0.1,\n",
        "        retain_rate=0.25,\n",
        "        stochastic_quantization=False,\n",
        "        device=fast_device\n",
        "    )\n",
        "    \n",
        "    # Measure training time\n",
        "    start_time = time.time()\n",
        "\n",
        "    quantized_model = quantizer.quantize_network(False)\n",
        "\n",
        "    training_time = time.time() - start_time\n",
        "\n",
        "    # Check quantized model bit size\n",
        "    effective_bit_size = calculate_bit_size(quantized_model)\n",
        "    print(f\"Bits {bits}, Effective Quantized Bit Size: {effective_bit_size}\")\n",
        "\n",
        "    _, quantized_test_accuracy = utils.getLossAccuracyOnDataset(quantized_model, test_loader, fast_device)\n",
        "    print(f\"Bits {bits}, Quantized Test Accuracy: {quantized_test_accuracy}\")\n",
        "\n",
        "    sparsity = utils.eval_sparsity(quantized_model)\n",
        "\n",
        "    parameter = count_parameters(quantized_model) \n",
        "\n",
        "    # Write results to CSV\n",
        "    with open(csv_file, mode='a', newline='') as file:\n",
        "        writer = csv.writer(file)\n",
        "        writer.writerow([\n",
        "            bits,effective_bit_size, 0.8891, quantized_test_accuracy,sparsity, training_time  # Include effective bit size\n",
        "        ])\n",
        "\n",
        "print(f\"Results saved to {csv_file}\")"
      ]
    },
    {
      "cell_type": "markdown",
      "metadata": {},
      "source": [
        "### Vanilla"
      ]
    },
    {
      "cell_type": "code",
      "execution_count": 77,
      "metadata": {},
      "outputs": [
        {
          "name": "stdout",
          "output_type": "stream",
          "text": [
            "Training with hparamsT=4, alpha=1.0, dropout_hidden=0.0, dropout_input=0.0, lr=0.001, lr_decay=0.95, momentum=0.9, weight_decay=0.0 and pruning factor 0\n"
          ]
        },
        {
          "name": "stderr",
          "output_type": "stream",
          "text": [
            "c:\\Users\\17598\\AppData\\Local\\Programs\\Python\\Python310\\lib\\site-packages\\torchvision\\models\\_utils.py:208: UserWarning: The parameter 'pretrained' is deprecated since 0.13 and may be removed in the future, please use 'weights' instead.\n",
            "  warnings.warn(\n",
            "c:\\Users\\17598\\AppData\\Local\\Programs\\Python\\Python310\\lib\\site-packages\\torchvision\\models\\_utils.py:223: UserWarning: Arguments other than a weight enum or `None` for 'weights' are deprecated since 0.13 and may be removed in the future. The current behavior is equivalent to passing `weights=ResNet18_Weights.IMAGENET1K_V1`. You can also use `weights=ResNet18_Weights.DEFAULT` to get the most up-to-date weights.\n",
            "  warnings.warn(msg)\n"
          ]
        },
        {
          "name": "stdout",
          "output_type": "stream",
          "text": [
            "0 11173962 23520842\n",
            "epoch: 0 validation accuracy: 0.110\n",
            "[1,   100/  372] train loss: 5.777 train accuracy: 0.680\n",
            "[1,   200/  372] train loss: 3.589 train accuracy: 0.797\n",
            "[1,   300/  372] train loss: 2.916 train accuracy: 0.836\n",
            "epoch: 1 validation accuracy: 0.858\n",
            "[2,   100/  372] train loss: 1.893 train accuracy: 0.906\n",
            "[2,   200/  372] train loss: 1.805 train accuracy: 0.953\n",
            "[2,   300/  372] train loss: 1.338 train accuracy: 0.930\n",
            "epoch: 2 validation accuracy: 0.888\n",
            "[3,   100/  372] train loss: 1.538 train accuracy: 0.922\n",
            "[3,   200/  372] train loss: 1.118 train accuracy: 0.930\n",
            "[3,   300/  372] train loss: 1.191 train accuracy: 0.953\n",
            "epoch: 3 validation accuracy: 0.901\n",
            "[4,   100/  372] train loss: 1.134 train accuracy: 0.938\n",
            "[4,   200/  372] train loss: 1.383 train accuracy: 0.938\n",
            "[4,   300/  372] train loss: 0.837 train accuracy: 0.953\n",
            "epoch: 4 validation accuracy: 0.907\n",
            "[5,   100/  372] train loss: 0.899 train accuracy: 0.953\n",
            "[5,   200/  372] train loss: 0.848 train accuracy: 0.977\n",
            "[5,   300/  372] train loss: 0.939 train accuracy: 0.977\n",
            "epoch: 5 validation accuracy: 0.913\n",
            "[6,   100/  372] train loss: 0.723 train accuracy: 0.961\n",
            "[6,   200/  372] train loss: 0.649 train accuracy: 0.969\n",
            "[6,   300/  372] train loss: 0.942 train accuracy: 0.906\n",
            "epoch: 6 validation accuracy: 0.913\n",
            "[7,   100/  372] train loss: 0.838 train accuracy: 0.938\n",
            "[7,   200/  372] train loss: 0.711 train accuracy: 0.977\n",
            "[7,   300/  372] train loss: 0.526 train accuracy: 0.977\n",
            "epoch: 7 validation accuracy: 0.910\n",
            "[8,   100/  372] train loss: 0.614 train accuracy: 0.977\n",
            "[8,   200/  372] train loss: 0.495 train accuracy: 0.961\n",
            "[8,   300/  372] train loss: 0.501 train accuracy: 0.984\n",
            "epoch: 8 validation accuracy: 0.914\n",
            "[9,   100/  372] train loss: 0.716 train accuracy: 0.969\n",
            "[9,   200/  372] train loss: 0.581 train accuracy: 0.992\n",
            "[9,   300/  372] train loss: 0.667 train accuracy: 0.969\n",
            "epoch: 9 validation accuracy: 0.915\n",
            "[10,   100/  372] train loss: 0.491 train accuracy: 0.977\n",
            "[10,   200/  372] train loss: 0.463 train accuracy: 0.992\n",
            "[10,   300/  372] train loss: 0.399 train accuracy: 1.000\n",
            "epoch: 10 validation accuracy: 0.918\n",
            "[11,   100/  372] train loss: 0.376 train accuracy: 0.977\n",
            "[11,   200/  372] train loss: 0.467 train accuracy: 0.977\n",
            "[11,   300/  372] train loss: 0.424 train accuracy: 0.977\n",
            "epoch: 11 validation accuracy: 0.916\n",
            "[12,   100/  372] train loss: 0.385 train accuracy: 0.992\n",
            "[12,   200/  372] train loss: 0.358 train accuracy: 1.000\n",
            "[12,   300/  372] train loss: 0.636 train accuracy: 0.977\n",
            "epoch: 12 validation accuracy: 0.916\n",
            "[13,   100/  372] train loss: 0.394 train accuracy: 0.969\n",
            "[13,   200/  372] train loss: 0.454 train accuracy: 0.969\n",
            "[13,   300/  372] train loss: 0.384 train accuracy: 0.984\n",
            "epoch: 13 validation accuracy: 0.916\n",
            "[14,   100/  372] train loss: 0.389 train accuracy: 0.977\n",
            "[14,   200/  372] train loss: 0.268 train accuracy: 0.984\n",
            "[14,   300/  372] train loss: 0.333 train accuracy: 0.992\n",
            "epoch: 14 validation accuracy: 0.915\n",
            "[15,   100/  372] train loss: 0.305 train accuracy: 0.984\n",
            "[15,   200/  372] train loss: 0.368 train accuracy: 0.992\n",
            "[15,   300/  372] train loss: 0.410 train accuracy: 0.984\n",
            "epoch: 15 validation accuracy: 0.918\n",
            "[16,   100/  372] train loss: 0.358 train accuracy: 0.977\n",
            "[16,   200/  372] train loss: 0.308 train accuracy: 0.977\n",
            "[16,   300/  372] train loss: 0.328 train accuracy: 0.992\n",
            "epoch: 16 validation accuracy: 0.918\n",
            "[17,   100/  372] train loss: 0.326 train accuracy: 0.984\n",
            "[17,   200/  372] train loss: 0.304 train accuracy: 0.977\n",
            "[17,   300/  372] train loss: 0.347 train accuracy: 0.992\n",
            "epoch: 17 validation accuracy: 0.919\n",
            "[18,   100/  372] train loss: 0.355 train accuracy: 0.992\n",
            "[18,   200/  372] train loss: 0.341 train accuracy: 0.984\n",
            "[18,   300/  372] train loss: 0.448 train accuracy: 0.969\n",
            "epoch: 18 validation accuracy: 0.919\n",
            "[19,   100/  372] train loss: 0.359 train accuracy: 0.969\n",
            "[19,   200/  372] train loss: 0.300 train accuracy: 0.984\n",
            "[19,   300/  372] train loss: 0.390 train accuracy: 0.977\n",
            "epoch: 19 validation accuracy: 0.922\n",
            "[20,   100/  372] train loss: 0.409 train accuracy: 1.000\n",
            "[20,   200/  372] train loss: 0.376 train accuracy: 1.000\n",
            "[20,   300/  372] train loss: 0.324 train accuracy: 1.000\n",
            "epoch: 20 validation accuracy: 0.919\n",
            "Checkpoint saved Epoch 20: checkpoints_student/checkpoints_student_VAN/student_epoch_19.pth\n",
            "Test accuracy:  0.9152\n",
            "Results saved to checkpoints_student/checkpoints_student_VAN/results_student.csv\n"
          ]
        }
      ],
      "source": [
        "num_epochs = 20\n",
        "print_every = 100\n",
        "\n",
        "# Hypothetical setup, please adjust according to actual import paths and methods\n",
        "temperatures = [4]\n",
        "alphas = [1.0]\n",
        "learning_rates = [1e-3]\n",
        "learning_rate_decays = [0.95]\n",
        "weight_decays = [0.0]\n",
        "momentums = [0.9]\n",
        "dropout_probabilities = [(0.0, 0.0)]\n",
        "hparams_list = []\n",
        "\n",
        "\n",
        "for hparam_tuple in itertools.product(alphas, temperatures, dropout_probabilities, weight_decays, learning_rate_decays, momentums, learning_rates):\n",
        "    hparam = {}\n",
        "    hparam['alpha'] = hparam_tuple[0]\n",
        "    hparam['T'] = hparam_tuple[1]\n",
        "    hparam['dropout_input'] = hparam_tuple[2][0]\n",
        "    hparam['dropout_hidden'] = hparam_tuple[2][1]\n",
        "    hparam['weight_decay'] = hparam_tuple[3]\n",
        "    hparam['lr_decay'] = hparam_tuple[4]\n",
        "    hparam['momentum'] = hparam_tuple[5]\n",
        "    hparam['lr'] = hparam_tuple[6]\n",
        "    hparams_list.append(hparam)\n",
        "\n",
        "results_distill_van = {}\n",
        "pruning_factor = 0\n",
        "\n",
        "# CSV file setup\n",
        "csv_file = checkpoints_path_student_van + \"results_student.csv\"\n",
        "if not os.path.exists(csv_file):\n",
        "    with open(csv_file, mode='w', newline='') as file:\n",
        "        writer = csv.writer(file)\n",
        "        writer.writerow([\"Alpha\", \"Temperature\", \"Dropout Input\", \"Dropout Hidden\", \"Weight Decay\", \"LR Decay\", \"Momentum\", \"Learning Rate\", \"Pruning Factor\", \"Zero Parameters\", \"Test Accuracy\", \"Training Time (s)\"])\n",
        "\n",
        "# Training and logging\n",
        "for hparam in hparams_list:\n",
        "    print('Training with hparams' + utils.hparamToString(hparam) + f' and pruning factor {pruning_factor}')\n",
        "\n",
        "    # Measure training time\n",
        "    start_time = time.time()\n",
        "\n",
        "    reproducibilitySeed()\n",
        "    student_net = networks.StudentNetwork(pruning_factor, teacher_net, q=False, fuse=False, qat=False, dif_arch=True)\n",
        "    student_net.to(fast_device)\n",
        "    hparam_tuple = utils.hparamDictToTuple(hparam)\n",
        "\n",
        "    # Count parameters\n",
        "    student_params_num = count_parameters(student_net)\n",
        "    \n",
        "    print(pruning_factor, student_params_num, count_parameters(teacher_net))\n",
        "\n",
        "    results_distill_van[(hparam_tuple, pruning_factor)] = utils.trainStudentOnHparam(\n",
        "            teacher_net, student_net, hparam, num_epochs,\n",
        "            train_loader, val_loader,\n",
        "            print_every=print_every,\n",
        "            fast_device=fast_device, quant=False,\n",
        "            checkpoint_save_path = checkpoints_path_student_van\n",
        "        )\n",
        "\n",
        "    training_time = time.time() - start_time\n",
        "\n",
        "    # Final model save\n",
        "    final_save_path = checkpoints_path_student_van + utils.hparamToString(hparam) + '.tar'\n",
        "    torch.save({\n",
        "        'results': results_distill_van[(hparam_tuple, pruning_factor)],\n",
        "        'model_state_dict': student_net.state_dict(),\n",
        "        'epoch': num_epochs\n",
        "    }, final_save_path)\n",
        "\n",
        "    # Calculate test accuracy\n",
        "    _, test_accuracy = utils.getLossAccuracyOnDataset(student_net, test_loader, fast_device)\n",
        "    print('Test accuracy: ', test_accuracy)\n",
        "\n",
        "    # Write results to CSV\n",
        "    with open(csv_file, mode='a', newline='') as file:\n",
        "        writer = csv.writer(file)\n",
        "        writer.writerow([\n",
        "            hparam['alpha'], hparam['T'], hparam['dropout_input'], hparam['dropout_hidden'], hparam['weight_decay'],\n",
        "            hparam['lr_decay'], hparam['momentum'], hparam['lr'], pruning_factor, student_params_num,\n",
        "            test_accuracy, training_time\n",
        "        ])\n",
        "\n",
        "print(f\"Results saved to {csv_file}\")"
      ]
    },
    {
      "cell_type": "code",
      "execution_count": 14,
      "metadata": {},
      "outputs": [
        {
          "name": "stderr",
          "output_type": "stream",
          "text": [
            "C:\\Users\\17598\\AppData\\Local\\Temp\\ipykernel_13896\\4284167774.py:1: FutureWarning: You are using `torch.load` with `weights_only=False` (the current default value), which uses the default pickle module implicitly. It is possible to construct malicious pickle data which will execute arbitrary code during unpickling (See https://github.com/pytorch/pytorch/blob/main/SECURITY.md#untrusted-models for more details). In a future release, the default value for `weights_only` will be flipped to `True`. This limits the functions that could be executed during unpickling. Arbitrary objects will no longer be allowed to be loaded via this mode unless they are explicitly allowlisted by the user via `torch.serialization.add_safe_globals`. We recommend you start setting `weights_only=True` for any use case where you don't have full control of the loaded file. Please open an issue on GitHub for any issues related to this experimental feature.\n",
            "  checkpoint = torch.load('checkpoints_student/checkpoints_student_VAN/student_epoch_19.pth')\n",
            "c:\\Users\\17598\\AppData\\Local\\Programs\\Python\\Python310\\lib\\site-packages\\torchvision\\models\\_utils.py:208: UserWarning: The parameter 'pretrained' is deprecated since 0.13 and may be removed in the future, please use 'weights' instead.\n",
            "  warnings.warn(\n",
            "c:\\Users\\17598\\AppData\\Local\\Programs\\Python\\Python310\\lib\\site-packages\\torchvision\\models\\_utils.py:223: UserWarning: Arguments other than a weight enum or `None` for 'weights' are deprecated since 0.13 and may be removed in the future. The current behavior is equivalent to passing `weights=None`.\n",
            "  warnings.warn(msg)\n"
          ]
        },
        {
          "data": {
            "text/plain": [
              "(0.0, 0.9152)"
            ]
          },
          "execution_count": 14,
          "metadata": {},
          "output_type": "execute_result"
        }
      ],
      "source": [
        "checkpoint = torch.load('checkpoints_student/checkpoints_student_VAN/student_epoch_19.pth')\n",
        "student_net = networks.StudentNetwork(0.0, teacher_net = teacher_net)\n",
        "student_net = student_net.to(fast_device)\n",
        "student_net.load_state_dict(checkpoint)\n",
        "\n",
        "utils.getLossAccuracyOnDataset(student_net, test_loader, fast_device)"
      ]
    },
    {
      "cell_type": "code",
      "execution_count": 15,
      "metadata": {},
      "outputs": [],
      "source": [
        "# Quantization CSV file setup\n",
        "csv_file = \"checkpoints_student/checkpoints_student_VAN/results_student_quantization_van.csv\"\n",
        "with open(csv_file, mode='w', newline='') as file:\n",
        "    writer = csv.writer(file)\n",
        "    writer.writerow([\"Bits\", \"Original Test Accuracy\", \"Quantized Test Accuracy\", \"Training Time (s)\"])"
      ]
    },
    {
      "cell_type": "code",
      "execution_count": 16,
      "metadata": {},
      "outputs": [
        {
          "name": "stdout",
          "output_type": "stream",
          "text": [
            "Layer indices to quantize [0, 1, 2, 3, 4, 5, 6, 7, 8, 9, 10, 11, 12, 13, 14, 15, 16, 17, 18, 19, 20]\n",
            "Total number of layers to quantize 21\n",
            "\n",
            "Quantizing layer with index: 0\n",
            "Quantization progress: 0 out of 20\n",
            "\n",
            "shape of W: torch.Size([64, 3, 3, 3])\n",
            "shape of analog_layer_input: torch.Size([3968, 27])\n",
            "shape of quantized_layer_input: torch.Size([3968, 27])\n",
            "The number of groups: 1\n",
            "\n"
          ]
        },
        {
          "name": "stderr",
          "output_type": "stream",
          "text": [
            "100%|██████████| 27/27 [00:00<00:00, 468.30it/s]"
          ]
        },
        {
          "name": "stdout",
          "output_type": "stream",
          "text": [
            "The quantization error of layer 0 is 2.36030864471104e-05.\n",
            "The relative quantization error of layer 0 is 6.605812785664966e-08.\n",
            "\n"
          ]
        },
        {
          "name": "stderr",
          "output_type": "stream",
          "text": [
            "\n"
          ]
        },
        {
          "name": "stdout",
          "output_type": "stream",
          "text": [
            "\n",
            "Quantizing layer with index: 1\n",
            "Quantization progress: 1 out of 20\n",
            "\n",
            "shape of W: torch.Size([64, 64, 3, 3])\n",
            "shape of analog_layer_input: torch.Size([3968, 576])\n",
            "shape of quantized_layer_input: torch.Size([3968, 576])\n",
            "The number of groups: 1\n",
            "\n"
          ]
        },
        {
          "name": "stderr",
          "output_type": "stream",
          "text": [
            "100%|██████████| 576/576 [00:00<00:00, 2863.93it/s]\n"
          ]
        },
        {
          "name": "stdout",
          "output_type": "stream",
          "text": [
            "The quantization error of layer 1 is 2.864307680283673e-05.\n",
            "The relative quantization error of layer 1 is 5.615928699853612e-08.\n",
            "\n",
            "\n",
            "Quantizing layer with index: 2\n",
            "Quantization progress: 2 out of 20\n",
            "\n",
            "shape of W: torch.Size([64, 64, 3, 3])\n",
            "shape of analog_layer_input: torch.Size([3968, 576])\n",
            "shape of quantized_layer_input: torch.Size([3968, 576])\n",
            "The number of groups: 1\n",
            "\n"
          ]
        },
        {
          "name": "stderr",
          "output_type": "stream",
          "text": [
            "100%|██████████| 576/576 [00:00<00:00, 2645.69it/s]\n"
          ]
        },
        {
          "name": "stdout",
          "output_type": "stream",
          "text": [
            "The quantization error of layer 2 is 0.0018663207301869988.\n",
            "The relative quantization error of layer 2 is 7.389583061012672e-06.\n",
            "\n",
            "\n",
            "Quantizing layer with index: 3\n",
            "Quantization progress: 3 out of 20\n",
            "\n",
            "shape of W: torch.Size([64, 64, 3, 3])\n",
            "shape of analog_layer_input: torch.Size([3968, 576])\n",
            "shape of quantized_layer_input: torch.Size([3968, 576])\n",
            "The number of groups: 1\n",
            "\n"
          ]
        },
        {
          "name": "stderr",
          "output_type": "stream",
          "text": [
            "100%|██████████| 576/576 [00:00<00:00, 2349.21it/s]\n"
          ]
        },
        {
          "name": "stdout",
          "output_type": "stream",
          "text": [
            "The quantization error of layer 3 is 0.008297314867377281.\n",
            "The relative quantization error of layer 3 is 1.575097667227965e-05.\n",
            "\n",
            "\n",
            "Quantizing layer with index: 4\n",
            "Quantization progress: 4 out of 20\n",
            "\n",
            "shape of W: torch.Size([64, 64, 3, 3])\n",
            "shape of analog_layer_input: torch.Size([3968, 576])\n",
            "shape of quantized_layer_input: torch.Size([3968, 576])\n",
            "The number of groups: 1\n",
            "\n"
          ]
        },
        {
          "name": "stderr",
          "output_type": "stream",
          "text": [
            "100%|██████████| 576/576 [00:00<00:00, 2146.54it/s]\n"
          ]
        },
        {
          "name": "stdout",
          "output_type": "stream",
          "text": [
            "The quantization error of layer 4 is 0.01427796296775341.\n",
            "The relative quantization error of layer 4 is 7.784031186020002e-05.\n",
            "\n",
            "\n",
            "Quantizing layer with index: 5\n",
            "Quantization progress: 5 out of 20\n",
            "\n",
            "shape of W: torch.Size([128, 64, 3, 3])\n",
            "shape of analog_layer_input: torch.Size([3968, 576])\n",
            "shape of quantized_layer_input: torch.Size([3968, 576])\n",
            "The number of groups: 1\n",
            "\n"
          ]
        },
        {
          "name": "stderr",
          "output_type": "stream",
          "text": [
            "100%|██████████| 576/576 [00:00<00:00, 1635.65it/s]\n"
          ]
        },
        {
          "name": "stdout",
          "output_type": "stream",
          "text": [
            "The quantization error of layer 5 is 0.07713501155376434.\n",
            "The relative quantization error of layer 5 is 0.00011128201003884897.\n",
            "\n",
            "\n",
            "Quantizing layer with index: 6\n",
            "Quantization progress: 6 out of 20\n",
            "\n",
            "shape of W: torch.Size([128, 128, 3, 3])\n",
            "shape of analog_layer_input: torch.Size([1280, 1152])\n",
            "shape of quantized_layer_input: torch.Size([1280, 1152])\n",
            "The number of groups: 1\n",
            "\n"
          ]
        },
        {
          "name": "stderr",
          "output_type": "stream",
          "text": [
            "100%|██████████| 1152/1152 [00:00<00:00, 2348.88it/s]\n"
          ]
        },
        {
          "name": "stdout",
          "output_type": "stream",
          "text": [
            "The quantization error of layer 6 is 0.017091138288378716.\n",
            "The relative quantization error of layer 6 is 0.00010836483852472156.\n",
            "\n",
            "\n",
            "Quantizing layer with index: 7\n",
            "Quantization progress: 7 out of 20\n",
            "\n",
            "shape of W: torch.Size([128, 64, 1, 1])\n",
            "shape of analog_layer_input: torch.Size([32896, 64])\n",
            "shape of quantized_layer_input: torch.Size([32896, 64])\n",
            "The number of groups: 1\n",
            "\n"
          ]
        },
        {
          "name": "stderr",
          "output_type": "stream",
          "text": [
            "100%|██████████| 64/64 [00:00<00:00, 289.77it/s]\n"
          ]
        },
        {
          "name": "stdout",
          "output_type": "stream",
          "text": [
            "The quantization error of layer 7 is 0.06724771112203598.\n",
            "The relative quantization error of layer 7 is 8.59245119499974e-05.\n",
            "\n",
            "\n",
            "Quantizing layer with index: 8\n",
            "Quantization progress: 8 out of 20\n",
            "\n",
            "shape of W: torch.Size([128, 128, 3, 3])\n",
            "shape of analog_layer_input: torch.Size([1280, 1152])\n",
            "shape of quantized_layer_input: torch.Size([1280, 1152])\n",
            "The number of groups: 1\n",
            "\n"
          ]
        },
        {
          "name": "stderr",
          "output_type": "stream",
          "text": [
            "100%|██████████| 1152/1152 [00:00<00:00, 3011.38it/s]\n"
          ]
        },
        {
          "name": "stdout",
          "output_type": "stream",
          "text": [
            "The quantization error of layer 8 is 0.03573352470993996.\n",
            "The relative quantization error of layer 8 is 0.00015179328329395503.\n",
            "\n",
            "\n",
            "Quantizing layer with index: 9\n",
            "Quantization progress: 9 out of 20\n",
            "\n",
            "shape of W: torch.Size([128, 128, 3, 3])\n",
            "shape of analog_layer_input: torch.Size([1280, 1152])\n",
            "shape of quantized_layer_input: torch.Size([1280, 1152])\n",
            "The number of groups: 1\n",
            "\n"
          ]
        },
        {
          "name": "stderr",
          "output_type": "stream",
          "text": [
            "100%|██████████| 1152/1152 [00:00<00:00, 2007.77it/s]\n"
          ]
        },
        {
          "name": "stdout",
          "output_type": "stream",
          "text": [
            "The quantization error of layer 9 is 0.3910129964351654.\n",
            "The relative quantization error of layer 9 is 0.004108721856027842.\n",
            "\n",
            "\n",
            "Quantizing layer with index: 10\n",
            "Quantization progress: 10 out of 20\n",
            "\n",
            "shape of W: torch.Size([256, 128, 3, 3])\n",
            "shape of analog_layer_input: torch.Size([1280, 1152])\n",
            "shape of quantized_layer_input: torch.Size([1280, 1152])\n",
            "The number of groups: 1\n",
            "\n"
          ]
        },
        {
          "name": "stderr",
          "output_type": "stream",
          "text": [
            "100%|██████████| 1152/1152 [00:00<00:00, 1693.39it/s]\n"
          ]
        },
        {
          "name": "stdout",
          "output_type": "stream",
          "text": [
            "The quantization error of layer 10 is 1.1218458414077759.\n",
            "The relative quantization error of layer 10 is 0.0029467481654137373.\n",
            "\n",
            "\n",
            "Quantizing layer with index: 11\n",
            "Quantization progress: 11 out of 20\n",
            "\n",
            "shape of W: torch.Size([256, 256, 3, 3])\n",
            "shape of analog_layer_input: torch.Size([384, 2304])\n",
            "shape of quantized_layer_input: torch.Size([384, 2304])\n",
            "The number of groups: 1\n",
            "\n"
          ]
        },
        {
          "name": "stderr",
          "output_type": "stream",
          "text": [
            "100%|██████████| 2304/2304 [00:00<00:00, 2801.51it/s]\n"
          ]
        },
        {
          "name": "stdout",
          "output_type": "stream",
          "text": [
            "The quantization error of layer 11 is 0.2774665355682373.\n",
            "The relative quantization error of layer 11 is 0.00226909713819623.\n",
            "\n",
            "\n",
            "Quantizing layer with index: 12\n",
            "Quantization progress: 12 out of 20\n",
            "\n",
            "shape of W: torch.Size([256, 128, 1, 1])\n",
            "shape of analog_layer_input: torch.Size([8320, 128])\n",
            "shape of quantized_layer_input: torch.Size([8320, 128])\n",
            "The number of groups: 1\n",
            "\n"
          ]
        },
        {
          "name": "stderr",
          "output_type": "stream",
          "text": [
            "100%|██████████| 128/128 [00:00<00:00, 639.06it/s]\n"
          ]
        },
        {
          "name": "stdout",
          "output_type": "stream",
          "text": [
            "The quantization error of layer 12 is 1.1822123527526855.\n",
            "The relative quantization error of layer 12 is 0.005076434463262558.\n",
            "\n",
            "\n",
            "Quantizing layer with index: 13\n",
            "Quantization progress: 13 out of 20\n",
            "\n",
            "shape of W: torch.Size([256, 256, 3, 3])\n",
            "shape of analog_layer_input: torch.Size([384, 2304])\n",
            "shape of quantized_layer_input: torch.Size([384, 2304])\n",
            "The number of groups: 1\n",
            "\n"
          ]
        },
        {
          "name": "stderr",
          "output_type": "stream",
          "text": [
            "100%|██████████| 2304/2304 [00:00<00:00, 2944.01it/s]\n"
          ]
        },
        {
          "name": "stdout",
          "output_type": "stream",
          "text": [
            "The quantization error of layer 13 is 0.2831265330314636.\n",
            "The relative quantization error of layer 13 is 0.0015700763324275613.\n",
            "\n",
            "\n",
            "Quantizing layer with index: 14\n",
            "Quantization progress: 14 out of 20\n",
            "\n",
            "shape of W: torch.Size([256, 256, 3, 3])\n",
            "shape of analog_layer_input: torch.Size([384, 2304])\n",
            "shape of quantized_layer_input: torch.Size([384, 2304])\n",
            "The number of groups: 1\n",
            "\n"
          ]
        },
        {
          "name": "stderr",
          "output_type": "stream",
          "text": [
            "100%|██████████| 2304/2304 [00:00<00:00, 3247.45it/s]\n"
          ]
        },
        {
          "name": "stdout",
          "output_type": "stream",
          "text": [
            "The quantization error of layer 14 is 0.25704264640808105.\n",
            "The relative quantization error of layer 14 is 0.0043380726128816605.\n",
            "\n",
            "\n",
            "Quantizing layer with index: 15\n",
            "Quantization progress: 15 out of 20\n",
            "\n",
            "shape of W: torch.Size([512, 256, 3, 3])\n",
            "shape of analog_layer_input: torch.Size([384, 2304])\n",
            "shape of quantized_layer_input: torch.Size([384, 2304])\n",
            "The number of groups: 1\n",
            "\n"
          ]
        },
        {
          "name": "stderr",
          "output_type": "stream",
          "text": [
            "100%|██████████| 2304/2304 [00:00<00:00, 2925.67it/s]\n"
          ]
        },
        {
          "name": "stdout",
          "output_type": "stream",
          "text": [
            "The quantization error of layer 15 is 1.8196834325790405.\n",
            "The relative quantization error of layer 15 is 0.0073904008604586124.\n",
            "\n",
            "\n",
            "Quantizing layer with index: 16\n",
            "Quantization progress: 16 out of 20\n",
            "\n",
            "shape of W: torch.Size([512, 512, 3, 3])\n",
            "shape of analog_layer_input: torch.Size([256, 4608])\n",
            "shape of quantized_layer_input: torch.Size([256, 4608])\n",
            "The number of groups: 1\n",
            "\n"
          ]
        },
        {
          "name": "stderr",
          "output_type": "stream",
          "text": [
            "100%|██████████| 4608/4608 [00:01<00:00, 3264.55it/s]\n"
          ]
        },
        {
          "name": "stdout",
          "output_type": "stream",
          "text": [
            "The quantization error of layer 16 is 0.26572462916374207.\n",
            "The relative quantization error of layer 16 is 0.004299271386116743.\n",
            "\n",
            "\n",
            "Quantizing layer with index: 17\n",
            "Quantization progress: 17 out of 20\n",
            "\n",
            "shape of W: torch.Size([512, 256, 1, 1])\n",
            "shape of analog_layer_input: torch.Size([2176, 256])\n",
            "shape of quantized_layer_input: torch.Size([2176, 256])\n",
            "The number of groups: 1\n",
            "\n"
          ]
        },
        {
          "name": "stderr",
          "output_type": "stream",
          "text": [
            "100%|██████████| 256/256 [00:00<00:00, 1478.81it/s]"
          ]
        },
        {
          "name": "stdout",
          "output_type": "stream",
          "text": [
            "The quantization error of layer 17 is 4.5316643714904785.\n",
            "The relative quantization error of layer 17 is 0.027248134836554527.\n",
            "\n"
          ]
        },
        {
          "name": "stderr",
          "output_type": "stream",
          "text": [
            "\n"
          ]
        },
        {
          "name": "stdout",
          "output_type": "stream",
          "text": [
            "\n",
            "Quantizing layer with index: 18\n",
            "Quantization progress: 18 out of 20\n",
            "\n",
            "shape of W: torch.Size([512, 512, 3, 3])\n",
            "shape of analog_layer_input: torch.Size([256, 4608])\n",
            "shape of quantized_layer_input: torch.Size([256, 4608])\n",
            "The number of groups: 1\n",
            "\n"
          ]
        },
        {
          "name": "stderr",
          "output_type": "stream",
          "text": [
            "100%|██████████| 4608/4608 [00:01<00:00, 2961.88it/s]\n"
          ]
        },
        {
          "name": "stdout",
          "output_type": "stream",
          "text": [
            "The quantization error of layer 18 is 2.9444611072540283.\n",
            "The relative quantization error of layer 18 is 0.01611419953405857.\n",
            "\n",
            "\n",
            "Quantizing layer with index: 19\n",
            "Quantization progress: 19 out of 20\n",
            "\n",
            "shape of W: torch.Size([512, 512, 3, 3])\n",
            "shape of analog_layer_input: torch.Size([256, 4608])\n",
            "shape of quantized_layer_input: torch.Size([256, 4608])\n",
            "The number of groups: 1\n",
            "\n"
          ]
        },
        {
          "name": "stderr",
          "output_type": "stream",
          "text": [
            "100%|██████████| 4608/4608 [00:01<00:00, 2896.83it/s]\n"
          ]
        },
        {
          "name": "stdout",
          "output_type": "stream",
          "text": [
            "The quantization error of layer 19 is 2.576486825942993.\n",
            "The relative quantization error of layer 19 is 0.07378851622343063.\n",
            "\n",
            "\n",
            "Quantizing layer with index: 20\n",
            "Quantization progress: 20 out of 20\n",
            "\n",
            "The number of groups: 1\n",
            "\n"
          ]
        },
        {
          "name": "stderr",
          "output_type": "stream",
          "text": [
            "100%|██████████| 512/512 [00:00<00:00, 3291.79it/s]"
          ]
        },
        {
          "name": "stdout",
          "output_type": "stream",
          "text": [
            "The quantization error of layer 20 is 20.869115829467773.\n",
            "The relative quantization error of layer 20 is 0.1517668515443802.\n",
            "\n"
          ]
        },
        {
          "name": "stderr",
          "output_type": "stream",
          "text": [
            "\n"
          ]
        },
        {
          "name": "stdout",
          "output_type": "stream",
          "text": [
            "Bits 32, Effective Quantized Bit Size: 21.121295382962643\n",
            "Bits 32, Quantized Test Accuracy: 0.9077\n",
            "Layer indices to quantize [0, 1, 2, 3, 4, 5, 6, 7, 8, 9, 10, 11, 12, 13, 14, 15, 16, 17, 18, 19, 20]\n",
            "Total number of layers to quantize 21\n",
            "\n",
            "Quantizing layer with index: 0\n",
            "Quantization progress: 0 out of 20\n",
            "\n",
            "shape of W: torch.Size([64, 3, 3, 3])\n",
            "shape of analog_layer_input: torch.Size([3968, 27])\n",
            "shape of quantized_layer_input: torch.Size([3968, 27])\n",
            "The number of groups: 1\n",
            "\n"
          ]
        },
        {
          "name": "stderr",
          "output_type": "stream",
          "text": [
            "100%|██████████| 27/27 [00:00<00:00, 386.97it/s]"
          ]
        },
        {
          "name": "stdout",
          "output_type": "stream",
          "text": [
            "The quantization error of layer 0 is 2.510650119802449e-05.\n",
            "The relative quantization error of layer 0 is 7.142136126958576e-08.\n",
            "\n"
          ]
        },
        {
          "name": "stderr",
          "output_type": "stream",
          "text": [
            "\n"
          ]
        },
        {
          "name": "stdout",
          "output_type": "stream",
          "text": [
            "\n",
            "Quantizing layer with index: 1\n",
            "Quantization progress: 1 out of 20\n",
            "\n",
            "shape of W: torch.Size([64, 64, 3, 3])\n",
            "shape of analog_layer_input: torch.Size([3968, 576])\n",
            "shape of quantized_layer_input: torch.Size([3968, 576])\n",
            "The number of groups: 1\n",
            "\n"
          ]
        },
        {
          "name": "stderr",
          "output_type": "stream",
          "text": [
            "100%|██████████| 576/576 [00:00<00:00, 1599.30it/s]\n"
          ]
        },
        {
          "name": "stdout",
          "output_type": "stream",
          "text": [
            "The quantization error of layer 1 is 3.1875162676442415e-05.\n",
            "The relative quantization error of layer 1 is 6.238116867507415e-08.\n",
            "\n",
            "\n",
            "Quantizing layer with index: 2\n",
            "Quantization progress: 2 out of 20\n",
            "\n",
            "shape of W: torch.Size([64, 64, 3, 3])\n",
            "shape of analog_layer_input: torch.Size([3968, 576])\n",
            "shape of quantized_layer_input: torch.Size([3968, 576])\n",
            "The number of groups: 1\n",
            "\n"
          ]
        },
        {
          "name": "stderr",
          "output_type": "stream",
          "text": [
            "100%|██████████| 576/576 [00:00<00:00, 2691.48it/s]\n"
          ]
        },
        {
          "name": "stdout",
          "output_type": "stream",
          "text": [
            "The quantization error of layer 2 is 0.0023221371229737997.\n",
            "The relative quantization error of layer 2 is 9.217949809681159e-06.\n",
            "\n",
            "\n",
            "Quantizing layer with index: 3\n",
            "Quantization progress: 3 out of 20\n",
            "\n",
            "shape of W: torch.Size([64, 64, 3, 3])\n",
            "shape of analog_layer_input: torch.Size([3968, 576])\n",
            "shape of quantized_layer_input: torch.Size([3968, 576])\n",
            "The number of groups: 1\n",
            "\n"
          ]
        },
        {
          "name": "stderr",
          "output_type": "stream",
          "text": [
            "100%|██████████| 576/576 [00:00<00:00, 2587.97it/s]\n"
          ]
        },
        {
          "name": "stdout",
          "output_type": "stream",
          "text": [
            "The quantization error of layer 3 is 0.008370032534003258.\n",
            "The relative quantization error of layer 3 is 1.577568764332682e-05.\n",
            "\n",
            "\n",
            "Quantizing layer with index: 4\n",
            "Quantization progress: 4 out of 20\n",
            "\n",
            "shape of W: torch.Size([64, 64, 3, 3])\n",
            "shape of analog_layer_input: torch.Size([3968, 576])\n",
            "shape of quantized_layer_input: torch.Size([3968, 576])\n",
            "The number of groups: 1\n",
            "\n"
          ]
        },
        {
          "name": "stderr",
          "output_type": "stream",
          "text": [
            "100%|██████████| 576/576 [00:00<00:00, 2364.63it/s]\n"
          ]
        },
        {
          "name": "stdout",
          "output_type": "stream",
          "text": [
            "The quantization error of layer 4 is 0.013959144242107868.\n",
            "The relative quantization error of layer 4 is 7.637334056198597e-05.\n",
            "\n",
            "\n",
            "Quantizing layer with index: 5\n",
            "Quantization progress: 5 out of 20\n",
            "\n",
            "shape of W: torch.Size([128, 64, 3, 3])\n",
            "shape of analog_layer_input: torch.Size([3968, 576])\n",
            "shape of quantized_layer_input: torch.Size([3968, 576])\n",
            "The number of groups: 1\n",
            "\n"
          ]
        },
        {
          "name": "stderr",
          "output_type": "stream",
          "text": [
            "100%|██████████| 576/576 [00:00<00:00, 1679.64it/s]\n"
          ]
        },
        {
          "name": "stdout",
          "output_type": "stream",
          "text": [
            "The quantization error of layer 5 is 0.07520314306020737.\n",
            "The relative quantization error of layer 5 is 0.0001093394384952262.\n",
            "\n",
            "\n",
            "Quantizing layer with index: 6\n",
            "Quantization progress: 6 out of 20\n",
            "\n",
            "shape of W: torch.Size([128, 128, 3, 3])\n",
            "shape of analog_layer_input: torch.Size([1280, 1152])\n",
            "shape of quantized_layer_input: torch.Size([1280, 1152])\n",
            "The number of groups: 1\n",
            "\n"
          ]
        },
        {
          "name": "stderr",
          "output_type": "stream",
          "text": [
            "100%|██████████| 1152/1152 [00:00<00:00, 2855.19it/s]\n"
          ]
        },
        {
          "name": "stdout",
          "output_type": "stream",
          "text": [
            "The quantization error of layer 6 is 0.017280880361795425.\n",
            "The relative quantization error of layer 6 is 0.00010739310528151691.\n",
            "\n",
            "\n",
            "Quantizing layer with index: 7\n",
            "Quantization progress: 7 out of 20\n",
            "\n",
            "shape of W: torch.Size([128, 64, 1, 1])\n",
            "shape of analog_layer_input: torch.Size([32896, 64])\n",
            "shape of quantized_layer_input: torch.Size([32896, 64])\n",
            "The number of groups: 1\n",
            "\n"
          ]
        },
        {
          "name": "stderr",
          "output_type": "stream",
          "text": [
            "100%|██████████| 64/64 [00:00<00:00, 347.11it/s]\n"
          ]
        },
        {
          "name": "stdout",
          "output_type": "stream",
          "text": [
            "The quantization error of layer 7 is 1.654805302619934.\n",
            "The relative quantization error of layer 7 is 0.0021192256826907396.\n",
            "\n",
            "\n",
            "Quantizing layer with index: 8\n",
            "Quantization progress: 8 out of 20\n",
            "\n",
            "shape of W: torch.Size([128, 128, 3, 3])\n",
            "shape of analog_layer_input: torch.Size([1280, 1152])\n",
            "shape of quantized_layer_input: torch.Size([1280, 1152])\n",
            "The number of groups: 1\n",
            "\n"
          ]
        },
        {
          "name": "stderr",
          "output_type": "stream",
          "text": [
            "100%|██████████| 1152/1152 [00:00<00:00, 3263.58it/s]\n"
          ]
        },
        {
          "name": "stdout",
          "output_type": "stream",
          "text": [
            "The quantization error of layer 8 is 0.24487829208374023.\n",
            "The relative quantization error of layer 8 is 0.0010277826804667711.\n",
            "\n",
            "\n",
            "Quantizing layer with index: 9\n",
            "Quantization progress: 9 out of 20\n",
            "\n",
            "shape of W: torch.Size([128, 128, 3, 3])\n",
            "shape of analog_layer_input: torch.Size([1280, 1152])\n",
            "shape of quantized_layer_input: torch.Size([1280, 1152])\n",
            "The number of groups: 1\n",
            "\n"
          ]
        },
        {
          "name": "stderr",
          "output_type": "stream",
          "text": [
            "100%|██████████| 1152/1152 [00:00<00:00, 3138.87it/s]\n"
          ]
        },
        {
          "name": "stdout",
          "output_type": "stream",
          "text": [
            "The quantization error of layer 9 is 0.20870441198349.\n",
            "The relative quantization error of layer 9 is 0.0022163712419569492.\n",
            "\n",
            "\n",
            "Quantizing layer with index: 10\n",
            "Quantization progress: 10 out of 20\n",
            "\n",
            "shape of W: torch.Size([256, 128, 3, 3])\n",
            "shape of analog_layer_input: torch.Size([1280, 1152])\n",
            "shape of quantized_layer_input: torch.Size([1280, 1152])\n",
            "The number of groups: 1\n",
            "\n"
          ]
        },
        {
          "name": "stderr",
          "output_type": "stream",
          "text": [
            "100%|██████████| 1152/1152 [00:00<00:00, 2585.00it/s]\n"
          ]
        },
        {
          "name": "stdout",
          "output_type": "stream",
          "text": [
            "The quantization error of layer 10 is 0.7008858323097229.\n",
            "The relative quantization error of layer 10 is 0.0018530241213738918.\n",
            "\n",
            "\n",
            "Quantizing layer with index: 11\n",
            "Quantization progress: 11 out of 20\n",
            "\n",
            "shape of W: torch.Size([256, 256, 3, 3])\n",
            "shape of analog_layer_input: torch.Size([384, 2304])\n",
            "shape of quantized_layer_input: torch.Size([384, 2304])\n",
            "The number of groups: 1\n",
            "\n"
          ]
        },
        {
          "name": "stderr",
          "output_type": "stream",
          "text": [
            "100%|██████████| 2304/2304 [00:00<00:00, 3289.70it/s]\n"
          ]
        },
        {
          "name": "stdout",
          "output_type": "stream",
          "text": [
            "The quantization error of layer 11 is 0.15397131443023682.\n",
            "The relative quantization error of layer 11 is 0.0012669701827690005.\n",
            "\n",
            "\n",
            "Quantizing layer with index: 12\n",
            "Quantization progress: 12 out of 20\n",
            "\n",
            "shape of W: torch.Size([256, 128, 1, 1])\n",
            "shape of analog_layer_input: torch.Size([8320, 128])\n",
            "shape of quantized_layer_input: torch.Size([8320, 128])\n",
            "The number of groups: 1\n",
            "\n"
          ]
        },
        {
          "name": "stderr",
          "output_type": "stream",
          "text": [
            "100%|██████████| 128/128 [00:00<00:00, 885.80it/s]"
          ]
        },
        {
          "name": "stdout",
          "output_type": "stream",
          "text": [
            "The quantization error of layer 12 is 0.7141439914703369.\n",
            "The relative quantization error of layer 12 is 0.003066528122872114.\n",
            "\n"
          ]
        },
        {
          "name": "stderr",
          "output_type": "stream",
          "text": [
            "\n"
          ]
        },
        {
          "name": "stdout",
          "output_type": "stream",
          "text": [
            "\n",
            "Quantizing layer with index: 13\n",
            "Quantization progress: 13 out of 20\n",
            "\n",
            "shape of W: torch.Size([256, 256, 3, 3])\n",
            "shape of analog_layer_input: torch.Size([384, 2304])\n",
            "shape of quantized_layer_input: torch.Size([384, 2304])\n",
            "The number of groups: 1\n",
            "\n"
          ]
        },
        {
          "name": "stderr",
          "output_type": "stream",
          "text": [
            "100%|██████████| 2304/2304 [00:00<00:00, 2983.74it/s]\n"
          ]
        },
        {
          "name": "stdout",
          "output_type": "stream",
          "text": [
            "The quantization error of layer 13 is 0.1693495213985443.\n",
            "The relative quantization error of layer 13 is 0.0009701083181425929.\n",
            "\n",
            "\n",
            "Quantizing layer with index: 14\n",
            "Quantization progress: 14 out of 20\n",
            "\n",
            "shape of W: torch.Size([256, 256, 3, 3])\n",
            "shape of analog_layer_input: torch.Size([384, 2304])\n",
            "shape of quantized_layer_input: torch.Size([384, 2304])\n",
            "The number of groups: 1\n",
            "\n"
          ]
        },
        {
          "name": "stderr",
          "output_type": "stream",
          "text": [
            "100%|██████████| 2304/2304 [00:00<00:00, 2915.85it/s]\n"
          ]
        },
        {
          "name": "stdout",
          "output_type": "stream",
          "text": [
            "The quantization error of layer 14 is 0.08247531950473785.\n",
            "The relative quantization error of layer 14 is 0.0013870905386283994.\n",
            "\n",
            "\n",
            "Quantizing layer with index: 15\n",
            "Quantization progress: 15 out of 20\n",
            "\n",
            "shape of W: torch.Size([512, 256, 3, 3])\n",
            "shape of analog_layer_input: torch.Size([384, 2304])\n",
            "shape of quantized_layer_input: torch.Size([384, 2304])\n",
            "The number of groups: 1\n",
            "\n"
          ]
        },
        {
          "name": "stderr",
          "output_type": "stream",
          "text": [
            "100%|██████████| 2304/2304 [00:00<00:00, 2945.38it/s]\n"
          ]
        },
        {
          "name": "stdout",
          "output_type": "stream",
          "text": [
            "The quantization error of layer 15 is 0.4419059753417969.\n",
            "The relative quantization error of layer 15 is 0.001810988294892013.\n",
            "\n",
            "\n",
            "Quantizing layer with index: 16\n",
            "Quantization progress: 16 out of 20\n",
            "\n",
            "shape of W: torch.Size([512, 512, 3, 3])\n",
            "shape of analog_layer_input: torch.Size([256, 4608])\n",
            "shape of quantized_layer_input: torch.Size([256, 4608])\n",
            "The number of groups: 1\n",
            "\n"
          ]
        },
        {
          "name": "stderr",
          "output_type": "stream",
          "text": [
            "100%|██████████| 4608/4608 [00:01<00:00, 2724.49it/s]\n"
          ]
        },
        {
          "name": "stdout",
          "output_type": "stream",
          "text": [
            "The quantization error of layer 16 is 0.07231494039297104.\n",
            "The relative quantization error of layer 16 is 0.001170000177808106.\n",
            "\n",
            "\n",
            "Quantizing layer with index: 17\n",
            "Quantization progress: 17 out of 20\n",
            "\n",
            "shape of W: torch.Size([512, 256, 1, 1])\n",
            "shape of analog_layer_input: torch.Size([2176, 256])\n",
            "shape of quantized_layer_input: torch.Size([2176, 256])\n",
            "The number of groups: 1\n",
            "\n"
          ]
        },
        {
          "name": "stderr",
          "output_type": "stream",
          "text": [
            "100%|██████████| 256/256 [00:00<00:00, 1062.58it/s]\n"
          ]
        },
        {
          "name": "stdout",
          "output_type": "stream",
          "text": [
            "The quantization error of layer 17 is 3.404083490371704.\n",
            "The relative quantization error of layer 17 is 0.020578565075993538.\n",
            "\n",
            "\n",
            "Quantizing layer with index: 18\n",
            "Quantization progress: 18 out of 20\n",
            "\n",
            "shape of W: torch.Size([512, 512, 3, 3])\n",
            "shape of analog_layer_input: torch.Size([256, 4608])\n",
            "shape of quantized_layer_input: torch.Size([256, 4608])\n",
            "The number of groups: 1\n",
            "\n"
          ]
        },
        {
          "name": "stderr",
          "output_type": "stream",
          "text": [
            "100%|██████████| 4608/4608 [00:01<00:00, 2658.93it/s]\n"
          ]
        },
        {
          "name": "stdout",
          "output_type": "stream",
          "text": [
            "The quantization error of layer 18 is 2.2283501625061035.\n",
            "The relative quantization error of layer 18 is 0.012283334508538246.\n",
            "\n",
            "\n",
            "Quantizing layer with index: 19\n",
            "Quantization progress: 19 out of 20\n",
            "\n",
            "shape of W: torch.Size([512, 512, 3, 3])\n",
            "shape of analog_layer_input: torch.Size([256, 4608])\n",
            "shape of quantized_layer_input: torch.Size([256, 4608])\n",
            "The number of groups: 1\n",
            "\n"
          ]
        },
        {
          "name": "stderr",
          "output_type": "stream",
          "text": [
            "100%|██████████| 4608/4608 [00:02<00:00, 2254.08it/s]\n"
          ]
        },
        {
          "name": "stdout",
          "output_type": "stream",
          "text": [
            "The quantization error of layer 19 is 2.4780850410461426.\n",
            "The relative quantization error of layer 19 is 0.06991027295589447.\n",
            "\n",
            "\n",
            "Quantizing layer with index: 20\n",
            "Quantization progress: 20 out of 20\n",
            "\n",
            "The number of groups: 1\n",
            "\n"
          ]
        },
        {
          "name": "stderr",
          "output_type": "stream",
          "text": [
            "100%|██████████| 512/512 [00:00<00:00, 1937.22it/s]\n"
          ]
        },
        {
          "name": "stdout",
          "output_type": "stream",
          "text": [
            "The quantization error of layer 20 is 18.315767288208008.\n",
            "The relative quantization error of layer 20 is 0.13194690644741058.\n",
            "\n",
            "Bits 26, Effective Quantized Bit Size: 20.487868492840768\n",
            "Bits 26, Quantized Test Accuracy: 0.9077\n",
            "Layer indices to quantize [0, 1, 2, 3, 4, 5, 6, 7, 8, 9, 10, 11, 12, 13, 14, 15, 16, 17, 18, 19, 20]\n",
            "Total number of layers to quantize 21\n",
            "\n",
            "Quantizing layer with index: 0\n",
            "Quantization progress: 0 out of 20\n",
            "\n",
            "shape of W: torch.Size([64, 3, 3, 3])\n",
            "shape of analog_layer_input: torch.Size([3968, 27])\n",
            "shape of quantized_layer_input: torch.Size([3968, 27])\n",
            "The number of groups: 1\n",
            "\n"
          ]
        },
        {
          "name": "stderr",
          "output_type": "stream",
          "text": [
            "100%|██████████| 27/27 [00:00<00:00, 352.66it/s]"
          ]
        },
        {
          "name": "stdout",
          "output_type": "stream",
          "text": [
            "The quantization error of layer 0 is 0.00038985462742857635.\n",
            "The relative quantization error of layer 0 is 1.1130387065350078e-06.\n",
            "\n"
          ]
        },
        {
          "name": "stderr",
          "output_type": "stream",
          "text": [
            "\n"
          ]
        },
        {
          "name": "stdout",
          "output_type": "stream",
          "text": [
            "\n",
            "Quantizing layer with index: 1\n",
            "Quantization progress: 1 out of 20\n",
            "\n",
            "shape of W: torch.Size([64, 64, 3, 3])\n",
            "shape of analog_layer_input: torch.Size([3968, 576])\n",
            "shape of quantized_layer_input: torch.Size([3968, 576])\n",
            "The number of groups: 1\n",
            "\n"
          ]
        },
        {
          "name": "stderr",
          "output_type": "stream",
          "text": [
            "100%|██████████| 576/576 [00:00<00:00, 2799.06it/s]\n"
          ]
        },
        {
          "name": "stdout",
          "output_type": "stream",
          "text": [
            "The quantization error of layer 1 is 0.0006373797077685595.\n",
            "The relative quantization error of layer 1 is 1.2470223964555771e-06.\n",
            "\n",
            "\n",
            "Quantizing layer with index: 2\n",
            "Quantization progress: 2 out of 20\n",
            "\n",
            "shape of W: torch.Size([64, 64, 3, 3])\n",
            "shape of analog_layer_input: torch.Size([3968, 576])\n",
            "shape of quantized_layer_input: torch.Size([3968, 576])\n",
            "The number of groups: 1\n",
            "\n"
          ]
        },
        {
          "name": "stderr",
          "output_type": "stream",
          "text": [
            "100%|██████████| 576/576 [00:00<00:00, 2850.55it/s]\n"
          ]
        },
        {
          "name": "stdout",
          "output_type": "stream",
          "text": [
            "The quantization error of layer 2 is 0.007059975061565638.\n",
            "The relative quantization error of layer 2 is 2.7682017389452085e-05.\n",
            "\n",
            "\n",
            "Quantizing layer with index: 3\n",
            "Quantization progress: 3 out of 20\n",
            "\n",
            "shape of W: torch.Size([64, 64, 3, 3])\n",
            "shape of analog_layer_input: torch.Size([3968, 576])\n",
            "shape of quantized_layer_input: torch.Size([3968, 576])\n",
            "The number of groups: 1\n",
            "\n"
          ]
        },
        {
          "name": "stderr",
          "output_type": "stream",
          "text": [
            "100%|██████████| 576/576 [00:00<00:00, 2708.31it/s]\n"
          ]
        },
        {
          "name": "stdout",
          "output_type": "stream",
          "text": [
            "The quantization error of layer 3 is 0.03110429085791111.\n",
            "The relative quantization error of layer 3 is 5.91895732213743e-05.\n",
            "\n",
            "\n",
            "Quantizing layer with index: 4\n",
            "Quantization progress: 4 out of 20\n",
            "\n",
            "shape of W: torch.Size([64, 64, 3, 3])\n",
            "shape of analog_layer_input: torch.Size([3968, 576])\n",
            "shape of quantized_layer_input: torch.Size([3968, 576])\n",
            "The number of groups: 1\n",
            "\n"
          ]
        },
        {
          "name": "stderr",
          "output_type": "stream",
          "text": [
            "100%|██████████| 576/576 [00:00<00:00, 2448.62it/s]\n"
          ]
        },
        {
          "name": "stdout",
          "output_type": "stream",
          "text": [
            "The quantization error of layer 4 is 0.03084140457212925.\n",
            "The relative quantization error of layer 4 is 0.00016925815725699067.\n",
            "\n",
            "\n",
            "Quantizing layer with index: 5\n",
            "Quantization progress: 5 out of 20\n",
            "\n",
            "shape of W: torch.Size([128, 64, 3, 3])\n",
            "shape of analog_layer_input: torch.Size([3968, 576])\n",
            "shape of quantized_layer_input: torch.Size([3968, 576])\n",
            "The number of groups: 1\n",
            "\n"
          ]
        },
        {
          "name": "stderr",
          "output_type": "stream",
          "text": [
            "100%|██████████| 576/576 [00:00<00:00, 1973.61it/s]\n"
          ]
        },
        {
          "name": "stdout",
          "output_type": "stream",
          "text": [
            "The quantization error of layer 5 is 0.13884326815605164.\n",
            "The relative quantization error of layer 5 is 0.0002011173201026395.\n",
            "\n",
            "\n",
            "Quantizing layer with index: 6\n",
            "Quantization progress: 6 out of 20\n",
            "\n",
            "shape of W: torch.Size([128, 128, 3, 3])\n",
            "shape of analog_layer_input: torch.Size([1280, 1152])\n",
            "shape of quantized_layer_input: torch.Size([1280, 1152])\n",
            "The number of groups: 1\n",
            "\n"
          ]
        },
        {
          "name": "stderr",
          "output_type": "stream",
          "text": [
            "100%|██████████| 1152/1152 [00:00<00:00, 3177.45it/s]\n"
          ]
        },
        {
          "name": "stdout",
          "output_type": "stream",
          "text": [
            "The quantization error of layer 6 is 0.02474050037562847.\n",
            "The relative quantization error of layer 6 is 0.00015650168643333018.\n",
            "\n",
            "\n",
            "Quantizing layer with index: 7\n",
            "Quantization progress: 7 out of 20\n",
            "\n",
            "shape of W: torch.Size([128, 64, 1, 1])\n",
            "shape of analog_layer_input: torch.Size([32896, 64])\n",
            "shape of quantized_layer_input: torch.Size([32896, 64])\n",
            "The number of groups: 1\n",
            "\n"
          ]
        },
        {
          "name": "stderr",
          "output_type": "stream",
          "text": [
            "100%|██████████| 64/64 [00:00<00:00, 342.09it/s]\n"
          ]
        },
        {
          "name": "stdout",
          "output_type": "stream",
          "text": [
            "The quantization error of layer 7 is 21.268274307250977.\n",
            "The relative quantization error of layer 7 is 0.027239497750997543.\n",
            "\n",
            "\n",
            "Quantizing layer with index: 8\n",
            "Quantization progress: 8 out of 20\n",
            "\n",
            "shape of W: torch.Size([128, 128, 3, 3])\n",
            "shape of analog_layer_input: torch.Size([1280, 1152])\n",
            "shape of quantized_layer_input: torch.Size([1280, 1152])\n",
            "The number of groups: 1\n",
            "\n"
          ]
        },
        {
          "name": "stderr",
          "output_type": "stream",
          "text": [
            "100%|██████████| 1152/1152 [00:00<00:00, 3068.31it/s]\n"
          ]
        },
        {
          "name": "stdout",
          "output_type": "stream",
          "text": [
            "The quantization error of layer 8 is 3.473527431488037.\n",
            "The relative quantization error of layer 8 is 0.014517538249492645.\n",
            "\n",
            "\n",
            "Quantizing layer with index: 9\n",
            "Quantization progress: 9 out of 20\n",
            "\n",
            "shape of W: torch.Size([128, 128, 3, 3])\n",
            "shape of analog_layer_input: torch.Size([1280, 1152])\n",
            "shape of quantized_layer_input: torch.Size([1280, 1152])\n",
            "The number of groups: 1\n",
            "\n"
          ]
        },
        {
          "name": "stderr",
          "output_type": "stream",
          "text": [
            "100%|██████████| 1152/1152 [00:00<00:00, 3273.35it/s]\n"
          ]
        },
        {
          "name": "stdout",
          "output_type": "stream",
          "text": [
            "The quantization error of layer 9 is 2.4825737476348877.\n",
            "The relative quantization error of layer 9 is 0.02617497555911541.\n",
            "\n",
            "\n",
            "Quantizing layer with index: 10\n",
            "Quantization progress: 10 out of 20\n",
            "\n",
            "shape of W: torch.Size([256, 128, 3, 3])\n",
            "shape of analog_layer_input: torch.Size([1280, 1152])\n",
            "shape of quantized_layer_input: torch.Size([1280, 1152])\n",
            "The number of groups: 1\n",
            "\n"
          ]
        },
        {
          "name": "stderr",
          "output_type": "stream",
          "text": [
            "100%|██████████| 1152/1152 [00:00<00:00, 2433.32it/s]\n"
          ]
        },
        {
          "name": "stdout",
          "output_type": "stream",
          "text": [
            "The quantization error of layer 10 is 8.485986709594727.\n",
            "The relative quantization error of layer 10 is 0.022657575085759163.\n",
            "\n",
            "\n",
            "Quantizing layer with index: 11\n",
            "Quantization progress: 11 out of 20\n",
            "\n",
            "shape of W: torch.Size([256, 256, 3, 3])\n",
            "shape of analog_layer_input: torch.Size([384, 2304])\n",
            "shape of quantized_layer_input: torch.Size([384, 2304])\n",
            "The number of groups: 1\n",
            "\n"
          ]
        },
        {
          "name": "stderr",
          "output_type": "stream",
          "text": [
            "100%|██████████| 2304/2304 [00:00<00:00, 3146.04it/s]\n"
          ]
        },
        {
          "name": "stdout",
          "output_type": "stream",
          "text": [
            "The quantization error of layer 11 is 1.8516674041748047.\n",
            "The relative quantization error of layer 11 is 0.015218243934214115.\n",
            "\n",
            "\n",
            "Quantizing layer with index: 12\n",
            "Quantization progress: 12 out of 20\n",
            "\n",
            "shape of W: torch.Size([256, 128, 1, 1])\n",
            "shape of analog_layer_input: torch.Size([8320, 128])\n",
            "shape of quantized_layer_input: torch.Size([8320, 128])\n",
            "The number of groups: 1\n",
            "\n"
          ]
        },
        {
          "name": "stderr",
          "output_type": "stream",
          "text": [
            "100%|██████████| 128/128 [00:00<00:00, 846.27it/s]"
          ]
        },
        {
          "name": "stdout",
          "output_type": "stream",
          "text": [
            "The quantization error of layer 12 is 8.650568962097168.\n",
            "The relative quantization error of layer 12 is 0.03723304718732834.\n",
            "\n"
          ]
        },
        {
          "name": "stderr",
          "output_type": "stream",
          "text": [
            "\n"
          ]
        },
        {
          "name": "stdout",
          "output_type": "stream",
          "text": [
            "\n",
            "Quantizing layer with index: 13\n",
            "Quantization progress: 13 out of 20\n",
            "\n",
            "shape of W: torch.Size([256, 256, 3, 3])\n",
            "shape of analog_layer_input: torch.Size([384, 2304])\n",
            "shape of quantized_layer_input: torch.Size([384, 2304])\n",
            "The number of groups: 1\n",
            "\n"
          ]
        },
        {
          "name": "stderr",
          "output_type": "stream",
          "text": [
            "100%|██████████| 2304/2304 [00:00<00:00, 3066.13it/s]\n"
          ]
        },
        {
          "name": "stdout",
          "output_type": "stream",
          "text": [
            "The quantization error of layer 13 is 1.9689115285873413.\n",
            "The relative quantization error of layer 13 is 0.011260324157774448.\n",
            "\n",
            "\n",
            "Quantizing layer with index: 14\n",
            "Quantization progress: 14 out of 20\n",
            "\n",
            "shape of W: torch.Size([256, 256, 3, 3])\n",
            "shape of analog_layer_input: torch.Size([384, 2304])\n",
            "shape of quantized_layer_input: torch.Size([384, 2304])\n",
            "The number of groups: 1\n",
            "\n"
          ]
        },
        {
          "name": "stderr",
          "output_type": "stream",
          "text": [
            "100%|██████████| 2304/2304 [00:00<00:00, 3172.23it/s]\n"
          ]
        },
        {
          "name": "stdout",
          "output_type": "stream",
          "text": [
            "The quantization error of layer 14 is 0.9665667414665222.\n",
            "The relative quantization error of layer 14 is 0.016051309183239937.\n",
            "\n",
            "\n",
            "Quantizing layer with index: 15\n",
            "Quantization progress: 15 out of 20\n",
            "\n",
            "shape of W: torch.Size([512, 256, 3, 3])\n",
            "shape of analog_layer_input: torch.Size([384, 2304])\n",
            "shape of quantized_layer_input: torch.Size([384, 2304])\n",
            "The number of groups: 1\n",
            "\n"
          ]
        },
        {
          "name": "stderr",
          "output_type": "stream",
          "text": [
            "100%|██████████| 2304/2304 [00:00<00:00, 2742.25it/s]\n"
          ]
        },
        {
          "name": "stdout",
          "output_type": "stream",
          "text": [
            "The quantization error of layer 15 is 3.9064273834228516.\n",
            "The relative quantization error of layer 15 is 0.016074908897280693.\n",
            "\n",
            "\n",
            "Quantizing layer with index: 16\n",
            "Quantization progress: 16 out of 20\n",
            "\n",
            "shape of W: torch.Size([512, 512, 3, 3])\n",
            "shape of analog_layer_input: torch.Size([256, 4608])\n",
            "shape of quantized_layer_input: torch.Size([256, 4608])\n",
            "The number of groups: 1\n",
            "\n"
          ]
        },
        {
          "name": "stderr",
          "output_type": "stream",
          "text": [
            "100%|██████████| 4608/4608 [00:01<00:00, 3128.08it/s]\n"
          ]
        },
        {
          "name": "stdout",
          "output_type": "stream",
          "text": [
            "The quantization error of layer 16 is 0.6073002815246582.\n",
            "The relative quantization error of layer 16 is 0.009635881520807743.\n",
            "\n",
            "\n",
            "Quantizing layer with index: 17\n",
            "Quantization progress: 17 out of 20\n",
            "\n",
            "shape of W: torch.Size([512, 256, 1, 1])\n",
            "shape of analog_layer_input: torch.Size([2176, 256])\n",
            "shape of quantized_layer_input: torch.Size([2176, 256])\n",
            "The number of groups: 1\n",
            "\n"
          ]
        },
        {
          "name": "stderr",
          "output_type": "stream",
          "text": [
            "100%|██████████| 256/256 [00:00<00:00, 1402.91it/s]\n"
          ]
        },
        {
          "name": "stdout",
          "output_type": "stream",
          "text": [
            "The quantization error of layer 17 is 8.903268814086914.\n",
            "The relative quantization error of layer 17 is 0.05387834459543228.\n",
            "\n",
            "\n",
            "Quantizing layer with index: 18\n",
            "Quantization progress: 18 out of 20\n",
            "\n",
            "shape of W: torch.Size([512, 512, 3, 3])\n",
            "shape of analog_layer_input: torch.Size([256, 4608])\n",
            "shape of quantized_layer_input: torch.Size([256, 4608])\n",
            "The number of groups: 1\n",
            "\n"
          ]
        },
        {
          "name": "stderr",
          "output_type": "stream",
          "text": [
            "100%|██████████| 4608/4608 [00:01<00:00, 3208.04it/s]\n"
          ]
        },
        {
          "name": "stdout",
          "output_type": "stream",
          "text": [
            "The quantization error of layer 18 is 3.7123188972473145.\n",
            "The relative quantization error of layer 18 is 0.02032514475286007.\n",
            "\n",
            "\n",
            "Quantizing layer with index: 19\n",
            "Quantization progress: 19 out of 20\n",
            "\n",
            "shape of W: torch.Size([512, 512, 3, 3])\n",
            "shape of analog_layer_input: torch.Size([256, 4608])\n",
            "shape of quantized_layer_input: torch.Size([256, 4608])\n",
            "The number of groups: 1\n",
            "\n"
          ]
        },
        {
          "name": "stderr",
          "output_type": "stream",
          "text": [
            "100%|██████████| 4608/4608 [00:01<00:00, 3097.80it/s]\n"
          ]
        },
        {
          "name": "stdout",
          "output_type": "stream",
          "text": [
            "The quantization error of layer 19 is 2.7783260345458984.\n",
            "The relative quantization error of layer 19 is 0.08140332251787186.\n",
            "\n",
            "\n",
            "Quantizing layer with index: 20\n",
            "Quantization progress: 20 out of 20\n",
            "\n",
            "The number of groups: 1\n",
            "\n"
          ]
        },
        {
          "name": "stderr",
          "output_type": "stream",
          "text": [
            "100%|██████████| 512/512 [00:00<00:00, 3072.21it/s]"
          ]
        },
        {
          "name": "stdout",
          "output_type": "stream",
          "text": [
            "The quantization error of layer 20 is 21.944419860839844.\n",
            "The relative quantization error of layer 20 is 0.15984410047531128.\n",
            "\n"
          ]
        },
        {
          "name": "stderr",
          "output_type": "stream",
          "text": [
            "\n"
          ]
        },
        {
          "name": "stdout",
          "output_type": "stream",
          "text": [
            "Bits 20, Effective Quantized Bit Size: 18.267575279028154\n",
            "Bits 20, Quantized Test Accuracy: 0.9043\n",
            "Layer indices to quantize [0, 1, 2, 3, 4, 5, 6, 7, 8, 9, 10, 11, 12, 13, 14, 15, 16, 17, 18, 19, 20]\n",
            "Total number of layers to quantize 21\n",
            "\n",
            "Quantizing layer with index: 0\n",
            "Quantization progress: 0 out of 20\n",
            "\n",
            "shape of W: torch.Size([64, 3, 3, 3])\n",
            "shape of analog_layer_input: torch.Size([3968, 27])\n",
            "shape of quantized_layer_input: torch.Size([3968, 27])\n",
            "The number of groups: 1\n",
            "\n"
          ]
        },
        {
          "name": "stderr",
          "output_type": "stream",
          "text": [
            "100%|██████████| 27/27 [00:00<00:00, 352.27it/s]\n"
          ]
        },
        {
          "name": "stdout",
          "output_type": "stream",
          "text": [
            "The quantization error of layer 0 is 0.005111537408083677.\n",
            "The relative quantization error of layer 0 is 1.5037662706163246e-05.\n",
            "\n",
            "\n",
            "Quantizing layer with index: 1\n",
            "Quantization progress: 1 out of 20\n",
            "\n",
            "shape of W: torch.Size([64, 64, 3, 3])\n",
            "shape of analog_layer_input: torch.Size([3968, 576])\n",
            "shape of quantized_layer_input: torch.Size([3968, 576])\n",
            "The number of groups: 1\n",
            "\n"
          ]
        },
        {
          "name": "stderr",
          "output_type": "stream",
          "text": [
            "100%|██████████| 576/576 [00:00<00:00, 1073.66it/s]\n"
          ]
        },
        {
          "name": "stdout",
          "output_type": "stream",
          "text": [
            "The quantization error of layer 1 is 0.08350162953138351.\n",
            "The relative quantization error of layer 1 is 0.00016411887190770358.\n",
            "\n",
            "\n",
            "Quantizing layer with index: 2\n",
            "Quantization progress: 2 out of 20\n",
            "\n",
            "shape of W: torch.Size([64, 64, 3, 3])\n",
            "shape of analog_layer_input: torch.Size([3968, 576])\n",
            "shape of quantized_layer_input: torch.Size([3968, 576])\n",
            "The number of groups: 1\n",
            "\n"
          ]
        },
        {
          "name": "stderr",
          "output_type": "stream",
          "text": [
            "100%|██████████| 576/576 [00:00<00:00, 2708.27it/s]\n"
          ]
        },
        {
          "name": "stdout",
          "output_type": "stream",
          "text": [
            "The quantization error of layer 2 is 0.19526876509189606.\n",
            "The relative quantization error of layer 2 is 0.0007682752911932766.\n",
            "\n",
            "\n",
            "Quantizing layer with index: 3\n",
            "Quantization progress: 3 out of 20\n",
            "\n",
            "shape of W: torch.Size([64, 64, 3, 3])\n",
            "shape of analog_layer_input: torch.Size([3968, 576])\n",
            "shape of quantized_layer_input: torch.Size([3968, 576])\n",
            "The number of groups: 1\n",
            "\n"
          ]
        },
        {
          "name": "stderr",
          "output_type": "stream",
          "text": [
            "100%|██████████| 576/576 [00:00<00:00, 2692.30it/s]\n"
          ]
        },
        {
          "name": "stdout",
          "output_type": "stream",
          "text": [
            "The quantization error of layer 3 is 0.6603153944015503.\n",
            "The relative quantization error of layer 3 is 0.0012569476384669542.\n",
            "\n",
            "\n",
            "Quantizing layer with index: 4\n",
            "Quantization progress: 4 out of 20\n",
            "\n",
            "shape of W: torch.Size([64, 64, 3, 3])\n",
            "shape of analog_layer_input: torch.Size([3968, 576])\n",
            "shape of quantized_layer_input: torch.Size([3968, 576])\n",
            "The number of groups: 1\n",
            "\n"
          ]
        },
        {
          "name": "stderr",
          "output_type": "stream",
          "text": [
            "100%|██████████| 576/576 [00:00<00:00, 2553.69it/s]\n"
          ]
        },
        {
          "name": "stdout",
          "output_type": "stream",
          "text": [
            "The quantization error of layer 4 is 0.31439661979675293.\n",
            "The relative quantization error of layer 4 is 0.0017184874741360545.\n",
            "\n",
            "\n",
            "Quantizing layer with index: 5\n",
            "Quantization progress: 5 out of 20\n",
            "\n",
            "shape of W: torch.Size([128, 64, 3, 3])\n",
            "shape of analog_layer_input: torch.Size([3968, 576])\n",
            "shape of quantized_layer_input: torch.Size([3968, 576])\n",
            "The number of groups: 1\n",
            "\n"
          ]
        },
        {
          "name": "stderr",
          "output_type": "stream",
          "text": [
            "100%|██████████| 576/576 [00:00<00:00, 1775.76it/s]\n"
          ]
        },
        {
          "name": "stdout",
          "output_type": "stream",
          "text": [
            "The quantization error of layer 5 is 0.7898777723312378.\n",
            "The relative quantization error of layer 5 is 0.0011384824756532907.\n",
            "\n",
            "\n",
            "Quantizing layer with index: 6\n",
            "Quantization progress: 6 out of 20\n",
            "\n",
            "shape of W: torch.Size([128, 128, 3, 3])\n",
            "shape of analog_layer_input: torch.Size([1280, 1152])\n",
            "shape of quantized_layer_input: torch.Size([1280, 1152])\n",
            "The number of groups: 1\n",
            "\n"
          ]
        },
        {
          "name": "stderr",
          "output_type": "stream",
          "text": [
            "100%|██████████| 1152/1152 [00:00<00:00, 3067.60it/s]\n"
          ]
        },
        {
          "name": "stdout",
          "output_type": "stream",
          "text": [
            "The quantization error of layer 6 is 0.12790459394454956.\n",
            "The relative quantization error of layer 6 is 0.000800012843683362.\n",
            "\n",
            "\n",
            "Quantizing layer with index: 7\n",
            "Quantization progress: 7 out of 20\n",
            "\n",
            "shape of W: torch.Size([128, 64, 1, 1])\n",
            "shape of analog_layer_input: torch.Size([32896, 64])\n",
            "shape of quantized_layer_input: torch.Size([32896, 64])\n",
            "The number of groups: 1\n",
            "\n"
          ]
        },
        {
          "name": "stderr",
          "output_type": "stream",
          "text": [
            "100%|██████████| 64/64 [00:00<00:00, 347.74it/s]\n"
          ]
        },
        {
          "name": "stdout",
          "output_type": "stream",
          "text": [
            "The quantization error of layer 7 is 40.73300552368164.\n",
            "The relative quantization error of layer 7 is 0.05229352042078972.\n",
            "\n",
            "\n",
            "Quantizing layer with index: 8\n",
            "Quantization progress: 8 out of 20\n",
            "\n",
            "shape of W: torch.Size([128, 128, 3, 3])\n",
            "shape of analog_layer_input: torch.Size([1280, 1152])\n",
            "shape of quantized_layer_input: torch.Size([1280, 1152])\n",
            "The number of groups: 1\n",
            "\n"
          ]
        },
        {
          "name": "stderr",
          "output_type": "stream",
          "text": [
            "100%|██████████| 1152/1152 [00:00<00:00, 3232.78it/s]\n"
          ]
        },
        {
          "name": "stdout",
          "output_type": "stream",
          "text": [
            "The quantization error of layer 8 is 6.815683364868164.\n",
            "The relative quantization error of layer 8 is 0.028628258034586906.\n",
            "\n",
            "\n",
            "Quantizing layer with index: 9\n",
            "Quantization progress: 9 out of 20\n",
            "\n",
            "shape of W: torch.Size([128, 128, 3, 3])\n",
            "shape of analog_layer_input: torch.Size([1280, 1152])\n",
            "shape of quantized_layer_input: torch.Size([1280, 1152])\n",
            "The number of groups: 1\n",
            "\n"
          ]
        },
        {
          "name": "stderr",
          "output_type": "stream",
          "text": [
            "100%|██████████| 1152/1152 [00:00<00:00, 3194.65it/s]\n"
          ]
        },
        {
          "name": "stdout",
          "output_type": "stream",
          "text": [
            "The quantization error of layer 9 is 2.832270383834839.\n",
            "The relative quantization error of layer 9 is 0.029669491574168205.\n",
            "\n",
            "\n",
            "Quantizing layer with index: 10\n",
            "Quantization progress: 10 out of 20\n",
            "\n",
            "shape of W: torch.Size([256, 128, 3, 3])\n",
            "shape of analog_layer_input: torch.Size([1280, 1152])\n",
            "shape of quantized_layer_input: torch.Size([1280, 1152])\n",
            "The number of groups: 1\n",
            "\n"
          ]
        },
        {
          "name": "stderr",
          "output_type": "stream",
          "text": [
            "100%|██████████| 1152/1152 [00:00<00:00, 2280.21it/s]\n"
          ]
        },
        {
          "name": "stdout",
          "output_type": "stream",
          "text": [
            "The quantization error of layer 10 is 12.33023738861084.\n",
            "The relative quantization error of layer 10 is 0.032719727605581284.\n",
            "\n",
            "\n",
            "Quantizing layer with index: 11\n",
            "Quantization progress: 11 out of 20\n",
            "\n",
            "shape of W: torch.Size([256, 256, 3, 3])\n",
            "shape of analog_layer_input: torch.Size([384, 2304])\n",
            "shape of quantized_layer_input: torch.Size([384, 2304])\n",
            "The number of groups: 1\n",
            "\n"
          ]
        },
        {
          "name": "stderr",
          "output_type": "stream",
          "text": [
            "100%|██████████| 2304/2304 [00:00<00:00, 2726.57it/s]\n"
          ]
        },
        {
          "name": "stdout",
          "output_type": "stream",
          "text": [
            "The quantization error of layer 11 is 2.219709873199463.\n",
            "The relative quantization error of layer 11 is 0.018339361995458603.\n",
            "\n",
            "\n",
            "Quantizing layer with index: 12\n",
            "Quantization progress: 12 out of 20\n",
            "\n",
            "shape of W: torch.Size([256, 128, 1, 1])\n",
            "shape of analog_layer_input: torch.Size([8320, 128])\n",
            "shape of quantized_layer_input: torch.Size([8320, 128])\n",
            "The number of groups: 1\n",
            "\n"
          ]
        },
        {
          "name": "stderr",
          "output_type": "stream",
          "text": [
            "100%|██████████| 128/128 [00:00<00:00, 745.79it/s]"
          ]
        },
        {
          "name": "stdout",
          "output_type": "stream",
          "text": [
            "The quantization error of layer 12 is 12.526009559631348.\n",
            "The relative quantization error of layer 12 is 0.05379394069314003.\n",
            "\n"
          ]
        },
        {
          "name": "stderr",
          "output_type": "stream",
          "text": [
            "\n"
          ]
        },
        {
          "name": "stdout",
          "output_type": "stream",
          "text": [
            "\n",
            "Quantizing layer with index: 13\n",
            "Quantization progress: 13 out of 20\n",
            "\n",
            "shape of W: torch.Size([256, 256, 3, 3])\n",
            "shape of analog_layer_input: torch.Size([384, 2304])\n",
            "shape of quantized_layer_input: torch.Size([384, 2304])\n",
            "The number of groups: 1\n",
            "\n"
          ]
        },
        {
          "name": "stderr",
          "output_type": "stream",
          "text": [
            "100%|██████████| 2304/2304 [00:01<00:00, 2083.48it/s]\n"
          ]
        },
        {
          "name": "stdout",
          "output_type": "stream",
          "text": [
            "The quantization error of layer 13 is 2.42484188079834.\n",
            "The relative quantization error of layer 13 is 0.013645613566040993.\n",
            "\n",
            "\n",
            "Quantizing layer with index: 14\n",
            "Quantization progress: 14 out of 20\n",
            "\n",
            "shape of W: torch.Size([256, 256, 3, 3])\n",
            "shape of analog_layer_input: torch.Size([384, 2304])\n",
            "shape of quantized_layer_input: torch.Size([384, 2304])\n",
            "The number of groups: 1\n",
            "\n"
          ]
        },
        {
          "name": "stderr",
          "output_type": "stream",
          "text": [
            "100%|██████████| 2304/2304 [00:00<00:00, 2339.98it/s]\n"
          ]
        },
        {
          "name": "stdout",
          "output_type": "stream",
          "text": [
            "The quantization error of layer 14 is 1.2309632301330566.\n",
            "The relative quantization error of layer 14 is 0.02116083912551403.\n",
            "\n",
            "\n",
            "Quantizing layer with index: 15\n",
            "Quantization progress: 15 out of 20\n",
            "\n",
            "shape of W: torch.Size([512, 256, 3, 3])\n",
            "shape of analog_layer_input: torch.Size([384, 2304])\n",
            "shape of quantized_layer_input: torch.Size([384, 2304])\n",
            "The number of groups: 1\n",
            "\n"
          ]
        },
        {
          "name": "stderr",
          "output_type": "stream",
          "text": [
            "100%|██████████| 2304/2304 [00:01<00:00, 2079.03it/s]\n"
          ]
        },
        {
          "name": "stdout",
          "output_type": "stream",
          "text": [
            "The quantization error of layer 15 is 5.597582817077637.\n",
            "The relative quantization error of layer 15 is 0.022825364023447037.\n",
            "\n",
            "\n",
            "Quantizing layer with index: 16\n",
            "Quantization progress: 16 out of 20\n",
            "\n",
            "shape of W: torch.Size([512, 512, 3, 3])\n",
            "shape of analog_layer_input: torch.Size([256, 4608])\n",
            "shape of quantized_layer_input: torch.Size([256, 4608])\n",
            "The number of groups: 1\n",
            "\n"
          ]
        },
        {
          "name": "stderr",
          "output_type": "stream",
          "text": [
            "100%|██████████| 4608/4608 [00:01<00:00, 2486.13it/s]\n"
          ]
        },
        {
          "name": "stdout",
          "output_type": "stream",
          "text": [
            "The quantization error of layer 16 is 0.8120697736740112.\n",
            "The relative quantization error of layer 16 is 0.013208535499870777.\n",
            "\n",
            "\n",
            "Quantizing layer with index: 17\n",
            "Quantization progress: 17 out of 20\n",
            "\n",
            "shape of W: torch.Size([512, 256, 1, 1])\n",
            "shape of analog_layer_input: torch.Size([2176, 256])\n",
            "shape of quantized_layer_input: torch.Size([2176, 256])\n",
            "The number of groups: 1\n",
            "\n"
          ]
        },
        {
          "name": "stderr",
          "output_type": "stream",
          "text": [
            "100%|██████████| 256/256 [00:00<00:00, 1821.37it/s]"
          ]
        },
        {
          "name": "stdout",
          "output_type": "stream",
          "text": [
            "The quantization error of layer 17 is 12.532596588134766.\n",
            "The relative quantization error of layer 17 is 0.07512877136468887.\n",
            "\n"
          ]
        },
        {
          "name": "stderr",
          "output_type": "stream",
          "text": [
            "\n"
          ]
        },
        {
          "name": "stdout",
          "output_type": "stream",
          "text": [
            "\n",
            "Quantizing layer with index: 18\n",
            "Quantization progress: 18 out of 20\n",
            "\n",
            "shape of W: torch.Size([512, 512, 3, 3])\n",
            "shape of analog_layer_input: torch.Size([256, 4608])\n",
            "shape of quantized_layer_input: torch.Size([256, 4608])\n",
            "The number of groups: 1\n",
            "\n"
          ]
        },
        {
          "name": "stderr",
          "output_type": "stream",
          "text": [
            "100%|██████████| 4608/4608 [00:01<00:00, 2949.21it/s]\n"
          ]
        },
        {
          "name": "stdout",
          "output_type": "stream",
          "text": [
            "The quantization error of layer 18 is 5.179078102111816.\n",
            "The relative quantization error of layer 18 is 0.028661813586950302.\n",
            "\n",
            "\n",
            "Quantizing layer with index: 19\n",
            "Quantization progress: 19 out of 20\n",
            "\n",
            "shape of W: torch.Size([512, 512, 3, 3])\n",
            "shape of analog_layer_input: torch.Size([256, 4608])\n",
            "shape of quantized_layer_input: torch.Size([256, 4608])\n",
            "The number of groups: 1\n",
            "\n"
          ]
        },
        {
          "name": "stderr",
          "output_type": "stream",
          "text": [
            "100%|██████████| 4608/4608 [00:01<00:00, 2925.61it/s]\n"
          ]
        },
        {
          "name": "stdout",
          "output_type": "stream",
          "text": [
            "The quantization error of layer 19 is 3.1343295574188232.\n",
            "The relative quantization error of layer 19 is 0.08820817619562149.\n",
            "\n",
            "\n",
            "Quantizing layer with index: 20\n",
            "Quantization progress: 20 out of 20\n",
            "\n",
            "The number of groups: 1\n",
            "\n"
          ]
        },
        {
          "name": "stderr",
          "output_type": "stream",
          "text": [
            "100%|██████████| 512/512 [00:00<00:00, 2984.34it/s]\n"
          ]
        },
        {
          "name": "stdout",
          "output_type": "stream",
          "text": [
            "The quantization error of layer 20 is 24.578527450561523.\n",
            "The relative quantization error of layer 20 is 0.17717735469341278.\n",
            "\n",
            "Bits 16, Effective Quantized Bit Size: 15.57551099601019\n",
            "Bits 16, Quantized Test Accuracy: 0.9026\n",
            "Layer indices to quantize [0, 1, 2, 3, 4, 5, 6, 7, 8, 9, 10, 11, 12, 13, 14, 15, 16, 17, 18, 19, 20]\n",
            "Total number of layers to quantize 21\n",
            "\n",
            "Quantizing layer with index: 0\n",
            "Quantization progress: 0 out of 20\n",
            "\n",
            "shape of W: torch.Size([64, 3, 3, 3])\n",
            "shape of analog_layer_input: torch.Size([3968, 27])\n",
            "shape of quantized_layer_input: torch.Size([3968, 27])\n",
            "The number of groups: 1\n",
            "\n"
          ]
        },
        {
          "name": "stderr",
          "output_type": "stream",
          "text": [
            "100%|██████████| 27/27 [00:00<00:00, 325.69it/s]"
          ]
        },
        {
          "name": "stdout",
          "output_type": "stream",
          "text": [
            "The quantization error of layer 0 is 0.08316044509410858.\n",
            "The relative quantization error of layer 0 is 0.00023359069018624723.\n",
            "\n"
          ]
        },
        {
          "name": "stderr",
          "output_type": "stream",
          "text": [
            "\n"
          ]
        },
        {
          "name": "stdout",
          "output_type": "stream",
          "text": [
            "\n",
            "Quantizing layer with index: 1\n",
            "Quantization progress: 1 out of 20\n",
            "\n",
            "shape of W: torch.Size([64, 64, 3, 3])\n",
            "shape of analog_layer_input: torch.Size([3968, 576])\n",
            "shape of quantized_layer_input: torch.Size([3968, 576])\n",
            "The number of groups: 1\n",
            "\n"
          ]
        },
        {
          "name": "stderr",
          "output_type": "stream",
          "text": [
            "100%|██████████| 576/576 [00:00<00:00, 914.53it/s]\n"
          ]
        },
        {
          "name": "stdout",
          "output_type": "stream",
          "text": [
            "The quantization error of layer 1 is 0.15455986559391022.\n",
            "The relative quantization error of layer 1 is 0.00030271903960965574.\n",
            "\n",
            "\n",
            "Quantizing layer with index: 2\n",
            "Quantization progress: 2 out of 20\n",
            "\n",
            "shape of W: torch.Size([64, 64, 3, 3])\n",
            "shape of analog_layer_input: torch.Size([3968, 576])\n",
            "shape of quantized_layer_input: torch.Size([3968, 576])\n",
            "The number of groups: 1\n",
            "\n"
          ]
        },
        {
          "name": "stderr",
          "output_type": "stream",
          "text": [
            "100%|██████████| 576/576 [00:00<00:00, 2114.05it/s]\n"
          ]
        },
        {
          "name": "stdout",
          "output_type": "stream",
          "text": [
            "The quantization error of layer 2 is 0.23636572062969208.\n",
            "The relative quantization error of layer 2 is 0.0009314347989857197.\n",
            "\n",
            "\n",
            "Quantizing layer with index: 3\n",
            "Quantization progress: 3 out of 20\n",
            "\n",
            "shape of W: torch.Size([64, 64, 3, 3])\n",
            "shape of analog_layer_input: torch.Size([3968, 576])\n",
            "shape of quantized_layer_input: torch.Size([3968, 576])\n",
            "The number of groups: 1\n",
            "\n"
          ]
        },
        {
          "name": "stderr",
          "output_type": "stream",
          "text": [
            "100%|██████████| 576/576 [00:00<00:00, 2288.67it/s]\n"
          ]
        },
        {
          "name": "stdout",
          "output_type": "stream",
          "text": [
            "The quantization error of layer 3 is 0.7346803545951843.\n",
            "The relative quantization error of layer 3 is 0.0013932643923908472.\n",
            "\n",
            "\n",
            "Quantizing layer with index: 4\n",
            "Quantization progress: 4 out of 20\n",
            "\n",
            "shape of W: torch.Size([64, 64, 3, 3])\n",
            "shape of analog_layer_input: torch.Size([3968, 576])\n",
            "shape of quantized_layer_input: torch.Size([3968, 576])\n",
            "The number of groups: 1\n",
            "\n"
          ]
        },
        {
          "name": "stderr",
          "output_type": "stream",
          "text": [
            "100%|██████████| 576/576 [00:00<00:00, 2364.48it/s]\n"
          ]
        },
        {
          "name": "stdout",
          "output_type": "stream",
          "text": [
            "The quantization error of layer 4 is 0.34344786405563354.\n",
            "The relative quantization error of layer 4 is 0.0018673305166885257.\n",
            "\n",
            "\n",
            "Quantizing layer with index: 5\n",
            "Quantization progress: 5 out of 20\n",
            "\n",
            "shape of W: torch.Size([128, 64, 3, 3])\n",
            "shape of analog_layer_input: torch.Size([3968, 576])\n",
            "shape of quantized_layer_input: torch.Size([3968, 576])\n",
            "The number of groups: 1\n",
            "\n"
          ]
        },
        {
          "name": "stderr",
          "output_type": "stream",
          "text": [
            "100%|██████████| 576/576 [00:00<00:00, 1818.67it/s]\n"
          ]
        },
        {
          "name": "stdout",
          "output_type": "stream",
          "text": [
            "The quantization error of layer 5 is 1.0086207389831543.\n",
            "The relative quantization error of layer 5 is 0.001477147568948567.\n",
            "\n",
            "\n",
            "Quantizing layer with index: 6\n",
            "Quantization progress: 6 out of 20\n",
            "\n",
            "shape of W: torch.Size([128, 128, 3, 3])\n",
            "shape of analog_layer_input: torch.Size([1280, 1152])\n",
            "shape of quantized_layer_input: torch.Size([1280, 1152])\n",
            "The number of groups: 1\n",
            "\n"
          ]
        },
        {
          "name": "stderr",
          "output_type": "stream",
          "text": [
            "100%|██████████| 1152/1152 [00:00<00:00, 2895.57it/s]\n"
          ]
        },
        {
          "name": "stdout",
          "output_type": "stream",
          "text": [
            "The quantization error of layer 6 is 0.17497780919075012.\n",
            "The relative quantization error of layer 6 is 0.001099943183362484.\n",
            "\n",
            "\n",
            "Quantizing layer with index: 7\n",
            "Quantization progress: 7 out of 20\n",
            "\n",
            "shape of W: torch.Size([128, 64, 1, 1])\n",
            "shape of analog_layer_input: torch.Size([32896, 64])\n",
            "shape of quantized_layer_input: torch.Size([32896, 64])\n",
            "The number of groups: 1\n",
            "\n"
          ]
        },
        {
          "name": "stderr",
          "output_type": "stream",
          "text": [
            "100%|██████████| 64/64 [00:00<00:00, 296.64it/s]\n"
          ]
        },
        {
          "name": "stdout",
          "output_type": "stream",
          "text": [
            "The quantization error of layer 7 is 40.97596740722656.\n",
            "The relative quantization error of layer 7 is 0.052592016756534576.\n",
            "\n",
            "\n",
            "Quantizing layer with index: 8\n",
            "Quantization progress: 8 out of 20\n",
            "\n",
            "shape of W: torch.Size([128, 128, 3, 3])\n",
            "shape of analog_layer_input: torch.Size([1280, 1152])\n",
            "shape of quantized_layer_input: torch.Size([1280, 1152])\n",
            "The number of groups: 1\n",
            "\n"
          ]
        },
        {
          "name": "stderr",
          "output_type": "stream",
          "text": [
            "100%|██████████| 1152/1152 [00:00<00:00, 2562.68it/s]\n"
          ]
        },
        {
          "name": "stdout",
          "output_type": "stream",
          "text": [
            "The quantization error of layer 8 is 7.0949249267578125.\n",
            "The relative quantization error of layer 8 is 0.029837096109986305.\n",
            "\n",
            "\n",
            "Quantizing layer with index: 9\n",
            "Quantization progress: 9 out of 20\n",
            "\n",
            "shape of W: torch.Size([128, 128, 3, 3])\n",
            "shape of analog_layer_input: torch.Size([1280, 1152])\n",
            "shape of quantized_layer_input: torch.Size([1280, 1152])\n",
            "The number of groups: 1\n",
            "\n"
          ]
        },
        {
          "name": "stderr",
          "output_type": "stream",
          "text": [
            "100%|██████████| 1152/1152 [00:00<00:00, 1858.15it/s]\n"
          ]
        },
        {
          "name": "stdout",
          "output_type": "stream",
          "text": [
            "The quantization error of layer 9 is 3.10638165473938.\n",
            "The relative quantization error of layer 9 is 0.03242683783173561.\n",
            "\n",
            "\n",
            "Quantizing layer with index: 10\n",
            "Quantization progress: 10 out of 20\n",
            "\n",
            "shape of W: torch.Size([256, 128, 3, 3])\n",
            "shape of analog_layer_input: torch.Size([1280, 1152])\n",
            "shape of quantized_layer_input: torch.Size([1280, 1152])\n",
            "The number of groups: 1\n",
            "\n"
          ]
        },
        {
          "name": "stderr",
          "output_type": "stream",
          "text": [
            "100%|██████████| 1152/1152 [00:00<00:00, 1745.44it/s]\n"
          ]
        },
        {
          "name": "stdout",
          "output_type": "stream",
          "text": [
            "The quantization error of layer 10 is 12.755586624145508.\n",
            "The relative quantization error of layer 10 is 0.03397800400853157.\n",
            "\n",
            "\n",
            "Quantizing layer with index: 11\n",
            "Quantization progress: 11 out of 20\n",
            "\n",
            "shape of W: torch.Size([256, 256, 3, 3])\n",
            "shape of analog_layer_input: torch.Size([384, 2304])\n",
            "shape of quantized_layer_input: torch.Size([384, 2304])\n",
            "The number of groups: 1\n",
            "\n"
          ]
        },
        {
          "name": "stderr",
          "output_type": "stream",
          "text": [
            "100%|██████████| 2304/2304 [00:00<00:00, 2881.22it/s]\n"
          ]
        },
        {
          "name": "stdout",
          "output_type": "stream",
          "text": [
            "The quantization error of layer 11 is 2.3169424533843994.\n",
            "The relative quantization error of layer 11 is 0.019110174849629402.\n",
            "\n",
            "\n",
            "Quantizing layer with index: 12\n",
            "Quantization progress: 12 out of 20\n",
            "\n",
            "shape of W: torch.Size([256, 128, 1, 1])\n",
            "shape of analog_layer_input: torch.Size([8320, 128])\n",
            "shape of quantized_layer_input: torch.Size([8320, 128])\n",
            "The number of groups: 1\n",
            "\n"
          ]
        },
        {
          "name": "stderr",
          "output_type": "stream",
          "text": [
            "100%|██████████| 128/128 [00:00<00:00, 787.00it/s]"
          ]
        },
        {
          "name": "stdout",
          "output_type": "stream",
          "text": [
            "The quantization error of layer 12 is 12.858644485473633.\n",
            "The relative quantization error of layer 12 is 0.05539127066731453.\n",
            "\n"
          ]
        },
        {
          "name": "stderr",
          "output_type": "stream",
          "text": [
            "\n"
          ]
        },
        {
          "name": "stdout",
          "output_type": "stream",
          "text": [
            "\n",
            "Quantizing layer with index: 13\n",
            "Quantization progress: 13 out of 20\n",
            "\n",
            "shape of W: torch.Size([256, 256, 3, 3])\n",
            "shape of analog_layer_input: torch.Size([384, 2304])\n",
            "shape of quantized_layer_input: torch.Size([384, 2304])\n",
            "The number of groups: 1\n",
            "\n"
          ]
        },
        {
          "name": "stderr",
          "output_type": "stream",
          "text": [
            "100%|██████████| 2304/2304 [00:01<00:00, 2282.63it/s]\n"
          ]
        },
        {
          "name": "stdout",
          "output_type": "stream",
          "text": [
            "The quantization error of layer 13 is 2.6681058406829834.\n",
            "The relative quantization error of layer 13 is 0.015126652084290981.\n",
            "\n",
            "\n",
            "Quantizing layer with index: 14\n",
            "Quantization progress: 14 out of 20\n",
            "\n",
            "shape of W: torch.Size([256, 256, 3, 3])\n",
            "shape of analog_layer_input: torch.Size([384, 2304])\n",
            "shape of quantized_layer_input: torch.Size([384, 2304])\n",
            "The number of groups: 1\n",
            "\n"
          ]
        },
        {
          "name": "stderr",
          "output_type": "stream",
          "text": [
            "100%|██████████| 2304/2304 [00:00<00:00, 2407.04it/s]\n"
          ]
        },
        {
          "name": "stdout",
          "output_type": "stream",
          "text": [
            "The quantization error of layer 14 is 1.2815895080566406.\n",
            "The relative quantization error of layer 14 is 0.021497521549463272.\n",
            "\n",
            "\n",
            "Quantizing layer with index: 15\n",
            "Quantization progress: 15 out of 20\n",
            "\n",
            "shape of W: torch.Size([512, 256, 3, 3])\n",
            "shape of analog_layer_input: torch.Size([384, 2304])\n",
            "shape of quantized_layer_input: torch.Size([384, 2304])\n",
            "The number of groups: 1\n",
            "\n"
          ]
        },
        {
          "name": "stderr",
          "output_type": "stream",
          "text": [
            "100%|██████████| 2304/2304 [00:00<00:00, 2567.16it/s]\n"
          ]
        },
        {
          "name": "stdout",
          "output_type": "stream",
          "text": [
            "The quantization error of layer 15 is 5.775449752807617.\n",
            "The relative quantization error of layer 15 is 0.023810921236872673.\n",
            "\n",
            "\n",
            "Quantizing layer with index: 16\n",
            "Quantization progress: 16 out of 20\n",
            "\n",
            "shape of W: torch.Size([512, 512, 3, 3])\n",
            "shape of analog_layer_input: torch.Size([256, 4608])\n",
            "shape of quantized_layer_input: torch.Size([256, 4608])\n",
            "The number of groups: 1\n",
            "\n"
          ]
        },
        {
          "name": "stderr",
          "output_type": "stream",
          "text": [
            "100%|██████████| 4608/4608 [00:01<00:00, 2360.62it/s]\n"
          ]
        },
        {
          "name": "stdout",
          "output_type": "stream",
          "text": [
            "The quantization error of layer 16 is 0.8893428444862366.\n",
            "The relative quantization error of layer 16 is 0.014211148954927921.\n",
            "\n",
            "\n",
            "Quantizing layer with index: 17\n",
            "Quantization progress: 17 out of 20\n",
            "\n",
            "shape of W: torch.Size([512, 256, 1, 1])\n",
            "shape of analog_layer_input: torch.Size([2176, 256])\n",
            "shape of quantized_layer_input: torch.Size([2176, 256])\n",
            "The number of groups: 1\n",
            "\n"
          ]
        },
        {
          "name": "stderr",
          "output_type": "stream",
          "text": [
            "100%|██████████| 256/256 [00:00<00:00, 1597.62it/s]"
          ]
        },
        {
          "name": "stdout",
          "output_type": "stream",
          "text": [
            "The quantization error of layer 17 is 12.95311450958252.\n",
            "The relative quantization error of layer 17 is 0.07812675833702087.\n",
            "\n"
          ]
        },
        {
          "name": "stderr",
          "output_type": "stream",
          "text": [
            "\n"
          ]
        },
        {
          "name": "stdout",
          "output_type": "stream",
          "text": [
            "\n",
            "Quantizing layer with index: 18\n",
            "Quantization progress: 18 out of 20\n",
            "\n",
            "shape of W: torch.Size([512, 512, 3, 3])\n",
            "shape of analog_layer_input: torch.Size([256, 4608])\n",
            "shape of quantized_layer_input: torch.Size([256, 4608])\n",
            "The number of groups: 1\n",
            "\n"
          ]
        },
        {
          "name": "stderr",
          "output_type": "stream",
          "text": [
            "100%|██████████| 4608/4608 [00:01<00:00, 3354.08it/s]\n"
          ]
        },
        {
          "name": "stdout",
          "output_type": "stream",
          "text": [
            "The quantization error of layer 18 is 4.897251605987549.\n",
            "The relative quantization error of layer 18 is 0.02688286267220974.\n",
            "\n",
            "\n",
            "Quantizing layer with index: 19\n",
            "Quantization progress: 19 out of 20\n",
            "\n",
            "shape of W: torch.Size([512, 512, 3, 3])\n",
            "shape of analog_layer_input: torch.Size([256, 4608])\n",
            "shape of quantized_layer_input: torch.Size([256, 4608])\n",
            "The number of groups: 1\n",
            "\n"
          ]
        },
        {
          "name": "stderr",
          "output_type": "stream",
          "text": [
            "100%|██████████| 4608/4608 [00:01<00:00, 3007.37it/s]\n"
          ]
        },
        {
          "name": "stdout",
          "output_type": "stream",
          "text": [
            "The quantization error of layer 19 is 3.2507944107055664.\n",
            "The relative quantization error of layer 19 is 0.08868188410997391.\n",
            "\n",
            "\n",
            "Quantizing layer with index: 20\n",
            "Quantization progress: 20 out of 20\n",
            "\n",
            "The number of groups: 1\n",
            "\n"
          ]
        },
        {
          "name": "stderr",
          "output_type": "stream",
          "text": [
            "100%|██████████| 512/512 [00:00<00:00, 2908.38it/s]\n"
          ]
        },
        {
          "name": "stdout",
          "output_type": "stream",
          "text": [
            "The quantization error of layer 20 is 26.43056297302246.\n",
            "The relative quantization error of layer 20 is 0.19489270448684692.\n",
            "\n",
            "Bits 12, Effective Quantized Bit Size: 12.144265391273033\n",
            "Bits 12, Quantized Test Accuracy: 0.9021\n",
            "Layer indices to quantize [0, 1, 2, 3, 4, 5, 6, 7, 8, 9, 10, 11, 12, 13, 14, 15, 16, 17, 18, 19, 20]\n",
            "Total number of layers to quantize 21\n",
            "\n",
            "Quantizing layer with index: 0\n",
            "Quantization progress: 0 out of 20\n",
            "\n",
            "shape of W: torch.Size([64, 3, 3, 3])\n",
            "shape of analog_layer_input: torch.Size([3968, 27])\n",
            "shape of quantized_layer_input: torch.Size([3968, 27])\n",
            "The number of groups: 1\n",
            "\n"
          ]
        },
        {
          "name": "stderr",
          "output_type": "stream",
          "text": [
            "100%|██████████| 27/27 [00:00<00:00, 354.78it/s]"
          ]
        },
        {
          "name": "stdout",
          "output_type": "stream",
          "text": [
            "The quantization error of layer 0 is 1.6957980394363403.\n",
            "The relative quantization error of layer 0 is 0.004974424839019775.\n",
            "\n"
          ]
        },
        {
          "name": "stderr",
          "output_type": "stream",
          "text": [
            "\n"
          ]
        },
        {
          "name": "stdout",
          "output_type": "stream",
          "text": [
            "\n",
            "Quantizing layer with index: 1\n",
            "Quantization progress: 1 out of 20\n",
            "\n",
            "shape of W: torch.Size([64, 64, 3, 3])\n",
            "shape of analog_layer_input: torch.Size([3968, 576])\n",
            "shape of quantized_layer_input: torch.Size([3968, 576])\n",
            "The number of groups: 1\n",
            "\n"
          ]
        },
        {
          "name": "stderr",
          "output_type": "stream",
          "text": [
            "100%|██████████| 576/576 [00:00<00:00, 990.93it/s] \n"
          ]
        },
        {
          "name": "stdout",
          "output_type": "stream",
          "text": [
            "The quantization error of layer 1 is 3.7627859115600586.\n",
            "The relative quantization error of layer 1 is 0.007369927130639553.\n",
            "\n",
            "\n",
            "Quantizing layer with index: 2\n",
            "Quantization progress: 2 out of 20\n",
            "\n",
            "shape of W: torch.Size([64, 64, 3, 3])\n",
            "shape of analog_layer_input: torch.Size([3968, 576])\n",
            "shape of quantized_layer_input: torch.Size([3968, 576])\n",
            "The number of groups: 1\n",
            "\n"
          ]
        },
        {
          "name": "stderr",
          "output_type": "stream",
          "text": [
            "100%|██████████| 576/576 [00:00<00:00, 1864.73it/s]\n"
          ]
        },
        {
          "name": "stdout",
          "output_type": "stream",
          "text": [
            "The quantization error of layer 2 is 3.028160333633423.\n",
            "The relative quantization error of layer 2 is 0.011920551769435406.\n",
            "\n",
            "\n",
            "Quantizing layer with index: 3\n",
            "Quantization progress: 3 out of 20\n",
            "\n",
            "shape of W: torch.Size([64, 64, 3, 3])\n",
            "shape of analog_layer_input: torch.Size([3968, 576])\n",
            "shape of quantized_layer_input: torch.Size([3968, 576])\n",
            "The number of groups: 1\n",
            "\n"
          ]
        },
        {
          "name": "stderr",
          "output_type": "stream",
          "text": [
            "100%|██████████| 576/576 [00:00<00:00, 1602.68it/s]\n"
          ]
        },
        {
          "name": "stdout",
          "output_type": "stream",
          "text": [
            "The quantization error of layer 3 is 11.575591087341309.\n",
            "The relative quantization error of layer 3 is 0.021892433986067772.\n",
            "\n",
            "\n",
            "Quantizing layer with index: 4\n",
            "Quantization progress: 4 out of 20\n",
            "\n",
            "shape of W: torch.Size([64, 64, 3, 3])\n",
            "shape of analog_layer_input: torch.Size([3968, 576])\n",
            "shape of quantized_layer_input: torch.Size([3968, 576])\n",
            "The number of groups: 1\n",
            "\n"
          ]
        },
        {
          "name": "stderr",
          "output_type": "stream",
          "text": [
            "100%|██████████| 576/576 [00:00<00:00, 2147.09it/s]\n"
          ]
        },
        {
          "name": "stdout",
          "output_type": "stream",
          "text": [
            "The quantization error of layer 4 is 5.559032917022705.\n",
            "The relative quantization error of layer 4 is 0.030082030221819878.\n",
            "\n",
            "\n",
            "Quantizing layer with index: 5\n",
            "Quantization progress: 5 out of 20\n",
            "\n",
            "shape of W: torch.Size([128, 64, 3, 3])\n",
            "shape of analog_layer_input: torch.Size([3968, 576])\n",
            "shape of quantized_layer_input: torch.Size([3968, 576])\n",
            "The number of groups: 1\n",
            "\n"
          ]
        },
        {
          "name": "stderr",
          "output_type": "stream",
          "text": [
            "100%|██████████| 576/576 [00:00<00:00, 1483.96it/s]\n"
          ]
        },
        {
          "name": "stdout",
          "output_type": "stream",
          "text": [
            "The quantization error of layer 5 is 14.491621017456055.\n",
            "The relative quantization error of layer 5 is 0.020925600081682205.\n",
            "\n",
            "\n",
            "Quantizing layer with index: 6\n",
            "Quantization progress: 6 out of 20\n",
            "\n",
            "shape of W: torch.Size([128, 128, 3, 3])\n",
            "shape of analog_layer_input: torch.Size([1280, 1152])\n",
            "shape of quantized_layer_input: torch.Size([1280, 1152])\n",
            "The number of groups: 1\n",
            "\n"
          ]
        },
        {
          "name": "stderr",
          "output_type": "stream",
          "text": [
            "100%|██████████| 1152/1152 [00:00<00:00, 2701.20it/s]\n"
          ]
        },
        {
          "name": "stdout",
          "output_type": "stream",
          "text": [
            "The quantization error of layer 6 is 2.800699472427368.\n",
            "The relative quantization error of layer 6 is 0.017805658280849457.\n",
            "\n",
            "\n",
            "Quantizing layer with index: 7\n",
            "Quantization progress: 7 out of 20\n",
            "\n",
            "shape of W: torch.Size([128, 64, 1, 1])\n",
            "shape of analog_layer_input: torch.Size([32896, 64])\n",
            "shape of quantized_layer_input: torch.Size([32896, 64])\n",
            "The number of groups: 1\n",
            "\n"
          ]
        },
        {
          "name": "stderr",
          "output_type": "stream",
          "text": [
            "100%|██████████| 64/64 [00:00<00:00, 326.10it/s]\n"
          ]
        },
        {
          "name": "stdout",
          "output_type": "stream",
          "text": [
            "The quantization error of layer 7 is 68.39308166503906.\n",
            "The relative quantization error of layer 7 is 0.0878351554274559.\n",
            "\n",
            "\n",
            "Quantizing layer with index: 8\n",
            "Quantization progress: 8 out of 20\n",
            "\n",
            "shape of W: torch.Size([128, 128, 3, 3])\n",
            "shape of analog_layer_input: torch.Size([1280, 1152])\n",
            "shape of quantized_layer_input: torch.Size([1280, 1152])\n",
            "The number of groups: 1\n",
            "\n"
          ]
        },
        {
          "name": "stderr",
          "output_type": "stream",
          "text": [
            "100%|██████████| 1152/1152 [00:00<00:00, 3029.82it/s]\n"
          ]
        },
        {
          "name": "stdout",
          "output_type": "stream",
          "text": [
            "The quantization error of layer 8 is 10.935529708862305.\n",
            "The relative quantization error of layer 8 is 0.04576161503791809.\n",
            "\n",
            "\n",
            "Quantizing layer with index: 9\n",
            "Quantization progress: 9 out of 20\n",
            "\n",
            "shape of W: torch.Size([128, 128, 3, 3])\n",
            "shape of analog_layer_input: torch.Size([1280, 1152])\n",
            "shape of quantized_layer_input: torch.Size([1280, 1152])\n",
            "The number of groups: 1\n",
            "\n"
          ]
        },
        {
          "name": "stderr",
          "output_type": "stream",
          "text": [
            "100%|██████████| 1152/1152 [00:00<00:00, 2989.69it/s]\n"
          ]
        },
        {
          "name": "stdout",
          "output_type": "stream",
          "text": [
            "The quantization error of layer 9 is 4.594747066497803.\n",
            "The relative quantization error of layer 9 is 0.04884791746735573.\n",
            "\n",
            "\n",
            "Quantizing layer with index: 10\n",
            "Quantization progress: 10 out of 20\n",
            "\n",
            "shape of W: torch.Size([256, 128, 3, 3])\n",
            "shape of analog_layer_input: torch.Size([1280, 1152])\n",
            "shape of quantized_layer_input: torch.Size([1280, 1152])\n",
            "The number of groups: 1\n",
            "\n"
          ]
        },
        {
          "name": "stderr",
          "output_type": "stream",
          "text": [
            "100%|██████████| 1152/1152 [00:00<00:00, 2249.96it/s]\n"
          ]
        },
        {
          "name": "stdout",
          "output_type": "stream",
          "text": [
            "The quantization error of layer 10 is 20.367515563964844.\n",
            "The relative quantization error of layer 10 is 0.053942736238241196.\n",
            "\n",
            "\n",
            "Quantizing layer with index: 11\n",
            "Quantization progress: 11 out of 20\n",
            "\n",
            "shape of W: torch.Size([256, 256, 3, 3])\n",
            "shape of analog_layer_input: torch.Size([384, 2304])\n",
            "shape of quantized_layer_input: torch.Size([384, 2304])\n",
            "The number of groups: 1\n",
            "\n"
          ]
        },
        {
          "name": "stderr",
          "output_type": "stream",
          "text": [
            "100%|██████████| 2304/2304 [00:00<00:00, 2473.21it/s]\n"
          ]
        },
        {
          "name": "stdout",
          "output_type": "stream",
          "text": [
            "The quantization error of layer 11 is 4.10217809677124.\n",
            "The relative quantization error of layer 11 is 0.0337643027305603.\n",
            "\n",
            "\n",
            "Quantizing layer with index: 12\n",
            "Quantization progress: 12 out of 20\n",
            "\n",
            "shape of W: torch.Size([256, 128, 1, 1])\n",
            "shape of analog_layer_input: torch.Size([8320, 128])\n",
            "shape of quantized_layer_input: torch.Size([8320, 128])\n",
            "The number of groups: 1\n",
            "\n"
          ]
        },
        {
          "name": "stderr",
          "output_type": "stream",
          "text": [
            "100%|██████████| 128/128 [00:00<00:00, 711.72it/s]"
          ]
        },
        {
          "name": "stdout",
          "output_type": "stream",
          "text": [
            "The quantization error of layer 12 is 20.513347625732422.\n",
            "The relative quantization error of layer 12 is 0.08817160874605179.\n",
            "\n"
          ]
        },
        {
          "name": "stderr",
          "output_type": "stream",
          "text": [
            "\n"
          ]
        },
        {
          "name": "stdout",
          "output_type": "stream",
          "text": [
            "\n",
            "Quantizing layer with index: 13\n",
            "Quantization progress: 13 out of 20\n",
            "\n",
            "shape of W: torch.Size([256, 256, 3, 3])\n",
            "shape of analog_layer_input: torch.Size([384, 2304])\n",
            "shape of quantized_layer_input: torch.Size([384, 2304])\n",
            "The number of groups: 1\n",
            "\n"
          ]
        },
        {
          "name": "stderr",
          "output_type": "stream",
          "text": [
            "100%|██████████| 2304/2304 [00:00<00:00, 2783.43it/s]\n"
          ]
        },
        {
          "name": "stdout",
          "output_type": "stream",
          "text": [
            "The quantization error of layer 13 is 4.553573131561279.\n",
            "The relative quantization error of layer 13 is 0.02591133862733841.\n",
            "\n",
            "\n",
            "Quantizing layer with index: 14\n",
            "Quantization progress: 14 out of 20\n",
            "\n",
            "shape of W: torch.Size([256, 256, 3, 3])\n",
            "shape of analog_layer_input: torch.Size([384, 2304])\n",
            "shape of quantized_layer_input: torch.Size([384, 2304])\n",
            "The number of groups: 1\n",
            "\n"
          ]
        },
        {
          "name": "stderr",
          "output_type": "stream",
          "text": [
            "100%|██████████| 2304/2304 [00:00<00:00, 2509.78it/s]\n"
          ]
        },
        {
          "name": "stdout",
          "output_type": "stream",
          "text": [
            "The quantization error of layer 14 is 2.3849778175354004.\n",
            "The relative quantization error of layer 14 is 0.03941047191619873.\n",
            "\n",
            "\n",
            "Quantizing layer with index: 15\n",
            "Quantization progress: 15 out of 20\n",
            "\n",
            "shape of W: torch.Size([512, 256, 3, 3])\n",
            "shape of analog_layer_input: torch.Size([384, 2304])\n",
            "shape of quantized_layer_input: torch.Size([384, 2304])\n",
            "The number of groups: 1\n",
            "\n"
          ]
        },
        {
          "name": "stderr",
          "output_type": "stream",
          "text": [
            "100%|██████████| 2304/2304 [00:00<00:00, 2641.14it/s]\n"
          ]
        },
        {
          "name": "stdout",
          "output_type": "stream",
          "text": [
            "The quantization error of layer 15 is 10.520792961120605.\n",
            "The relative quantization error of layer 15 is 0.04301517456769943.\n",
            "\n",
            "\n",
            "Quantizing layer with index: 16\n",
            "Quantization progress: 16 out of 20\n",
            "\n",
            "shape of W: torch.Size([512, 512, 3, 3])\n",
            "shape of analog_layer_input: torch.Size([256, 4608])\n",
            "shape of quantized_layer_input: torch.Size([256, 4608])\n",
            "The number of groups: 1\n",
            "\n"
          ]
        },
        {
          "name": "stderr",
          "output_type": "stream",
          "text": [
            "100%|██████████| 4608/4608 [00:01<00:00, 2528.24it/s]\n"
          ]
        },
        {
          "name": "stdout",
          "output_type": "stream",
          "text": [
            "The quantization error of layer 16 is 1.5580731630325317.\n",
            "The relative quantization error of layer 16 is 0.025309620425105095.\n",
            "\n",
            "\n",
            "Quantizing layer with index: 17\n",
            "Quantization progress: 17 out of 20\n",
            "\n",
            "shape of W: torch.Size([512, 256, 1, 1])\n",
            "shape of analog_layer_input: torch.Size([2176, 256])\n",
            "shape of quantized_layer_input: torch.Size([2176, 256])\n",
            "The number of groups: 1\n",
            "\n"
          ]
        },
        {
          "name": "stderr",
          "output_type": "stream",
          "text": [
            "100%|██████████| 256/256 [00:00<00:00, 851.27it/s]\n"
          ]
        },
        {
          "name": "stdout",
          "output_type": "stream",
          "text": [
            "The quantization error of layer 17 is 22.65961456298828.\n",
            "The relative quantization error of layer 17 is 0.13666889071464539.\n",
            "\n",
            "\n",
            "Quantizing layer with index: 18\n",
            "Quantization progress: 18 out of 20\n",
            "\n",
            "shape of W: torch.Size([512, 512, 3, 3])\n",
            "shape of analog_layer_input: torch.Size([256, 4608])\n",
            "shape of quantized_layer_input: torch.Size([256, 4608])\n",
            "The number of groups: 1\n",
            "\n"
          ]
        },
        {
          "name": "stderr",
          "output_type": "stream",
          "text": [
            "100%|██████████| 4608/4608 [00:01<00:00, 2521.35it/s]\n"
          ]
        },
        {
          "name": "stdout",
          "output_type": "stream",
          "text": [
            "The quantization error of layer 18 is 6.418839931488037.\n",
            "The relative quantization error of layer 18 is 0.035100214183330536.\n",
            "\n",
            "\n",
            "Quantizing layer with index: 19\n",
            "Quantization progress: 19 out of 20\n",
            "\n",
            "shape of W: torch.Size([512, 512, 3, 3])\n",
            "shape of analog_layer_input: torch.Size([256, 4608])\n",
            "shape of quantized_layer_input: torch.Size([256, 4608])\n",
            "The number of groups: 1\n",
            "\n"
          ]
        },
        {
          "name": "stderr",
          "output_type": "stream",
          "text": [
            "100%|██████████| 4608/4608 [00:01<00:00, 2667.06it/s]\n"
          ]
        },
        {
          "name": "stdout",
          "output_type": "stream",
          "text": [
            "The quantization error of layer 19 is 3.8145570755004883.\n",
            "The relative quantization error of layer 19 is 0.10899676382541656.\n",
            "\n",
            "\n",
            "Quantizing layer with index: 20\n",
            "Quantization progress: 20 out of 20\n",
            "\n",
            "The number of groups: 1\n",
            "\n"
          ]
        },
        {
          "name": "stderr",
          "output_type": "stream",
          "text": [
            "100%|██████████| 512/512 [00:00<00:00, 2635.12it/s]\n"
          ]
        },
        {
          "name": "stdout",
          "output_type": "stream",
          "text": [
            "The quantization error of layer 20 is 32.068084716796875.\n",
            "The relative quantization error of layer 20 is 0.23370645940303802.\n",
            "\n",
            "Bits 8, Effective Quantized Bit Size: 8.633652414425608\n",
            "Bits 8, Quantized Test Accuracy: 0.8896\n",
            "Layer indices to quantize [0, 1, 2, 3, 4, 5, 6, 7, 8, 9, 10, 11, 12, 13, 14, 15, 16, 17, 18, 19, 20]\n",
            "Total number of layers to quantize 21\n",
            "\n",
            "Quantizing layer with index: 0\n",
            "Quantization progress: 0 out of 20\n",
            "\n",
            "shape of W: torch.Size([64, 3, 3, 3])\n",
            "shape of analog_layer_input: torch.Size([3968, 27])\n",
            "shape of quantized_layer_input: torch.Size([3968, 27])\n",
            "The number of groups: 1\n",
            "\n"
          ]
        },
        {
          "name": "stderr",
          "output_type": "stream",
          "text": [
            "100%|██████████| 27/27 [00:00<00:00, 409.11it/s]"
          ]
        },
        {
          "name": "stdout",
          "output_type": "stream",
          "text": [
            "The quantization error of layer 0 is 4.173623085021973.\n",
            "The relative quantization error of layer 0 is 0.011807788163423538.\n",
            "\n"
          ]
        },
        {
          "name": "stderr",
          "output_type": "stream",
          "text": [
            "\n"
          ]
        },
        {
          "name": "stdout",
          "output_type": "stream",
          "text": [
            "\n",
            "Quantizing layer with index: 1\n",
            "Quantization progress: 1 out of 20\n",
            "\n",
            "shape of W: torch.Size([64, 64, 3, 3])\n",
            "shape of analog_layer_input: torch.Size([3968, 576])\n",
            "shape of quantized_layer_input: torch.Size([3968, 576])\n",
            "The number of groups: 1\n",
            "\n"
          ]
        },
        {
          "name": "stderr",
          "output_type": "stream",
          "text": [
            "100%|██████████| 576/576 [00:00<00:00, 2788.05it/s]\n"
          ]
        },
        {
          "name": "stdout",
          "output_type": "stream",
          "text": [
            "The quantization error of layer 1 is 7.038405895233154.\n",
            "The relative quantization error of layer 1 is 0.013770471327006817.\n",
            "\n",
            "\n",
            "Quantizing layer with index: 2\n",
            "Quantization progress: 2 out of 20\n",
            "\n",
            "shape of W: torch.Size([64, 64, 3, 3])\n",
            "shape of analog_layer_input: torch.Size([3968, 576])\n",
            "shape of quantized_layer_input: torch.Size([3968, 576])\n",
            "The number of groups: 1\n",
            "\n"
          ]
        },
        {
          "name": "stderr",
          "output_type": "stream",
          "text": [
            "100%|██████████| 576/576 [00:00<00:00, 2635.78it/s]\n"
          ]
        },
        {
          "name": "stdout",
          "output_type": "stream",
          "text": [
            "The quantization error of layer 2 is 6.343954563140869.\n",
            "The relative quantization error of layer 2 is 0.02501145750284195.\n",
            "\n",
            "\n",
            "Quantizing layer with index: 3\n",
            "Quantization progress: 3 out of 20\n",
            "\n",
            "shape of W: torch.Size([64, 64, 3, 3])\n",
            "shape of analog_layer_input: torch.Size([3968, 576])\n",
            "shape of quantized_layer_input: torch.Size([3968, 576])\n",
            "The number of groups: 1\n",
            "\n"
          ]
        },
        {
          "name": "stderr",
          "output_type": "stream",
          "text": [
            "100%|██████████| 576/576 [00:00<00:00, 2631.58it/s]\n"
          ]
        },
        {
          "name": "stdout",
          "output_type": "stream",
          "text": [
            "The quantization error of layer 3 is 15.749892234802246.\n",
            "The relative quantization error of layer 3 is 0.0298826452344656.\n",
            "\n",
            "\n",
            "Quantizing layer with index: 4\n",
            "Quantization progress: 4 out of 20\n",
            "\n",
            "shape of W: torch.Size([64, 64, 3, 3])\n",
            "shape of analog_layer_input: torch.Size([3968, 576])\n",
            "shape of quantized_layer_input: torch.Size([3968, 576])\n",
            "The number of groups: 1\n",
            "\n"
          ]
        },
        {
          "name": "stderr",
          "output_type": "stream",
          "text": [
            "100%|██████████| 576/576 [00:00<00:00, 2299.55it/s]\n"
          ]
        },
        {
          "name": "stdout",
          "output_type": "stream",
          "text": [
            "The quantization error of layer 4 is 7.763983249664307.\n",
            "The relative quantization error of layer 4 is 0.04251343384385109.\n",
            "\n",
            "\n",
            "Quantizing layer with index: 5\n",
            "Quantization progress: 5 out of 20\n",
            "\n",
            "shape of W: torch.Size([128, 64, 3, 3])\n",
            "shape of analog_layer_input: torch.Size([3968, 576])\n",
            "shape of quantized_layer_input: torch.Size([3968, 576])\n",
            "The number of groups: 1\n",
            "\n"
          ]
        },
        {
          "name": "stderr",
          "output_type": "stream",
          "text": [
            "100%|██████████| 576/576 [00:00<00:00, 1748.77it/s]\n"
          ]
        },
        {
          "name": "stdout",
          "output_type": "stream",
          "text": [
            "The quantization error of layer 5 is 26.787782669067383.\n",
            "The relative quantization error of layer 5 is 0.03879544138908386.\n",
            "\n",
            "\n",
            "Quantizing layer with index: 6\n",
            "Quantization progress: 6 out of 20\n",
            "\n",
            "shape of W: torch.Size([128, 128, 3, 3])\n",
            "shape of analog_layer_input: torch.Size([1280, 1152])\n",
            "shape of quantized_layer_input: torch.Size([1280, 1152])\n",
            "The number of groups: 1\n",
            "\n"
          ]
        },
        {
          "name": "stderr",
          "output_type": "stream",
          "text": [
            "100%|██████████| 1152/1152 [00:00<00:00, 2841.58it/s]\n"
          ]
        },
        {
          "name": "stdout",
          "output_type": "stream",
          "text": [
            "The quantization error of layer 6 is 5.494165420532227.\n",
            "The relative quantization error of layer 6 is 0.03427610546350479.\n",
            "\n",
            "\n",
            "Quantizing layer with index: 7\n",
            "Quantization progress: 7 out of 20\n",
            "\n",
            "shape of W: torch.Size([128, 64, 1, 1])\n",
            "shape of analog_layer_input: torch.Size([32896, 64])\n",
            "shape of quantized_layer_input: torch.Size([32896, 64])\n",
            "The number of groups: 1\n",
            "\n"
          ]
        },
        {
          "name": "stderr",
          "output_type": "stream",
          "text": [
            "100%|██████████| 64/64 [00:00<00:00, 361.23it/s]\n"
          ]
        },
        {
          "name": "stdout",
          "output_type": "stream",
          "text": [
            "The quantization error of layer 7 is 74.30039978027344.\n",
            "The relative quantization error of layer 7 is 0.09521587193012238.\n",
            "\n",
            "\n",
            "Quantizing layer with index: 8\n",
            "Quantization progress: 8 out of 20\n",
            "\n",
            "shape of W: torch.Size([128, 128, 3, 3])\n",
            "shape of analog_layer_input: torch.Size([1280, 1152])\n",
            "shape of quantized_layer_input: torch.Size([1280, 1152])\n",
            "The number of groups: 1\n",
            "\n"
          ]
        },
        {
          "name": "stderr",
          "output_type": "stream",
          "text": [
            "100%|██████████| 1152/1152 [00:00<00:00, 3021.71it/s]\n"
          ]
        },
        {
          "name": "stdout",
          "output_type": "stream",
          "text": [
            "The quantization error of layer 8 is 13.504745483398438.\n",
            "The relative quantization error of layer 8 is 0.05695110559463501.\n",
            "\n",
            "\n",
            "Quantizing layer with index: 9\n",
            "Quantization progress: 9 out of 20\n",
            "\n",
            "shape of W: torch.Size([128, 128, 3, 3])\n",
            "shape of analog_layer_input: torch.Size([1280, 1152])\n",
            "shape of quantized_layer_input: torch.Size([1280, 1152])\n",
            "The number of groups: 1\n",
            "\n"
          ]
        },
        {
          "name": "stderr",
          "output_type": "stream",
          "text": [
            "100%|██████████| 1152/1152 [00:00<00:00, 2935.99it/s]\n"
          ]
        },
        {
          "name": "stdout",
          "output_type": "stream",
          "text": [
            "The quantization error of layer 9 is 6.421019077301025.\n",
            "The relative quantization error of layer 9 is 0.06675368547439575.\n",
            "\n",
            "\n",
            "Quantizing layer with index: 10\n",
            "Quantization progress: 10 out of 20\n",
            "\n",
            "shape of W: torch.Size([256, 128, 3, 3])\n",
            "shape of analog_layer_input: torch.Size([1280, 1152])\n",
            "shape of quantized_layer_input: torch.Size([1280, 1152])\n",
            "The number of groups: 1\n",
            "\n"
          ]
        },
        {
          "name": "stderr",
          "output_type": "stream",
          "text": [
            "100%|██████████| 1152/1152 [00:00<00:00, 2257.38it/s]\n"
          ]
        },
        {
          "name": "stdout",
          "output_type": "stream",
          "text": [
            "The quantization error of layer 10 is 25.43597412109375.\n",
            "The relative quantization error of layer 10 is 0.06726601719856262.\n",
            "\n",
            "\n",
            "Quantizing layer with index: 11\n",
            "Quantization progress: 11 out of 20\n",
            "\n",
            "shape of W: torch.Size([256, 256, 3, 3])\n",
            "shape of analog_layer_input: torch.Size([384, 2304])\n",
            "shape of quantized_layer_input: torch.Size([384, 2304])\n",
            "The number of groups: 1\n",
            "\n"
          ]
        },
        {
          "name": "stderr",
          "output_type": "stream",
          "text": [
            "100%|██████████| 2304/2304 [00:00<00:00, 2979.79it/s]\n"
          ]
        },
        {
          "name": "stdout",
          "output_type": "stream",
          "text": [
            "The quantization error of layer 11 is 5.019538879394531.\n",
            "The relative quantization error of layer 11 is 0.04136580973863602.\n",
            "\n",
            "\n",
            "Quantizing layer with index: 12\n",
            "Quantization progress: 12 out of 20\n",
            "\n",
            "shape of W: torch.Size([256, 128, 1, 1])\n",
            "shape of analog_layer_input: torch.Size([8320, 128])\n",
            "shape of quantized_layer_input: torch.Size([8320, 128])\n",
            "The number of groups: 1\n",
            "\n"
          ]
        },
        {
          "name": "stderr",
          "output_type": "stream",
          "text": [
            "100%|██████████| 128/128 [00:00<00:00, 770.86it/s]"
          ]
        },
        {
          "name": "stdout",
          "output_type": "stream",
          "text": [
            "The quantization error of layer 12 is 26.294021606445312.\n",
            "The relative quantization error of layer 12 is 0.1131100207567215.\n",
            "\n"
          ]
        },
        {
          "name": "stderr",
          "output_type": "stream",
          "text": [
            "\n"
          ]
        },
        {
          "name": "stdout",
          "output_type": "stream",
          "text": [
            "\n",
            "Quantizing layer with index: 13\n",
            "Quantization progress: 13 out of 20\n",
            "\n",
            "shape of W: torch.Size([256, 256, 3, 3])\n",
            "shape of analog_layer_input: torch.Size([384, 2304])\n",
            "shape of quantized_layer_input: torch.Size([384, 2304])\n",
            "The number of groups: 1\n",
            "\n"
          ]
        },
        {
          "name": "stderr",
          "output_type": "stream",
          "text": [
            "100%|██████████| 2304/2304 [00:00<00:00, 2984.48it/s]\n"
          ]
        },
        {
          "name": "stdout",
          "output_type": "stream",
          "text": [
            "The quantization error of layer 13 is 6.096246719360352.\n",
            "The relative quantization error of layer 13 is 0.03396002575755119.\n",
            "\n",
            "\n",
            "Quantizing layer with index: 14\n",
            "Quantization progress: 14 out of 20\n",
            "\n",
            "shape of W: torch.Size([256, 256, 3, 3])\n",
            "shape of analog_layer_input: torch.Size([384, 2304])\n",
            "shape of quantized_layer_input: torch.Size([384, 2304])\n",
            "The number of groups: 1\n",
            "\n"
          ]
        },
        {
          "name": "stderr",
          "output_type": "stream",
          "text": [
            "100%|██████████| 2304/2304 [00:00<00:00, 3168.92it/s]\n"
          ]
        },
        {
          "name": "stdout",
          "output_type": "stream",
          "text": [
            "The quantization error of layer 14 is 2.8269007205963135.\n",
            "The relative quantization error of layer 14 is 0.04805105924606323.\n",
            "\n",
            "\n",
            "Quantizing layer with index: 15\n",
            "Quantization progress: 15 out of 20\n",
            "\n",
            "shape of W: torch.Size([512, 256, 3, 3])\n",
            "shape of analog_layer_input: torch.Size([384, 2304])\n",
            "shape of quantized_layer_input: torch.Size([384, 2304])\n",
            "The number of groups: 1\n",
            "\n"
          ]
        },
        {
          "name": "stderr",
          "output_type": "stream",
          "text": [
            "100%|██████████| 2304/2304 [00:00<00:00, 2935.73it/s]\n"
          ]
        },
        {
          "name": "stdout",
          "output_type": "stream",
          "text": [
            "The quantization error of layer 15 is 11.606557846069336.\n",
            "The relative quantization error of layer 15 is 0.04746337607502937.\n",
            "\n",
            "\n",
            "Quantizing layer with index: 16\n",
            "Quantization progress: 16 out of 20\n",
            "\n",
            "shape of W: torch.Size([512, 512, 3, 3])\n",
            "shape of analog_layer_input: torch.Size([256, 4608])\n",
            "shape of quantized_layer_input: torch.Size([256, 4608])\n",
            "The number of groups: 1\n",
            "\n"
          ]
        },
        {
          "name": "stderr",
          "output_type": "stream",
          "text": [
            "100%|██████████| 4608/4608 [00:01<00:00, 2805.36it/s]\n"
          ]
        },
        {
          "name": "stdout",
          "output_type": "stream",
          "text": [
            "The quantization error of layer 16 is 1.6916977167129517.\n",
            "The relative quantization error of layer 16 is 0.02749895304441452.\n",
            "\n",
            "\n",
            "Quantizing layer with index: 17\n",
            "Quantization progress: 17 out of 20\n",
            "\n",
            "shape of W: torch.Size([512, 256, 1, 1])\n",
            "shape of analog_layer_input: torch.Size([2176, 256])\n",
            "shape of quantized_layer_input: torch.Size([2176, 256])\n",
            "The number of groups: 1\n",
            "\n"
          ]
        },
        {
          "name": "stderr",
          "output_type": "stream",
          "text": [
            "100%|██████████| 256/256 [00:00<00:00, 1476.15it/s]"
          ]
        },
        {
          "name": "stdout",
          "output_type": "stream",
          "text": [
            "The quantization error of layer 17 is 25.4346923828125.\n",
            "The relative quantization error of layer 17 is 0.15189436078071594.\n",
            "\n"
          ]
        },
        {
          "name": "stderr",
          "output_type": "stream",
          "text": [
            "\n"
          ]
        },
        {
          "name": "stdout",
          "output_type": "stream",
          "text": [
            "\n",
            "Quantizing layer with index: 18\n",
            "Quantization progress: 18 out of 20\n",
            "\n",
            "shape of W: torch.Size([512, 512, 3, 3])\n",
            "shape of analog_layer_input: torch.Size([256, 4608])\n",
            "shape of quantized_layer_input: torch.Size([256, 4608])\n",
            "The number of groups: 1\n",
            "\n"
          ]
        },
        {
          "name": "stderr",
          "output_type": "stream",
          "text": [
            "100%|██████████| 4608/4608 [00:01<00:00, 3045.90it/s]\n"
          ]
        },
        {
          "name": "stdout",
          "output_type": "stream",
          "text": [
            "The quantization error of layer 18 is 6.542300224304199.\n",
            "The relative quantization error of layer 18 is 0.03522324562072754.\n",
            "\n",
            "\n",
            "Quantizing layer with index: 19\n",
            "Quantization progress: 19 out of 20\n",
            "\n",
            "shape of W: torch.Size([512, 512, 3, 3])\n",
            "shape of analog_layer_input: torch.Size([256, 4608])\n",
            "shape of quantized_layer_input: torch.Size([256, 4608])\n",
            "The number of groups: 1\n",
            "\n"
          ]
        },
        {
          "name": "stderr",
          "output_type": "stream",
          "text": [
            "100%|██████████| 4608/4608 [00:01<00:00, 3155.52it/s]\n"
          ]
        },
        {
          "name": "stdout",
          "output_type": "stream",
          "text": [
            "The quantization error of layer 19 is 3.8516011238098145.\n",
            "The relative quantization error of layer 19 is 0.11020226031541824.\n",
            "\n",
            "\n",
            "Quantizing layer with index: 20\n",
            "Quantization progress: 20 out of 20\n",
            "\n",
            "The number of groups: 1\n",
            "\n"
          ]
        },
        {
          "name": "stderr",
          "output_type": "stream",
          "text": [
            "100%|██████████| 512/512 [00:00<00:00, 3333.70it/s]"
          ]
        },
        {
          "name": "stdout",
          "output_type": "stream",
          "text": [
            "The quantization error of layer 20 is 28.770797729492188.\n",
            "The relative quantization error of layer 20 is 0.21060839295387268.\n",
            "\n"
          ]
        },
        {
          "name": "stderr",
          "output_type": "stream",
          "text": [
            "\n"
          ]
        },
        {
          "name": "stdout",
          "output_type": "stream",
          "text": [
            "Bits 6, Effective Quantized Bit Size: 6.970047687650987\n",
            "Bits 6, Quantized Test Accuracy: 0.8889\n",
            "Layer indices to quantize [0, 1, 2, 3, 4, 5, 6, 7, 8, 9, 10, 11, 12, 13, 14, 15, 16, 17, 18, 19, 20]\n",
            "Total number of layers to quantize 21\n",
            "\n",
            "Quantizing layer with index: 0\n",
            "Quantization progress: 0 out of 20\n",
            "\n",
            "shape of W: torch.Size([64, 3, 3, 3])\n",
            "shape of analog_layer_input: torch.Size([3968, 27])\n",
            "shape of quantized_layer_input: torch.Size([3968, 27])\n",
            "The number of groups: 1\n",
            "\n"
          ]
        },
        {
          "name": "stderr",
          "output_type": "stream",
          "text": [
            "100%|██████████| 27/27 [00:00<00:00, 323.16it/s]"
          ]
        },
        {
          "name": "stdout",
          "output_type": "stream",
          "text": [
            "The quantization error of layer 0 is 12.613716125488281.\n",
            "The relative quantization error of layer 0 is 0.03586762771010399.\n",
            "\n"
          ]
        },
        {
          "name": "stderr",
          "output_type": "stream",
          "text": [
            "\n"
          ]
        },
        {
          "name": "stdout",
          "output_type": "stream",
          "text": [
            "\n",
            "Quantizing layer with index: 1\n",
            "Quantization progress: 1 out of 20\n",
            "\n",
            "shape of W: torch.Size([64, 64, 3, 3])\n",
            "shape of analog_layer_input: torch.Size([3968, 576])\n",
            "shape of quantized_layer_input: torch.Size([3968, 576])\n",
            "The number of groups: 1\n",
            "\n"
          ]
        },
        {
          "name": "stderr",
          "output_type": "stream",
          "text": [
            "100%|██████████| 576/576 [00:00<00:00, 975.62it/s]\n"
          ]
        },
        {
          "name": "stdout",
          "output_type": "stream",
          "text": [
            "The quantization error of layer 1 is 21.841196060180664.\n",
            "The relative quantization error of layer 1 is 0.04292134940624237.\n",
            "\n",
            "\n",
            "Quantizing layer with index: 2\n",
            "Quantization progress: 2 out of 20\n",
            "\n",
            "shape of W: torch.Size([64, 64, 3, 3])\n",
            "shape of analog_layer_input: torch.Size([3968, 576])\n",
            "shape of quantized_layer_input: torch.Size([3968, 576])\n",
            "The number of groups: 1\n",
            "\n"
          ]
        },
        {
          "name": "stderr",
          "output_type": "stream",
          "text": [
            "100%|██████████| 576/576 [00:00<00:00, 2550.48it/s]\n"
          ]
        },
        {
          "name": "stdout",
          "output_type": "stream",
          "text": [
            "The quantization error of layer 2 is 19.15380859375.\n",
            "The relative quantization error of layer 2 is 0.07561244815587997.\n",
            "\n",
            "\n",
            "Quantizing layer with index: 3\n",
            "Quantization progress: 3 out of 20\n",
            "\n",
            "shape of W: torch.Size([64, 64, 3, 3])\n",
            "shape of analog_layer_input: torch.Size([3968, 576])\n",
            "shape of quantized_layer_input: torch.Size([3968, 576])\n",
            "The number of groups: 1\n",
            "\n"
          ]
        },
        {
          "name": "stderr",
          "output_type": "stream",
          "text": [
            "100%|██████████| 576/576 [00:00<00:00, 2568.59it/s]\n"
          ]
        },
        {
          "name": "stdout",
          "output_type": "stream",
          "text": [
            "The quantization error of layer 3 is 41.889713287353516.\n",
            "The relative quantization error of layer 3 is 0.07918142527341843.\n",
            "\n",
            "\n",
            "Quantizing layer with index: 4\n",
            "Quantization progress: 4 out of 20\n",
            "\n",
            "shape of W: torch.Size([64, 64, 3, 3])\n",
            "shape of analog_layer_input: torch.Size([3968, 576])\n",
            "shape of quantized_layer_input: torch.Size([3968, 576])\n",
            "The number of groups: 1\n",
            "\n"
          ]
        },
        {
          "name": "stderr",
          "output_type": "stream",
          "text": [
            "100%|██████████| 576/576 [00:00<00:00, 2266.90it/s]\n"
          ]
        },
        {
          "name": "stdout",
          "output_type": "stream",
          "text": [
            "The quantization error of layer 4 is 21.066287994384766.\n",
            "The relative quantization error of layer 4 is 0.11511281132698059.\n",
            "\n",
            "\n",
            "Quantizing layer with index: 5\n",
            "Quantization progress: 5 out of 20\n",
            "\n",
            "shape of W: torch.Size([128, 64, 3, 3])\n",
            "shape of analog_layer_input: torch.Size([3968, 576])\n",
            "shape of quantized_layer_input: torch.Size([3968, 576])\n",
            "The number of groups: 1\n",
            "\n"
          ]
        },
        {
          "name": "stderr",
          "output_type": "stream",
          "text": [
            "100%|██████████| 576/576 [00:00<00:00, 1753.11it/s]\n"
          ]
        },
        {
          "name": "stdout",
          "output_type": "stream",
          "text": [
            "The quantization error of layer 5 is 75.92147827148438.\n",
            "The relative quantization error of layer 5 is 0.10871194303035736.\n",
            "\n",
            "\n",
            "Quantizing layer with index: 6\n",
            "Quantization progress: 6 out of 20\n",
            "\n",
            "shape of W: torch.Size([128, 128, 3, 3])\n",
            "shape of analog_layer_input: torch.Size([1280, 1152])\n",
            "shape of quantized_layer_input: torch.Size([1280, 1152])\n",
            "The number of groups: 1\n",
            "\n"
          ]
        },
        {
          "name": "stderr",
          "output_type": "stream",
          "text": [
            "100%|██████████| 1152/1152 [00:00<00:00, 3103.46it/s]\n"
          ]
        },
        {
          "name": "stdout",
          "output_type": "stream",
          "text": [
            "The quantization error of layer 6 is 16.00674819946289.\n",
            "The relative quantization error of layer 6 is 0.09893001616001129.\n",
            "\n",
            "\n",
            "Quantizing layer with index: 7\n",
            "Quantization progress: 7 out of 20\n",
            "\n",
            "shape of W: torch.Size([128, 64, 1, 1])\n",
            "shape of analog_layer_input: torch.Size([32896, 64])\n",
            "shape of quantized_layer_input: torch.Size([32896, 64])\n",
            "The number of groups: 1\n",
            "\n"
          ]
        },
        {
          "name": "stderr",
          "output_type": "stream",
          "text": [
            "100%|██████████| 64/64 [00:00<00:00, 357.04it/s]\n"
          ]
        },
        {
          "name": "stdout",
          "output_type": "stream",
          "text": [
            "The quantization error of layer 7 is 138.79835510253906.\n",
            "The relative quantization error of layer 7 is 0.17782823741436005.\n",
            "\n",
            "\n",
            "Quantizing layer with index: 8\n",
            "Quantization progress: 8 out of 20\n",
            "\n",
            "shape of W: torch.Size([128, 128, 3, 3])\n",
            "shape of analog_layer_input: torch.Size([1280, 1152])\n",
            "shape of quantized_layer_input: torch.Size([1280, 1152])\n",
            "The number of groups: 1\n",
            "\n"
          ]
        },
        {
          "name": "stderr",
          "output_type": "stream",
          "text": [
            "100%|██████████| 1152/1152 [00:00<00:00, 3237.36it/s]\n"
          ]
        },
        {
          "name": "stdout",
          "output_type": "stream",
          "text": [
            "The quantization error of layer 8 is 29.51850700378418.\n",
            "The relative quantization error of layer 8 is 0.12414858490228653.\n",
            "\n",
            "\n",
            "Quantizing layer with index: 9\n",
            "Quantization progress: 9 out of 20\n",
            "\n",
            "shape of W: torch.Size([128, 128, 3, 3])\n",
            "shape of analog_layer_input: torch.Size([1280, 1152])\n",
            "shape of quantized_layer_input: torch.Size([1280, 1152])\n",
            "The number of groups: 1\n",
            "\n"
          ]
        },
        {
          "name": "stderr",
          "output_type": "stream",
          "text": [
            "100%|██████████| 1152/1152 [00:00<00:00, 3195.77it/s]\n"
          ]
        },
        {
          "name": "stdout",
          "output_type": "stream",
          "text": [
            "The quantization error of layer 9 is 14.760207176208496.\n",
            "The relative quantization error of layer 9 is 0.1551770120859146.\n",
            "\n",
            "\n",
            "Quantizing layer with index: 10\n",
            "Quantization progress: 10 out of 20\n",
            "\n",
            "shape of W: torch.Size([256, 128, 3, 3])\n",
            "shape of analog_layer_input: torch.Size([1280, 1152])\n",
            "shape of quantized_layer_input: torch.Size([1280, 1152])\n",
            "The number of groups: 1\n",
            "\n"
          ]
        },
        {
          "name": "stderr",
          "output_type": "stream",
          "text": [
            "100%|██████████| 1152/1152 [00:00<00:00, 2450.50it/s]\n"
          ]
        },
        {
          "name": "stdout",
          "output_type": "stream",
          "text": [
            "The quantization error of layer 10 is 50.30558395385742.\n",
            "The relative quantization error of layer 10 is 0.13351565599441528.\n",
            "\n",
            "\n",
            "Quantizing layer with index: 11\n",
            "Quantization progress: 11 out of 20\n",
            "\n",
            "shape of W: torch.Size([256, 256, 3, 3])\n",
            "shape of analog_layer_input: torch.Size([384, 2304])\n",
            "shape of quantized_layer_input: torch.Size([384, 2304])\n",
            "The number of groups: 1\n",
            "\n"
          ]
        },
        {
          "name": "stderr",
          "output_type": "stream",
          "text": [
            "100%|██████████| 2304/2304 [00:00<00:00, 3182.05it/s]\n"
          ]
        },
        {
          "name": "stdout",
          "output_type": "stream",
          "text": [
            "The quantization error of layer 11 is 10.917845726013184.\n",
            "The relative quantization error of layer 11 is 0.09114833921194077.\n",
            "\n",
            "\n",
            "Quantizing layer with index: 12\n",
            "Quantization progress: 12 out of 20\n",
            "\n",
            "shape of W: torch.Size([256, 128, 1, 1])\n",
            "shape of analog_layer_input: torch.Size([8320, 128])\n",
            "shape of quantized_layer_input: torch.Size([8320, 128])\n",
            "The number of groups: 1\n",
            "\n"
          ]
        },
        {
          "name": "stderr",
          "output_type": "stream",
          "text": [
            "100%|██████████| 128/128 [00:00<00:00, 932.27it/s]"
          ]
        },
        {
          "name": "stdout",
          "output_type": "stream",
          "text": [
            "The quantization error of layer 12 is 52.53106689453125.\n",
            "The relative quantization error of layer 12 is 0.22566021978855133.\n",
            "\n"
          ]
        },
        {
          "name": "stderr",
          "output_type": "stream",
          "text": [
            "\n"
          ]
        },
        {
          "name": "stdout",
          "output_type": "stream",
          "text": [
            "\n",
            "Quantizing layer with index: 13\n",
            "Quantization progress: 13 out of 20\n",
            "\n",
            "shape of W: torch.Size([256, 256, 3, 3])\n",
            "shape of analog_layer_input: torch.Size([384, 2304])\n",
            "shape of quantized_layer_input: torch.Size([384, 2304])\n",
            "The number of groups: 1\n",
            "\n"
          ]
        },
        {
          "name": "stderr",
          "output_type": "stream",
          "text": [
            "100%|██████████| 2304/2304 [00:00<00:00, 2842.79it/s]\n"
          ]
        },
        {
          "name": "stdout",
          "output_type": "stream",
          "text": [
            "The quantization error of layer 13 is 12.942109107971191.\n",
            "The relative quantization error of layer 13 is 0.07308231294155121.\n",
            "\n",
            "\n",
            "Quantizing layer with index: 14\n",
            "Quantization progress: 14 out of 20\n",
            "\n",
            "shape of W: torch.Size([256, 256, 3, 3])\n",
            "shape of analog_layer_input: torch.Size([384, 2304])\n",
            "shape of quantized_layer_input: torch.Size([384, 2304])\n",
            "The number of groups: 1\n",
            "\n"
          ]
        },
        {
          "name": "stderr",
          "output_type": "stream",
          "text": [
            "100%|██████████| 2304/2304 [00:00<00:00, 3012.42it/s]\n"
          ]
        },
        {
          "name": "stdout",
          "output_type": "stream",
          "text": [
            "The quantization error of layer 14 is 5.942807674407959.\n",
            "The relative quantization error of layer 14 is 0.09883397072553635.\n",
            "\n",
            "\n",
            "Quantizing layer with index: 15\n",
            "Quantization progress: 15 out of 20\n",
            "\n",
            "shape of W: torch.Size([512, 256, 3, 3])\n",
            "shape of analog_layer_input: torch.Size([384, 2304])\n",
            "shape of quantized_layer_input: torch.Size([384, 2304])\n",
            "The number of groups: 1\n",
            "\n"
          ]
        },
        {
          "name": "stderr",
          "output_type": "stream",
          "text": [
            "100%|██████████| 2304/2304 [00:00<00:00, 2891.99it/s]\n"
          ]
        },
        {
          "name": "stdout",
          "output_type": "stream",
          "text": [
            "The quantization error of layer 15 is 22.676332473754883.\n",
            "The relative quantization error of layer 15 is 0.0933929979801178.\n",
            "\n",
            "\n",
            "Quantizing layer with index: 16\n",
            "Quantization progress: 16 out of 20\n",
            "\n",
            "shape of W: torch.Size([512, 512, 3, 3])\n",
            "shape of analog_layer_input: torch.Size([256, 4608])\n",
            "shape of quantized_layer_input: torch.Size([256, 4608])\n",
            "The number of groups: 1\n",
            "\n"
          ]
        },
        {
          "name": "stderr",
          "output_type": "stream",
          "text": [
            "100%|██████████| 4608/4608 [00:01<00:00, 3027.55it/s]\n"
          ]
        },
        {
          "name": "stdout",
          "output_type": "stream",
          "text": [
            "The quantization error of layer 16 is 3.606963872909546.\n",
            "The relative quantization error of layer 16 is 0.05891253799200058.\n",
            "\n",
            "\n",
            "Quantizing layer with index: 17\n",
            "Quantization progress: 17 out of 20\n",
            "\n",
            "shape of W: torch.Size([512, 256, 1, 1])\n",
            "shape of analog_layer_input: torch.Size([2176, 256])\n",
            "shape of quantized_layer_input: torch.Size([2176, 256])\n",
            "The number of groups: 1\n",
            "\n"
          ]
        },
        {
          "name": "stderr",
          "output_type": "stream",
          "text": [
            "100%|██████████| 256/256 [00:00<00:00, 1458.94it/s]\n"
          ]
        },
        {
          "name": "stdout",
          "output_type": "stream",
          "text": [
            "The quantization error of layer 17 is 50.28490447998047.\n",
            "The relative quantization error of layer 17 is 0.3085641860961914.\n",
            "\n",
            "\n",
            "Quantizing layer with index: 18\n",
            "Quantization progress: 18 out of 20\n",
            "\n",
            "shape of W: torch.Size([512, 512, 3, 3])\n",
            "shape of analog_layer_input: torch.Size([256, 4608])\n",
            "shape of quantized_layer_input: torch.Size([256, 4608])\n",
            "The number of groups: 1\n",
            "\n"
          ]
        },
        {
          "name": "stderr",
          "output_type": "stream",
          "text": [
            "100%|██████████| 4608/4608 [00:01<00:00, 2950.35it/s]\n"
          ]
        },
        {
          "name": "stdout",
          "output_type": "stream",
          "text": [
            "The quantization error of layer 18 is 9.688961029052734.\n",
            "The relative quantization error of layer 18 is 0.053016990423202515.\n",
            "\n",
            "\n",
            "Quantizing layer with index: 19\n",
            "Quantization progress: 19 out of 20\n",
            "\n",
            "shape of W: torch.Size([512, 512, 3, 3])\n",
            "shape of analog_layer_input: torch.Size([256, 4608])\n",
            "shape of quantized_layer_input: torch.Size([256, 4608])\n",
            "The number of groups: 1\n",
            "\n"
          ]
        },
        {
          "name": "stderr",
          "output_type": "stream",
          "text": [
            "100%|██████████| 4608/4608 [00:01<00:00, 3188.90it/s]\n"
          ]
        },
        {
          "name": "stdout",
          "output_type": "stream",
          "text": [
            "The quantization error of layer 19 is 4.714892864227295.\n",
            "The relative quantization error of layer 19 is 0.1341092437505722.\n",
            "\n",
            "\n",
            "Quantizing layer with index: 20\n",
            "Quantization progress: 20 out of 20\n",
            "\n",
            "The number of groups: 1\n",
            "\n"
          ]
        },
        {
          "name": "stderr",
          "output_type": "stream",
          "text": [
            "100%|██████████| 512/512 [00:00<00:00, 3328.47it/s]"
          ]
        },
        {
          "name": "stdout",
          "output_type": "stream",
          "text": [
            "The quantization error of layer 20 is 47.739898681640625.\n",
            "The relative quantization error of layer 20 is 0.35376426577568054.\n",
            "\n"
          ]
        },
        {
          "name": "stderr",
          "output_type": "stream",
          "text": [
            "\n"
          ]
        },
        {
          "name": "stdout",
          "output_type": "stream",
          "text": [
            "Bits 4, Effective Quantized Bit Size: 5.002805629730976\n",
            "Bits 4, Quantized Test Accuracy: 0.8429\n",
            "Layer indices to quantize [0, 1, 2, 3, 4, 5, 6, 7, 8, 9, 10, 11, 12, 13, 14, 15, 16, 17, 18, 19, 20]\n",
            "Total number of layers to quantize 21\n",
            "\n",
            "Quantizing layer with index: 0\n",
            "Quantization progress: 0 out of 20\n",
            "\n",
            "shape of W: torch.Size([64, 3, 3, 3])\n",
            "shape of analog_layer_input: torch.Size([3968, 27])\n",
            "shape of quantized_layer_input: torch.Size([3968, 27])\n",
            "The number of groups: 1\n",
            "\n"
          ]
        },
        {
          "name": "stderr",
          "output_type": "stream",
          "text": [
            "100%|██████████| 27/27 [00:00<00:00, 425.39it/s]"
          ]
        },
        {
          "name": "stdout",
          "output_type": "stream",
          "text": [
            "The quantization error of layer 0 is 70.40301513671875.\n",
            "The relative quantization error of layer 0 is 0.19996210932731628.\n",
            "\n"
          ]
        },
        {
          "name": "stderr",
          "output_type": "stream",
          "text": [
            "\n"
          ]
        },
        {
          "name": "stdout",
          "output_type": "stream",
          "text": [
            "\n",
            "Quantizing layer with index: 1\n",
            "Quantization progress: 1 out of 20\n",
            "\n",
            "shape of W: torch.Size([64, 64, 3, 3])\n",
            "shape of analog_layer_input: torch.Size([3968, 576])\n",
            "shape of quantized_layer_input: torch.Size([3968, 576])\n",
            "The number of groups: 1\n",
            "\n"
          ]
        },
        {
          "name": "stderr",
          "output_type": "stream",
          "text": [
            "100%|██████████| 576/576 [00:00<00:00, 975.84it/s]\n"
          ]
        },
        {
          "name": "stdout",
          "output_type": "stream",
          "text": [
            "The quantization error of layer 1 is 52.480125427246094.\n",
            "The relative quantization error of layer 1 is 0.10314023494720459.\n",
            "\n",
            "\n",
            "Quantizing layer with index: 2\n",
            "Quantization progress: 2 out of 20\n",
            "\n",
            "shape of W: torch.Size([64, 64, 3, 3])\n",
            "shape of analog_layer_input: torch.Size([3968, 576])\n",
            "shape of quantized_layer_input: torch.Size([3968, 576])\n",
            "The number of groups: 1\n",
            "\n"
          ]
        },
        {
          "name": "stderr",
          "output_type": "stream",
          "text": [
            "100%|██████████| 576/576 [00:00<00:00, 2557.52it/s]\n"
          ]
        },
        {
          "name": "stdout",
          "output_type": "stream",
          "text": [
            "The quantization error of layer 2 is 42.26392364501953.\n",
            "The relative quantization error of layer 2 is 0.16648802161216736.\n",
            "\n",
            "\n",
            "Quantizing layer with index: 3\n",
            "Quantization progress: 3 out of 20\n",
            "\n",
            "shape of W: torch.Size([64, 64, 3, 3])\n",
            "shape of analog_layer_input: torch.Size([3968, 576])\n",
            "shape of quantized_layer_input: torch.Size([3968, 576])\n",
            "The number of groups: 1\n",
            "\n"
          ]
        },
        {
          "name": "stderr",
          "output_type": "stream",
          "text": [
            "100%|██████████| 576/576 [00:00<00:00, 2500.11it/s]\n"
          ]
        },
        {
          "name": "stdout",
          "output_type": "stream",
          "text": [
            "The quantization error of layer 3 is 84.62139129638672.\n",
            "The relative quantization error of layer 3 is 0.15995052456855774.\n",
            "\n",
            "\n",
            "Quantizing layer with index: 4\n",
            "Quantization progress: 4 out of 20\n",
            "\n",
            "shape of W: torch.Size([64, 64, 3, 3])\n",
            "shape of analog_layer_input: torch.Size([3968, 576])\n",
            "shape of quantized_layer_input: torch.Size([3968, 576])\n",
            "The number of groups: 1\n",
            "\n"
          ]
        },
        {
          "name": "stderr",
          "output_type": "stream",
          "text": [
            "100%|██████████| 576/576 [00:00<00:00, 2307.12it/s]\n"
          ]
        },
        {
          "name": "stdout",
          "output_type": "stream",
          "text": [
            "The quantization error of layer 4 is 42.187923431396484.\n",
            "The relative quantization error of layer 4 is 0.22962534427642822.\n",
            "\n",
            "\n",
            "Quantizing layer with index: 5\n",
            "Quantization progress: 5 out of 20\n",
            "\n",
            "shape of W: torch.Size([128, 64, 3, 3])\n",
            "shape of analog_layer_input: torch.Size([3968, 576])\n",
            "shape of quantized_layer_input: torch.Size([3968, 576])\n",
            "The number of groups: 1\n",
            "\n"
          ]
        },
        {
          "name": "stderr",
          "output_type": "stream",
          "text": [
            "100%|██████████| 576/576 [00:00<00:00, 1885.01it/s]\n"
          ]
        },
        {
          "name": "stdout",
          "output_type": "stream",
          "text": [
            "The quantization error of layer 5 is 160.69677734375.\n",
            "The relative quantization error of layer 5 is 0.23759859800338745.\n",
            "\n",
            "\n",
            "Quantizing layer with index: 6\n",
            "Quantization progress: 6 out of 20\n",
            "\n",
            "shape of W: torch.Size([128, 128, 3, 3])\n",
            "shape of analog_layer_input: torch.Size([1280, 1152])\n",
            "shape of quantized_layer_input: torch.Size([1280, 1152])\n",
            "The number of groups: 1\n",
            "\n"
          ]
        },
        {
          "name": "stderr",
          "output_type": "stream",
          "text": [
            "100%|██████████| 1152/1152 [00:00<00:00, 3005.13it/s]\n"
          ]
        },
        {
          "name": "stdout",
          "output_type": "stream",
          "text": [
            "The quantization error of layer 6 is 26.051761627197266.\n",
            "The relative quantization error of layer 6 is 0.1640135496854782.\n",
            "\n",
            "\n",
            "Quantizing layer with index: 7\n",
            "Quantization progress: 7 out of 20\n",
            "\n",
            "shape of W: torch.Size([128, 64, 1, 1])\n",
            "shape of analog_layer_input: torch.Size([32896, 64])\n",
            "shape of quantized_layer_input: torch.Size([32896, 64])\n",
            "The number of groups: 1\n",
            "\n"
          ]
        },
        {
          "name": "stderr",
          "output_type": "stream",
          "text": [
            "100%|██████████| 64/64 [00:00<00:00, 354.68it/s]\n"
          ]
        },
        {
          "name": "stdout",
          "output_type": "stream",
          "text": [
            "The quantization error of layer 7 is 272.9278259277344.\n",
            "The relative quantization error of layer 7 is 0.34920454025268555.\n",
            "\n",
            "\n",
            "Quantizing layer with index: 8\n",
            "Quantization progress: 8 out of 20\n",
            "\n",
            "shape of W: torch.Size([128, 128, 3, 3])\n",
            "shape of analog_layer_input: torch.Size([1280, 1152])\n",
            "shape of quantized_layer_input: torch.Size([1280, 1152])\n",
            "The number of groups: 1\n",
            "\n"
          ]
        },
        {
          "name": "stderr",
          "output_type": "stream",
          "text": [
            "100%|██████████| 1152/1152 [00:00<00:00, 3100.87it/s]\n"
          ]
        },
        {
          "name": "stdout",
          "output_type": "stream",
          "text": [
            "The quantization error of layer 8 is 46.667457580566406.\n",
            "The relative quantization error of layer 8 is 0.19760586321353912.\n",
            "\n",
            "\n",
            "Quantizing layer with index: 9\n",
            "Quantization progress: 9 out of 20\n",
            "\n",
            "shape of W: torch.Size([128, 128, 3, 3])\n",
            "shape of analog_layer_input: torch.Size([1280, 1152])\n",
            "shape of quantized_layer_input: torch.Size([1280, 1152])\n",
            "The number of groups: 1\n",
            "\n"
          ]
        },
        {
          "name": "stderr",
          "output_type": "stream",
          "text": [
            "100%|██████████| 1152/1152 [00:00<00:00, 3032.13it/s]\n"
          ]
        },
        {
          "name": "stdout",
          "output_type": "stream",
          "text": [
            "The quantization error of layer 9 is 22.51421546936035.\n",
            "The relative quantization error of layer 9 is 0.23585309088230133.\n",
            "\n",
            "\n",
            "Quantizing layer with index: 10\n",
            "Quantization progress: 10 out of 20\n",
            "\n",
            "shape of W: torch.Size([256, 128, 3, 3])\n",
            "shape of analog_layer_input: torch.Size([1280, 1152])\n",
            "shape of quantized_layer_input: torch.Size([1280, 1152])\n",
            "The number of groups: 1\n",
            "\n"
          ]
        },
        {
          "name": "stderr",
          "output_type": "stream",
          "text": [
            "100%|██████████| 1152/1152 [00:00<00:00, 2401.96it/s]\n"
          ]
        },
        {
          "name": "stdout",
          "output_type": "stream",
          "text": [
            "The quantization error of layer 10 is 79.72732543945312.\n",
            "The relative quantization error of layer 10 is 0.21237467229366302.\n",
            "\n",
            "\n",
            "Quantizing layer with index: 11\n",
            "Quantization progress: 11 out of 20\n",
            "\n",
            "shape of W: torch.Size([256, 256, 3, 3])\n",
            "shape of analog_layer_input: torch.Size([384, 2304])\n",
            "shape of quantized_layer_input: torch.Size([384, 2304])\n",
            "The number of groups: 1\n",
            "\n"
          ]
        },
        {
          "name": "stderr",
          "output_type": "stream",
          "text": [
            "100%|██████████| 2304/2304 [00:00<00:00, 3297.68it/s]\n"
          ]
        },
        {
          "name": "stdout",
          "output_type": "stream",
          "text": [
            "The quantization error of layer 11 is 16.214279174804688.\n",
            "The relative quantization error of layer 11 is 0.13168741762638092.\n",
            "\n",
            "\n",
            "Quantizing layer with index: 12\n",
            "Quantization progress: 12 out of 20\n",
            "\n",
            "shape of W: torch.Size([256, 128, 1, 1])\n",
            "shape of analog_layer_input: torch.Size([8320, 128])\n",
            "shape of quantized_layer_input: torch.Size([8320, 128])\n",
            "The number of groups: 1\n",
            "\n"
          ]
        },
        {
          "name": "stderr",
          "output_type": "stream",
          "text": [
            "100%|██████████| 128/128 [00:00<00:00, 918.75it/s]"
          ]
        },
        {
          "name": "stdout",
          "output_type": "stream",
          "text": [
            "The quantization error of layer 12 is 78.3974380493164.\n",
            "The relative quantization error of layer 12 is 0.3386556804180145.\n",
            "\n"
          ]
        },
        {
          "name": "stderr",
          "output_type": "stream",
          "text": [
            "\n"
          ]
        },
        {
          "name": "stdout",
          "output_type": "stream",
          "text": [
            "\n",
            "Quantizing layer with index: 13\n",
            "Quantization progress: 13 out of 20\n",
            "\n",
            "shape of W: torch.Size([256, 256, 3, 3])\n",
            "shape of analog_layer_input: torch.Size([384, 2304])\n",
            "shape of quantized_layer_input: torch.Size([384, 2304])\n",
            "The number of groups: 1\n",
            "\n"
          ]
        },
        {
          "name": "stderr",
          "output_type": "stream",
          "text": [
            "100%|██████████| 2304/2304 [00:00<00:00, 3059.88it/s]\n"
          ]
        },
        {
          "name": "stdout",
          "output_type": "stream",
          "text": [
            "The quantization error of layer 13 is 19.160293579101562.\n",
            "The relative quantization error of layer 13 is 0.10811004042625427.\n",
            "\n",
            "\n",
            "Quantizing layer with index: 14\n",
            "Quantization progress: 14 out of 20\n",
            "\n",
            "shape of W: torch.Size([256, 256, 3, 3])\n",
            "shape of analog_layer_input: torch.Size([384, 2304])\n",
            "shape of quantized_layer_input: torch.Size([384, 2304])\n",
            "The number of groups: 1\n",
            "\n"
          ]
        },
        {
          "name": "stderr",
          "output_type": "stream",
          "text": [
            "100%|██████████| 2304/2304 [00:00<00:00, 2949.84it/s]\n"
          ]
        },
        {
          "name": "stdout",
          "output_type": "stream",
          "text": [
            "The quantization error of layer 14 is 8.825282096862793.\n",
            "The relative quantization error of layer 14 is 0.14691655337810516.\n",
            "\n",
            "\n",
            "Quantizing layer with index: 15\n",
            "Quantization progress: 15 out of 20\n",
            "\n",
            "shape of W: torch.Size([512, 256, 3, 3])\n",
            "shape of analog_layer_input: torch.Size([384, 2304])\n",
            "shape of quantized_layer_input: torch.Size([384, 2304])\n",
            "The number of groups: 1\n",
            "\n"
          ]
        },
        {
          "name": "stderr",
          "output_type": "stream",
          "text": [
            "100%|██████████| 2304/2304 [00:00<00:00, 2888.04it/s]\n"
          ]
        },
        {
          "name": "stdout",
          "output_type": "stream",
          "text": [
            "The quantization error of layer 15 is 32.441558837890625.\n",
            "The relative quantization error of layer 15 is 0.13158808648586273.\n",
            "\n",
            "\n",
            "Quantizing layer with index: 16\n",
            "Quantization progress: 16 out of 20\n",
            "\n",
            "shape of W: torch.Size([512, 512, 3, 3])\n",
            "shape of analog_layer_input: torch.Size([256, 4608])\n",
            "shape of quantized_layer_input: torch.Size([256, 4608])\n",
            "The number of groups: 1\n",
            "\n"
          ]
        },
        {
          "name": "stderr",
          "output_type": "stream",
          "text": [
            "100%|██████████| 4608/4608 [00:01<00:00, 2821.93it/s]\n"
          ]
        },
        {
          "name": "stdout",
          "output_type": "stream",
          "text": [
            "The quantization error of layer 16 is 4.9526448249816895.\n",
            "The relative quantization error of layer 16 is 0.07748710364103317.\n",
            "\n",
            "\n",
            "Quantizing layer with index: 17\n",
            "Quantization progress: 17 out of 20\n",
            "\n",
            "shape of W: torch.Size([512, 256, 1, 1])\n",
            "shape of analog_layer_input: torch.Size([2176, 256])\n",
            "shape of quantized_layer_input: torch.Size([2176, 256])\n",
            "The number of groups: 1\n",
            "\n"
          ]
        },
        {
          "name": "stderr",
          "output_type": "stream",
          "text": [
            "100%|██████████| 256/256 [00:00<00:00, 1317.19it/s]\n"
          ]
        },
        {
          "name": "stdout",
          "output_type": "stream",
          "text": [
            "The quantization error of layer 17 is 66.84712219238281.\n",
            "The relative quantization error of layer 17 is 0.40843838453292847.\n",
            "\n",
            "\n",
            "Quantizing layer with index: 18\n",
            "Quantization progress: 18 out of 20\n",
            "\n",
            "shape of W: torch.Size([512, 512, 3, 3])\n",
            "shape of analog_layer_input: torch.Size([256, 4608])\n",
            "shape of quantized_layer_input: torch.Size([256, 4608])\n",
            "The number of groups: 1\n",
            "\n"
          ]
        },
        {
          "name": "stderr",
          "output_type": "stream",
          "text": [
            "100%|██████████| 4608/4608 [00:01<00:00, 3117.61it/s]\n"
          ]
        },
        {
          "name": "stdout",
          "output_type": "stream",
          "text": [
            "The quantization error of layer 18 is 12.102926254272461.\n",
            "The relative quantization error of layer 18 is 0.06687898188829422.\n",
            "\n",
            "\n",
            "Quantizing layer with index: 19\n",
            "Quantization progress: 19 out of 20\n",
            "\n",
            "shape of W: torch.Size([512, 512, 3, 3])\n",
            "shape of analog_layer_input: torch.Size([256, 4608])\n",
            "shape of quantized_layer_input: torch.Size([256, 4608])\n",
            "The number of groups: 1\n",
            "\n"
          ]
        },
        {
          "name": "stderr",
          "output_type": "stream",
          "text": [
            "100%|██████████| 4608/4608 [00:01<00:00, 3183.66it/s]\n"
          ]
        },
        {
          "name": "stdout",
          "output_type": "stream",
          "text": [
            "The quantization error of layer 19 is 5.582021713256836.\n",
            "The relative quantization error of layer 19 is 0.1608550250530243.\n",
            "\n",
            "\n",
            "Quantizing layer with index: 20\n",
            "Quantization progress: 20 out of 20\n",
            "\n",
            "The number of groups: 1\n",
            "\n"
          ]
        },
        {
          "name": "stderr",
          "output_type": "stream",
          "text": [
            "100%|██████████| 512/512 [00:00<00:00, 3072.39it/s]"
          ]
        },
        {
          "name": "stdout",
          "output_type": "stream",
          "text": [
            "The quantization error of layer 20 is 59.158287048339844.\n",
            "The relative quantization error of layer 20 is 0.42750343680381775.\n",
            "\n"
          ]
        },
        {
          "name": "stderr",
          "output_type": "stream",
          "text": [
            "\n"
          ]
        },
        {
          "name": "stdout",
          "output_type": "stream",
          "text": [
            "Bits 3, Effective Quantized Bit Size: 4.003665664873391\n",
            "Bits 3, Quantized Test Accuracy: 0.8127\n",
            "Layer indices to quantize [0, 1, 2, 3, 4, 5, 6, 7, 8, 9, 10, 11, 12, 13, 14, 15, 16, 17, 18, 19, 20]\n",
            "Total number of layers to quantize 21\n",
            "\n",
            "Quantizing layer with index: 0\n",
            "Quantization progress: 0 out of 20\n",
            "\n",
            "shape of W: torch.Size([64, 3, 3, 3])\n",
            "shape of analog_layer_input: torch.Size([3968, 27])\n",
            "shape of quantized_layer_input: torch.Size([3968, 27])\n",
            "The number of groups: 1\n",
            "\n"
          ]
        },
        {
          "name": "stderr",
          "output_type": "stream",
          "text": [
            "100%|██████████| 27/27 [00:00<00:00, 444.74it/s]\n"
          ]
        },
        {
          "name": "stdout",
          "output_type": "stream",
          "text": [
            "The quantization error of layer 0 is 73.20574951171875.\n",
            "The relative quantization error of layer 0 is 0.2060285061597824.\n",
            "\n",
            "\n",
            "Quantizing layer with index: 1\n",
            "Quantization progress: 1 out of 20\n",
            "\n",
            "shape of W: torch.Size([64, 64, 3, 3])\n",
            "shape of analog_layer_input: torch.Size([3968, 576])\n",
            "shape of quantized_layer_input: torch.Size([3968, 576])\n",
            "The number of groups: 1\n",
            "\n"
          ]
        },
        {
          "name": "stderr",
          "output_type": "stream",
          "text": [
            "100%|██████████| 576/576 [00:00<00:00, 2665.91it/s]\n"
          ]
        },
        {
          "name": "stdout",
          "output_type": "stream",
          "text": [
            "The quantization error of layer 1 is 59.507259368896484.\n",
            "The relative quantization error of layer 1 is 0.11679545789957047.\n",
            "\n",
            "\n",
            "Quantizing layer with index: 2\n",
            "Quantization progress: 2 out of 20\n",
            "\n",
            "shape of W: torch.Size([64, 64, 3, 3])\n",
            "shape of analog_layer_input: torch.Size([3968, 576])\n",
            "shape of quantized_layer_input: torch.Size([3968, 576])\n",
            "The number of groups: 1\n",
            "\n"
          ]
        },
        {
          "name": "stderr",
          "output_type": "stream",
          "text": [
            "100%|██████████| 576/576 [00:00<00:00, 2727.46it/s]\n"
          ]
        },
        {
          "name": "stdout",
          "output_type": "stream",
          "text": [
            "The quantization error of layer 2 is 51.26262664794922.\n",
            "The relative quantization error of layer 2 is 0.2026539295911789.\n",
            "\n",
            "\n",
            "Quantizing layer with index: 3\n",
            "Quantization progress: 3 out of 20\n",
            "\n",
            "shape of W: torch.Size([64, 64, 3, 3])\n",
            "shape of analog_layer_input: torch.Size([3968, 576])\n",
            "shape of quantized_layer_input: torch.Size([3968, 576])\n",
            "The number of groups: 1\n",
            "\n"
          ]
        },
        {
          "name": "stderr",
          "output_type": "stream",
          "text": [
            "100%|██████████| 576/576 [00:00<00:00, 2674.93it/s]\n"
          ]
        },
        {
          "name": "stdout",
          "output_type": "stream",
          "text": [
            "The quantization error of layer 3 is 101.92119598388672.\n",
            "The relative quantization error of layer 3 is 0.19194194674491882.\n",
            "\n",
            "\n",
            "Quantizing layer with index: 4\n",
            "Quantization progress: 4 out of 20\n",
            "\n",
            "shape of W: torch.Size([64, 64, 3, 3])\n",
            "shape of analog_layer_input: torch.Size([3968, 576])\n",
            "shape of quantized_layer_input: torch.Size([3968, 576])\n",
            "The number of groups: 1\n",
            "\n"
          ]
        },
        {
          "name": "stderr",
          "output_type": "stream",
          "text": [
            "100%|██████████| 576/576 [00:00<00:00, 2509.08it/s]\n"
          ]
        },
        {
          "name": "stdout",
          "output_type": "stream",
          "text": [
            "The quantization error of layer 4 is 49.80514907836914.\n",
            "The relative quantization error of layer 4 is 0.27189868688583374.\n",
            "\n",
            "\n",
            "Quantizing layer with index: 5\n",
            "Quantization progress: 5 out of 20\n",
            "\n",
            "shape of W: torch.Size([128, 64, 3, 3])\n",
            "shape of analog_layer_input: torch.Size([3968, 576])\n",
            "shape of quantized_layer_input: torch.Size([3968, 576])\n",
            "The number of groups: 1\n",
            "\n"
          ]
        },
        {
          "name": "stderr",
          "output_type": "stream",
          "text": [
            "100%|██████████| 576/576 [00:00<00:00, 1763.95it/s]\n"
          ]
        },
        {
          "name": "stdout",
          "output_type": "stream",
          "text": [
            "The quantization error of layer 5 is 196.62130737304688.\n",
            "The relative quantization error of layer 5 is 0.2835323214530945.\n",
            "\n",
            "\n",
            "Quantizing layer with index: 6\n",
            "Quantization progress: 6 out of 20\n",
            "\n",
            "shape of W: torch.Size([128, 128, 3, 3])\n",
            "shape of analog_layer_input: torch.Size([1280, 1152])\n",
            "shape of quantized_layer_input: torch.Size([1280, 1152])\n",
            "The number of groups: 1\n",
            "\n"
          ]
        },
        {
          "name": "stderr",
          "output_type": "stream",
          "text": [
            "100%|██████████| 1152/1152 [00:00<00:00, 3015.34it/s]\n"
          ]
        },
        {
          "name": "stdout",
          "output_type": "stream",
          "text": [
            "The quantization error of layer 6 is 33.86567687988281.\n",
            "The relative quantization error of layer 6 is 0.21493594348430634.\n",
            "\n",
            "\n",
            "Quantizing layer with index: 7\n",
            "Quantization progress: 7 out of 20\n",
            "\n",
            "shape of W: torch.Size([128, 64, 1, 1])\n",
            "shape of analog_layer_input: torch.Size([32896, 64])\n",
            "shape of quantized_layer_input: torch.Size([32896, 64])\n",
            "The number of groups: 1\n",
            "\n"
          ]
        },
        {
          "name": "stderr",
          "output_type": "stream",
          "text": [
            "100%|██████████| 64/64 [00:00<00:00, 351.46it/s]\n"
          ]
        },
        {
          "name": "stdout",
          "output_type": "stream",
          "text": [
            "The quantization error of layer 7 is 307.122802734375.\n",
            "The relative quantization error of layer 7 is 0.394155889749527.\n",
            "\n",
            "\n",
            "Quantizing layer with index: 8\n",
            "Quantization progress: 8 out of 20\n",
            "\n",
            "shape of W: torch.Size([128, 128, 3, 3])\n",
            "shape of analog_layer_input: torch.Size([1280, 1152])\n",
            "shape of quantized_layer_input: torch.Size([1280, 1152])\n",
            "The number of groups: 1\n",
            "\n"
          ]
        },
        {
          "name": "stderr",
          "output_type": "stream",
          "text": [
            "100%|██████████| 1152/1152 [00:00<00:00, 3132.87it/s]\n"
          ]
        },
        {
          "name": "stdout",
          "output_type": "stream",
          "text": [
            "The quantization error of layer 8 is 59.689476013183594.\n",
            "The relative quantization error of layer 8 is 0.24986152350902557.\n",
            "\n",
            "\n",
            "Quantizing layer with index: 9\n",
            "Quantization progress: 9 out of 20\n",
            "\n",
            "shape of W: torch.Size([128, 128, 3, 3])\n",
            "shape of analog_layer_input: torch.Size([1280, 1152])\n",
            "shape of quantized_layer_input: torch.Size([1280, 1152])\n",
            "The number of groups: 1\n",
            "\n"
          ]
        },
        {
          "name": "stderr",
          "output_type": "stream",
          "text": [
            "100%|██████████| 1152/1152 [00:00<00:00, 3081.30it/s]\n"
          ]
        },
        {
          "name": "stdout",
          "output_type": "stream",
          "text": [
            "The quantization error of layer 9 is 28.07240104675293.\n",
            "The relative quantization error of layer 9 is 0.2972509264945984.\n",
            "\n",
            "\n",
            "Quantizing layer with index: 10\n",
            "Quantization progress: 10 out of 20\n",
            "\n",
            "shape of W: torch.Size([256, 128, 3, 3])\n",
            "shape of analog_layer_input: torch.Size([1280, 1152])\n",
            "shape of quantized_layer_input: torch.Size([1280, 1152])\n",
            "The number of groups: 1\n",
            "\n"
          ]
        },
        {
          "name": "stderr",
          "output_type": "stream",
          "text": [
            "100%|██████████| 1152/1152 [00:00<00:00, 2321.84it/s]\n"
          ]
        },
        {
          "name": "stdout",
          "output_type": "stream",
          "text": [
            "The quantization error of layer 10 is 94.70299530029297.\n",
            "The relative quantization error of layer 10 is 0.25190868973731995.\n",
            "\n",
            "\n",
            "Quantizing layer with index: 11\n",
            "Quantization progress: 11 out of 20\n",
            "\n",
            "shape of W: torch.Size([256, 256, 3, 3])\n",
            "shape of analog_layer_input: torch.Size([384, 2304])\n",
            "shape of quantized_layer_input: torch.Size([384, 2304])\n",
            "The number of groups: 1\n",
            "\n"
          ]
        },
        {
          "name": "stderr",
          "output_type": "stream",
          "text": [
            "100%|██████████| 2304/2304 [00:00<00:00, 3107.92it/s]\n"
          ]
        },
        {
          "name": "stdout",
          "output_type": "stream",
          "text": [
            "The quantization error of layer 11 is 19.89813232421875.\n",
            "The relative quantization error of layer 11 is 0.16315492987632751.\n",
            "\n",
            "\n",
            "Quantizing layer with index: 12\n",
            "Quantization progress: 12 out of 20\n",
            "\n",
            "shape of W: torch.Size([256, 128, 1, 1])\n",
            "shape of analog_layer_input: torch.Size([8320, 128])\n",
            "shape of quantized_layer_input: torch.Size([8320, 128])\n",
            "The number of groups: 1\n",
            "\n"
          ]
        },
        {
          "name": "stderr",
          "output_type": "stream",
          "text": [
            "100%|██████████| 128/128 [00:00<00:00, 877.78it/s]"
          ]
        },
        {
          "name": "stdout",
          "output_type": "stream",
          "text": [
            "The quantization error of layer 12 is 94.70796966552734.\n",
            "The relative quantization error of layer 12 is 0.4089720547199249.\n",
            "\n"
          ]
        },
        {
          "name": "stderr",
          "output_type": "stream",
          "text": [
            "\n"
          ]
        },
        {
          "name": "stdout",
          "output_type": "stream",
          "text": [
            "\n",
            "Quantizing layer with index: 13\n",
            "Quantization progress: 13 out of 20\n",
            "\n",
            "shape of W: torch.Size([256, 256, 3, 3])\n",
            "shape of analog_layer_input: torch.Size([384, 2304])\n",
            "shape of quantized_layer_input: torch.Size([384, 2304])\n",
            "The number of groups: 1\n",
            "\n"
          ]
        },
        {
          "name": "stderr",
          "output_type": "stream",
          "text": [
            "100%|██████████| 2304/2304 [00:00<00:00, 3385.07it/s]\n"
          ]
        },
        {
          "name": "stdout",
          "output_type": "stream",
          "text": [
            "The quantization error of layer 13 is 23.654861450195312.\n",
            "The relative quantization error of layer 13 is 0.13515181839466095.\n",
            "\n",
            "\n",
            "Quantizing layer with index: 14\n",
            "Quantization progress: 14 out of 20\n",
            "\n",
            "shape of W: torch.Size([256, 256, 3, 3])\n",
            "shape of analog_layer_input: torch.Size([384, 2304])\n",
            "shape of quantized_layer_input: torch.Size([384, 2304])\n",
            "The number of groups: 1\n",
            "\n"
          ]
        },
        {
          "name": "stderr",
          "output_type": "stream",
          "text": [
            "100%|██████████| 2304/2304 [00:00<00:00, 3293.99it/s]\n"
          ]
        },
        {
          "name": "stdout",
          "output_type": "stream",
          "text": [
            "The quantization error of layer 14 is 10.579644203186035.\n",
            "The relative quantization error of layer 14 is 0.180562824010849.\n",
            "\n",
            "\n",
            "Quantizing layer with index: 15\n",
            "Quantization progress: 15 out of 20\n",
            "\n",
            "shape of W: torch.Size([512, 256, 3, 3])\n",
            "shape of analog_layer_input: torch.Size([384, 2304])\n",
            "shape of quantized_layer_input: torch.Size([384, 2304])\n",
            "The number of groups: 1\n",
            "\n"
          ]
        },
        {
          "name": "stderr",
          "output_type": "stream",
          "text": [
            "100%|██████████| 2304/2304 [00:00<00:00, 2761.88it/s]\n"
          ]
        },
        {
          "name": "stdout",
          "output_type": "stream",
          "text": [
            "The quantization error of layer 15 is 38.38973617553711.\n",
            "The relative quantization error of layer 15 is 0.1559300422668457.\n",
            "\n",
            "\n",
            "Quantizing layer with index: 16\n",
            "Quantization progress: 16 out of 20\n",
            "\n",
            "shape of W: torch.Size([512, 512, 3, 3])\n",
            "shape of analog_layer_input: torch.Size([256, 4608])\n",
            "shape of quantized_layer_input: torch.Size([256, 4608])\n",
            "The number of groups: 1\n",
            "\n"
          ]
        },
        {
          "name": "stderr",
          "output_type": "stream",
          "text": [
            "100%|██████████| 4608/4608 [00:01<00:00, 2988.86it/s]\n"
          ]
        },
        {
          "name": "stdout",
          "output_type": "stream",
          "text": [
            "The quantization error of layer 16 is 6.241330146789551.\n",
            "The relative quantization error of layer 16 is 0.1018688753247261.\n",
            "\n",
            "\n",
            "Quantizing layer with index: 17\n",
            "Quantization progress: 17 out of 20\n",
            "\n",
            "shape of W: torch.Size([512, 256, 1, 1])\n",
            "shape of analog_layer_input: torch.Size([2176, 256])\n",
            "shape of quantized_layer_input: torch.Size([2176, 256])\n",
            "The number of groups: 1\n",
            "\n"
          ]
        },
        {
          "name": "stderr",
          "output_type": "stream",
          "text": [
            "100%|██████████| 256/256 [00:00<00:00, 1279.96it/s]\n"
          ]
        },
        {
          "name": "stdout",
          "output_type": "stream",
          "text": [
            "The quantization error of layer 17 is 82.4849624633789.\n",
            "The relative quantization error of layer 17 is 0.4878849983215332.\n",
            "\n",
            "\n",
            "Quantizing layer with index: 18\n",
            "Quantization progress: 18 out of 20\n",
            "\n",
            "shape of W: torch.Size([512, 512, 3, 3])\n",
            "shape of analog_layer_input: torch.Size([256, 4608])\n",
            "shape of quantized_layer_input: torch.Size([256, 4608])\n",
            "The number of groups: 1\n",
            "\n"
          ]
        },
        {
          "name": "stderr",
          "output_type": "stream",
          "text": [
            "100%|██████████| 4608/4608 [00:01<00:00, 3212.49it/s]\n"
          ]
        },
        {
          "name": "stdout",
          "output_type": "stream",
          "text": [
            "The quantization error of layer 18 is 13.976707458496094.\n",
            "The relative quantization error of layer 18 is 0.07759706676006317.\n",
            "\n",
            "\n",
            "Quantizing layer with index: 19\n",
            "Quantization progress: 19 out of 20\n",
            "\n",
            "shape of W: torch.Size([512, 512, 3, 3])\n",
            "shape of analog_layer_input: torch.Size([256, 4608])\n",
            "shape of quantized_layer_input: torch.Size([256, 4608])\n",
            "The number of groups: 1\n",
            "\n"
          ]
        },
        {
          "name": "stderr",
          "output_type": "stream",
          "text": [
            "100%|██████████| 4608/4608 [00:01<00:00, 3268.92it/s]\n"
          ]
        },
        {
          "name": "stdout",
          "output_type": "stream",
          "text": [
            "The quantization error of layer 19 is 6.478562355041504.\n",
            "The relative quantization error of layer 19 is 0.1831011027097702.\n",
            "\n",
            "\n",
            "Quantizing layer with index: 20\n",
            "Quantization progress: 20 out of 20\n",
            "\n",
            "The number of groups: 1\n",
            "\n"
          ]
        },
        {
          "name": "stderr",
          "output_type": "stream",
          "text": [
            "100%|██████████| 512/512 [00:00<00:00, 3370.53it/s]"
          ]
        },
        {
          "name": "stdout",
          "output_type": "stream",
          "text": [
            "The quantization error of layer 20 is 71.95699310302734.\n",
            "The relative quantization error of layer 20 is 0.5261967182159424.\n",
            "\n"
          ]
        },
        {
          "name": "stderr",
          "output_type": "stream",
          "text": [
            "\n"
          ]
        },
        {
          "name": "stdout",
          "output_type": "stream",
          "text": [
            "Bits 2, Effective Quantized Bit Size: 3.0045257000158045\n",
            "Bits 2, Quantized Test Accuracy: 0.7187\n",
            "Results saved to checkpoints_student/checkpoints_student_VAN/results_student_quantization_van.csv\n"
          ]
        }
      ],
      "source": [
        "range1 = range(32, 20, -6)\n",
        "range2= range(20, 8, -4) \n",
        "range3= range(8, 4, -2)\n",
        "range4= range(4, 1, -1)\n",
        "bits_list = list(range1) + list(range2) + list(range3) + list(range4)\n",
        "\n",
        "for bits in bits_list:\n",
        "    # Quantization process\n",
        "    quantizer = QuantizeNeuralNet(\n",
        "        student_net.model,\n",
        "        'resnet18',\n",
        "        batch_size=128,\n",
        "        data_loader=train_loader,\n",
        "        mlp_bits=bits,\n",
        "        cnn_bits=bits,\n",
        "        ignore_layers=[],\n",
        "        mlp_alphabet_scalar=scalar(bits),\n",
        "        cnn_alphabet_scalar=scalar(bits),\n",
        "        mlp_percentile=1,\n",
        "        cnn_percentile=1,\n",
        "        reg=None,\n",
        "        lamb=0.1,\n",
        "        retain_rate=0.25,\n",
        "        stochastic_quantization=False,\n",
        "        device=fast_device\n",
        "    )\n",
        "    \n",
        "    # Measure training time\n",
        "    start_time = time.time()\n",
        "\n",
        "    quantized_model = quantizer.quantize_network()\n",
        "\n",
        "    training_time = time.time() - start_time\n",
        "\n",
        "    # Check quantized model bit size\n",
        "    effective_bit_size = calculate_bit_size(quantized_model)\n",
        "    print(f\"Bits {bits}, Effective Quantized Bit Size: {effective_bit_size}\")\n",
        "\n",
        "    _, quantized_test_accuracy = utils.getLossAccuracyOnDataset(quantized_model, test_loader, fast_device)\n",
        "    print(f\"Bits {bits}, Quantized Test Accuracy: {quantized_test_accuracy}\")\n",
        "\n",
        "    parameter = count_parameters(quantized_model) \n",
        "\n",
        "    # Write results to CSV\n",
        "    with open(csv_file, mode='a', newline='') as file:\n",
        "        writer = csv.writer(file)\n",
        "        writer.writerow([\n",
        "            bits, 0.9152, quantized_test_accuracy, training_time  # Include effective bit size\n",
        "        ])\n",
        "\n",
        "print(f\"Results saved to {csv_file}\")"
      ]
    },
    {
      "cell_type": "markdown",
      "metadata": {},
      "source": [
        "### DML"
      ]
    },
    {
      "cell_type": "code",
      "execution_count": 116,
      "metadata": {},
      "outputs": [],
      "source": [
        " # Initialize CSV file for logging accuracies\n",
        "csv_file = os.path.join(checkpoints_path_student_dml, \"results_student.csv\")\n",
        "if not os.path.exists(csv_file):\n",
        "    with open(csv_file, mode='w', newline='') as file:\n",
        "        writer = csv.writer(file)\n",
        "        writer.writerow(['Epoch', 'Student ID', 'Valid Accuracy'])"
      ]
    },
    {
      "cell_type": "code",
      "execution_count": 10,
      "metadata": {},
      "outputs": [],
      "source": [
        "def trainDML(student_models, beta, num_epochs, train_loader, valid_loader, optimizers, csv_file, fast_device=torch.device('cuda:0')):\n",
        "    for student in student_models:\n",
        "        student.to(fast_device).train()\n",
        "\n",
        "    criterion = nn.CrossEntropyLoss()\n",
        "\n",
        "    for epoch in range(num_epochs):\n",
        "        for data, labels in train_loader:\n",
        "            data, labels = data.to(fast_device), labels.to(fast_device)\n",
        "\n",
        "            # Zero the parameter gradients for all optimizers\n",
        "            for optimizer in optimizers:\n",
        "                optimizer.zero_grad()\n",
        "\n",
        "            outputs = [student(data) for student in student_models]\n",
        "            losses = []\n",
        "\n",
        "            for i, student_output in enumerate(outputs):\n",
        "                loss = criterion(student_output, labels)\n",
        "                dml_loss = sum(F.mse_loss(F.softmax(student_output, dim=1), F.softmax(other_output, dim=1))\n",
        "                               for j, other_output in enumerate(outputs) if i != j)\n",
        "                total_loss = loss + beta * (dml_loss / (len(student_models) - 1))\n",
        "                losses.append(total_loss)\n",
        "\n",
        "            for i, loss in enumerate(losses):\n",
        "                loss.backward(retain_graph=True if i < len(student_models) - 1 else False)\n",
        "\n",
        "            for optimizer in optimizers:\n",
        "                optimizer.step()\n",
        "\n",
        "        # Evaluate and log the test accuracy after each epoch\n",
        "        with open(csv_file, mode='a', newline='') as file:\n",
        "            writer = csv.writer(file)\n",
        "            for idx, student in enumerate(student_models):\n",
        "                _, test_accuracy = utils.getLossAccuracyOnDataset(student, valid_loader, fast_device)\n",
        "                writer.writerow([epoch, idx, test_accuracy])\n",
        "                print(f'Student {idx} test accuracy at epoch {epoch}: {test_accuracy}')\n",
        "                \n",
        "                # Save checkpoints\n",
        "                torch.save(student.state_dict(), f\"{checkpoints_path_student_dml}student_{idx}_epoch_{epoch}.pth\")\n",
        "                print(f\"Checkpoint saved for Student {idx} at Epoch {epoch + 1}: {checkpoints_path_student_dml}student_{idx}_epoch_{epoch}.pth\")\n",
        "\n",
        "    print(\"Training completed.\")"
      ]
    },
    {
      "cell_type": "code",
      "execution_count": 22,
      "metadata": {},
      "outputs": [
        {
          "name": "stderr",
          "output_type": "stream",
          "text": [
            "C:\\Users\\17598\\AppData\\Local\\Temp\\ipykernel_13896\\3866286448.py:1: FutureWarning: You are using `torch.load` with `weights_only=False` (the current default value), which uses the default pickle module implicitly. It is possible to construct malicious pickle data which will execute arbitrary code during unpickling (See https://github.com/pytorch/pytorch/blob/main/SECURITY.md#untrusted-models for more details). In a future release, the default value for `weights_only` will be flipped to `True`. This limits the functions that could be executed during unpickling. Arbitrary objects will no longer be allowed to be loaded via this mode unless they are explicitly allowlisted by the user via `torch.serialization.add_safe_globals`. We recommend you start setting `weights_only=True` for any use case where you don't have full control of the loaded file. Please open an issue on GitHub for any issues related to this experimental feature.\n",
            "  checkpoint = torch.load('checkpoints_student/checkpoints_student_NoKD/student_epoch_19.pth')\n",
            "c:\\Users\\17598\\AppData\\Local\\Programs\\Python\\Python310\\lib\\site-packages\\torchvision\\models\\_utils.py:208: UserWarning: The parameter 'pretrained' is deprecated since 0.13 and may be removed in the future, please use 'weights' instead.\n",
            "  warnings.warn(\n",
            "c:\\Users\\17598\\AppData\\Local\\Programs\\Python\\Python310\\lib\\site-packages\\torchvision\\models\\_utils.py:223: UserWarning: Arguments other than a weight enum or `None` for 'weights' are deprecated since 0.13 and may be removed in the future. The current behavior is equivalent to passing `weights=None`.\n",
            "  warnings.warn(msg)\n"
          ]
        },
        {
          "data": {
            "text/plain": [
              "(0.0, 0.8891)"
            ]
          },
          "execution_count": 22,
          "metadata": {},
          "output_type": "execute_result"
        }
      ],
      "source": [
        "checkpoint = torch.load('checkpoints_student/checkpoints_student_NoKD/student_epoch_19.pth')\n",
        "student_net = networks.StudentNetwork(0.0, teacher_net = teacher_net)\n",
        "student_net = student_net.to(fast_device)\n",
        "student_net.load_state_dict(checkpoint)\n",
        "\n",
        "utils.getLossAccuracyOnDataset(student_net, test_loader, fast_device)"
      ]
    },
    {
      "cell_type": "code",
      "execution_count": 120,
      "metadata": {},
      "outputs": [
        {
          "name": "stderr",
          "output_type": "stream",
          "text": [
            "c:\\Users\\17598\\AppData\\Local\\Programs\\Python\\Python310\\lib\\site-packages\\torchvision\\models\\_utils.py:223: UserWarning: Arguments other than a weight enum or `None` for 'weights' are deprecated since 0.13 and may be removed in the future. The current behavior is equivalent to passing `weights=ResNet18_Weights.IMAGENET1K_V1`. You can also use `weights=ResNet18_Weights.DEFAULT` to get the most up-to-date weights.\n",
            "  warnings.warn(msg)\n"
          ]
        },
        {
          "name": "stdout",
          "output_type": "stream",
          "text": [
            "Student 0 test accuracy at epoch 0: 0.8896\n",
            "Checkpoint saved for Student 0 at Epoch 1: checkpoints_student/checkpoints_student_DML/student_0_epoch_0.pth\n",
            "Student 1 test accuracy at epoch 0: 0.674\n",
            "Checkpoint saved for Student 1 at Epoch 1: checkpoints_student/checkpoints_student_DML/student_1_epoch_0.pth\n",
            "Student 0 test accuracy at epoch 1: 0.8904\n",
            "Checkpoint saved for Student 0 at Epoch 2: checkpoints_student/checkpoints_student_DML/student_0_epoch_1.pth\n",
            "Student 1 test accuracy at epoch 1: 0.7796\n",
            "Checkpoint saved for Student 1 at Epoch 2: checkpoints_student/checkpoints_student_DML/student_1_epoch_1.pth\n",
            "Student 0 test accuracy at epoch 2: 0.896\n",
            "Checkpoint saved for Student 0 at Epoch 3: checkpoints_student/checkpoints_student_DML/student_0_epoch_2.pth\n",
            "Student 1 test accuracy at epoch 2: 0.8128\n",
            "Checkpoint saved for Student 1 at Epoch 3: checkpoints_student/checkpoints_student_DML/student_1_epoch_2.pth\n",
            "Student 0 test accuracy at epoch 3: 0.8988\n",
            "Checkpoint saved for Student 0 at Epoch 4: checkpoints_student/checkpoints_student_DML/student_0_epoch_3.pth\n",
            "Student 1 test accuracy at epoch 3: 0.832\n",
            "Checkpoint saved for Student 1 at Epoch 4: checkpoints_student/checkpoints_student_DML/student_1_epoch_3.pth\n",
            "Student 0 test accuracy at epoch 4: 0.8936\n",
            "Checkpoint saved for Student 0 at Epoch 5: checkpoints_student/checkpoints_student_DML/student_0_epoch_4.pth\n",
            "Student 1 test accuracy at epoch 4: 0.8444\n",
            "Checkpoint saved for Student 1 at Epoch 5: checkpoints_student/checkpoints_student_DML/student_1_epoch_4.pth\n",
            "Student 0 test accuracy at epoch 5: 0.8972\n",
            "Checkpoint saved for Student 0 at Epoch 6: checkpoints_student/checkpoints_student_DML/student_0_epoch_5.pth\n",
            "Student 1 test accuracy at epoch 5: 0.8532\n",
            "Checkpoint saved for Student 1 at Epoch 6: checkpoints_student/checkpoints_student_DML/student_1_epoch_5.pth\n",
            "Student 0 test accuracy at epoch 6: 0.892\n",
            "Checkpoint saved for Student 0 at Epoch 7: checkpoints_student/checkpoints_student_DML/student_0_epoch_6.pth\n",
            "Student 1 test accuracy at epoch 6: 0.8612\n",
            "Checkpoint saved for Student 1 at Epoch 7: checkpoints_student/checkpoints_student_DML/student_1_epoch_6.pth\n",
            "Student 0 test accuracy at epoch 7: 0.894\n",
            "Checkpoint saved for Student 0 at Epoch 8: checkpoints_student/checkpoints_student_DML/student_0_epoch_7.pth\n",
            "Student 1 test accuracy at epoch 7: 0.8536\n",
            "Checkpoint saved for Student 1 at Epoch 8: checkpoints_student/checkpoints_student_DML/student_1_epoch_7.pth\n",
            "Student 0 test accuracy at epoch 8: 0.8984\n",
            "Checkpoint saved for Student 0 at Epoch 9: checkpoints_student/checkpoints_student_DML/student_0_epoch_8.pth\n",
            "Student 1 test accuracy at epoch 8: 0.8628\n",
            "Checkpoint saved for Student 1 at Epoch 9: checkpoints_student/checkpoints_student_DML/student_1_epoch_8.pth\n",
            "Student 0 test accuracy at epoch 9: 0.898\n",
            "Checkpoint saved for Student 0 at Epoch 10: checkpoints_student/checkpoints_student_DML/student_0_epoch_9.pth\n",
            "Student 1 test accuracy at epoch 9: 0.8676\n",
            "Checkpoint saved for Student 1 at Epoch 10: checkpoints_student/checkpoints_student_DML/student_1_epoch_9.pth\n",
            "Student 0 test accuracy at epoch 10: 0.8944\n",
            "Checkpoint saved for Student 0 at Epoch 11: checkpoints_student/checkpoints_student_DML/student_0_epoch_10.pth\n",
            "Student 1 test accuracy at epoch 10: 0.8676\n",
            "Checkpoint saved for Student 1 at Epoch 11: checkpoints_student/checkpoints_student_DML/student_1_epoch_10.pth\n",
            "Student 0 test accuracy at epoch 11: 0.8956\n",
            "Checkpoint saved for Student 0 at Epoch 12: checkpoints_student/checkpoints_student_DML/student_0_epoch_11.pth\n",
            "Student 1 test accuracy at epoch 11: 0.8564\n",
            "Checkpoint saved for Student 1 at Epoch 12: checkpoints_student/checkpoints_student_DML/student_1_epoch_11.pth\n",
            "Student 0 test accuracy at epoch 12: 0.8924\n",
            "Checkpoint saved for Student 0 at Epoch 13: checkpoints_student/checkpoints_student_DML/student_0_epoch_12.pth\n",
            "Student 1 test accuracy at epoch 12: 0.8624\n",
            "Checkpoint saved for Student 1 at Epoch 13: checkpoints_student/checkpoints_student_DML/student_1_epoch_12.pth\n"
          ]
        },
        {
          "ename": "KeyboardInterrupt",
          "evalue": "",
          "output_type": "error",
          "traceback": [
            "\u001b[1;31m---------------------------------------------------------------------------\u001b[0m",
            "\u001b[1;31mKeyboardInterrupt\u001b[0m                         Traceback (most recent call last)",
            "Cell \u001b[1;32mIn[120], line 5\u001b[0m\n\u001b[0;32m      2\u001b[0m student_models \u001b[38;5;241m=\u001b[39m [student_net,  networks\u001b[38;5;241m.\u001b[39mStudentNetwork(pruning_factor\u001b[38;5;241m=\u001b[39m\u001b[38;5;241m0.0\u001b[39m, teacher_net \u001b[38;5;241m=\u001b[39m teacher_net, q\u001b[38;5;241m=\u001b[39m\u001b[38;5;28;01mTrue\u001b[39;00m, fuse\u001b[38;5;241m=\u001b[39m\u001b[38;5;28;01mTrue\u001b[39;00m, qat\u001b[38;5;241m=\u001b[39m\u001b[38;5;28;01mTrue\u001b[39;00m, dif_arch\u001b[38;5;241m=\u001b[39m\u001b[38;5;28;01mTrue\u001b[39;00m)]  \u001b[38;5;66;03m# Create multiple instances for DML\u001b[39;00m\n\u001b[0;32m      3\u001b[0m optimizers \u001b[38;5;241m=\u001b[39m [torch\u001b[38;5;241m.\u001b[39moptim\u001b[38;5;241m.\u001b[39mSGD(student\u001b[38;5;241m.\u001b[39mparameters(), lr\u001b[38;5;241m=\u001b[39m\u001b[38;5;241m1e-3\u001b[39m, momentum\u001b[38;5;241m=\u001b[39m\u001b[38;5;241m0.9\u001b[39m, weight_decay\u001b[38;5;241m=\u001b[39m\u001b[38;5;241m0.0\u001b[39m) \u001b[38;5;28;01mfor\u001b[39;00m student \u001b[38;5;129;01min\u001b[39;00m student_models]\n\u001b[1;32m----> 5\u001b[0m \u001b[43mtrainDML\u001b[49m\u001b[43m(\u001b[49m\u001b[43mstudent_models\u001b[49m\u001b[43m,\u001b[49m\u001b[43m \u001b[49m\u001b[38;5;241;43m3\u001b[39;49m\u001b[43m,\u001b[49m\u001b[43m \u001b[49m\u001b[38;5;241;43m20\u001b[39;49m\u001b[43m,\u001b[49m\u001b[43m \u001b[49m\u001b[43mtrain_loader\u001b[49m\u001b[43m,\u001b[49m\u001b[43m \u001b[49m\u001b[43mval_loader\u001b[49m\u001b[43m,\u001b[49m\u001b[43m \u001b[49m\u001b[43moptimizers\u001b[49m\u001b[43m,\u001b[49m\u001b[43m \u001b[49m\u001b[43mcsv_file\u001b[49m\u001b[43m,\u001b[49m\u001b[43m \u001b[49m\u001b[43mfast_device\u001b[49m\u001b[43m)\u001b[49m\n",
            "Cell \u001b[1;32mIn[118], line 9\u001b[0m, in \u001b[0;36mtrainDML\u001b[1;34m(student_models, beta, num_epochs, train_loader, valid_loader, optimizers, csv_file, fast_device)\u001b[0m\n\u001b[0;32m      7\u001b[0m \u001b[38;5;28;01mfor\u001b[39;00m epoch \u001b[38;5;129;01min\u001b[39;00m \u001b[38;5;28mrange\u001b[39m(num_epochs):\n\u001b[0;32m      8\u001b[0m     \u001b[38;5;28;01mfor\u001b[39;00m data, labels \u001b[38;5;129;01min\u001b[39;00m train_loader:\n\u001b[1;32m----> 9\u001b[0m         data, labels \u001b[38;5;241m=\u001b[39m \u001b[43mdata\u001b[49m\u001b[38;5;241;43m.\u001b[39;49m\u001b[43mto\u001b[49m\u001b[43m(\u001b[49m\u001b[43mfast_device\u001b[49m\u001b[43m)\u001b[49m, labels\u001b[38;5;241m.\u001b[39mto(fast_device)\n\u001b[0;32m     11\u001b[0m         \u001b[38;5;66;03m# Zero the parameter gradients for all optimizers\u001b[39;00m\n\u001b[0;32m     12\u001b[0m         \u001b[38;5;28;01mfor\u001b[39;00m optimizer \u001b[38;5;129;01min\u001b[39;00m optimizers:\n",
            "\u001b[1;31mKeyboardInterrupt\u001b[0m: "
          ]
        }
      ],
      "source": [
        "# Create multiple student models and their optimizers\n",
        "student_models = [student_net,  networks.StudentNetwork(pruning_factor=0.0, teacher_net = teacher_net, q=True, fuse=True, qat=True, dif_arch=True)]  # Create multiple instances for DML\n",
        "optimizers = [torch.optim.SGD(student.parameters(), lr=1e-3, momentum=0.9, weight_decay=0.0) for student in student_models]\n",
        "\n",
        "trainDML(student_models, 3, 20, train_loader, val_loader, optimizers, csv_file, fast_device)"
      ]
    },
    {
      "cell_type": "code",
      "execution_count": 23,
      "metadata": {},
      "outputs": [
        {
          "name": "stderr",
          "output_type": "stream",
          "text": [
            "C:\\Users\\17598\\AppData\\Local\\Temp\\ipykernel_13896\\2877924804.py:1: FutureWarning: You are using `torch.load` with `weights_only=False` (the current default value), which uses the default pickle module implicitly. It is possible to construct malicious pickle data which will execute arbitrary code during unpickling (See https://github.com/pytorch/pytorch/blob/main/SECURITY.md#untrusted-models for more details). In a future release, the default value for `weights_only` will be flipped to `True`. This limits the functions that could be executed during unpickling. Arbitrary objects will no longer be allowed to be loaded via this mode unless they are explicitly allowlisted by the user via `torch.serialization.add_safe_globals`. We recommend you start setting `weights_only=True` for any use case where you don't have full control of the loaded file. Please open an issue on GitHub for any issues related to this experimental feature.\n",
            "  checkpoint = torch.load('checkpoints_student/checkpoints_student_DML/student_0_epoch_5.pth')\n"
          ]
        },
        {
          "data": {
            "text/plain": [
              "(0.0, 0.8921)"
            ]
          },
          "execution_count": 23,
          "metadata": {},
          "output_type": "execute_result"
        }
      ],
      "source": [
        "checkpoint = torch.load('checkpoints_student/checkpoints_student_DML/student_0_epoch_5.pth')\n",
        "student_net_0 = networks.StudentNetwork(0.0, teacher_net = teacher_net)\n",
        "student_net_0 = student_net_0.to(fast_device)\n",
        "student_net_0.load_state_dict(checkpoint)\n",
        "\n",
        "utils.getLossAccuracyOnDataset(student_net_0, test_loader, fast_device)"
      ]
    },
    {
      "cell_type": "code",
      "execution_count": 19,
      "metadata": {},
      "outputs": [
        {
          "name": "stderr",
          "output_type": "stream",
          "text": [
            "C:\\Users\\17598\\AppData\\Local\\Temp\\ipykernel_9552\\1917126078.py:1: FutureWarning: You are using `torch.load` with `weights_only=False` (the current default value), which uses the default pickle module implicitly. It is possible to construct malicious pickle data which will execute arbitrary code during unpickling (See https://github.com/pytorch/pytorch/blob/main/SECURITY.md#untrusted-models for more details). In a future release, the default value for `weights_only` will be flipped to `True`. This limits the functions that could be executed during unpickling. Arbitrary objects will no longer be allowed to be loaded via this mode unless they are explicitly allowlisted by the user via `torch.serialization.add_safe_globals`. We recommend you start setting `weights_only=True` for any use case where you don't have full control of the loaded file. Please open an issue on GitHub for any issues related to this experimental feature.\n",
            "  checkpoint = torch.load('checkpoints_student/checkpoints_student_DML/student_1_epoch_5.pth')\n"
          ]
        },
        {
          "data": {
            "text/plain": [
              "(0.0, 0.9179)"
            ]
          },
          "execution_count": 19,
          "metadata": {},
          "output_type": "execute_result"
        }
      ],
      "source": [
        "checkpoint = torch.load('checkpoints_student/checkpoints_student_DML/student_1_epoch_5.pth')\n",
        "student_net_1 = networks.StudentNetwork(pruning_factor=0.0, teacher_net = teacher_net, q=True, fuse=True, qat=True, dif_arch=True)\n",
        "student_net_1 = student_net_1.to(fast_device)\n",
        "student_net_1.load_state_dict(checkpoint)\n",
        "\n",
        "utils.getLossAccuracyOnDataset(student_net_1, test_loader, fast_device)"
      ]
    },
    {
      "cell_type": "code",
      "execution_count": 16,
      "metadata": {},
      "outputs": [
        {
          "name": "stdout",
          "output_type": "stream",
          "text": [
            "Student 0 test accuracy at epoch 0: 0.9248\n",
            "Checkpoint saved for Student 0 at Epoch 1: checkpoints_student/checkpoints_student_DML/student_0_epoch_0.pth\n",
            "Student 1 test accuracy at epoch 0: 0.9148\n",
            "Checkpoint saved for Student 1 at Epoch 1: checkpoints_student/checkpoints_student_DML/student_1_epoch_0.pth\n",
            "Student 0 test accuracy at epoch 1: 0.9304\n",
            "Checkpoint saved for Student 0 at Epoch 2: checkpoints_student/checkpoints_student_DML/student_0_epoch_1.pth\n",
            "Student 1 test accuracy at epoch 1: 0.9184\n",
            "Checkpoint saved for Student 1 at Epoch 2: checkpoints_student/checkpoints_student_DML/student_1_epoch_1.pth\n",
            "Student 0 test accuracy at epoch 2: 0.9312\n",
            "Checkpoint saved for Student 0 at Epoch 3: checkpoints_student/checkpoints_student_DML/student_0_epoch_2.pth\n",
            "Student 1 test accuracy at epoch 2: 0.918\n",
            "Checkpoint saved for Student 1 at Epoch 3: checkpoints_student/checkpoints_student_DML/student_1_epoch_2.pth\n",
            "Student 0 test accuracy at epoch 3: 0.9292\n",
            "Checkpoint saved for Student 0 at Epoch 4: checkpoints_student/checkpoints_student_DML/student_0_epoch_3.pth\n",
            "Student 1 test accuracy at epoch 3: 0.9156\n",
            "Checkpoint saved for Student 1 at Epoch 4: checkpoints_student/checkpoints_student_DML/student_1_epoch_3.pth\n",
            "Student 0 test accuracy at epoch 4: 0.9312\n",
            "Checkpoint saved for Student 0 at Epoch 5: checkpoints_student/checkpoints_student_DML/student_0_epoch_4.pth\n",
            "Student 1 test accuracy at epoch 4: 0.9204\n",
            "Checkpoint saved for Student 1 at Epoch 5: checkpoints_student/checkpoints_student_DML/student_1_epoch_4.pth\n",
            "Student 0 test accuracy at epoch 5: 0.9312\n",
            "Checkpoint saved for Student 0 at Epoch 6: checkpoints_student/checkpoints_student_DML/student_0_epoch_5.pth\n",
            "Student 1 test accuracy at epoch 5: 0.9184\n",
            "Checkpoint saved for Student 1 at Epoch 6: checkpoints_student/checkpoints_student_DML/student_1_epoch_5.pth\n"
          ]
        },
        {
          "ename": "KeyboardInterrupt",
          "evalue": "",
          "output_type": "error",
          "traceback": [
            "\u001b[1;31m---------------------------------------------------------------------------\u001b[0m",
            "\u001b[1;31mKeyboardInterrupt\u001b[0m                         Traceback (most recent call last)",
            "Cell \u001b[1;32mIn[16], line 6\u001b[0m\n\u001b[0;32m      3\u001b[0m student_models \u001b[38;5;241m=\u001b[39m [student_net_0,  student_net_1]  \u001b[38;5;66;03m# Create multiple instances for DML\u001b[39;00m\n\u001b[0;32m      4\u001b[0m optimizers \u001b[38;5;241m=\u001b[39m [torch\u001b[38;5;241m.\u001b[39moptim\u001b[38;5;241m.\u001b[39mSGD(student\u001b[38;5;241m.\u001b[39mparameters(), lr\u001b[38;5;241m=\u001b[39m\u001b[38;5;241m1e-3\u001b[39m, momentum\u001b[38;5;241m=\u001b[39m\u001b[38;5;241m0.9\u001b[39m, weight_decay\u001b[38;5;241m=\u001b[39m\u001b[38;5;241m0.0\u001b[39m) \u001b[38;5;28;01mfor\u001b[39;00m student \u001b[38;5;129;01min\u001b[39;00m student_models]\n\u001b[1;32m----> 6\u001b[0m \u001b[43mtrainDML\u001b[49m\u001b[43m(\u001b[49m\u001b[43mstudent_models\u001b[49m\u001b[43m,\u001b[49m\u001b[43m \u001b[49m\u001b[38;5;241;43m1\u001b[39;49m\u001b[43m,\u001b[49m\u001b[43m \u001b[49m\u001b[38;5;241;43m20\u001b[39;49m\u001b[43m,\u001b[49m\u001b[43m \u001b[49m\u001b[43mtrain_loader\u001b[49m\u001b[43m,\u001b[49m\u001b[43m \u001b[49m\u001b[43mval_loader\u001b[49m\u001b[43m,\u001b[49m\u001b[43m \u001b[49m\u001b[43moptimizers\u001b[49m\u001b[43m,\u001b[49m\u001b[43m \u001b[49m\u001b[43mcsv_file\u001b[49m\u001b[43m,\u001b[49m\u001b[43m \u001b[49m\u001b[43mfast_device\u001b[49m\u001b[43m)\u001b[49m\n",
            "Cell \u001b[1;32mIn[10], line 9\u001b[0m, in \u001b[0;36mtrainDML\u001b[1;34m(student_models, beta, num_epochs, train_loader, valid_loader, optimizers, csv_file, fast_device)\u001b[0m\n\u001b[0;32m      7\u001b[0m \u001b[38;5;28;01mfor\u001b[39;00m epoch \u001b[38;5;129;01min\u001b[39;00m \u001b[38;5;28mrange\u001b[39m(num_epochs):\n\u001b[0;32m      8\u001b[0m     \u001b[38;5;28;01mfor\u001b[39;00m data, labels \u001b[38;5;129;01min\u001b[39;00m train_loader:\n\u001b[1;32m----> 9\u001b[0m         data, labels \u001b[38;5;241m=\u001b[39m \u001b[43mdata\u001b[49m\u001b[38;5;241;43m.\u001b[39;49m\u001b[43mto\u001b[49m\u001b[43m(\u001b[49m\u001b[43mfast_device\u001b[49m\u001b[43m)\u001b[49m, labels\u001b[38;5;241m.\u001b[39mto(fast_device)\n\u001b[0;32m     11\u001b[0m         \u001b[38;5;66;03m# Zero the parameter gradients for all optimizers\u001b[39;00m\n\u001b[0;32m     12\u001b[0m         \u001b[38;5;28;01mfor\u001b[39;00m optimizer \u001b[38;5;129;01min\u001b[39;00m optimizers:\n",
            "\u001b[1;31mKeyboardInterrupt\u001b[0m: "
          ]
        }
      ],
      "source": [
        "csv_file = os.path.join(checkpoints_path_student_dml, \"results_student.csv\")\n",
        "# Create multiple student models and their optimizers\n",
        "student_models = [student_net_0,  student_net_1]  # Create multiple instances for DML\n",
        "optimizers = [torch.optim.SGD(student.parameters(), lr=1e-3, momentum=0.9, weight_decay=0.0) for student in student_models]\n",
        "\n",
        "trainDML(student_models, 1, 20, train_loader, val_loader, optimizers, csv_file, fast_device)"
      ]
    },
    {
      "cell_type": "code",
      "execution_count": 37,
      "metadata": {},
      "outputs": [
        {
          "name": "stderr",
          "output_type": "stream",
          "text": [
            "C:\\Users\\17598\\AppData\\Local\\Temp\\ipykernel_13896\\307282889.py:2: FutureWarning: You are using `torch.load` with `weights_only=False` (the current default value), which uses the default pickle module implicitly. It is possible to construct malicious pickle data which will execute arbitrary code during unpickling (See https://github.com/pytorch/pytorch/blob/main/SECURITY.md#untrusted-models for more details). In a future release, the default value for `weights_only` will be flipped to `True`. This limits the functions that could be executed during unpickling. Arbitrary objects will no longer be allowed to be loaded via this mode unless they are explicitly allowlisted by the user via `torch.serialization.add_safe_globals`. We recommend you start setting `weights_only=True` for any use case where you don't have full control of the loaded file. Please open an issue on GitHub for any issues related to this experimental feature.\n",
            "  checkpoint = torch.load('checkpoints_student/checkpoints_student_DML/student_0_epoch_15.pth')\n"
          ]
        },
        {
          "data": {
            "text/plain": [
              "(0.0, 0.932)"
            ]
          },
          "execution_count": 37,
          "metadata": {},
          "output_type": "execute_result"
        }
      ],
      "source": [
        "#check accuracy\n",
        "checkpoint = torch.load('checkpoints_student/checkpoints_student_DML/student_0_epoch_15.pth')\n",
        "student_net = networks.StudentNetwork(0.0, teacher_net = teacher_net)\n",
        "student_net = student_net.to(fast_device)\n",
        "student_net.load_state_dict(checkpoint)\n",
        "reproducibilitySeed()\n",
        "utils.getLossAccuracyOnDataset(student_net, test_loader, fast_device)"
      ]
    },
    {
      "cell_type": "code",
      "execution_count": 38,
      "metadata": {},
      "outputs": [],
      "source": [
        "# Quantization CSV file setup\n",
        "csv_file = \"checkpoints_student/checkpoints_student_DML/results_student_quantization_dml.csv\"\n",
        "with open(csv_file, mode='w', newline='') as file:\n",
        "    writer = csv.writer(file)\n",
        "    writer.writerow([\"Bits\", \"Original Test Accuracy\", \"Quantized Test Accuracy\", \"Training Time (s)\"])"
      ]
    },
    {
      "cell_type": "code",
      "execution_count": 39,
      "metadata": {},
      "outputs": [
        {
          "name": "stdout",
          "output_type": "stream",
          "text": [
            "Layer indices to quantize [0, 1, 2, 3, 4, 5, 6, 7, 8, 9, 10, 11, 12, 13, 14, 15, 16, 17, 18, 19, 20]\n",
            "Total number of layers to quantize 21\n",
            "\n",
            "Quantizing layer with index: 0\n",
            "Quantization progress: 0 out of 20\n",
            "\n",
            "shape of W: torch.Size([64, 3, 3, 3])\n",
            "shape of analog_layer_input: torch.Size([3968, 27])\n",
            "shape of quantized_layer_input: torch.Size([3968, 27])\n",
            "The number of groups: 1\n",
            "\n"
          ]
        },
        {
          "name": "stderr",
          "output_type": "stream",
          "text": [
            "100%|██████████| 27/27 [00:00<00:00, 356.41it/s]"
          ]
        },
        {
          "name": "stdout",
          "output_type": "stream",
          "text": [
            "The quantization error of layer 0 is 2.5961731807910837e-05.\n",
            "The relative quantization error of layer 0 is 6.826341092391885e-08.\n",
            "\n"
          ]
        },
        {
          "name": "stderr",
          "output_type": "stream",
          "text": [
            "\n"
          ]
        },
        {
          "name": "stdout",
          "output_type": "stream",
          "text": [
            "\n",
            "Quantizing layer with index: 1\n",
            "Quantization progress: 1 out of 20\n",
            "\n",
            "shape of W: torch.Size([64, 64, 3, 3])\n",
            "shape of analog_layer_input: torch.Size([3968, 576])\n",
            "shape of quantized_layer_input: torch.Size([3968, 576])\n",
            "The number of groups: 1\n",
            "\n"
          ]
        },
        {
          "name": "stderr",
          "output_type": "stream",
          "text": [
            "100%|██████████| 576/576 [00:00<00:00, 1060.00it/s]\n"
          ]
        },
        {
          "name": "stdout",
          "output_type": "stream",
          "text": [
            "The quantization error of layer 1 is 3.022010605491232e-05.\n",
            "The relative quantization error of layer 1 is 5.239535738610357e-08.\n",
            "\n",
            "\n",
            "Quantizing layer with index: 2\n",
            "Quantization progress: 2 out of 20\n",
            "\n",
            "shape of W: torch.Size([64, 64, 3, 3])\n",
            "shape of analog_layer_input: torch.Size([3968, 576])\n",
            "shape of quantized_layer_input: torch.Size([3968, 576])\n",
            "The number of groups: 1\n",
            "\n"
          ]
        },
        {
          "name": "stderr",
          "output_type": "stream",
          "text": [
            "100%|██████████| 576/576 [00:00<00:00, 2532.93it/s]\n"
          ]
        },
        {
          "name": "stdout",
          "output_type": "stream",
          "text": [
            "The quantization error of layer 2 is 0.0016854492714628577.\n",
            "The relative quantization error of layer 2 is 5.9176677495997865e-06.\n",
            "\n",
            "\n",
            "Quantizing layer with index: 3\n",
            "Quantization progress: 3 out of 20\n",
            "\n",
            "shape of W: torch.Size([64, 64, 3, 3])\n",
            "shape of analog_layer_input: torch.Size([3968, 576])\n",
            "shape of quantized_layer_input: torch.Size([3968, 576])\n",
            "The number of groups: 1\n",
            "\n"
          ]
        },
        {
          "name": "stderr",
          "output_type": "stream",
          "text": [
            "100%|██████████| 576/576 [00:00<00:00, 2681.74it/s]\n"
          ]
        },
        {
          "name": "stdout",
          "output_type": "stream",
          "text": [
            "The quantization error of layer 3 is 0.00751094426959753.\n",
            "The relative quantization error of layer 3 is 1.3312585906533059e-05.\n",
            "\n",
            "\n",
            "Quantizing layer with index: 4\n",
            "Quantization progress: 4 out of 20\n",
            "\n",
            "shape of W: torch.Size([64, 64, 3, 3])\n",
            "shape of analog_layer_input: torch.Size([3968, 576])\n",
            "shape of quantized_layer_input: torch.Size([3968, 576])\n",
            "The number of groups: 1\n",
            "\n"
          ]
        },
        {
          "name": "stderr",
          "output_type": "stream",
          "text": [
            "100%|██████████| 576/576 [00:00<00:00, 2273.14it/s]\n"
          ]
        },
        {
          "name": "stdout",
          "output_type": "stream",
          "text": [
            "The quantization error of layer 4 is 0.010368836112320423.\n",
            "The relative quantization error of layer 4 is 4.9573111027712e-05.\n",
            "\n",
            "\n",
            "Quantizing layer with index: 5\n",
            "Quantization progress: 5 out of 20\n",
            "\n",
            "shape of W: torch.Size([128, 64, 3, 3])\n",
            "shape of analog_layer_input: torch.Size([3968, 576])\n",
            "shape of quantized_layer_input: torch.Size([3968, 576])\n",
            "The number of groups: 1\n",
            "\n"
          ]
        },
        {
          "name": "stderr",
          "output_type": "stream",
          "text": [
            "100%|██████████| 576/576 [00:00<00:00, 1655.28it/s]\n"
          ]
        },
        {
          "name": "stdout",
          "output_type": "stream",
          "text": [
            "The quantization error of layer 5 is 0.05934187397360802.\n",
            "The relative quantization error of layer 5 is 7.137924694688991e-05.\n",
            "\n",
            "\n",
            "Quantizing layer with index: 6\n",
            "Quantization progress: 6 out of 20\n",
            "\n",
            "shape of W: torch.Size([128, 128, 3, 3])\n",
            "shape of analog_layer_input: torch.Size([1280, 1152])\n",
            "shape of quantized_layer_input: torch.Size([1280, 1152])\n",
            "The number of groups: 1\n",
            "\n"
          ]
        },
        {
          "name": "stderr",
          "output_type": "stream",
          "text": [
            "100%|██████████| 1152/1152 [00:00<00:00, 3022.09it/s]\n"
          ]
        },
        {
          "name": "stdout",
          "output_type": "stream",
          "text": [
            "The quantization error of layer 6 is 0.012956040911376476.\n",
            "The relative quantization error of layer 6 is 7.720431312918663e-05.\n",
            "\n",
            "\n",
            "Quantizing layer with index: 7\n",
            "Quantization progress: 7 out of 20\n",
            "\n",
            "shape of W: torch.Size([128, 64, 1, 1])\n",
            "shape of analog_layer_input: torch.Size([32896, 64])\n",
            "shape of quantized_layer_input: torch.Size([32896, 64])\n",
            "The number of groups: 1\n",
            "\n"
          ]
        },
        {
          "name": "stderr",
          "output_type": "stream",
          "text": [
            "100%|██████████| 64/64 [00:00<00:00, 335.13it/s]\n"
          ]
        },
        {
          "name": "stdout",
          "output_type": "stream",
          "text": [
            "The quantization error of layer 7 is 0.053271062672138214.\n",
            "The relative quantization error of layer 7 is 6.180103082442656e-05.\n",
            "\n",
            "\n",
            "Quantizing layer with index: 8\n",
            "Quantization progress: 8 out of 20\n",
            "\n",
            "shape of W: torch.Size([128, 128, 3, 3])\n",
            "shape of analog_layer_input: torch.Size([1280, 1152])\n",
            "shape of quantized_layer_input: torch.Size([1280, 1152])\n",
            "The number of groups: 1\n",
            "\n"
          ]
        },
        {
          "name": "stderr",
          "output_type": "stream",
          "text": [
            "100%|██████████| 1152/1152 [00:00<00:00, 3014.84it/s]\n"
          ]
        },
        {
          "name": "stdout",
          "output_type": "stream",
          "text": [
            "The quantization error of layer 8 is 0.028736354783177376.\n",
            "The relative quantization error of layer 8 is 0.0001043242882587947.\n",
            "\n",
            "\n",
            "Quantizing layer with index: 9\n",
            "Quantization progress: 9 out of 20\n",
            "\n",
            "shape of W: torch.Size([128, 128, 3, 3])\n",
            "shape of analog_layer_input: torch.Size([1280, 1152])\n",
            "shape of quantized_layer_input: torch.Size([1280, 1152])\n",
            "The number of groups: 1\n",
            "\n"
          ]
        },
        {
          "name": "stderr",
          "output_type": "stream",
          "text": [
            "100%|██████████| 1152/1152 [00:00<00:00, 3015.24it/s]\n"
          ]
        },
        {
          "name": "stdout",
          "output_type": "stream",
          "text": [
            "The quantization error of layer 9 is 0.01760047674179077.\n",
            "The relative quantization error of layer 9 is 0.0001779414596967399.\n",
            "\n",
            "\n",
            "Quantizing layer with index: 10\n",
            "Quantization progress: 10 out of 20\n",
            "\n",
            "shape of W: torch.Size([256, 128, 3, 3])\n",
            "shape of analog_layer_input: torch.Size([1280, 1152])\n",
            "shape of quantized_layer_input: torch.Size([1280, 1152])\n",
            "The number of groups: 1\n",
            "\n"
          ]
        },
        {
          "name": "stderr",
          "output_type": "stream",
          "text": [
            "100%|██████████| 1152/1152 [00:00<00:00, 2272.52it/s]\n"
          ]
        },
        {
          "name": "stdout",
          "output_type": "stream",
          "text": [
            "The quantization error of layer 10 is 0.05553148686885834.\n",
            "The relative quantization error of layer 10 is 0.00013485600356943905.\n",
            "\n",
            "\n",
            "Quantizing layer with index: 11\n",
            "Quantization progress: 11 out of 20\n",
            "\n",
            "shape of W: torch.Size([256, 256, 3, 3])\n",
            "shape of analog_layer_input: torch.Size([384, 2304])\n",
            "shape of quantized_layer_input: torch.Size([384, 2304])\n",
            "The number of groups: 1\n",
            "\n"
          ]
        },
        {
          "name": "stderr",
          "output_type": "stream",
          "text": [
            "100%|██████████| 2304/2304 [00:00<00:00, 2944.36it/s]\n"
          ]
        },
        {
          "name": "stdout",
          "output_type": "stream",
          "text": [
            "The quantization error of layer 11 is 0.012543623335659504.\n",
            "The relative quantization error of layer 11 is 0.0001003699580905959.\n",
            "\n",
            "\n",
            "Quantizing layer with index: 12\n",
            "Quantization progress: 12 out of 20\n",
            "\n",
            "shape of W: torch.Size([256, 128, 1, 1])\n",
            "shape of analog_layer_input: torch.Size([8320, 128])\n",
            "shape of quantized_layer_input: torch.Size([8320, 128])\n",
            "The number of groups: 1\n",
            "\n"
          ]
        },
        {
          "name": "stderr",
          "output_type": "stream",
          "text": [
            "100%|██████████| 128/128 [00:00<00:00, 842.16it/s]"
          ]
        },
        {
          "name": "stdout",
          "output_type": "stream",
          "text": [
            "The quantization error of layer 12 is 0.05475609377026558.\n",
            "The relative quantization error of layer 12 is 0.00021484452008735389.\n",
            "\n"
          ]
        },
        {
          "name": "stderr",
          "output_type": "stream",
          "text": [
            "\n"
          ]
        },
        {
          "name": "stdout",
          "output_type": "stream",
          "text": [
            "\n",
            "Quantizing layer with index: 13\n",
            "Quantization progress: 13 out of 20\n",
            "\n",
            "shape of W: torch.Size([256, 256, 3, 3])\n",
            "shape of analog_layer_input: torch.Size([384, 2304])\n",
            "shape of quantized_layer_input: torch.Size([384, 2304])\n",
            "The number of groups: 1\n",
            "\n"
          ]
        },
        {
          "name": "stderr",
          "output_type": "stream",
          "text": [
            "100%|██████████| 2304/2304 [00:00<00:00, 3225.38it/s]\n"
          ]
        },
        {
          "name": "stdout",
          "output_type": "stream",
          "text": [
            "The quantization error of layer 13 is 0.017629677429795265.\n",
            "The relative quantization error of layer 13 is 8.484136196784675e-05.\n",
            "\n",
            "\n",
            "Quantizing layer with index: 14\n",
            "Quantization progress: 14 out of 20\n",
            "\n",
            "shape of W: torch.Size([256, 256, 3, 3])\n",
            "shape of analog_layer_input: torch.Size([384, 2304])\n",
            "shape of quantized_layer_input: torch.Size([384, 2304])\n",
            "The number of groups: 1\n",
            "\n"
          ]
        },
        {
          "name": "stderr",
          "output_type": "stream",
          "text": [
            "100%|██████████| 2304/2304 [00:00<00:00, 3032.09it/s]\n"
          ]
        },
        {
          "name": "stdout",
          "output_type": "stream",
          "text": [
            "The quantization error of layer 14 is 0.008382296189665794.\n",
            "The relative quantization error of layer 14 is 0.00013557561032939702.\n",
            "\n",
            "\n",
            "Quantizing layer with index: 15\n",
            "Quantization progress: 15 out of 20\n",
            "\n",
            "shape of W: torch.Size([512, 256, 3, 3])\n",
            "shape of analog_layer_input: torch.Size([384, 2304])\n",
            "shape of quantized_layer_input: torch.Size([384, 2304])\n",
            "The number of groups: 1\n",
            "\n"
          ]
        },
        {
          "name": "stderr",
          "output_type": "stream",
          "text": [
            "100%|██████████| 2304/2304 [00:00<00:00, 2751.94it/s]\n"
          ]
        },
        {
          "name": "stdout",
          "output_type": "stream",
          "text": [
            "The quantization error of layer 15 is 0.5445865988731384.\n",
            "The relative quantization error of layer 15 is 0.002150686690583825.\n",
            "\n",
            "\n",
            "Quantizing layer with index: 16\n",
            "Quantization progress: 16 out of 20\n",
            "\n",
            "shape of W: torch.Size([512, 512, 3, 3])\n",
            "shape of analog_layer_input: torch.Size([256, 4608])\n",
            "shape of quantized_layer_input: torch.Size([256, 4608])\n",
            "The number of groups: 1\n",
            "\n"
          ]
        },
        {
          "name": "stderr",
          "output_type": "stream",
          "text": [
            "100%|██████████| 4608/4608 [00:01<00:00, 3003.07it/s]\n"
          ]
        },
        {
          "name": "stdout",
          "output_type": "stream",
          "text": [
            "The quantization error of layer 16 is 0.06601599603891373.\n",
            "The relative quantization error of layer 16 is 0.0010595270432531834.\n",
            "\n",
            "\n",
            "Quantizing layer with index: 17\n",
            "Quantization progress: 17 out of 20\n",
            "\n",
            "shape of W: torch.Size([512, 256, 1, 1])\n",
            "shape of analog_layer_input: torch.Size([2176, 256])\n",
            "shape of quantized_layer_input: torch.Size([2176, 256])\n",
            "The number of groups: 1\n",
            "\n"
          ]
        },
        {
          "name": "stderr",
          "output_type": "stream",
          "text": [
            "100%|██████████| 256/256 [00:00<00:00, 1184.56it/s]\n"
          ]
        },
        {
          "name": "stdout",
          "output_type": "stream",
          "text": [
            "The quantization error of layer 17 is 1.8943402767181396.\n",
            "The relative quantization error of layer 17 is 0.011672270484268665.\n",
            "\n",
            "\n",
            "Quantizing layer with index: 18\n",
            "Quantization progress: 18 out of 20\n",
            "\n",
            "shape of W: torch.Size([512, 512, 3, 3])\n",
            "shape of analog_layer_input: torch.Size([256, 4608])\n",
            "shape of quantized_layer_input: torch.Size([256, 4608])\n",
            "The number of groups: 1\n",
            "\n"
          ]
        },
        {
          "name": "stderr",
          "output_type": "stream",
          "text": [
            "100%|██████████| 4608/4608 [00:01<00:00, 3252.21it/s]\n"
          ]
        },
        {
          "name": "stdout",
          "output_type": "stream",
          "text": [
            "The quantization error of layer 18 is 1.4373588562011719.\n",
            "The relative quantization error of layer 18 is 0.008058312349021435.\n",
            "\n",
            "\n",
            "Quantizing layer with index: 19\n",
            "Quantization progress: 19 out of 20\n",
            "\n",
            "shape of W: torch.Size([512, 512, 3, 3])\n",
            "shape of analog_layer_input: torch.Size([256, 4608])\n",
            "shape of quantized_layer_input: torch.Size([256, 4608])\n",
            "The number of groups: 1\n",
            "\n"
          ]
        },
        {
          "name": "stderr",
          "output_type": "stream",
          "text": [
            "100%|██████████| 4608/4608 [00:01<00:00, 3131.55it/s]\n"
          ]
        },
        {
          "name": "stdout",
          "output_type": "stream",
          "text": [
            "The quantization error of layer 19 is 1.7550082206726074.\n",
            "The relative quantization error of layer 19 is 0.04771282523870468.\n",
            "\n",
            "\n",
            "Quantizing layer with index: 20\n",
            "Quantization progress: 20 out of 20\n",
            "\n",
            "The number of groups: 1\n",
            "\n"
          ]
        },
        {
          "name": "stderr",
          "output_type": "stream",
          "text": [
            "100%|██████████| 512/512 [00:00<00:00, 2949.87it/s]"
          ]
        },
        {
          "name": "stdout",
          "output_type": "stream",
          "text": [
            "The quantization error of layer 20 is 18.28910255432129.\n",
            "The relative quantization error of layer 20 is 0.07383731752634048.\n",
            "\n"
          ]
        },
        {
          "name": "stderr",
          "output_type": "stream",
          "text": [
            "\n"
          ]
        },
        {
          "name": "stdout",
          "output_type": "stream",
          "text": [
            "Bits 32, Effective Quantized Bit Size: 21.121295382962643\n",
            "Bits 32, Quantized Test Accuracy: 0.9284\n",
            "Layer indices to quantize [0, 1, 2, 3, 4, 5, 6, 7, 8, 9, 10, 11, 12, 13, 14, 15, 16, 17, 18, 19, 20]\n",
            "Total number of layers to quantize 21\n",
            "\n",
            "Quantizing layer with index: 0\n",
            "Quantization progress: 0 out of 20\n",
            "\n",
            "shape of W: torch.Size([64, 3, 3, 3])\n",
            "shape of analog_layer_input: torch.Size([3968, 27])\n",
            "shape of quantized_layer_input: torch.Size([3968, 27])\n",
            "The number of groups: 1\n",
            "\n"
          ]
        },
        {
          "name": "stderr",
          "output_type": "stream",
          "text": [
            "100%|██████████| 27/27 [00:00<00:00, 555.12it/s]"
          ]
        },
        {
          "name": "stdout",
          "output_type": "stream",
          "text": [
            "The quantization error of layer 0 is 2.6659834475140087e-05.\n",
            "The relative quantization error of layer 0 is 7.118794087546121e-08.\n",
            "\n"
          ]
        },
        {
          "name": "stderr",
          "output_type": "stream",
          "text": [
            "\n"
          ]
        },
        {
          "name": "stdout",
          "output_type": "stream",
          "text": [
            "\n",
            "Quantizing layer with index: 1\n",
            "Quantization progress: 1 out of 20\n",
            "\n",
            "shape of W: torch.Size([64, 64, 3, 3])\n",
            "shape of analog_layer_input: torch.Size([3968, 576])\n",
            "shape of quantized_layer_input: torch.Size([3968, 576])\n",
            "The number of groups: 1\n",
            "\n"
          ]
        },
        {
          "name": "stderr",
          "output_type": "stream",
          "text": [
            "100%|██████████| 576/576 [00:00<00:00, 1397.24it/s]\n"
          ]
        },
        {
          "name": "stdout",
          "output_type": "stream",
          "text": [
            "The quantization error of layer 1 is 3.328434468130581e-05.\n",
            "The relative quantization error of layer 1 is 5.7662390418045106e-08.\n",
            "\n",
            "\n",
            "Quantizing layer with index: 2\n",
            "Quantization progress: 2 out of 20\n",
            "\n",
            "shape of W: torch.Size([64, 64, 3, 3])\n",
            "shape of analog_layer_input: torch.Size([3968, 576])\n",
            "shape of quantized_layer_input: torch.Size([3968, 576])\n",
            "The number of groups: 1\n",
            "\n"
          ]
        },
        {
          "name": "stderr",
          "output_type": "stream",
          "text": [
            "100%|██████████| 576/576 [00:00<00:00, 2648.11it/s]\n"
          ]
        },
        {
          "name": "stdout",
          "output_type": "stream",
          "text": [
            "The quantization error of layer 2 is 0.0020617914851754904.\n",
            "The relative quantization error of layer 2 is 7.136368822102668e-06.\n",
            "\n",
            "\n",
            "Quantizing layer with index: 3\n",
            "Quantization progress: 3 out of 20\n",
            "\n",
            "shape of W: torch.Size([64, 64, 3, 3])\n",
            "shape of analog_layer_input: torch.Size([3968, 576])\n",
            "shape of quantized_layer_input: torch.Size([3968, 576])\n",
            "The number of groups: 1\n",
            "\n"
          ]
        },
        {
          "name": "stderr",
          "output_type": "stream",
          "text": [
            "100%|██████████| 576/576 [00:00<00:00, 2474.71it/s]\n"
          ]
        },
        {
          "name": "stdout",
          "output_type": "stream",
          "text": [
            "The quantization error of layer 3 is 0.008497330360114574.\n",
            "The relative quantization error of layer 3 is 1.5012510630185716e-05.\n",
            "\n",
            "\n",
            "Quantizing layer with index: 4\n",
            "Quantization progress: 4 out of 20\n",
            "\n",
            "shape of W: torch.Size([64, 64, 3, 3])\n",
            "shape of analog_layer_input: torch.Size([3968, 576])\n",
            "shape of quantized_layer_input: torch.Size([3968, 576])\n",
            "The number of groups: 1\n",
            "\n"
          ]
        },
        {
          "name": "stderr",
          "output_type": "stream",
          "text": [
            "100%|██████████| 576/576 [00:00<00:00, 2188.02it/s]\n"
          ]
        },
        {
          "name": "stdout",
          "output_type": "stream",
          "text": [
            "The quantization error of layer 4 is 0.012941616587340832.\n",
            "The relative quantization error of layer 4 is 6.242183735594153e-05.\n",
            "\n",
            "\n",
            "Quantizing layer with index: 5\n",
            "Quantization progress: 5 out of 20\n",
            "\n",
            "shape of W: torch.Size([128, 64, 3, 3])\n",
            "shape of analog_layer_input: torch.Size([3968, 576])\n",
            "shape of quantized_layer_input: torch.Size([3968, 576])\n",
            "The number of groups: 1\n",
            "\n"
          ]
        },
        {
          "name": "stderr",
          "output_type": "stream",
          "text": [
            "100%|██████████| 576/576 [00:00<00:00, 1708.55it/s]\n"
          ]
        },
        {
          "name": "stdout",
          "output_type": "stream",
          "text": [
            "The quantization error of layer 5 is 0.07049694657325745.\n",
            "The relative quantization error of layer 5 is 8.602760499343276e-05.\n",
            "\n",
            "\n",
            "Quantizing layer with index: 6\n",
            "Quantization progress: 6 out of 20\n",
            "\n",
            "shape of W: torch.Size([128, 128, 3, 3])\n",
            "shape of analog_layer_input: torch.Size([1280, 1152])\n",
            "shape of quantized_layer_input: torch.Size([1280, 1152])\n",
            "The number of groups: 1\n",
            "\n"
          ]
        },
        {
          "name": "stderr",
          "output_type": "stream",
          "text": [
            "100%|██████████| 1152/1152 [00:00<00:00, 2889.84it/s]\n"
          ]
        },
        {
          "name": "stdout",
          "output_type": "stream",
          "text": [
            "The quantization error of layer 6 is 0.014315229840576649.\n",
            "The relative quantization error of layer 6 is 8.665808127261698e-05.\n",
            "\n",
            "\n",
            "Quantizing layer with index: 7\n",
            "Quantization progress: 7 out of 20\n",
            "\n",
            "shape of W: torch.Size([128, 64, 1, 1])\n",
            "shape of analog_layer_input: torch.Size([32896, 64])\n",
            "shape of quantized_layer_input: torch.Size([32896, 64])\n",
            "The number of groups: 1\n",
            "\n"
          ]
        },
        {
          "name": "stderr",
          "output_type": "stream",
          "text": [
            "100%|██████████| 64/64 [00:00<00:00, 330.68it/s]\n"
          ]
        },
        {
          "name": "stdout",
          "output_type": "stream",
          "text": [
            "The quantization error of layer 7 is 0.060763485729694366.\n",
            "The relative quantization error of layer 7 is 7.037355680949986e-05.\n",
            "\n",
            "\n",
            "Quantizing layer with index: 8\n",
            "Quantization progress: 8 out of 20\n",
            "\n",
            "shape of W: torch.Size([128, 128, 3, 3])\n",
            "shape of analog_layer_input: torch.Size([1280, 1152])\n",
            "shape of quantized_layer_input: torch.Size([1280, 1152])\n",
            "The number of groups: 1\n",
            "\n"
          ]
        },
        {
          "name": "stderr",
          "output_type": "stream",
          "text": [
            "100%|██████████| 1152/1152 [00:00<00:00, 3021.47it/s]\n"
          ]
        },
        {
          "name": "stdout",
          "output_type": "stream",
          "text": [
            "The quantization error of layer 8 is 0.030177898705005646.\n",
            "The relative quantization error of layer 8 is 0.00010796781134558842.\n",
            "\n",
            "\n",
            "Quantizing layer with index: 9\n",
            "Quantization progress: 9 out of 20\n",
            "\n",
            "shape of W: torch.Size([128, 128, 3, 3])\n",
            "shape of analog_layer_input: torch.Size([1280, 1152])\n",
            "shape of quantized_layer_input: torch.Size([1280, 1152])\n",
            "The number of groups: 1\n",
            "\n"
          ]
        },
        {
          "name": "stderr",
          "output_type": "stream",
          "text": [
            "100%|██████████| 1152/1152 [00:00<00:00, 3056.72it/s]\n"
          ]
        },
        {
          "name": "stdout",
          "output_type": "stream",
          "text": [
            "The quantization error of layer 9 is 0.019035078585147858.\n",
            "The relative quantization error of layer 9 is 0.0001939007343025878.\n",
            "\n",
            "\n",
            "Quantizing layer with index: 10\n",
            "Quantization progress: 10 out of 20\n",
            "\n",
            "shape of W: torch.Size([256, 128, 3, 3])\n",
            "shape of analog_layer_input: torch.Size([1280, 1152])\n",
            "shape of quantized_layer_input: torch.Size([1280, 1152])\n",
            "The number of groups: 1\n",
            "\n"
          ]
        },
        {
          "name": "stderr",
          "output_type": "stream",
          "text": [
            "100%|██████████| 1152/1152 [00:00<00:00, 2292.04it/s]\n"
          ]
        },
        {
          "name": "stdout",
          "output_type": "stream",
          "text": [
            "The quantization error of layer 10 is 0.06069120392203331.\n",
            "The relative quantization error of layer 10 is 0.0001472004660172388.\n",
            "\n",
            "\n",
            "Quantizing layer with index: 11\n",
            "Quantization progress: 11 out of 20\n",
            "\n",
            "shape of W: torch.Size([256, 256, 3, 3])\n",
            "shape of analog_layer_input: torch.Size([384, 2304])\n",
            "shape of quantized_layer_input: torch.Size([384, 2304])\n",
            "The number of groups: 1\n",
            "\n"
          ]
        },
        {
          "name": "stderr",
          "output_type": "stream",
          "text": [
            "100%|██████████| 2304/2304 [00:00<00:00, 2962.69it/s]\n"
          ]
        },
        {
          "name": "stdout",
          "output_type": "stream",
          "text": [
            "The quantization error of layer 11 is 0.0134701794013381.\n",
            "The relative quantization error of layer 11 is 0.00010667976312106475.\n",
            "\n",
            "\n",
            "Quantizing layer with index: 12\n",
            "Quantization progress: 12 out of 20\n",
            "\n",
            "shape of W: torch.Size([256, 128, 1, 1])\n",
            "shape of analog_layer_input: torch.Size([8320, 128])\n",
            "shape of quantized_layer_input: torch.Size([8320, 128])\n",
            "The number of groups: 1\n",
            "\n"
          ]
        },
        {
          "name": "stderr",
          "output_type": "stream",
          "text": [
            "100%|██████████| 128/128 [00:00<00:00, 803.74it/s]"
          ]
        },
        {
          "name": "stdout",
          "output_type": "stream",
          "text": [
            "The quantization error of layer 12 is 0.05861179158091545.\n",
            "The relative quantization error of layer 12 is 0.00023126254382077605.\n",
            "\n"
          ]
        },
        {
          "name": "stderr",
          "output_type": "stream",
          "text": [
            "\n"
          ]
        },
        {
          "name": "stdout",
          "output_type": "stream",
          "text": [
            "\n",
            "Quantizing layer with index: 13\n",
            "Quantization progress: 13 out of 20\n",
            "\n",
            "shape of W: torch.Size([256, 256, 3, 3])\n",
            "shape of analog_layer_input: torch.Size([384, 2304])\n",
            "shape of quantized_layer_input: torch.Size([384, 2304])\n",
            "The number of groups: 1\n",
            "\n"
          ]
        },
        {
          "name": "stderr",
          "output_type": "stream",
          "text": [
            "100%|██████████| 2304/2304 [00:00<00:00, 3041.60it/s]\n"
          ]
        },
        {
          "name": "stdout",
          "output_type": "stream",
          "text": [
            "The quantization error of layer 13 is 0.01869336888194084.\n",
            "The relative quantization error of layer 13 is 9.092335676541552e-05.\n",
            "\n",
            "\n",
            "Quantizing layer with index: 14\n",
            "Quantization progress: 14 out of 20\n",
            "\n",
            "shape of W: torch.Size([256, 256, 3, 3])\n",
            "shape of analog_layer_input: torch.Size([384, 2304])\n",
            "shape of quantized_layer_input: torch.Size([384, 2304])\n",
            "The number of groups: 1\n",
            "\n"
          ]
        },
        {
          "name": "stderr",
          "output_type": "stream",
          "text": [
            "100%|██████████| 2304/2304 [00:00<00:00, 2925.08it/s]\n"
          ]
        },
        {
          "name": "stdout",
          "output_type": "stream",
          "text": [
            "The quantization error of layer 14 is 0.008326838724315166.\n",
            "The relative quantization error of layer 14 is 0.00013434317952487618.\n",
            "\n",
            "\n",
            "Quantizing layer with index: 15\n",
            "Quantization progress: 15 out of 20\n",
            "\n",
            "shape of W: torch.Size([512, 256, 3, 3])\n",
            "shape of analog_layer_input: torch.Size([384, 2304])\n",
            "shape of quantized_layer_input: torch.Size([384, 2304])\n",
            "The number of groups: 1\n",
            "\n"
          ]
        },
        {
          "name": "stderr",
          "output_type": "stream",
          "text": [
            "100%|██████████| 2304/2304 [00:00<00:00, 2841.51it/s]\n"
          ]
        },
        {
          "name": "stdout",
          "output_type": "stream",
          "text": [
            "The quantization error of layer 15 is 0.2680113613605499.\n",
            "The relative quantization error of layer 15 is 0.0010937226470559835.\n",
            "\n",
            "\n",
            "Quantizing layer with index: 16\n",
            "Quantization progress: 16 out of 20\n",
            "\n",
            "shape of W: torch.Size([512, 512, 3, 3])\n",
            "shape of analog_layer_input: torch.Size([256, 4608])\n",
            "shape of quantized_layer_input: torch.Size([256, 4608])\n",
            "The number of groups: 1\n",
            "\n"
          ]
        },
        {
          "name": "stderr",
          "output_type": "stream",
          "text": [
            "100%|██████████| 4608/4608 [00:01<00:00, 2974.01it/s]\n"
          ]
        },
        {
          "name": "stdout",
          "output_type": "stream",
          "text": [
            "The quantization error of layer 16 is 0.032255619764328.\n",
            "The relative quantization error of layer 16 is 0.0005202938336879015.\n",
            "\n",
            "\n",
            "Quantizing layer with index: 17\n",
            "Quantization progress: 17 out of 20\n",
            "\n",
            "shape of W: torch.Size([512, 256, 1, 1])\n",
            "shape of analog_layer_input: torch.Size([2176, 256])\n",
            "shape of quantized_layer_input: torch.Size([2176, 256])\n",
            "The number of groups: 1\n",
            "\n"
          ]
        },
        {
          "name": "stderr",
          "output_type": "stream",
          "text": [
            "100%|██████████| 256/256 [00:00<00:00, 1219.58it/s]\n"
          ]
        },
        {
          "name": "stdout",
          "output_type": "stream",
          "text": [
            "The quantization error of layer 17 is 2.0628886222839355.\n",
            "The relative quantization error of layer 17 is 0.012651896104216576.\n",
            "\n",
            "\n",
            "Quantizing layer with index: 18\n",
            "Quantization progress: 18 out of 20\n",
            "\n",
            "shape of W: torch.Size([512, 512, 3, 3])\n",
            "shape of analog_layer_input: torch.Size([256, 4608])\n",
            "shape of quantized_layer_input: torch.Size([256, 4608])\n",
            "The number of groups: 1\n",
            "\n"
          ]
        },
        {
          "name": "stderr",
          "output_type": "stream",
          "text": [
            "100%|██████████| 4608/4608 [00:01<00:00, 3115.52it/s]\n"
          ]
        },
        {
          "name": "stdout",
          "output_type": "stream",
          "text": [
            "The quantization error of layer 18 is 0.6944388747215271.\n",
            "The relative quantization error of layer 18 is 0.003939356189221144.\n",
            "\n",
            "\n",
            "Quantizing layer with index: 19\n",
            "Quantization progress: 19 out of 20\n",
            "\n",
            "shape of W: torch.Size([512, 512, 3, 3])\n",
            "shape of analog_layer_input: torch.Size([256, 4608])\n",
            "shape of quantized_layer_input: torch.Size([256, 4608])\n",
            "The number of groups: 1\n",
            "\n"
          ]
        },
        {
          "name": "stderr",
          "output_type": "stream",
          "text": [
            "100%|██████████| 4608/4608 [00:01<00:00, 2939.31it/s]\n"
          ]
        },
        {
          "name": "stdout",
          "output_type": "stream",
          "text": [
            "The quantization error of layer 19 is 1.1837997436523438.\n",
            "The relative quantization error of layer 19 is 0.03289519622921944.\n",
            "\n",
            "\n",
            "Quantizing layer with index: 20\n",
            "Quantization progress: 20 out of 20\n",
            "\n",
            "The number of groups: 1\n",
            "\n"
          ]
        },
        {
          "name": "stderr",
          "output_type": "stream",
          "text": [
            "100%|██████████| 512/512 [00:00<00:00, 3344.92it/s]"
          ]
        },
        {
          "name": "stdout",
          "output_type": "stream",
          "text": [
            "The quantization error of layer 20 is 13.18617057800293.\n",
            "The relative quantization error of layer 20 is 0.052665725350379944.\n",
            "\n"
          ]
        },
        {
          "name": "stderr",
          "output_type": "stream",
          "text": [
            "\n"
          ]
        },
        {
          "name": "stdout",
          "output_type": "stream",
          "text": [
            "Bits 26, Effective Quantized Bit Size: 20.487868492840768\n",
            "Bits 26, Quantized Test Accuracy: 0.9292\n",
            "Layer indices to quantize [0, 1, 2, 3, 4, 5, 6, 7, 8, 9, 10, 11, 12, 13, 14, 15, 16, 17, 18, 19, 20]\n",
            "Total number of layers to quantize 21\n",
            "\n",
            "Quantizing layer with index: 0\n",
            "Quantization progress: 0 out of 20\n",
            "\n",
            "shape of W: torch.Size([64, 3, 3, 3])\n",
            "shape of analog_layer_input: torch.Size([3968, 27])\n",
            "shape of quantized_layer_input: torch.Size([3968, 27])\n",
            "The number of groups: 1\n",
            "\n"
          ]
        },
        {
          "name": "stderr",
          "output_type": "stream",
          "text": [
            "100%|██████████| 27/27 [00:00<00:00, 483.86it/s]\n"
          ]
        },
        {
          "name": "stdout",
          "output_type": "stream",
          "text": [
            "The quantization error of layer 0 is 0.0004959653015248477.\n",
            "The relative quantization error of layer 0 is 1.3155222404748201e-06.\n",
            "\n",
            "\n",
            "Quantizing layer with index: 1\n",
            "Quantization progress: 1 out of 20\n",
            "\n",
            "shape of W: torch.Size([64, 64, 3, 3])\n",
            "shape of analog_layer_input: torch.Size([3968, 576])\n",
            "shape of quantized_layer_input: torch.Size([3968, 576])\n",
            "The number of groups: 1\n",
            "\n"
          ]
        },
        {
          "name": "stderr",
          "output_type": "stream",
          "text": [
            "100%|██████████| 576/576 [00:00<00:00, 1110.60it/s]\n"
          ]
        },
        {
          "name": "stdout",
          "output_type": "stream",
          "text": [
            "The quantization error of layer 1 is 0.0006507626967504621.\n",
            "The relative quantization error of layer 1 is 1.1286144854238955e-06.\n",
            "\n",
            "\n",
            "Quantizing layer with index: 2\n",
            "Quantization progress: 2 out of 20\n",
            "\n",
            "shape of W: torch.Size([64, 64, 3, 3])\n",
            "shape of analog_layer_input: torch.Size([3968, 576])\n",
            "shape of quantized_layer_input: torch.Size([3968, 576])\n",
            "The number of groups: 1\n",
            "\n"
          ]
        },
        {
          "name": "stderr",
          "output_type": "stream",
          "text": [
            "100%|██████████| 576/576 [00:00<00:00, 2676.26it/s]\n"
          ]
        },
        {
          "name": "stdout",
          "output_type": "stream",
          "text": [
            "The quantization error of layer 2 is 0.006651402451097965.\n",
            "The relative quantization error of layer 2 is 2.334870441700332e-05.\n",
            "\n",
            "\n",
            "Quantizing layer with index: 3\n",
            "Quantization progress: 3 out of 20\n",
            "\n",
            "shape of W: torch.Size([64, 64, 3, 3])\n",
            "shape of analog_layer_input: torch.Size([3968, 576])\n",
            "shape of quantized_layer_input: torch.Size([3968, 576])\n",
            "The number of groups: 1\n",
            "\n"
          ]
        },
        {
          "name": "stderr",
          "output_type": "stream",
          "text": [
            "100%|██████████| 576/576 [00:00<00:00, 2572.29it/s]\n"
          ]
        },
        {
          "name": "stdout",
          "output_type": "stream",
          "text": [
            "The quantization error of layer 3 is 0.027963267639279366.\n",
            "The relative quantization error of layer 3 is 4.9435522669227794e-05.\n",
            "\n",
            "\n",
            "Quantizing layer with index: 4\n",
            "Quantization progress: 4 out of 20\n",
            "\n",
            "shape of W: torch.Size([64, 64, 3, 3])\n",
            "shape of analog_layer_input: torch.Size([3968, 576])\n",
            "shape of quantized_layer_input: torch.Size([3968, 576])\n",
            "The number of groups: 1\n",
            "\n"
          ]
        },
        {
          "name": "stderr",
          "output_type": "stream",
          "text": [
            "100%|██████████| 576/576 [00:00<00:00, 2224.70it/s]\n"
          ]
        },
        {
          "name": "stdout",
          "output_type": "stream",
          "text": [
            "The quantization error of layer 4 is 0.027793636545538902.\n",
            "The relative quantization error of layer 4 is 0.00013385209604166448.\n",
            "\n",
            "\n",
            "Quantizing layer with index: 5\n",
            "Quantization progress: 5 out of 20\n",
            "\n",
            "shape of W: torch.Size([128, 64, 3, 3])\n",
            "shape of analog_layer_input: torch.Size([3968, 576])\n",
            "shape of quantized_layer_input: torch.Size([3968, 576])\n",
            "The number of groups: 1\n",
            "\n"
          ]
        },
        {
          "name": "stderr",
          "output_type": "stream",
          "text": [
            "100%|██████████| 576/576 [00:00<00:00, 1688.88it/s]\n"
          ]
        },
        {
          "name": "stdout",
          "output_type": "stream",
          "text": [
            "The quantization error of layer 5 is 0.12710325419902802.\n",
            "The relative quantization error of layer 5 is 0.00015311023162212223.\n",
            "\n",
            "\n",
            "Quantizing layer with index: 6\n",
            "Quantization progress: 6 out of 20\n",
            "\n",
            "shape of W: torch.Size([128, 128, 3, 3])\n",
            "shape of analog_layer_input: torch.Size([1280, 1152])\n",
            "shape of quantized_layer_input: torch.Size([1280, 1152])\n",
            "The number of groups: 1\n",
            "\n"
          ]
        },
        {
          "name": "stderr",
          "output_type": "stream",
          "text": [
            "100%|██████████| 1152/1152 [00:00<00:00, 2730.10it/s]\n"
          ]
        },
        {
          "name": "stdout",
          "output_type": "stream",
          "text": [
            "The quantization error of layer 6 is 0.02062736451625824.\n",
            "The relative quantization error of layer 6 is 0.00012570114631671458.\n",
            "\n",
            "\n",
            "Quantizing layer with index: 7\n",
            "Quantization progress: 7 out of 20\n",
            "\n",
            "shape of W: torch.Size([128, 64, 1, 1])\n",
            "shape of analog_layer_input: torch.Size([32896, 64])\n",
            "shape of quantized_layer_input: torch.Size([32896, 64])\n",
            "The number of groups: 1\n",
            "\n"
          ]
        },
        {
          "name": "stderr",
          "output_type": "stream",
          "text": [
            "100%|██████████| 64/64 [00:00<00:00, 346.78it/s]\n"
          ]
        },
        {
          "name": "stdout",
          "output_type": "stream",
          "text": [
            "The quantization error of layer 7 is 18.488977432250977.\n",
            "The relative quantization error of layer 7 is 0.021366752684116364.\n",
            "\n",
            "\n",
            "Quantizing layer with index: 8\n",
            "Quantization progress: 8 out of 20\n",
            "\n",
            "shape of W: torch.Size([128, 128, 3, 3])\n",
            "shape of analog_layer_input: torch.Size([1280, 1152])\n",
            "shape of quantized_layer_input: torch.Size([1280, 1152])\n",
            "The number of groups: 1\n",
            "\n"
          ]
        },
        {
          "name": "stderr",
          "output_type": "stream",
          "text": [
            "100%|██████████| 1152/1152 [00:00<00:00, 3166.57it/s]\n"
          ]
        },
        {
          "name": "stdout",
          "output_type": "stream",
          "text": [
            "The quantization error of layer 8 is 2.3163695335388184.\n",
            "The relative quantization error of layer 8 is 0.008251507766544819.\n",
            "\n",
            "\n",
            "Quantizing layer with index: 9\n",
            "Quantization progress: 9 out of 20\n",
            "\n",
            "shape of W: torch.Size([128, 128, 3, 3])\n",
            "shape of analog_layer_input: torch.Size([1280, 1152])\n",
            "shape of quantized_layer_input: torch.Size([1280, 1152])\n",
            "The number of groups: 1\n",
            "\n"
          ]
        },
        {
          "name": "stderr",
          "output_type": "stream",
          "text": [
            "100%|██████████| 1152/1152 [00:00<00:00, 3252.81it/s]\n"
          ]
        },
        {
          "name": "stdout",
          "output_type": "stream",
          "text": [
            "The quantization error of layer 9 is 0.7095233798027039.\n",
            "The relative quantization error of layer 9 is 0.00715220533311367.\n",
            "\n",
            "\n",
            "Quantizing layer with index: 10\n",
            "Quantization progress: 10 out of 20\n",
            "\n",
            "shape of W: torch.Size([256, 128, 3, 3])\n",
            "shape of analog_layer_input: torch.Size([1280, 1152])\n",
            "shape of quantized_layer_input: torch.Size([1280, 1152])\n",
            "The number of groups: 1\n",
            "\n"
          ]
        },
        {
          "name": "stderr",
          "output_type": "stream",
          "text": [
            "100%|██████████| 1152/1152 [00:00<00:00, 2304.26it/s]\n"
          ]
        },
        {
          "name": "stdout",
          "output_type": "stream",
          "text": [
            "The quantization error of layer 10 is 3.499669075012207.\n",
            "The relative quantization error of layer 10 is 0.00852525420486927.\n",
            "\n",
            "\n",
            "Quantizing layer with index: 11\n",
            "Quantization progress: 11 out of 20\n",
            "\n",
            "shape of W: torch.Size([256, 256, 3, 3])\n",
            "shape of analog_layer_input: torch.Size([384, 2304])\n",
            "shape of quantized_layer_input: torch.Size([384, 2304])\n",
            "The number of groups: 1\n",
            "\n"
          ]
        },
        {
          "name": "stderr",
          "output_type": "stream",
          "text": [
            "100%|██████████| 2304/2304 [00:00<00:00, 2933.82it/s]\n"
          ]
        },
        {
          "name": "stdout",
          "output_type": "stream",
          "text": [
            "The quantization error of layer 11 is 0.5072000622749329.\n",
            "The relative quantization error of layer 11 is 0.004061990417540073.\n",
            "\n",
            "\n",
            "Quantizing layer with index: 12\n",
            "Quantization progress: 12 out of 20\n",
            "\n",
            "shape of W: torch.Size([256, 128, 1, 1])\n",
            "shape of analog_layer_input: torch.Size([8320, 128])\n",
            "shape of quantized_layer_input: torch.Size([8320, 128])\n",
            "The number of groups: 1\n",
            "\n"
          ]
        },
        {
          "name": "stderr",
          "output_type": "stream",
          "text": [
            "100%|██████████| 128/128 [00:00<00:00, 842.41it/s]"
          ]
        },
        {
          "name": "stdout",
          "output_type": "stream",
          "text": [
            "The quantization error of layer 12 is 3.7747409343719482.\n",
            "The relative quantization error of layer 12 is 0.014981954358518124.\n",
            "\n"
          ]
        },
        {
          "name": "stderr",
          "output_type": "stream",
          "text": [
            "\n"
          ]
        },
        {
          "name": "stdout",
          "output_type": "stream",
          "text": [
            "\n",
            "Quantizing layer with index: 13\n",
            "Quantization progress: 13 out of 20\n",
            "\n",
            "shape of W: torch.Size([256, 256, 3, 3])\n",
            "shape of analog_layer_input: torch.Size([384, 2304])\n",
            "shape of quantized_layer_input: torch.Size([384, 2304])\n",
            "The number of groups: 1\n",
            "\n"
          ]
        },
        {
          "name": "stderr",
          "output_type": "stream",
          "text": [
            "100%|██████████| 2304/2304 [00:00<00:00, 2953.62it/s]\n"
          ]
        },
        {
          "name": "stdout",
          "output_type": "stream",
          "text": [
            "The quantization error of layer 13 is 0.6214805841445923.\n",
            "The relative quantization error of layer 13 is 0.0030056198593229055.\n",
            "\n",
            "\n",
            "Quantizing layer with index: 14\n",
            "Quantization progress: 14 out of 20\n",
            "\n",
            "shape of W: torch.Size([256, 256, 3, 3])\n",
            "shape of analog_layer_input: torch.Size([384, 2304])\n",
            "shape of quantized_layer_input: torch.Size([384, 2304])\n",
            "The number of groups: 1\n",
            "\n"
          ]
        },
        {
          "name": "stderr",
          "output_type": "stream",
          "text": [
            "100%|██████████| 2304/2304 [00:00<00:00, 2752.02it/s]\n"
          ]
        },
        {
          "name": "stdout",
          "output_type": "stream",
          "text": [
            "The quantization error of layer 14 is 0.2721419632434845.\n",
            "The relative quantization error of layer 14 is 0.00440977094694972.\n",
            "\n",
            "\n",
            "Quantizing layer with index: 15\n",
            "Quantization progress: 15 out of 20\n",
            "\n",
            "shape of W: torch.Size([512, 256, 3, 3])\n",
            "shape of analog_layer_input: torch.Size([384, 2304])\n",
            "shape of quantized_layer_input: torch.Size([384, 2304])\n",
            "The number of groups: 1\n",
            "\n"
          ]
        },
        {
          "name": "stderr",
          "output_type": "stream",
          "text": [
            "100%|██████████| 2304/2304 [00:00<00:00, 2592.03it/s]\n"
          ]
        },
        {
          "name": "stdout",
          "output_type": "stream",
          "text": [
            "The quantization error of layer 15 is 1.1385554075241089.\n",
            "The relative quantization error of layer 15 is 0.004515879787504673.\n",
            "\n",
            "\n",
            "Quantizing layer with index: 16\n",
            "Quantization progress: 16 out of 20\n",
            "\n",
            "shape of W: torch.Size([512, 512, 3, 3])\n",
            "shape of analog_layer_input: torch.Size([256, 4608])\n",
            "shape of quantized_layer_input: torch.Size([256, 4608])\n",
            "The number of groups: 1\n",
            "\n"
          ]
        },
        {
          "name": "stderr",
          "output_type": "stream",
          "text": [
            "100%|██████████| 4608/4608 [00:01<00:00, 2414.89it/s]\n"
          ]
        },
        {
          "name": "stdout",
          "output_type": "stream",
          "text": [
            "The quantization error of layer 16 is 0.15675018727779388.\n",
            "The relative quantization error of layer 16 is 0.002531781792640686.\n",
            "\n",
            "\n",
            "Quantizing layer with index: 17\n",
            "Quantization progress: 17 out of 20\n",
            "\n",
            "shape of W: torch.Size([512, 256, 1, 1])\n",
            "shape of analog_layer_input: torch.Size([2176, 256])\n",
            "shape of quantized_layer_input: torch.Size([2176, 256])\n",
            "The number of groups: 1\n",
            "\n"
          ]
        },
        {
          "name": "stderr",
          "output_type": "stream",
          "text": [
            "100%|██████████| 256/256 [00:00<00:00, 1596.01it/s]"
          ]
        },
        {
          "name": "stdout",
          "output_type": "stream",
          "text": [
            "The quantization error of layer 17 is 3.56687068939209.\n",
            "The relative quantization error of layer 17 is 0.021952686831355095.\n",
            "\n"
          ]
        },
        {
          "name": "stderr",
          "output_type": "stream",
          "text": [
            "\n"
          ]
        },
        {
          "name": "stdout",
          "output_type": "stream",
          "text": [
            "\n",
            "Quantizing layer with index: 18\n",
            "Quantization progress: 18 out of 20\n",
            "\n",
            "shape of W: torch.Size([512, 512, 3, 3])\n",
            "shape of analog_layer_input: torch.Size([256, 4608])\n",
            "shape of quantized_layer_input: torch.Size([256, 4608])\n",
            "The number of groups: 1\n",
            "\n"
          ]
        },
        {
          "name": "stderr",
          "output_type": "stream",
          "text": [
            "100%|██████████| 4608/4608 [00:01<00:00, 3282.76it/s]\n"
          ]
        },
        {
          "name": "stdout",
          "output_type": "stream",
          "text": [
            "The quantization error of layer 18 is 1.6639398336410522.\n",
            "The relative quantization error of layer 18 is 0.00930609367787838.\n",
            "\n",
            "\n",
            "Quantizing layer with index: 19\n",
            "Quantization progress: 19 out of 20\n",
            "\n",
            "shape of W: torch.Size([512, 512, 3, 3])\n",
            "shape of analog_layer_input: torch.Size([256, 4608])\n",
            "shape of quantized_layer_input: torch.Size([256, 4608])\n",
            "The number of groups: 1\n",
            "\n"
          ]
        },
        {
          "name": "stderr",
          "output_type": "stream",
          "text": [
            "100%|██████████| 4608/4608 [00:01<00:00, 2836.64it/s]\n"
          ]
        },
        {
          "name": "stdout",
          "output_type": "stream",
          "text": [
            "The quantization error of layer 19 is 2.285001277923584.\n",
            "The relative quantization error of layer 19 is 0.0620943084359169.\n",
            "\n",
            "\n",
            "Quantizing layer with index: 20\n",
            "Quantization progress: 20 out of 20\n",
            "\n",
            "The number of groups: 1\n",
            "\n"
          ]
        },
        {
          "name": "stderr",
          "output_type": "stream",
          "text": [
            "100%|██████████| 512/512 [00:00<00:00, 3191.45it/s]"
          ]
        },
        {
          "name": "stdout",
          "output_type": "stream",
          "text": [
            "The quantization error of layer 20 is 20.655994415283203.\n",
            "The relative quantization error of layer 20 is 0.08343135565519333.\n",
            "\n"
          ]
        },
        {
          "name": "stderr",
          "output_type": "stream",
          "text": [
            "\n"
          ]
        },
        {
          "name": "stdout",
          "output_type": "stream",
          "text": [
            "Bits 20, Effective Quantized Bit Size: 18.056432982320864\n",
            "Bits 20, Quantized Test Accuracy: 0.9304\n",
            "Layer indices to quantize [0, 1, 2, 3, 4, 5, 6, 7, 8, 9, 10, 11, 12, 13, 14, 15, 16, 17, 18, 19, 20]\n",
            "Total number of layers to quantize 21\n",
            "\n",
            "Quantizing layer with index: 0\n",
            "Quantization progress: 0 out of 20\n",
            "\n",
            "shape of W: torch.Size([64, 3, 3, 3])\n",
            "shape of analog_layer_input: torch.Size([3968, 27])\n",
            "shape of quantized_layer_input: torch.Size([3968, 27])\n",
            "The number of groups: 1\n",
            "\n"
          ]
        },
        {
          "name": "stderr",
          "output_type": "stream",
          "text": [
            "100%|██████████| 27/27 [00:00<00:00, 442.97it/s]"
          ]
        },
        {
          "name": "stdout",
          "output_type": "stream",
          "text": [
            "The quantization error of layer 0 is 0.44438937306404114.\n",
            "The relative quantization error of layer 0 is 0.0011545568704605103.\n",
            "\n"
          ]
        },
        {
          "name": "stderr",
          "output_type": "stream",
          "text": [
            "\n"
          ]
        },
        {
          "name": "stdout",
          "output_type": "stream",
          "text": [
            "\n",
            "Quantizing layer with index: 1\n",
            "Quantization progress: 1 out of 20\n",
            "\n",
            "shape of W: torch.Size([64, 64, 3, 3])\n",
            "shape of analog_layer_input: torch.Size([3968, 576])\n",
            "shape of quantized_layer_input: torch.Size([3968, 576])\n",
            "The number of groups: 1\n",
            "\n"
          ]
        },
        {
          "name": "stderr",
          "output_type": "stream",
          "text": [
            "100%|██████████| 576/576 [00:00<00:00, 2634.35it/s]\n"
          ]
        },
        {
          "name": "stdout",
          "output_type": "stream",
          "text": [
            "The quantization error of layer 1 is 0.1983085423707962.\n",
            "The relative quantization error of layer 1 is 0.00034427695209160447.\n",
            "\n",
            "\n",
            "Quantizing layer with index: 2\n",
            "Quantization progress: 2 out of 20\n",
            "\n",
            "shape of W: torch.Size([64, 64, 3, 3])\n",
            "shape of analog_layer_input: torch.Size([3968, 576])\n",
            "shape of quantized_layer_input: torch.Size([3968, 576])\n",
            "The number of groups: 1\n",
            "\n"
          ]
        },
        {
          "name": "stderr",
          "output_type": "stream",
          "text": [
            "100%|██████████| 576/576 [00:00<00:00, 2713.96it/s]\n"
          ]
        },
        {
          "name": "stdout",
          "output_type": "stream",
          "text": [
            "The quantization error of layer 2 is 0.3042297661304474.\n",
            "The relative quantization error of layer 2 is 0.0010584065457805991.\n",
            "\n",
            "\n",
            "Quantizing layer with index: 3\n",
            "Quantization progress: 3 out of 20\n",
            "\n",
            "shape of W: torch.Size([64, 64, 3, 3])\n",
            "shape of analog_layer_input: torch.Size([3968, 576])\n",
            "shape of quantized_layer_input: torch.Size([3968, 576])\n",
            "The number of groups: 1\n",
            "\n"
          ]
        },
        {
          "name": "stderr",
          "output_type": "stream",
          "text": [
            "100%|██████████| 576/576 [00:00<00:00, 2790.80it/s]\n"
          ]
        },
        {
          "name": "stdout",
          "output_type": "stream",
          "text": [
            "The quantization error of layer 3 is 0.9123740196228027.\n",
            "The relative quantization error of layer 3 is 0.0016207387670874596.\n",
            "\n",
            "\n",
            "Quantizing layer with index: 4\n",
            "Quantization progress: 4 out of 20\n",
            "\n",
            "shape of W: torch.Size([64, 64, 3, 3])\n",
            "shape of analog_layer_input: torch.Size([3968, 576])\n",
            "shape of quantized_layer_input: torch.Size([3968, 576])\n",
            "The number of groups: 1\n",
            "\n"
          ]
        },
        {
          "name": "stderr",
          "output_type": "stream",
          "text": [
            "100%|██████████| 576/576 [00:00<00:00, 2414.16it/s]\n"
          ]
        },
        {
          "name": "stdout",
          "output_type": "stream",
          "text": [
            "The quantization error of layer 4 is 0.49927759170532227.\n",
            "The relative quantization error of layer 4 is 0.002418471034616232.\n",
            "\n",
            "\n",
            "Quantizing layer with index: 5\n",
            "Quantization progress: 5 out of 20\n",
            "\n",
            "shape of W: torch.Size([128, 64, 3, 3])\n",
            "shape of analog_layer_input: torch.Size([3968, 576])\n",
            "shape of quantized_layer_input: torch.Size([3968, 576])\n",
            "The number of groups: 1\n",
            "\n"
          ]
        },
        {
          "name": "stderr",
          "output_type": "stream",
          "text": [
            "100%|██████████| 576/576 [00:00<00:00, 1972.46it/s]\n"
          ]
        },
        {
          "name": "stdout",
          "output_type": "stream",
          "text": [
            "The quantization error of layer 5 is 1.1328685283660889.\n",
            "The relative quantization error of layer 5 is 0.0013627228327095509.\n",
            "\n",
            "\n",
            "Quantizing layer with index: 6\n",
            "Quantization progress: 6 out of 20\n",
            "\n",
            "shape of W: torch.Size([128, 128, 3, 3])\n",
            "shape of analog_layer_input: torch.Size([1280, 1152])\n",
            "shape of quantized_layer_input: torch.Size([1280, 1152])\n",
            "The number of groups: 1\n",
            "\n"
          ]
        },
        {
          "name": "stderr",
          "output_type": "stream",
          "text": [
            "100%|██████████| 1152/1152 [00:00<00:00, 2923.83it/s]\n"
          ]
        },
        {
          "name": "stdout",
          "output_type": "stream",
          "text": [
            "The quantization error of layer 6 is 0.17393355071544647.\n",
            "The relative quantization error of layer 6 is 0.0010337292915210128.\n",
            "\n",
            "\n",
            "Quantizing layer with index: 7\n",
            "Quantization progress: 7 out of 20\n",
            "\n",
            "shape of W: torch.Size([128, 64, 1, 1])\n",
            "shape of analog_layer_input: torch.Size([32896, 64])\n",
            "shape of quantized_layer_input: torch.Size([32896, 64])\n",
            "The number of groups: 1\n",
            "\n"
          ]
        },
        {
          "name": "stderr",
          "output_type": "stream",
          "text": [
            "100%|██████████| 64/64 [00:00<00:00, 349.49it/s]\n"
          ]
        },
        {
          "name": "stdout",
          "output_type": "stream",
          "text": [
            "The quantization error of layer 7 is 38.47970199584961.\n",
            "The relative quantization error of layer 7 is 0.044518984854221344.\n",
            "\n",
            "\n",
            "Quantizing layer with index: 8\n",
            "Quantization progress: 8 out of 20\n",
            "\n",
            "shape of W: torch.Size([128, 128, 3, 3])\n",
            "shape of analog_layer_input: torch.Size([1280, 1152])\n",
            "shape of quantized_layer_input: torch.Size([1280, 1152])\n",
            "The number of groups: 1\n",
            "\n"
          ]
        },
        {
          "name": "stderr",
          "output_type": "stream",
          "text": [
            "100%|██████████| 1152/1152 [00:00<00:00, 3151.11it/s]\n"
          ]
        },
        {
          "name": "stdout",
          "output_type": "stream",
          "text": [
            "The quantization error of layer 8 is 5.011014461517334.\n",
            "The relative quantization error of layer 8 is 0.018183425068855286.\n",
            "\n",
            "\n",
            "Quantizing layer with index: 9\n",
            "Quantization progress: 9 out of 20\n",
            "\n",
            "shape of W: torch.Size([128, 128, 3, 3])\n",
            "shape of analog_layer_input: torch.Size([1280, 1152])\n",
            "shape of quantized_layer_input: torch.Size([1280, 1152])\n",
            "The number of groups: 1\n",
            "\n"
          ]
        },
        {
          "name": "stderr",
          "output_type": "stream",
          "text": [
            "100%|██████████| 1152/1152 [00:00<00:00, 3149.64it/s]\n"
          ]
        },
        {
          "name": "stdout",
          "output_type": "stream",
          "text": [
            "The quantization error of layer 9 is 2.9691739082336426.\n",
            "The relative quantization error of layer 9 is 0.03011303022503853.\n",
            "\n",
            "\n",
            "Quantizing layer with index: 10\n",
            "Quantization progress: 10 out of 20\n",
            "\n",
            "shape of W: torch.Size([256, 128, 3, 3])\n",
            "shape of analog_layer_input: torch.Size([1280, 1152])\n",
            "shape of quantized_layer_input: torch.Size([1280, 1152])\n",
            "The number of groups: 1\n",
            "\n"
          ]
        },
        {
          "name": "stderr",
          "output_type": "stream",
          "text": [
            "100%|██████████| 1152/1152 [00:00<00:00, 2277.04it/s]\n"
          ]
        },
        {
          "name": "stdout",
          "output_type": "stream",
          "text": [
            "The quantization error of layer 10 is 9.725991249084473.\n",
            "The relative quantization error of layer 10 is 0.023685293272137642.\n",
            "\n",
            "\n",
            "Quantizing layer with index: 11\n",
            "Quantization progress: 11 out of 20\n",
            "\n",
            "shape of W: torch.Size([256, 256, 3, 3])\n",
            "shape of analog_layer_input: torch.Size([384, 2304])\n",
            "shape of quantized_layer_input: torch.Size([384, 2304])\n",
            "The number of groups: 1\n",
            "\n"
          ]
        },
        {
          "name": "stderr",
          "output_type": "stream",
          "text": [
            "100%|██████████| 2304/2304 [00:00<00:00, 3162.41it/s]\n"
          ]
        },
        {
          "name": "stdout",
          "output_type": "stream",
          "text": [
            "The quantization error of layer 11 is 1.6812002658843994.\n",
            "The relative quantization error of layer 11 is 0.013411195017397404.\n",
            "\n",
            "\n",
            "Quantizing layer with index: 12\n",
            "Quantization progress: 12 out of 20\n",
            "\n",
            "shape of W: torch.Size([256, 128, 1, 1])\n",
            "shape of analog_layer_input: torch.Size([8320, 128])\n",
            "shape of quantized_layer_input: torch.Size([8320, 128])\n",
            "The number of groups: 1\n",
            "\n"
          ]
        },
        {
          "name": "stderr",
          "output_type": "stream",
          "text": [
            "100%|██████████| 128/128 [00:00<00:00, 790.49it/s]"
          ]
        },
        {
          "name": "stdout",
          "output_type": "stream",
          "text": [
            "The quantization error of layer 12 is 10.407402038574219."
          ]
        },
        {
          "name": "stderr",
          "output_type": "stream",
          "text": [
            "\n"
          ]
        },
        {
          "name": "stdout",
          "output_type": "stream",
          "text": [
            "\n",
            "The relative quantization error of layer 12 is 0.040958479046821594.\n",
            "\n",
            "\n",
            "Quantizing layer with index: 13\n",
            "Quantization progress: 13 out of 20\n",
            "\n",
            "shape of W: torch.Size([256, 256, 3, 3])\n",
            "shape of analog_layer_input: torch.Size([384, 2304])\n",
            "shape of quantized_layer_input: torch.Size([384, 2304])\n",
            "The number of groups: 1\n",
            "\n"
          ]
        },
        {
          "name": "stderr",
          "output_type": "stream",
          "text": [
            "100%|██████████| 2304/2304 [00:00<00:00, 3154.09it/s]\n"
          ]
        },
        {
          "name": "stdout",
          "output_type": "stream",
          "text": [
            "The quantization error of layer 13 is 2.0395023822784424.\n",
            "The relative quantization error of layer 13 is 0.009578447788953781.\n",
            "\n",
            "\n",
            "Quantizing layer with index: 14\n",
            "Quantization progress: 14 out of 20\n",
            "\n",
            "shape of W: torch.Size([256, 256, 3, 3])\n",
            "shape of analog_layer_input: torch.Size([384, 2304])\n",
            "shape of quantized_layer_input: torch.Size([384, 2304])\n",
            "The number of groups: 1\n",
            "\n"
          ]
        },
        {
          "name": "stderr",
          "output_type": "stream",
          "text": [
            "100%|██████████| 2304/2304 [00:00<00:00, 2989.79it/s]\n"
          ]
        },
        {
          "name": "stdout",
          "output_type": "stream",
          "text": [
            "The quantization error of layer 14 is 0.7869080305099487.\n",
            "The relative quantization error of layer 14 is 0.012604775838553905.\n",
            "\n",
            "\n",
            "Quantizing layer with index: 15\n",
            "Quantization progress: 15 out of 20\n",
            "\n",
            "shape of W: torch.Size([512, 256, 3, 3])\n",
            "shape of analog_layer_input: torch.Size([384, 2304])\n",
            "shape of quantized_layer_input: torch.Size([384, 2304])\n",
            "The number of groups: 1\n",
            "\n"
          ]
        },
        {
          "name": "stderr",
          "output_type": "stream",
          "text": [
            "100%|██████████| 2304/2304 [00:00<00:00, 2915.89it/s]\n"
          ]
        },
        {
          "name": "stdout",
          "output_type": "stream",
          "text": [
            "The quantization error of layer 15 is 3.2933554649353027.\n",
            "The relative quantization error of layer 15 is 0.013012844137847424.\n",
            "\n",
            "\n",
            "Quantizing layer with index: 16\n",
            "Quantization progress: 16 out of 20\n",
            "\n",
            "shape of W: torch.Size([512, 512, 3, 3])\n",
            "shape of analog_layer_input: torch.Size([256, 4608])\n",
            "shape of quantized_layer_input: torch.Size([256, 4608])\n",
            "The number of groups: 1\n",
            "\n"
          ]
        },
        {
          "name": "stderr",
          "output_type": "stream",
          "text": [
            "100%|██████████| 4608/4608 [00:01<00:00, 3082.64it/s]\n"
          ]
        },
        {
          "name": "stdout",
          "output_type": "stream",
          "text": [
            "The quantization error of layer 16 is 0.4605238735675812.\n",
            "The relative quantization error of layer 16 is 0.007358701433986425.\n",
            "\n",
            "\n",
            "Quantizing layer with index: 17\n",
            "Quantization progress: 17 out of 20\n",
            "\n",
            "shape of W: torch.Size([512, 256, 1, 1])\n",
            "shape of analog_layer_input: torch.Size([2176, 256])\n",
            "shape of quantized_layer_input: torch.Size([2176, 256])\n",
            "The number of groups: 1\n",
            "\n"
          ]
        },
        {
          "name": "stderr",
          "output_type": "stream",
          "text": [
            "100%|██████████| 256/256 [00:00<00:00, 1465.45it/s]\n"
          ]
        },
        {
          "name": "stdout",
          "output_type": "stream",
          "text": [
            "The quantization error of layer 17 is 7.825771808624268.\n",
            "The relative quantization error of layer 17 is 0.04843312129378319.\n",
            "\n",
            "\n",
            "Quantizing layer with index: 18\n",
            "Quantization progress: 18 out of 20\n",
            "\n",
            "shape of W: torch.Size([512, 512, 3, 3])\n",
            "shape of analog_layer_input: torch.Size([256, 4608])\n",
            "shape of quantized_layer_input: torch.Size([256, 4608])\n",
            "The number of groups: 1\n",
            "\n"
          ]
        },
        {
          "name": "stderr",
          "output_type": "stream",
          "text": [
            "100%|██████████| 4608/4608 [00:01<00:00, 3014.95it/s]\n"
          ]
        },
        {
          "name": "stdout",
          "output_type": "stream",
          "text": [
            "The quantization error of layer 18 is 2.9001388549804688.\n",
            "The relative quantization error of layer 18 is 0.01619771681725979.\n",
            "\n",
            "\n",
            "Quantizing layer with index: 19\n",
            "Quantization progress: 19 out of 20\n",
            "\n",
            "shape of W: torch.Size([512, 512, 3, 3])\n",
            "shape of analog_layer_input: torch.Size([256, 4608])\n",
            "shape of quantized_layer_input: torch.Size([256, 4608])\n",
            "The number of groups: 1\n",
            "\n"
          ]
        },
        {
          "name": "stderr",
          "output_type": "stream",
          "text": [
            "100%|██████████| 4608/4608 [00:01<00:00, 2785.66it/s]\n"
          ]
        },
        {
          "name": "stdout",
          "output_type": "stream",
          "text": [
            "The quantization error of layer 19 is 2.9652934074401855.\n",
            "The relative quantization error of layer 19 is 0.08027269691228867.\n",
            "\n",
            "\n",
            "Quantizing layer with index: 20\n",
            "Quantization progress: 20 out of 20\n",
            "\n",
            "The number of groups: 1\n",
            "\n"
          ]
        },
        {
          "name": "stderr",
          "output_type": "stream",
          "text": [
            "100%|██████████| 512/512 [00:00<00:00, 2969.57it/s]"
          ]
        },
        {
          "name": "stdout",
          "output_type": "stream",
          "text": [
            "The quantization error of layer 20 is 29.254106521606445.\n",
            "The relative quantization error of layer 20 is 0.11983039230108261.\n",
            "\n"
          ]
        },
        {
          "name": "stderr",
          "output_type": "stream",
          "text": [
            "\n"
          ]
        },
        {
          "name": "stdout",
          "output_type": "stream",
          "text": [
            "Bits 16, Effective Quantized Bit Size: 15.364368699302897\n",
            "Bits 16, Quantized Test Accuracy: 0.9252\n",
            "Layer indices to quantize [0, 1, 2, 3, 4, 5, 6, 7, 8, 9, 10, 11, 12, 13, 14, 15, 16, 17, 18, 19, 20]\n",
            "Total number of layers to quantize 21\n",
            "\n",
            "Quantizing layer with index: 0\n",
            "Quantization progress: 0 out of 20\n",
            "\n",
            "shape of W: torch.Size([64, 3, 3, 3])\n",
            "shape of analog_layer_input: torch.Size([3968, 27])\n",
            "shape of quantized_layer_input: torch.Size([3968, 27])\n",
            "The number of groups: 1\n",
            "\n"
          ]
        },
        {
          "name": "stderr",
          "output_type": "stream",
          "text": [
            "100%|██████████| 27/27 [00:00<00:00, 714.73it/s]"
          ]
        },
        {
          "name": "stdout",
          "output_type": "stream",
          "text": [
            "The quantization error of layer 0 is 0.4464960992336273.\n",
            "The relative quantization error of layer 0 is 0.0012087615905329585.\n",
            "\n"
          ]
        },
        {
          "name": "stderr",
          "output_type": "stream",
          "text": [
            "\n"
          ]
        },
        {
          "name": "stdout",
          "output_type": "stream",
          "text": [
            "\n",
            "Quantizing layer with index: 1\n",
            "Quantization progress: 1 out of 20\n",
            "\n",
            "shape of W: torch.Size([64, 64, 3, 3])\n",
            "shape of analog_layer_input: torch.Size([3968, 576])\n",
            "shape of quantized_layer_input: torch.Size([3968, 576])\n",
            "The number of groups: 1\n",
            "\n"
          ]
        },
        {
          "name": "stderr",
          "output_type": "stream",
          "text": [
            "100%|██████████| 576/576 [00:00<00:00, 2825.23it/s]\n"
          ]
        },
        {
          "name": "stdout",
          "output_type": "stream",
          "text": [
            "The quantization error of layer 1 is 0.2548283636569977.\n",
            "The relative quantization error of layer 1 is 0.0004414221039041877.\n",
            "\n",
            "\n",
            "Quantizing layer with index: 2\n",
            "Quantization progress: 2 out of 20\n",
            "\n",
            "shape of W: torch.Size([64, 64, 3, 3])\n",
            "shape of analog_layer_input: torch.Size([3968, 576])\n",
            "shape of quantized_layer_input: torch.Size([3968, 576])\n",
            "The number of groups: 1\n",
            "\n"
          ]
        },
        {
          "name": "stderr",
          "output_type": "stream",
          "text": [
            "100%|██████████| 576/576 [00:00<00:00, 2758.74it/s]\n"
          ]
        },
        {
          "name": "stdout",
          "output_type": "stream",
          "text": [
            "The quantization error of layer 2 is 0.34373995661735535.\n",
            "The relative quantization error of layer 2 is 0.0011980797862634063.\n",
            "\n",
            "\n",
            "Quantizing layer with index: 3\n",
            "Quantization progress: 3 out of 20\n",
            "\n",
            "shape of W: torch.Size([64, 64, 3, 3])\n",
            "shape of analog_layer_input: torch.Size([3968, 576])\n",
            "shape of quantized_layer_input: torch.Size([3968, 576])\n",
            "The number of groups: 1\n",
            "\n"
          ]
        },
        {
          "name": "stderr",
          "output_type": "stream",
          "text": [
            "100%|██████████| 576/576 [00:00<00:00, 2676.39it/s]\n"
          ]
        },
        {
          "name": "stdout",
          "output_type": "stream",
          "text": [
            "The quantization error of layer 3 is 0.9317211508750916.\n",
            "The relative quantization error of layer 3 is 0.0016665165312588215.\n",
            "\n",
            "\n",
            "Quantizing layer with index: 4\n",
            "Quantization progress: 4 out of 20\n",
            "\n",
            "shape of W: torch.Size([64, 64, 3, 3])\n",
            "shape of analog_layer_input: torch.Size([3968, 576])\n",
            "shape of quantized_layer_input: torch.Size([3968, 576])\n",
            "The number of groups: 1\n",
            "\n"
          ]
        },
        {
          "name": "stderr",
          "output_type": "stream",
          "text": [
            "100%|██████████| 576/576 [00:00<00:00, 2424.12it/s]\n"
          ]
        },
        {
          "name": "stdout",
          "output_type": "stream",
          "text": [
            "The quantization error of layer 4 is 0.5086522102355957.\n",
            "The relative quantization error of layer 4 is 0.0024578378070145845.\n",
            "\n",
            "\n",
            "Quantizing layer with index: 5\n",
            "Quantization progress: 5 out of 20\n",
            "\n",
            "shape of W: torch.Size([128, 64, 3, 3])\n",
            "shape of analog_layer_input: torch.Size([3968, 576])\n",
            "shape of quantized_layer_input: torch.Size([3968, 576])\n",
            "The number of groups: 1\n",
            "\n"
          ]
        },
        {
          "name": "stderr",
          "output_type": "stream",
          "text": [
            "100%|██████████| 576/576 [00:00<00:00, 1922.70it/s]\n"
          ]
        },
        {
          "name": "stdout",
          "output_type": "stream",
          "text": [
            "The quantization error of layer 5 is 1.2875802516937256.\n",
            "The relative quantization error of layer 5 is 0.0015565167414024472.\n",
            "\n",
            "\n",
            "Quantizing layer with index: 6\n",
            "Quantization progress: 6 out of 20\n",
            "\n",
            "shape of W: torch.Size([128, 128, 3, 3])\n",
            "shape of analog_layer_input: torch.Size([1280, 1152])\n",
            "shape of quantized_layer_input: torch.Size([1280, 1152])\n",
            "The number of groups: 1\n",
            "\n"
          ]
        },
        {
          "name": "stderr",
          "output_type": "stream",
          "text": [
            "100%|██████████| 1152/1152 [00:00<00:00, 2997.67it/s]\n"
          ]
        },
        {
          "name": "stdout",
          "output_type": "stream",
          "text": [
            "The quantization error of layer 6 is 0.19578532874584198.\n",
            "The relative quantization error of layer 6 is 0.0011802191147580743.\n",
            "\n",
            "\n",
            "Quantizing layer with index: 7\n",
            "Quantization progress: 7 out of 20\n",
            "\n",
            "shape of W: torch.Size([128, 64, 1, 1])\n",
            "shape of analog_layer_input: torch.Size([32896, 64])\n",
            "shape of quantized_layer_input: torch.Size([32896, 64])\n",
            "The number of groups: 1\n",
            "\n"
          ]
        },
        {
          "name": "stderr",
          "output_type": "stream",
          "text": [
            "100%|██████████| 64/64 [00:00<00:00, 359.66it/s]\n"
          ]
        },
        {
          "name": "stdout",
          "output_type": "stream",
          "text": [
            "The quantization error of layer 7 is 38.37436294555664.\n",
            "The relative quantization error of layer 7 is 0.04442625865340233.\n",
            "\n",
            "\n",
            "Quantizing layer with index: 8\n",
            "Quantization progress: 8 out of 20\n",
            "\n",
            "shape of W: torch.Size([128, 128, 3, 3])\n",
            "shape of analog_layer_input: torch.Size([1280, 1152])\n",
            "shape of quantized_layer_input: torch.Size([1280, 1152])\n",
            "The number of groups: 1\n",
            "\n"
          ]
        },
        {
          "name": "stderr",
          "output_type": "stream",
          "text": [
            "100%|██████████| 1152/1152 [00:00<00:00, 3178.18it/s]\n"
          ]
        },
        {
          "name": "stdout",
          "output_type": "stream",
          "text": [
            "The quantization error of layer 8 is 5.064080238342285.\n",
            "The relative quantization error of layer 8 is 0.018276188522577286.\n",
            "\n",
            "\n",
            "Quantizing layer with index: 9\n",
            "Quantization progress: 9 out of 20\n",
            "\n",
            "shape of W: torch.Size([128, 128, 3, 3])\n",
            "shape of analog_layer_input: torch.Size([1280, 1152])\n",
            "shape of quantized_layer_input: torch.Size([1280, 1152])\n",
            "The number of groups: 1\n",
            "\n"
          ]
        },
        {
          "name": "stderr",
          "output_type": "stream",
          "text": [
            "100%|██████████| 1152/1152 [00:00<00:00, 3312.86it/s]\n"
          ]
        },
        {
          "name": "stdout",
          "output_type": "stream",
          "text": [
            "The quantization error of layer 9 is 1.954179048538208.\n",
            "The relative quantization error of layer 9 is 0.01982155814766884.\n",
            "\n",
            "\n",
            "Quantizing layer with index: 10\n",
            "Quantization progress: 10 out of 20\n",
            "\n",
            "shape of W: torch.Size([256, 128, 3, 3])\n",
            "shape of analog_layer_input: torch.Size([1280, 1152])\n",
            "shape of quantized_layer_input: torch.Size([1280, 1152])\n",
            "The number of groups: 1\n",
            "\n"
          ]
        },
        {
          "name": "stderr",
          "output_type": "stream",
          "text": [
            "100%|██████████| 1152/1152 [00:00<00:00, 2420.85it/s]\n"
          ]
        },
        {
          "name": "stdout",
          "output_type": "stream",
          "text": [
            "The quantization error of layer 10 is 8.204779624938965.\n",
            "The relative quantization error of layer 10 is 0.01991882734000683.\n",
            "\n",
            "\n",
            "Quantizing layer with index: 11\n",
            "Quantization progress: 11 out of 20\n",
            "\n",
            "shape of W: torch.Size([256, 256, 3, 3])\n",
            "shape of analog_layer_input: torch.Size([384, 2304])\n",
            "shape of quantized_layer_input: torch.Size([384, 2304])\n",
            "The number of groups: 1\n",
            "\n"
          ]
        },
        {
          "name": "stderr",
          "output_type": "stream",
          "text": [
            "100%|██████████| 2304/2304 [00:00<00:00, 3233.17it/s]\n"
          ]
        },
        {
          "name": "stdout",
          "output_type": "stream",
          "text": [
            "The quantization error of layer 11 is 1.2752972841262817.\n",
            "The relative quantization error of layer 11 is 0.010461105033755302.\n",
            "\n",
            "\n",
            "Quantizing layer with index: 12\n",
            "Quantization progress: 12 out of 20\n",
            "\n",
            "shape of W: torch.Size([256, 128, 1, 1])\n",
            "shape of analog_layer_input: torch.Size([8320, 128])\n",
            "shape of quantized_layer_input: torch.Size([8320, 128])\n",
            "The number of groups: 1\n",
            "\n"
          ]
        },
        {
          "name": "stderr",
          "output_type": "stream",
          "text": [
            "100%|██████████| 128/128 [00:00<00:00, 918.20it/s]"
          ]
        },
        {
          "name": "stdout",
          "output_type": "stream",
          "text": [
            "The quantization error of layer 12 is 8.658368110656738.\n",
            "The relative quantization error of layer 12 is 0.03423430398106575.\n",
            "\n"
          ]
        },
        {
          "name": "stderr",
          "output_type": "stream",
          "text": [
            "\n"
          ]
        },
        {
          "name": "stdout",
          "output_type": "stream",
          "text": [
            "\n",
            "Quantizing layer with index: 13\n",
            "Quantization progress: 13 out of 20\n",
            "\n",
            "shape of W: torch.Size([256, 256, 3, 3])\n",
            "shape of analog_layer_input: torch.Size([384, 2304])\n",
            "shape of quantized_layer_input: torch.Size([384, 2304])\n",
            "The number of groups: 1\n",
            "\n"
          ]
        },
        {
          "name": "stderr",
          "output_type": "stream",
          "text": [
            "100%|██████████| 2304/2304 [00:00<00:00, 3449.03it/s]\n"
          ]
        },
        {
          "name": "stdout",
          "output_type": "stream",
          "text": [
            "The quantization error of layer 13 is 1.5775655508041382.\n",
            "The relative quantization error of layer 13 is 0.007576454430818558.\n",
            "\n",
            "\n",
            "Quantizing layer with index: 14\n",
            "Quantization progress: 14 out of 20\n",
            "\n",
            "shape of W: torch.Size([256, 256, 3, 3])\n",
            "shape of analog_layer_input: torch.Size([384, 2304])\n",
            "shape of quantized_layer_input: torch.Size([384, 2304])\n",
            "The number of groups: 1\n",
            "\n"
          ]
        },
        {
          "name": "stderr",
          "output_type": "stream",
          "text": [
            "100%|██████████| 2304/2304 [00:00<00:00, 3214.23it/s]\n"
          ]
        },
        {
          "name": "stdout",
          "output_type": "stream",
          "text": [
            "The quantization error of layer 14 is 0.6410874128341675.\n",
            "The relative quantization error of layer 14 is 0.010389902628958225.\n",
            "\n",
            "\n",
            "Quantizing layer with index: 15\n",
            "Quantization progress: 15 out of 20\n",
            "\n",
            "shape of W: torch.Size([512, 256, 3, 3])\n",
            "shape of analog_layer_input: torch.Size([384, 2304])\n",
            "shape of quantized_layer_input: torch.Size([384, 2304])\n",
            "The number of groups: 1\n",
            "\n"
          ]
        },
        {
          "name": "stderr",
          "output_type": "stream",
          "text": [
            "100%|██████████| 2304/2304 [00:00<00:00, 2822.91it/s]\n"
          ]
        },
        {
          "name": "stdout",
          "output_type": "stream",
          "text": [
            "The quantization error of layer 15 is 2.616032838821411.\n",
            "The relative quantization error of layer 15 is 0.010612045414745808.\n",
            "\n",
            "\n",
            "Quantizing layer with index: 16\n",
            "Quantization progress: 16 out of 20\n",
            "\n",
            "shape of W: torch.Size([512, 512, 3, 3])\n",
            "shape of analog_layer_input: torch.Size([256, 4608])\n",
            "shape of quantized_layer_input: torch.Size([256, 4608])\n",
            "The number of groups: 1\n",
            "\n"
          ]
        },
        {
          "name": "stderr",
          "output_type": "stream",
          "text": [
            "100%|██████████| 4608/4608 [00:01<00:00, 3134.13it/s]\n"
          ]
        },
        {
          "name": "stdout",
          "output_type": "stream",
          "text": [
            "The quantization error of layer 16 is 0.38216689229011536.\n",
            "The relative quantization error of layer 16 is 0.006039055995643139.\n",
            "\n",
            "\n",
            "Quantizing layer with index: 17\n",
            "Quantization progress: 17 out of 20\n",
            "\n",
            "shape of W: torch.Size([512, 256, 1, 1])\n",
            "shape of analog_layer_input: torch.Size([2176, 256])\n",
            "shape of quantized_layer_input: torch.Size([2176, 256])\n",
            "The number of groups: 1\n",
            "\n"
          ]
        },
        {
          "name": "stderr",
          "output_type": "stream",
          "text": [
            "100%|██████████| 256/256 [00:00<00:00, 1244.74it/s]\n"
          ]
        },
        {
          "name": "stdout",
          "output_type": "stream",
          "text": [
            "The quantization error of layer 17 is 6.627705097198486.\n",
            "The relative quantization error of layer 17 is 0.04123320430517197.\n",
            "\n",
            "\n",
            "Quantizing layer with index: 18\n",
            "Quantization progress: 18 out of 20\n",
            "\n",
            "shape of W: torch.Size([512, 512, 3, 3])\n",
            "shape of analog_layer_input: torch.Size([256, 4608])\n",
            "shape of quantized_layer_input: torch.Size([256, 4608])\n",
            "The number of groups: 1\n",
            "\n"
          ]
        },
        {
          "name": "stderr",
          "output_type": "stream",
          "text": [
            "100%|██████████| 4608/4608 [00:01<00:00, 3201.53it/s]\n"
          ]
        },
        {
          "name": "stdout",
          "output_type": "stream",
          "text": [
            "The quantization error of layer 18 is 2.588073253631592.\n",
            "The relative quantization error of layer 18 is 0.014488507993519306.\n",
            "\n",
            "\n",
            "Quantizing layer with index: 19\n",
            "Quantization progress: 19 out of 20\n",
            "\n",
            "shape of W: torch.Size([512, 512, 3, 3])\n",
            "shape of analog_layer_input: torch.Size([256, 4608])\n",
            "shape of quantized_layer_input: torch.Size([256, 4608])\n",
            "The number of groups: 1\n",
            "\n"
          ]
        },
        {
          "name": "stderr",
          "output_type": "stream",
          "text": [
            "100%|██████████| 4608/4608 [00:01<00:00, 2799.99it/s]\n"
          ]
        },
        {
          "name": "stdout",
          "output_type": "stream",
          "text": [
            "The quantization error of layer 19 is 2.8512885570526123.\n",
            "The relative quantization error of layer 19 is 0.07588191330432892.\n",
            "\n",
            "\n",
            "Quantizing layer with index: 20\n",
            "Quantization progress: 20 out of 20\n",
            "\n",
            "The number of groups: 1\n",
            "\n"
          ]
        },
        {
          "name": "stderr",
          "output_type": "stream",
          "text": [
            "100%|██████████| 512/512 [00:00<00:00, 3306.38it/s]"
          ]
        },
        {
          "name": "stdout",
          "output_type": "stream",
          "text": [
            "The quantization error of layer 20 is 27.2978458404541.\n",
            "The relative quantization error of layer 20 is 0.11223923414945602.\n",
            "\n"
          ]
        },
        {
          "name": "stderr",
          "output_type": "stream",
          "text": [
            "\n"
          ]
        },
        {
          "name": "stdout",
          "output_type": "stream",
          "text": [
            "Bits 12, Effective Quantized Bit Size: 11.933123094565742\n",
            "Bits 12, Quantized Test Accuracy: 0.9267\n",
            "Layer indices to quantize [0, 1, 2, 3, 4, 5, 6, 7, 8, 9, 10, 11, 12, 13, 14, 15, 16, 17, 18, 19, 20]\n",
            "Total number of layers to quantize 21\n",
            "\n",
            "Quantizing layer with index: 0\n",
            "Quantization progress: 0 out of 20\n",
            "\n",
            "shape of W: torch.Size([64, 3, 3, 3])\n",
            "shape of analog_layer_input: torch.Size([3968, 27])\n",
            "shape of quantized_layer_input: torch.Size([3968, 27])\n",
            "The number of groups: 1\n",
            "\n"
          ]
        },
        {
          "name": "stderr",
          "output_type": "stream",
          "text": [
            "100%|██████████| 27/27 [00:00<00:00, 463.57it/s]"
          ]
        },
        {
          "name": "stdout",
          "output_type": "stream",
          "text": [
            "The quantization error of layer 0 is 3.686344623565674.\n",
            "The relative quantization error of layer 0 is 0.010044405236840248.\n",
            "\n"
          ]
        },
        {
          "name": "stderr",
          "output_type": "stream",
          "text": [
            "\n"
          ]
        },
        {
          "name": "stdout",
          "output_type": "stream",
          "text": [
            "\n",
            "Quantizing layer with index: 1\n",
            "Quantization progress: 1 out of 20\n",
            "\n",
            "shape of W: torch.Size([64, 64, 3, 3])\n",
            "shape of analog_layer_input: torch.Size([3968, 576])\n",
            "shape of quantized_layer_input: torch.Size([3968, 576])\n",
            "The number of groups: 1\n",
            "\n"
          ]
        },
        {
          "name": "stderr",
          "output_type": "stream",
          "text": [
            "100%|██████████| 576/576 [00:00<00:00, 2605.94it/s]\n"
          ]
        },
        {
          "name": "stdout",
          "output_type": "stream",
          "text": [
            "The quantization error of layer 1 is 3.9838180541992188.\n",
            "The relative quantization error of layer 1 is 0.006907482631504536.\n",
            "\n",
            "\n",
            "Quantizing layer with index: 2\n",
            "Quantization progress: 2 out of 20\n",
            "\n",
            "shape of W: torch.Size([64, 64, 3, 3])\n",
            "shape of analog_layer_input: torch.Size([3968, 576])\n",
            "shape of quantized_layer_input: torch.Size([3968, 576])\n",
            "The number of groups: 1\n",
            "\n"
          ]
        },
        {
          "name": "stderr",
          "output_type": "stream",
          "text": [
            "100%|██████████| 576/576 [00:00<00:00, 2652.01it/s]\n"
          ]
        },
        {
          "name": "stdout",
          "output_type": "stream",
          "text": [
            "The quantization error of layer 2 is 3.8411705493927.\n",
            "The relative quantization error of layer 2 is 0.013419639319181442.\n",
            "\n",
            "\n",
            "Quantizing layer with index: 3\n",
            "Quantization progress: 3 out of 20\n",
            "\n",
            "shape of W: torch.Size([64, 64, 3, 3])\n",
            "shape of analog_layer_input: torch.Size([3968, 576])\n",
            "shape of quantized_layer_input: torch.Size([3968, 576])\n",
            "The number of groups: 1\n",
            "\n"
          ]
        },
        {
          "name": "stderr",
          "output_type": "stream",
          "text": [
            "100%|██████████| 576/576 [00:00<00:00, 2757.56it/s]\n"
          ]
        },
        {
          "name": "stdout",
          "output_type": "stream",
          "text": [
            "The quantization error of layer 3 is 13.668428421020508.\n",
            "The relative quantization error of layer 3 is 0.024524301290512085.\n",
            "\n",
            "\n",
            "Quantizing layer with index: 4\n",
            "Quantization progress: 4 out of 20\n",
            "\n",
            "shape of W: torch.Size([64, 64, 3, 3])\n",
            "shape of analog_layer_input: torch.Size([3968, 576])\n",
            "shape of quantized_layer_input: torch.Size([3968, 576])\n",
            "The number of groups: 1\n",
            "\n"
          ]
        },
        {
          "name": "stderr",
          "output_type": "stream",
          "text": [
            "100%|██████████| 576/576 [00:00<00:00, 2622.71it/s]\n"
          ]
        },
        {
          "name": "stdout",
          "output_type": "stream",
          "text": [
            "The quantization error of layer 4 is 6.826650619506836.\n",
            "The relative quantization error of layer 4 is 0.03271850198507309.\n",
            "\n",
            "\n",
            "Quantizing layer with index: 5\n",
            "Quantization progress: 5 out of 20\n",
            "\n",
            "shape of W: torch.Size([128, 64, 3, 3])\n",
            "shape of analog_layer_input: torch.Size([3968, 576])\n",
            "shape of quantized_layer_input: torch.Size([3968, 576])\n",
            "The number of groups: 1\n",
            "\n"
          ]
        },
        {
          "name": "stderr",
          "output_type": "stream",
          "text": [
            "100%|██████████| 576/576 [00:00<00:00, 1912.05it/s]\n"
          ]
        },
        {
          "name": "stdout",
          "output_type": "stream",
          "text": [
            "The quantization error of layer 5 is 17.038469314575195.\n",
            "The relative quantization error of layer 5 is 0.020529335364699364.\n",
            "\n",
            "\n",
            "Quantizing layer with index: 6\n",
            "Quantization progress: 6 out of 20\n",
            "\n",
            "shape of W: torch.Size([128, 128, 3, 3])\n",
            "shape of analog_layer_input: torch.Size([1280, 1152])\n",
            "shape of quantized_layer_input: torch.Size([1280, 1152])\n",
            "The number of groups: 1\n",
            "\n"
          ]
        },
        {
          "name": "stderr",
          "output_type": "stream",
          "text": [
            "100%|██████████| 1152/1152 [00:00<00:00, 2963.26it/s]\n"
          ]
        },
        {
          "name": "stdout",
          "output_type": "stream",
          "text": [
            "The quantization error of layer 6 is 2.69581937789917.\n",
            "The relative quantization error of layer 6 is 0.016365839168429375.\n",
            "\n",
            "\n",
            "Quantizing layer with index: 7\n",
            "Quantization progress: 7 out of 20\n",
            "\n",
            "shape of W: torch.Size([128, 64, 1, 1])\n",
            "shape of analog_layer_input: torch.Size([32896, 64])\n",
            "shape of quantized_layer_input: torch.Size([32896, 64])\n",
            "The number of groups: 1\n",
            "\n"
          ]
        },
        {
          "name": "stderr",
          "output_type": "stream",
          "text": [
            "100%|██████████| 64/64 [00:00<00:00, 349.63it/s]\n"
          ]
        },
        {
          "name": "stdout",
          "output_type": "stream",
          "text": [
            "The quantization error of layer 7 is 68.29747009277344.\n",
            "The relative quantization error of layer 7 is 0.07927010953426361.\n",
            "\n",
            "\n",
            "Quantizing layer with index: 8\n",
            "Quantization progress: 8 out of 20\n",
            "\n",
            "shape of W: torch.Size([128, 128, 3, 3])\n",
            "shape of analog_layer_input: torch.Size([1280, 1152])\n",
            "shape of quantized_layer_input: torch.Size([1280, 1152])\n",
            "The number of groups: 1\n",
            "\n"
          ]
        },
        {
          "name": "stderr",
          "output_type": "stream",
          "text": [
            "100%|██████████| 1152/1152 [00:00<00:00, 3174.78it/s]\n"
          ]
        },
        {
          "name": "stdout",
          "output_type": "stream",
          "text": [
            "The quantization error of layer 8 is 8.914325714111328.\n",
            "The relative quantization error of layer 8 is 0.03233432024717331.\n",
            "\n",
            "\n",
            "Quantizing layer with index: 9\n",
            "Quantization progress: 9 out of 20\n",
            "\n",
            "shape of W: torch.Size([128, 128, 3, 3])\n",
            "shape of analog_layer_input: torch.Size([1280, 1152])\n",
            "shape of quantized_layer_input: torch.Size([1280, 1152])\n",
            "The number of groups: 1\n",
            "\n"
          ]
        },
        {
          "name": "stderr",
          "output_type": "stream",
          "text": [
            "100%|██████████| 1152/1152 [00:00<00:00, 2747.38it/s]\n"
          ]
        },
        {
          "name": "stdout",
          "output_type": "stream",
          "text": [
            "The quantization error of layer 9 is 3.652799606323242.\n",
            "The relative quantization error of layer 9 is 0.03722376003861427.\n",
            "\n",
            "\n",
            "Quantizing layer with index: 10\n",
            "Quantization progress: 10 out of 20\n",
            "\n",
            "shape of W: torch.Size([256, 128, 3, 3])\n",
            "shape of analog_layer_input: torch.Size([1280, 1152])\n",
            "shape of quantized_layer_input: torch.Size([1280, 1152])\n",
            "The number of groups: 1\n",
            "\n"
          ]
        },
        {
          "name": "stderr",
          "output_type": "stream",
          "text": [
            "100%|██████████| 1152/1152 [00:00<00:00, 2178.20it/s]\n"
          ]
        },
        {
          "name": "stdout",
          "output_type": "stream",
          "text": [
            "The quantization error of layer 10 is 14.518305778503418.\n",
            "The relative quantization error of layer 10 is 0.035141754895448685.\n",
            "\n",
            "\n",
            "Quantizing layer with index: 11\n",
            "Quantization progress: 11 out of 20\n",
            "\n",
            "shape of W: torch.Size([256, 256, 3, 3])\n",
            "shape of analog_layer_input: torch.Size([384, 2304])\n",
            "shape of quantized_layer_input: torch.Size([384, 2304])\n",
            "The number of groups: 1\n",
            "\n"
          ]
        },
        {
          "name": "stderr",
          "output_type": "stream",
          "text": [
            "100%|██████████| 2304/2304 [00:00<00:00, 2811.69it/s]\n"
          ]
        },
        {
          "name": "stdout",
          "output_type": "stream",
          "text": [
            "The quantization error of layer 11 is 2.5052549839019775.\n",
            "The relative quantization error of layer 11 is 0.020086267963051796.\n",
            "\n",
            "\n",
            "Quantizing layer with index: 12\n",
            "Quantization progress: 12 out of 20\n",
            "\n",
            "shape of W: torch.Size([256, 128, 1, 1])\n",
            "shape of analog_layer_input: torch.Size([8320, 128])\n",
            "shape of quantized_layer_input: torch.Size([8320, 128])\n",
            "The number of groups: 1\n",
            "\n"
          ]
        },
        {
          "name": "stderr",
          "output_type": "stream",
          "text": [
            "100%|██████████| 128/128 [00:00<00:00, 622.91it/s]\n"
          ]
        },
        {
          "name": "stdout",
          "output_type": "stream",
          "text": [
            "The quantization error of layer 12 is 16.091453552246094.\n",
            "The relative quantization error of layer 12 is 0.06315295398235321.\n",
            "\n",
            "\n",
            "Quantizing layer with index: 13\n",
            "Quantization progress: 13 out of 20\n",
            "\n",
            "shape of W: torch.Size([256, 256, 3, 3])\n",
            "shape of analog_layer_input: torch.Size([384, 2304])\n",
            "shape of quantized_layer_input: torch.Size([384, 2304])\n",
            "The number of groups: 1\n",
            "\n"
          ]
        },
        {
          "name": "stderr",
          "output_type": "stream",
          "text": [
            "100%|██████████| 2304/2304 [00:00<00:00, 3114.17it/s]\n"
          ]
        },
        {
          "name": "stdout",
          "output_type": "stream",
          "text": [
            "The quantization error of layer 13 is 3.1316890716552734.\n",
            "The relative quantization error of layer 13 is 0.015102933160960674.\n",
            "\n",
            "\n",
            "Quantizing layer with index: 14\n",
            "Quantization progress: 14 out of 20\n",
            "\n",
            "shape of W: torch.Size([256, 256, 3, 3])\n",
            "shape of analog_layer_input: torch.Size([384, 2304])\n",
            "shape of quantized_layer_input: torch.Size([384, 2304])\n",
            "The number of groups: 1\n",
            "\n"
          ]
        },
        {
          "name": "stderr",
          "output_type": "stream",
          "text": [
            "100%|██████████| 2304/2304 [00:00<00:00, 2310.69it/s]\n"
          ]
        },
        {
          "name": "stdout",
          "output_type": "stream",
          "text": [
            "The quantization error of layer 14 is 1.2123547792434692.\n",
            "The relative quantization error of layer 14 is 0.01968461461365223.\n",
            "\n",
            "\n",
            "Quantizing layer with index: 15\n",
            "Quantization progress: 15 out of 20\n",
            "\n",
            "shape of W: torch.Size([512, 256, 3, 3])\n",
            "shape of analog_layer_input: torch.Size([384, 2304])\n",
            "shape of quantized_layer_input: torch.Size([384, 2304])\n",
            "The number of groups: 1\n",
            "\n"
          ]
        },
        {
          "name": "stderr",
          "output_type": "stream",
          "text": [
            "100%|██████████| 2304/2304 [00:01<00:00, 2272.18it/s]\n"
          ]
        },
        {
          "name": "stdout",
          "output_type": "stream",
          "text": [
            "The quantization error of layer 15 is 5.555966854095459.\n",
            "The relative quantization error of layer 15 is 0.022279120981693268.\n",
            "\n",
            "\n",
            "Quantizing layer with index: 16\n",
            "Quantization progress: 16 out of 20\n",
            "\n",
            "shape of W: torch.Size([512, 512, 3, 3])\n",
            "shape of analog_layer_input: torch.Size([256, 4608])\n",
            "shape of quantized_layer_input: torch.Size([256, 4608])\n",
            "The number of groups: 1\n",
            "\n"
          ]
        },
        {
          "name": "stderr",
          "output_type": "stream",
          "text": [
            "100%|██████████| 4608/4608 [00:01<00:00, 2854.05it/s]\n"
          ]
        },
        {
          "name": "stdout",
          "output_type": "stream",
          "text": [
            "The quantization error of layer 16 is 0.8072737455368042.\n",
            "The relative quantization error of layer 16 is 0.012962320819497108.\n",
            "\n",
            "\n",
            "Quantizing layer with index: 17\n",
            "Quantization progress: 17 out of 20\n",
            "\n",
            "shape of W: torch.Size([512, 256, 1, 1])\n",
            "shape of analog_layer_input: torch.Size([2176, 256])\n",
            "shape of quantized_layer_input: torch.Size([2176, 256])\n",
            "The number of groups: 1\n",
            "\n"
          ]
        },
        {
          "name": "stderr",
          "output_type": "stream",
          "text": [
            "100%|██████████| 256/256 [00:00<00:00, 1020.99it/s]\n"
          ]
        },
        {
          "name": "stdout",
          "output_type": "stream",
          "text": [
            "The quantization error of layer 17 is 12.868639945983887.\n",
            "The relative quantization error of layer 17 is 0.07895798981189728.\n",
            "\n",
            "\n",
            "Quantizing layer with index: 18\n",
            "Quantization progress: 18 out of 20\n",
            "\n",
            "shape of W: torch.Size([512, 512, 3, 3])\n",
            "shape of analog_layer_input: torch.Size([256, 4608])\n",
            "shape of quantized_layer_input: torch.Size([256, 4608])\n",
            "The number of groups: 1\n",
            "\n"
          ]
        },
        {
          "name": "stderr",
          "output_type": "stream",
          "text": [
            "100%|██████████| 4608/4608 [00:01<00:00, 2528.57it/s]\n"
          ]
        },
        {
          "name": "stdout",
          "output_type": "stream",
          "text": [
            "The quantization error of layer 18 is 3.4861841201782227.\n",
            "The relative quantization error of layer 18 is 0.01959722302854061.\n",
            "\n",
            "\n",
            "Quantizing layer with index: 19\n",
            "Quantization progress: 19 out of 20\n",
            "\n",
            "shape of W: torch.Size([512, 512, 3, 3])\n",
            "shape of analog_layer_input: torch.Size([256, 4608])\n",
            "shape of quantized_layer_input: torch.Size([256, 4608])\n",
            "The number of groups: 1\n",
            "\n"
          ]
        },
        {
          "name": "stderr",
          "output_type": "stream",
          "text": [
            "100%|██████████| 4608/4608 [00:01<00:00, 2789.21it/s]\n"
          ]
        },
        {
          "name": "stdout",
          "output_type": "stream",
          "text": [
            "The quantization error of layer 19 is 3.020310163497925.\n",
            "The relative quantization error of layer 19 is 0.08398544788360596.\n",
            "\n",
            "\n",
            "Quantizing layer with index: 20\n",
            "Quantization progress: 20 out of 20\n",
            "\n",
            "The number of groups: 1\n",
            "\n"
          ]
        },
        {
          "name": "stderr",
          "output_type": "stream",
          "text": [
            "100%|██████████| 512/512 [00:00<00:00, 2656.50it/s]\n"
          ]
        },
        {
          "name": "stdout",
          "output_type": "stream",
          "text": [
            "The quantization error of layer 20 is 30.226964950561523.\n",
            "The relative quantization error of layer 20 is 0.12202753126621246.\n",
            "\n",
            "Bits 8, Effective Quantized Bit Size: 8.686437988602432\n",
            "Bits 8, Quantized Test Accuracy: 0.9254\n",
            "Layer indices to quantize [0, 1, 2, 3, 4, 5, 6, 7, 8, 9, 10, 11, 12, 13, 14, 15, 16, 17, 18, 19, 20]\n",
            "Total number of layers to quantize 21\n",
            "\n",
            "Quantizing layer with index: 0\n",
            "Quantization progress: 0 out of 20\n",
            "\n",
            "shape of W: torch.Size([64, 3, 3, 3])\n",
            "shape of analog_layer_input: torch.Size([3968, 27])\n",
            "shape of quantized_layer_input: torch.Size([3968, 27])\n",
            "The number of groups: 1\n",
            "\n"
          ]
        },
        {
          "name": "stderr",
          "output_type": "stream",
          "text": [
            "100%|██████████| 27/27 [00:00<00:00, 476.47it/s]"
          ]
        },
        {
          "name": "stdout",
          "output_type": "stream",
          "text": [
            "The quantization error of layer 0 is 5.897257328033447.\n",
            "The relative quantization error of layer 0 is 0.016232309862971306.\n",
            "\n"
          ]
        },
        {
          "name": "stderr",
          "output_type": "stream",
          "text": [
            "\n"
          ]
        },
        {
          "name": "stdout",
          "output_type": "stream",
          "text": [
            "\n",
            "Quantizing layer with index: 1\n",
            "Quantization progress: 1 out of 20\n",
            "\n",
            "shape of W: torch.Size([64, 64, 3, 3])\n",
            "shape of analog_layer_input: torch.Size([3968, 576])\n",
            "shape of quantized_layer_input: torch.Size([3968, 576])\n",
            "The number of groups: 1\n",
            "\n"
          ]
        },
        {
          "name": "stderr",
          "output_type": "stream",
          "text": [
            "100%|██████████| 576/576 [00:00<00:00, 1411.86it/s]\n"
          ]
        },
        {
          "name": "stdout",
          "output_type": "stream",
          "text": [
            "The quantization error of layer 1 is 7.35365629196167.\n",
            "The relative quantization error of layer 1 is 0.012760957702994347.\n",
            "\n",
            "\n",
            "Quantizing layer with index: 2\n",
            "Quantization progress: 2 out of 20\n",
            "\n",
            "shape of W: torch.Size([64, 64, 3, 3])\n",
            "shape of analog_layer_input: torch.Size([3968, 576])\n",
            "shape of quantized_layer_input: torch.Size([3968, 576])\n",
            "The number of groups: 1\n",
            "\n"
          ]
        },
        {
          "name": "stderr",
          "output_type": "stream",
          "text": [
            "100%|██████████| 576/576 [00:00<00:00, 2776.84it/s]\n"
          ]
        },
        {
          "name": "stdout",
          "output_type": "stream",
          "text": [
            "The quantization error of layer 2 is 6.5312347412109375.\n",
            "The relative quantization error of layer 2 is 0.022928349673748016.\n",
            "\n",
            "\n",
            "Quantizing layer with index: 3\n",
            "Quantization progress: 3 out of 20\n",
            "\n",
            "shape of W: torch.Size([64, 64, 3, 3])\n",
            "shape of analog_layer_input: torch.Size([3968, 576])\n",
            "shape of quantized_layer_input: torch.Size([3968, 576])\n",
            "The number of groups: 1\n",
            "\n"
          ]
        },
        {
          "name": "stderr",
          "output_type": "stream",
          "text": [
            "100%|██████████| 576/576 [00:00<00:00, 2312.92it/s]\n"
          ]
        },
        {
          "name": "stdout",
          "output_type": "stream",
          "text": [
            "The quantization error of layer 3 is 16.977375030517578.\n",
            "The relative quantization error of layer 3 is 0.030248355120420456.\n",
            "\n",
            "\n",
            "Quantizing layer with index: 4\n",
            "Quantization progress: 4 out of 20\n",
            "\n",
            "shape of W: torch.Size([64, 64, 3, 3])\n",
            "shape of analog_layer_input: torch.Size([3968, 576])\n",
            "shape of quantized_layer_input: torch.Size([3968, 576])\n",
            "The number of groups: 1\n",
            "\n"
          ]
        },
        {
          "name": "stderr",
          "output_type": "stream",
          "text": [
            "100%|██████████| 576/576 [00:00<00:00, 1886.63it/s]\n"
          ]
        },
        {
          "name": "stdout",
          "output_type": "stream",
          "text": [
            "The quantization error of layer 4 is 8.609811782836914.\n",
            "The relative quantization error of layer 4 is 0.04110286757349968.\n",
            "\n",
            "\n",
            "Quantizing layer with index: 5\n",
            "Quantization progress: 5 out of 20\n",
            "\n",
            "shape of W: torch.Size([128, 64, 3, 3])\n",
            "shape of analog_layer_input: torch.Size([3968, 576])\n",
            "shape of quantized_layer_input: torch.Size([3968, 576])\n",
            "The number of groups: 1\n",
            "\n"
          ]
        },
        {
          "name": "stderr",
          "output_type": "stream",
          "text": [
            "100%|██████████| 576/576 [00:00<00:00, 1586.90it/s]\n"
          ]
        },
        {
          "name": "stdout",
          "output_type": "stream",
          "text": [
            "The quantization error of layer 5 is 26.65410041809082.\n",
            "The relative quantization error of layer 5 is 0.032596997916698456.\n",
            "\n",
            "\n",
            "Quantizing layer with index: 6\n",
            "Quantization progress: 6 out of 20\n",
            "\n",
            "shape of W: torch.Size([128, 128, 3, 3])\n",
            "shape of analog_layer_input: torch.Size([1280, 1152])\n",
            "shape of quantized_layer_input: torch.Size([1280, 1152])\n",
            "The number of groups: 1\n",
            "\n"
          ]
        },
        {
          "name": "stderr",
          "output_type": "stream",
          "text": [
            "100%|██████████| 1152/1152 [00:00<00:00, 2210.52it/s]\n"
          ]
        },
        {
          "name": "stdout",
          "output_type": "stream",
          "text": [
            "The quantization error of layer 6 is 4.997616291046143.\n",
            "The relative quantization error of layer 6 is 0.030476108193397522.\n",
            "\n",
            "\n",
            "Quantizing layer with index: 7\n",
            "Quantization progress: 7 out of 20\n",
            "\n",
            "shape of W: torch.Size([128, 64, 1, 1])\n",
            "shape of analog_layer_input: torch.Size([32896, 64])\n",
            "shape of quantized_layer_input: torch.Size([32896, 64])\n",
            "The number of groups: 1\n",
            "\n"
          ]
        },
        {
          "name": "stderr",
          "output_type": "stream",
          "text": [
            "100%|██████████| 64/64 [00:00<00:00, 264.37it/s]\n"
          ]
        },
        {
          "name": "stdout",
          "output_type": "stream",
          "text": [
            "The quantization error of layer 7 is 74.24287414550781.\n",
            "The relative quantization error of layer 7 is 0.08617378026247025.\n",
            "\n",
            "\n",
            "Quantizing layer with index: 8\n",
            "Quantization progress: 8 out of 20\n",
            "\n",
            "shape of W: torch.Size([128, 128, 3, 3])\n",
            "shape of analog_layer_input: torch.Size([1280, 1152])\n",
            "shape of quantized_layer_input: torch.Size([1280, 1152])\n",
            "The number of groups: 1\n",
            "\n"
          ]
        },
        {
          "name": "stderr",
          "output_type": "stream",
          "text": [
            "100%|██████████| 1152/1152 [00:00<00:00, 2552.12it/s]\n"
          ]
        },
        {
          "name": "stdout",
          "output_type": "stream",
          "text": [
            "The quantization error of layer 8 is 11.533541679382324.\n",
            "The relative quantization error of layer 8 is 0.04202381893992424.\n",
            "\n",
            "\n",
            "Quantizing layer with index: 9\n",
            "Quantization progress: 9 out of 20\n",
            "\n",
            "shape of W: torch.Size([128, 128, 3, 3])\n",
            "shape of analog_layer_input: torch.Size([1280, 1152])\n",
            "shape of quantized_layer_input: torch.Size([1280, 1152])\n",
            "The number of groups: 1\n",
            "\n"
          ]
        },
        {
          "name": "stderr",
          "output_type": "stream",
          "text": [
            "100%|██████████| 1152/1152 [00:00<00:00, 2958.63it/s]\n"
          ]
        },
        {
          "name": "stdout",
          "output_type": "stream",
          "text": [
            "The quantization error of layer 9 is 5.0489654541015625.\n",
            "The relative quantization error of layer 9 is 0.0506051667034626.\n",
            "\n",
            "\n",
            "Quantizing layer with index: 10\n",
            "Quantization progress: 10 out of 20\n",
            "\n",
            "shape of W: torch.Size([256, 128, 3, 3])\n",
            "shape of analog_layer_input: torch.Size([1280, 1152])\n",
            "shape of quantized_layer_input: torch.Size([1280, 1152])\n",
            "The number of groups: 1\n",
            "\n"
          ]
        },
        {
          "name": "stderr",
          "output_type": "stream",
          "text": [
            "100%|██████████| 1152/1152 [00:00<00:00, 2086.09it/s]\n"
          ]
        },
        {
          "name": "stdout",
          "output_type": "stream",
          "text": [
            "The quantization error of layer 10 is 18.943655014038086.\n",
            "The relative quantization error of layer 10 is 0.04601754993200302.\n",
            "\n",
            "\n",
            "Quantizing layer with index: 11\n",
            "Quantization progress: 11 out of 20\n",
            "\n",
            "shape of W: torch.Size([256, 256, 3, 3])\n",
            "shape of analog_layer_input: torch.Size([384, 2304])\n",
            "shape of quantized_layer_input: torch.Size([384, 2304])\n",
            "The number of groups: 1\n",
            "\n"
          ]
        },
        {
          "name": "stderr",
          "output_type": "stream",
          "text": [
            "100%|██████████| 2304/2304 [00:00<00:00, 2683.91it/s]\n"
          ]
        },
        {
          "name": "stdout",
          "output_type": "stream",
          "text": [
            "The quantization error of layer 11 is 3.6435699462890625.\n",
            "The relative quantization error of layer 11 is 0.029488559812307358.\n",
            "\n",
            "\n",
            "Quantizing layer with index: 12\n",
            "Quantization progress: 12 out of 20\n",
            "\n",
            "shape of W: torch.Size([256, 128, 1, 1])\n",
            "shape of analog_layer_input: torch.Size([8320, 128])\n",
            "shape of quantized_layer_input: torch.Size([8320, 128])\n",
            "The number of groups: 1\n",
            "\n"
          ]
        },
        {
          "name": "stderr",
          "output_type": "stream",
          "text": [
            "100%|██████████| 128/128 [00:00<00:00, 709.72it/s]\n"
          ]
        },
        {
          "name": "stdout",
          "output_type": "stream",
          "text": [
            "The quantization error of layer 12 is 20.235395431518555.\n",
            "The relative quantization error of layer 12 is 0.07974746078252792.\n",
            "\n",
            "\n",
            "Quantizing layer with index: 13\n",
            "Quantization progress: 13 out of 20\n",
            "\n",
            "shape of W: torch.Size([256, 256, 3, 3])\n",
            "shape of analog_layer_input: torch.Size([384, 2304])\n",
            "shape of quantized_layer_input: torch.Size([384, 2304])\n",
            "The number of groups: 1\n",
            "\n"
          ]
        },
        {
          "name": "stderr",
          "output_type": "stream",
          "text": [
            "100%|██████████| 2304/2304 [00:01<00:00, 2236.47it/s]\n"
          ]
        },
        {
          "name": "stdout",
          "output_type": "stream",
          "text": [
            "The quantization error of layer 13 is 4.698964595794678.\n",
            "The relative quantization error of layer 13 is 0.022401079535484314.\n",
            "\n",
            "\n",
            "Quantizing layer with index: 14\n",
            "Quantization progress: 14 out of 20\n",
            "\n",
            "shape of W: torch.Size([256, 256, 3, 3])\n",
            "shape of analog_layer_input: torch.Size([384, 2304])\n",
            "shape of quantized_layer_input: torch.Size([384, 2304])\n",
            "The number of groups: 1\n",
            "\n"
          ]
        },
        {
          "name": "stderr",
          "output_type": "stream",
          "text": [
            "100%|██████████| 2304/2304 [00:00<00:00, 2634.50it/s]\n"
          ]
        },
        {
          "name": "stdout",
          "output_type": "stream",
          "text": [
            "The quantization error of layer 14 is 1.8206071853637695.\n",
            "The relative quantization error of layer 14 is 0.02932620421051979.\n",
            "\n",
            "\n",
            "Quantizing layer with index: 15\n",
            "Quantization progress: 15 out of 20\n",
            "\n",
            "shape of W: torch.Size([512, 256, 3, 3])\n",
            "shape of analog_layer_input: torch.Size([384, 2304])\n",
            "shape of quantized_layer_input: torch.Size([384, 2304])\n",
            "The number of groups: 1\n",
            "\n"
          ]
        },
        {
          "name": "stderr",
          "output_type": "stream",
          "text": [
            "100%|██████████| 2304/2304 [00:00<00:00, 2787.16it/s]\n"
          ]
        },
        {
          "name": "stdout",
          "output_type": "stream",
          "text": [
            "The quantization error of layer 15 is 7.207253456115723.\n",
            "The relative quantization error of layer 15 is 0.029126876965165138.\n",
            "\n",
            "\n",
            "Quantizing layer with index: 16\n",
            "Quantization progress: 16 out of 20\n",
            "\n",
            "shape of W: torch.Size([512, 512, 3, 3])\n",
            "shape of analog_layer_input: torch.Size([256, 4608])\n",
            "shape of quantized_layer_input: torch.Size([256, 4608])\n",
            "The number of groups: 1\n",
            "\n"
          ]
        },
        {
          "name": "stderr",
          "output_type": "stream",
          "text": [
            "100%|██████████| 4608/4608 [00:01<00:00, 2711.49it/s]\n"
          ]
        },
        {
          "name": "stdout",
          "output_type": "stream",
          "text": [
            "The quantization error of layer 16 is 1.1371257305145264.\n",
            "The relative quantization error of layer 16 is 0.01816282793879509.\n",
            "\n",
            "\n",
            "Quantizing layer with index: 17\n",
            "Quantization progress: 17 out of 20\n",
            "\n",
            "shape of W: torch.Size([512, 256, 1, 1])\n",
            "shape of analog_layer_input: torch.Size([2176, 256])\n",
            "shape of quantized_layer_input: torch.Size([2176, 256])\n",
            "The number of groups: 1\n",
            "\n"
          ]
        },
        {
          "name": "stderr",
          "output_type": "stream",
          "text": [
            "100%|██████████| 256/256 [00:00<00:00, 797.35it/s]\n"
          ]
        },
        {
          "name": "stdout",
          "output_type": "stream",
          "text": [
            "The quantization error of layer 17 is 16.268747329711914.\n",
            "The relative quantization error of layer 17 is 0.10076847672462463.\n",
            "\n",
            "\n",
            "Quantizing layer with index: 18\n",
            "Quantization progress: 18 out of 20\n",
            "\n",
            "shape of W: torch.Size([512, 512, 3, 3])\n",
            "shape of analog_layer_input: torch.Size([256, 4608])\n",
            "shape of quantized_layer_input: torch.Size([256, 4608])\n",
            "The number of groups: 1\n",
            "\n"
          ]
        },
        {
          "name": "stderr",
          "output_type": "stream",
          "text": [
            "100%|██████████| 4608/4608 [00:01<00:00, 2768.07it/s]\n"
          ]
        },
        {
          "name": "stdout",
          "output_type": "stream",
          "text": [
            "The quantization error of layer 18 is 4.3302226066589355.\n",
            "The relative quantization error of layer 18 is 0.023991750553250313.\n",
            "\n",
            "\n",
            "Quantizing layer with index: 19\n",
            "Quantization progress: 19 out of 20\n",
            "\n",
            "shape of W: torch.Size([512, 512, 3, 3])\n",
            "shape of analog_layer_input: torch.Size([256, 4608])\n",
            "shape of quantized_layer_input: torch.Size([256, 4608])\n",
            "The number of groups: 1\n",
            "\n"
          ]
        },
        {
          "name": "stderr",
          "output_type": "stream",
          "text": [
            "100%|██████████| 4608/4608 [00:01<00:00, 2802.33it/s]\n"
          ]
        },
        {
          "name": "stdout",
          "output_type": "stream",
          "text": [
            "The quantization error of layer 19 is 3.3714447021484375.\n",
            "The relative quantization error of layer 19 is 0.08994480967521667.\n",
            "\n",
            "\n",
            "Quantizing layer with index: 20\n",
            "Quantization progress: 20 out of 20\n",
            "\n",
            "The number of groups: 1\n",
            "\n"
          ]
        },
        {
          "name": "stderr",
          "output_type": "stream",
          "text": [
            "100%|██████████| 512/512 [00:00<00:00, 3050.13it/s]"
          ]
        },
        {
          "name": "stdout",
          "output_type": "stream",
          "text": [
            "The quantization error of layer 20 is 31.21817398071289.\n",
            "The relative quantization error of layer 20 is 0.12740379571914673.\n",
            "\n"
          ]
        },
        {
          "name": "stderr",
          "output_type": "stream",
          "text": [
            "\n"
          ]
        },
        {
          "name": "stdout",
          "output_type": "stream",
          "text": [
            "Bits 6, Effective Quantized Bit Size: 6.967481722239614\n",
            "Bits 6, Quantized Test Accuracy: 0.9248\n",
            "Layer indices to quantize [0, 1, 2, 3, 4, 5, 6, 7, 8, 9, 10, 11, 12, 13, 14, 15, 16, 17, 18, 19, 20]\n",
            "Total number of layers to quantize 21\n",
            "\n",
            "Quantizing layer with index: 0\n",
            "Quantization progress: 0 out of 20\n",
            "\n",
            "shape of W: torch.Size([64, 3, 3, 3])\n",
            "shape of analog_layer_input: torch.Size([3968, 27])\n",
            "shape of quantized_layer_input: torch.Size([3968, 27])\n",
            "The number of groups: 1\n",
            "\n"
          ]
        },
        {
          "name": "stderr",
          "output_type": "stream",
          "text": [
            "100%|██████████| 27/27 [00:00<00:00, 382.29it/s]"
          ]
        },
        {
          "name": "stdout",
          "output_type": "stream",
          "text": [
            "The quantization error of layer 0 is 18.47545051574707.\n",
            "The relative quantization error of layer 0 is 0.048838842660188675.\n",
            "\n"
          ]
        },
        {
          "name": "stderr",
          "output_type": "stream",
          "text": [
            "\n"
          ]
        },
        {
          "name": "stdout",
          "output_type": "stream",
          "text": [
            "\n",
            "Quantizing layer with index: 1\n",
            "Quantization progress: 1 out of 20\n",
            "\n",
            "shape of W: torch.Size([64, 64, 3, 3])\n",
            "shape of analog_layer_input: torch.Size([3968, 576])\n",
            "shape of quantized_layer_input: torch.Size([3968, 576])\n",
            "The number of groups: 1\n",
            "\n"
          ]
        },
        {
          "name": "stderr",
          "output_type": "stream",
          "text": [
            "100%|██████████| 576/576 [00:00<00:00, 2995.64it/s]\n"
          ]
        },
        {
          "name": "stdout",
          "output_type": "stream",
          "text": [
            "The quantization error of layer 1 is 23.026023864746094.\n",
            "The relative quantization error of layer 1 is 0.04006272926926613.\n",
            "\n",
            "\n",
            "Quantizing layer with index: 2\n",
            "Quantization progress: 2 out of 20\n",
            "\n",
            "shape of W: torch.Size([64, 64, 3, 3])\n",
            "shape of analog_layer_input: torch.Size([3968, 576])\n",
            "shape of quantized_layer_input: torch.Size([3968, 576])\n",
            "The number of groups: 1\n",
            "\n"
          ]
        },
        {
          "name": "stderr",
          "output_type": "stream",
          "text": [
            "100%|██████████| 576/576 [00:00<00:00, 2627.70it/s]\n"
          ]
        },
        {
          "name": "stdout",
          "output_type": "stream",
          "text": [
            "The quantization error of layer 2 is 19.42939567565918.\n",
            "The relative quantization error of layer 2 is 0.06824056059122086.\n",
            "\n",
            "\n",
            "Quantizing layer with index: 3\n",
            "Quantization progress: 3 out of 20\n",
            "\n",
            "shape of W: torch.Size([64, 64, 3, 3])\n",
            "shape of analog_layer_input: torch.Size([3968, 576])\n",
            "shape of quantized_layer_input: torch.Size([3968, 576])\n",
            "The number of groups: 1\n",
            "\n"
          ]
        },
        {
          "name": "stderr",
          "output_type": "stream",
          "text": [
            "100%|██████████| 576/576 [00:00<00:00, 2741.98it/s]\n"
          ]
        },
        {
          "name": "stdout",
          "output_type": "stream",
          "text": [
            "The quantization error of layer 3 is 45.05657196044922.\n",
            "The relative quantization error of layer 3 is 0.08019042015075684.\n",
            "\n",
            "\n",
            "Quantizing layer with index: 4\n",
            "Quantization progress: 4 out of 20\n",
            "\n",
            "shape of W: torch.Size([64, 64, 3, 3])\n",
            "shape of analog_layer_input: torch.Size([3968, 576])\n",
            "shape of quantized_layer_input: torch.Size([3968, 576])\n",
            "The number of groups: 1\n",
            "\n"
          ]
        },
        {
          "name": "stderr",
          "output_type": "stream",
          "text": [
            "100%|██████████| 576/576 [00:00<00:00, 2185.58it/s]\n"
          ]
        },
        {
          "name": "stdout",
          "output_type": "stream",
          "text": [
            "The quantization error of layer 4 is 22.701129913330078.\n",
            "The relative quantization error of layer 4 is 0.10890142619609833.\n",
            "\n",
            "\n",
            "Quantizing layer with index: 5\n",
            "Quantization progress: 5 out of 20\n",
            "\n",
            "shape of W: torch.Size([128, 64, 3, 3])\n",
            "shape of analog_layer_input: torch.Size([3968, 576])\n",
            "shape of quantized_layer_input: torch.Size([3968, 576])\n",
            "The number of groups: 1\n",
            "\n"
          ]
        },
        {
          "name": "stderr",
          "output_type": "stream",
          "text": [
            "100%|██████████| 576/576 [00:00<00:00, 1756.37it/s]\n"
          ]
        },
        {
          "name": "stdout",
          "output_type": "stream",
          "text": [
            "The quantization error of layer 5 is 76.75072479248047.\n",
            "The relative quantization error of layer 5 is 0.0935564935207367.\n",
            "\n",
            "\n",
            "Quantizing layer with index: 6\n",
            "Quantization progress: 6 out of 20\n",
            "\n",
            "shape of W: torch.Size([128, 128, 3, 3])\n",
            "shape of analog_layer_input: torch.Size([1280, 1152])\n",
            "shape of quantized_layer_input: torch.Size([1280, 1152])\n",
            "The number of groups: 1\n",
            "\n"
          ]
        },
        {
          "name": "stderr",
          "output_type": "stream",
          "text": [
            "100%|██████████| 1152/1152 [00:00<00:00, 3186.67it/s]\n"
          ]
        },
        {
          "name": "stdout",
          "output_type": "stream",
          "text": [
            "The quantization error of layer 6 is 14.892617225646973.\n",
            "The relative quantization error of layer 6 is 0.09121297299861908.\n",
            "\n",
            "\n",
            "Quantizing layer with index: 7\n",
            "Quantization progress: 7 out of 20\n",
            "\n",
            "shape of W: torch.Size([128, 64, 1, 1])\n",
            "shape of analog_layer_input: torch.Size([32896, 64])\n",
            "shape of quantized_layer_input: torch.Size([32896, 64])\n",
            "The number of groups: 1\n",
            "\n"
          ]
        },
        {
          "name": "stderr",
          "output_type": "stream",
          "text": [
            "100%|██████████| 64/64 [00:00<00:00, 350.32it/s]\n"
          ]
        },
        {
          "name": "stdout",
          "output_type": "stream",
          "text": [
            "The quantization error of layer 7 is 141.18319702148438.\n",
            "The relative quantization error of layer 7 is 0.16339965164661407.\n",
            "\n",
            "\n",
            "Quantizing layer with index: 8\n",
            "Quantization progress: 8 out of 20\n",
            "\n",
            "shape of W: torch.Size([128, 128, 3, 3])\n",
            "shape of analog_layer_input: torch.Size([1280, 1152])\n",
            "shape of quantized_layer_input: torch.Size([1280, 1152])\n",
            "The number of groups: 1\n",
            "\n"
          ]
        },
        {
          "name": "stderr",
          "output_type": "stream",
          "text": [
            "100%|██████████| 1152/1152 [00:00<00:00, 2915.08it/s]\n"
          ]
        },
        {
          "name": "stdout",
          "output_type": "stream",
          "text": [
            "The quantization error of layer 8 is 27.955625534057617.\n",
            "The relative quantization error of layer 8 is 0.10149335861206055.\n",
            "\n",
            "\n",
            "Quantizing layer with index: 9\n",
            "Quantization progress: 9 out of 20\n",
            "\n",
            "shape of W: torch.Size([128, 128, 3, 3])\n",
            "shape of analog_layer_input: torch.Size([1280, 1152])\n",
            "shape of quantized_layer_input: torch.Size([1280, 1152])\n",
            "The number of groups: 1\n",
            "\n"
          ]
        },
        {
          "name": "stderr",
          "output_type": "stream",
          "text": [
            "100%|██████████| 1152/1152 [00:00<00:00, 3074.26it/s]\n"
          ]
        },
        {
          "name": "stdout",
          "output_type": "stream",
          "text": [
            "The quantization error of layer 9 is 12.631895065307617.\n",
            "The relative quantization error of layer 9 is 0.12962336838245392.\n",
            "\n",
            "\n",
            "Quantizing layer with index: 10\n",
            "Quantization progress: 10 out of 20\n",
            "\n",
            "shape of W: torch.Size([256, 128, 3, 3])\n",
            "shape of analog_layer_input: torch.Size([1280, 1152])\n",
            "shape of quantized_layer_input: torch.Size([1280, 1152])\n",
            "The number of groups: 1\n",
            "\n"
          ]
        },
        {
          "name": "stderr",
          "output_type": "stream",
          "text": [
            "100%|██████████| 1152/1152 [00:00<00:00, 2368.51it/s]\n"
          ]
        },
        {
          "name": "stdout",
          "output_type": "stream",
          "text": [
            "The quantization error of layer 10 is 43.04023361206055.\n",
            "The relative quantization error of layer 10 is 0.10469922423362732.\n",
            "\n",
            "\n",
            "Quantizing layer with index: 11\n",
            "Quantization progress: 11 out of 20\n",
            "\n",
            "shape of W: torch.Size([256, 256, 3, 3])\n",
            "shape of analog_layer_input: torch.Size([384, 2304])\n",
            "shape of quantized_layer_input: torch.Size([384, 2304])\n",
            "The number of groups: 1\n",
            "\n"
          ]
        },
        {
          "name": "stderr",
          "output_type": "stream",
          "text": [
            "100%|██████████| 2304/2304 [00:00<00:00, 3234.17it/s]\n"
          ]
        },
        {
          "name": "stdout",
          "output_type": "stream",
          "text": [
            "The quantization error of layer 11 is 9.325861930847168.\n",
            "The relative quantization error of layer 11 is 0.0729619711637497.\n",
            "\n",
            "\n",
            "Quantizing layer with index: 12\n",
            "Quantization progress: 12 out of 20\n",
            "\n",
            "shape of W: torch.Size([256, 128, 1, 1])\n",
            "shape of analog_layer_input: torch.Size([8320, 128])\n",
            "shape of quantized_layer_input: torch.Size([8320, 128])\n",
            "The number of groups: 1\n",
            "\n"
          ]
        },
        {
          "name": "stderr",
          "output_type": "stream",
          "text": [
            "100%|██████████| 128/128 [00:00<00:00, 900.34it/s]"
          ]
        },
        {
          "name": "stdout",
          "output_type": "stream",
          "text": [
            "The quantization error of layer 12 is 45.222755432128906.\n",
            "The relative quantization error of layer 12 is 0.17832018435001373.\n",
            "\n"
          ]
        },
        {
          "name": "stderr",
          "output_type": "stream",
          "text": [
            "\n"
          ]
        },
        {
          "name": "stdout",
          "output_type": "stream",
          "text": [
            "\n",
            "Quantizing layer with index: 13\n",
            "Quantization progress: 13 out of 20\n",
            "\n",
            "shape of W: torch.Size([256, 256, 3, 3])\n",
            "shape of analog_layer_input: torch.Size([384, 2304])\n",
            "shape of quantized_layer_input: torch.Size([384, 2304])\n",
            "The number of groups: 1\n",
            "\n"
          ]
        },
        {
          "name": "stderr",
          "output_type": "stream",
          "text": [
            "100%|██████████| 2304/2304 [00:00<00:00, 3514.91it/s]\n"
          ]
        },
        {
          "name": "stdout",
          "output_type": "stream",
          "text": [
            "The quantization error of layer 13 is 12.260607719421387.\n",
            "The relative quantization error of layer 13 is 0.057465117424726486.\n",
            "\n",
            "\n",
            "Quantizing layer with index: 14\n",
            "Quantization progress: 14 out of 20\n",
            "\n",
            "shape of W: torch.Size([256, 256, 3, 3])\n",
            "shape of analog_layer_input: torch.Size([384, 2304])\n",
            "shape of quantized_layer_input: torch.Size([384, 2304])\n",
            "The number of groups: 1\n",
            "\n"
          ]
        },
        {
          "name": "stderr",
          "output_type": "stream",
          "text": [
            "100%|██████████| 2304/2304 [00:00<00:00, 3260.20it/s]\n"
          ]
        },
        {
          "name": "stdout",
          "output_type": "stream",
          "text": [
            "The quantization error of layer 14 is 4.610085487365723.\n",
            "The relative quantization error of layer 14 is 0.07480430603027344.\n",
            "\n",
            "\n",
            "Quantizing layer with index: 15\n",
            "Quantization progress: 15 out of 20\n",
            "\n",
            "shape of W: torch.Size([512, 256, 3, 3])\n",
            "shape of analog_layer_input: torch.Size([384, 2304])\n",
            "shape of quantized_layer_input: torch.Size([384, 2304])\n",
            "The number of groups: 1\n",
            "\n"
          ]
        },
        {
          "name": "stderr",
          "output_type": "stream",
          "text": [
            "100%|██████████| 2304/2304 [00:00<00:00, 3011.07it/s]\n"
          ]
        },
        {
          "name": "stdout",
          "output_type": "stream",
          "text": [
            "The quantization error of layer 15 is 17.841325759887695.\n",
            "The relative quantization error of layer 15 is 0.0715019479393959.\n",
            "\n",
            "\n",
            "Quantizing layer with index: 16\n",
            "Quantization progress: 16 out of 20\n",
            "\n",
            "shape of W: torch.Size([512, 512, 3, 3])\n",
            "shape of analog_layer_input: torch.Size([256, 4608])\n",
            "shape of quantized_layer_input: torch.Size([256, 4608])\n",
            "The number of groups: 1\n",
            "\n"
          ]
        },
        {
          "name": "stderr",
          "output_type": "stream",
          "text": [
            "100%|██████████| 4608/4608 [00:01<00:00, 2945.51it/s]\n"
          ]
        },
        {
          "name": "stdout",
          "output_type": "stream",
          "text": [
            "The quantization error of layer 16 is 2.849418878555298.\n",
            "The relative quantization error of layer 16 is 0.04637613147497177.\n",
            "\n",
            "\n",
            "Quantizing layer with index: 17\n",
            "Quantization progress: 17 out of 20\n",
            "\n",
            "shape of W: torch.Size([512, 256, 1, 1])\n",
            "shape of analog_layer_input: torch.Size([2176, 256])\n",
            "shape of quantized_layer_input: torch.Size([2176, 256])\n",
            "The number of groups: 1\n",
            "\n"
          ]
        },
        {
          "name": "stderr",
          "output_type": "stream",
          "text": [
            "100%|██████████| 256/256 [00:00<00:00, 1384.82it/s]\n"
          ]
        },
        {
          "name": "stdout",
          "output_type": "stream",
          "text": [
            "The quantization error of layer 17 is 40.1536750793457.\n",
            "The relative quantization error of layer 17 is 0.250205934047699.\n",
            "\n",
            "\n",
            "Quantizing layer with index: 18\n",
            "Quantization progress: 18 out of 20\n",
            "\n",
            "shape of W: torch.Size([512, 512, 3, 3])\n",
            "shape of analog_layer_input: torch.Size([256, 4608])\n",
            "shape of quantized_layer_input: torch.Size([256, 4608])\n",
            "The number of groups: 1\n",
            "\n"
          ]
        },
        {
          "name": "stderr",
          "output_type": "stream",
          "text": [
            "100%|██████████| 4608/4608 [00:01<00:00, 3270.54it/s]\n"
          ]
        },
        {
          "name": "stdout",
          "output_type": "stream",
          "text": [
            "The quantization error of layer 18 is 7.71934700012207.\n",
            "The relative quantization error of layer 18 is 0.04404381290078163.\n",
            "\n",
            "\n",
            "Quantizing layer with index: 19\n",
            "Quantization progress: 19 out of 20\n",
            "\n",
            "shape of W: torch.Size([512, 512, 3, 3])\n",
            "shape of analog_layer_input: torch.Size([256, 4608])\n",
            "shape of quantized_layer_input: torch.Size([256, 4608])\n",
            "The number of groups: 1\n",
            "\n"
          ]
        },
        {
          "name": "stderr",
          "output_type": "stream",
          "text": [
            "100%|██████████| 4608/4608 [00:01<00:00, 2995.59it/s]\n"
          ]
        },
        {
          "name": "stdout",
          "output_type": "stream",
          "text": [
            "The quantization error of layer 19 is 4.773775100708008.\n",
            "The relative quantization error of layer 19 is 0.1306423395872116.\n",
            "\n",
            "\n",
            "Quantizing layer with index: 20\n",
            "Quantization progress: 20 out of 20\n",
            "\n",
            "The number of groups: 1\n",
            "\n"
          ]
        },
        {
          "name": "stderr",
          "output_type": "stream",
          "text": [
            "100%|██████████| 512/512 [00:00<00:00, 3445.69it/s]"
          ]
        },
        {
          "name": "stdout",
          "output_type": "stream",
          "text": [
            "The quantization error of layer 20 is 55.74491500854492.\n",
            "The relative quantization error of layer 20 is 0.2254711538553238.\n",
            "\n"
          ]
        },
        {
          "name": "stderr",
          "output_type": "stream",
          "text": [
            "\n"
          ]
        },
        {
          "name": "stdout",
          "output_type": "stream",
          "text": [
            "Bits 4, Effective Quantized Bit Size: 5.002805629730976\n",
            "Bits 4, Quantized Test Accuracy: 0.9049\n",
            "Layer indices to quantize [0, 1, 2, 3, 4, 5, 6, 7, 8, 9, 10, 11, 12, 13, 14, 15, 16, 17, 18, 19, 20]\n",
            "Total number of layers to quantize 21\n",
            "\n",
            "Quantizing layer with index: 0\n",
            "Quantization progress: 0 out of 20\n",
            "\n",
            "shape of W: torch.Size([64, 3, 3, 3])\n",
            "shape of analog_layer_input: torch.Size([3968, 27])\n",
            "shape of quantized_layer_input: torch.Size([3968, 27])\n",
            "The number of groups: 1\n",
            "\n"
          ]
        },
        {
          "name": "stderr",
          "output_type": "stream",
          "text": [
            "100%|██████████| 27/27 [00:00<00:00, 349.56it/s]"
          ]
        },
        {
          "name": "stdout",
          "output_type": "stream",
          "text": [
            "The quantization error of layer 0 is 82.71757507324219.\n",
            "The relative quantization error of layer 0 is 0.2227785587310791.\n",
            "\n"
          ]
        },
        {
          "name": "stderr",
          "output_type": "stream",
          "text": [
            "\n"
          ]
        },
        {
          "name": "stdout",
          "output_type": "stream",
          "text": [
            "\n",
            "Quantizing layer with index: 1\n",
            "Quantization progress: 1 out of 20\n",
            "\n",
            "shape of W: torch.Size([64, 64, 3, 3])\n",
            "shape of analog_layer_input: torch.Size([3968, 576])\n",
            "shape of quantized_layer_input: torch.Size([3968, 576])\n",
            "The number of groups: 1\n",
            "\n"
          ]
        },
        {
          "name": "stderr",
          "output_type": "stream",
          "text": [
            "100%|██████████| 576/576 [00:00<00:00, 2636.03it/s]\n"
          ]
        },
        {
          "name": "stdout",
          "output_type": "stream",
          "text": [
            "The quantization error of layer 1 is 60.755035400390625.\n",
            "The relative quantization error of layer 1 is 0.10579866170883179.\n",
            "\n",
            "\n",
            "Quantizing layer with index: 2\n",
            "Quantization progress: 2 out of 20\n",
            "\n",
            "shape of W: torch.Size([64, 64, 3, 3])\n",
            "shape of analog_layer_input: torch.Size([3968, 576])\n",
            "shape of quantized_layer_input: torch.Size([3968, 576])\n",
            "The number of groups: 1\n",
            "\n"
          ]
        },
        {
          "name": "stderr",
          "output_type": "stream",
          "text": [
            "100%|██████████| 576/576 [00:00<00:00, 2520.31it/s]\n"
          ]
        },
        {
          "name": "stdout",
          "output_type": "stream",
          "text": [
            "The quantization error of layer 2 is 47.91820526123047.\n",
            "The relative quantization error of layer 2 is 0.16822214424610138.\n",
            "\n",
            "\n",
            "Quantizing layer with index: 3\n",
            "Quantization progress: 3 out of 20\n",
            "\n",
            "shape of W: torch.Size([64, 64, 3, 3])\n",
            "shape of analog_layer_input: torch.Size([3968, 576])\n",
            "shape of quantized_layer_input: torch.Size([3968, 576])\n",
            "The number of groups: 1\n",
            "\n"
          ]
        },
        {
          "name": "stderr",
          "output_type": "stream",
          "text": [
            "100%|██████████| 576/576 [00:00<00:00, 2611.02it/s]\n"
          ]
        },
        {
          "name": "stdout",
          "output_type": "stream",
          "text": [
            "The quantization error of layer 3 is 95.45404815673828.\n",
            "The relative quantization error of layer 3 is 0.1699160784482956.\n",
            "\n",
            "\n",
            "Quantizing layer with index: 4\n",
            "Quantization progress: 4 out of 20\n",
            "\n",
            "shape of W: torch.Size([64, 64, 3, 3])\n",
            "shape of analog_layer_input: torch.Size([3968, 576])\n",
            "shape of quantized_layer_input: torch.Size([3968, 576])\n",
            "The number of groups: 1\n",
            "\n"
          ]
        },
        {
          "name": "stderr",
          "output_type": "stream",
          "text": [
            "100%|██████████| 576/576 [00:00<00:00, 2351.02it/s]\n"
          ]
        },
        {
          "name": "stdout",
          "output_type": "stream",
          "text": [
            "The quantization error of layer 4 is 51.10428237915039.\n",
            "The relative quantization error of layer 4 is 0.24550610780715942.\n",
            "\n",
            "\n",
            "Quantizing layer with index: 5\n",
            "Quantization progress: 5 out of 20\n",
            "\n",
            "shape of W: torch.Size([128, 64, 3, 3])\n",
            "shape of analog_layer_input: torch.Size([3968, 576])\n",
            "shape of quantized_layer_input: torch.Size([3968, 576])\n",
            "The number of groups: 1\n",
            "\n"
          ]
        },
        {
          "name": "stderr",
          "output_type": "stream",
          "text": [
            "100%|██████████| 576/576 [00:00<00:00, 1893.61it/s]\n"
          ]
        },
        {
          "name": "stdout",
          "output_type": "stream",
          "text": [
            "The quantization error of layer 5 is 177.019287109375.\n",
            "The relative quantization error of layer 5 is 0.212926983833313.\n",
            "\n",
            "\n",
            "Quantizing layer with index: 6\n",
            "Quantization progress: 6 out of 20\n",
            "\n",
            "shape of W: torch.Size([128, 128, 3, 3])\n",
            "shape of analog_layer_input: torch.Size([1280, 1152])\n",
            "shape of quantized_layer_input: torch.Size([1280, 1152])\n",
            "The number of groups: 1\n",
            "\n"
          ]
        },
        {
          "name": "stderr",
          "output_type": "stream",
          "text": [
            "100%|██████████| 1152/1152 [00:00<00:00, 2913.42it/s]\n"
          ]
        },
        {
          "name": "stdout",
          "output_type": "stream",
          "text": [
            "The quantization error of layer 6 is 26.365646362304688.\n",
            "The relative quantization error of layer 6 is 0.15808965265750885.\n",
            "\n",
            "\n",
            "Quantizing layer with index: 7\n",
            "Quantization progress: 7 out of 20\n",
            "\n",
            "shape of W: torch.Size([128, 64, 1, 1])\n",
            "shape of analog_layer_input: torch.Size([32896, 64])\n",
            "shape of quantized_layer_input: torch.Size([32896, 64])\n",
            "The number of groups: 1\n",
            "\n"
          ]
        },
        {
          "name": "stderr",
          "output_type": "stream",
          "text": [
            "100%|██████████| 64/64 [00:00<00:00, 337.07it/s]\n"
          ]
        },
        {
          "name": "stdout",
          "output_type": "stream",
          "text": [
            "The quantization error of layer 7 is 289.0783996582031.\n",
            "The relative quantization error of layer 7 is 0.33593320846557617.\n",
            "\n",
            "\n",
            "Quantizing layer with index: 8\n",
            "Quantization progress: 8 out of 20\n",
            "\n",
            "shape of W: torch.Size([128, 128, 3, 3])\n",
            "shape of analog_layer_input: torch.Size([1280, 1152])\n",
            "shape of quantized_layer_input: torch.Size([1280, 1152])\n",
            "The number of groups: 1\n",
            "\n"
          ]
        },
        {
          "name": "stderr",
          "output_type": "stream",
          "text": [
            "100%|██████████| 1152/1152 [00:00<00:00, 3230.37it/s]\n"
          ]
        },
        {
          "name": "stdout",
          "output_type": "stream",
          "text": [
            "The quantization error of layer 8 is 47.456600189208984.\n",
            "The relative quantization error of layer 8 is 0.17267747223377228.\n",
            "\n",
            "\n",
            "Quantizing layer with index: 9\n",
            "Quantization progress: 9 out of 20\n",
            "\n",
            "shape of W: torch.Size([128, 128, 3, 3])\n",
            "shape of analog_layer_input: torch.Size([1280, 1152])\n",
            "shape of quantized_layer_input: torch.Size([1280, 1152])\n",
            "The number of groups: 1\n",
            "\n"
          ]
        },
        {
          "name": "stderr",
          "output_type": "stream",
          "text": [
            "100%|██████████| 1152/1152 [00:00<00:00, 3389.64it/s]\n"
          ]
        },
        {
          "name": "stdout",
          "output_type": "stream",
          "text": [
            "The quantization error of layer 9 is 20.552412033081055.\n",
            "The relative quantization error of layer 9 is 0.20605748891830444.\n",
            "\n",
            "\n",
            "Quantizing layer with index: 10\n",
            "Quantization progress: 10 out of 20\n",
            "\n",
            "shape of W: torch.Size([256, 128, 3, 3])\n",
            "shape of analog_layer_input: torch.Size([1280, 1152])\n",
            "shape of quantized_layer_input: torch.Size([1280, 1152])\n",
            "The number of groups: 1\n",
            "\n"
          ]
        },
        {
          "name": "stderr",
          "output_type": "stream",
          "text": [
            "100%|██████████| 1152/1152 [00:00<00:00, 2589.82it/s]\n"
          ]
        },
        {
          "name": "stdout",
          "output_type": "stream",
          "text": [
            "The quantization error of layer 10 is 77.8936538696289.\n",
            "The relative quantization error of layer 10 is 0.1891334056854248.\n",
            "\n",
            "\n",
            "Quantizing layer with index: 11\n",
            "Quantization progress: 11 out of 20\n",
            "\n",
            "shape of W: torch.Size([256, 256, 3, 3])\n",
            "shape of analog_layer_input: torch.Size([384, 2304])\n",
            "shape of quantized_layer_input: torch.Size([384, 2304])\n",
            "The number of groups: 1\n",
            "\n"
          ]
        },
        {
          "name": "stderr",
          "output_type": "stream",
          "text": [
            "100%|██████████| 2304/2304 [00:00<00:00, 3484.71it/s]\n"
          ]
        },
        {
          "name": "stdout",
          "output_type": "stream",
          "text": [
            "The quantization error of layer 11 is 15.106338500976562.\n",
            "The relative quantization error of layer 11 is 0.1197718158364296.\n",
            "\n",
            "\n",
            "Quantizing layer with index: 12\n",
            "Quantization progress: 12 out of 20\n",
            "\n",
            "shape of W: torch.Size([256, 128, 1, 1])\n",
            "shape of analog_layer_input: torch.Size([8320, 128])\n",
            "shape of quantized_layer_input: torch.Size([8320, 128])\n",
            "The number of groups: 1\n",
            "\n"
          ]
        },
        {
          "name": "stderr",
          "output_type": "stream",
          "text": [
            "100%|██████████| 128/128 [00:00<00:00, 1004.56it/s]"
          ]
        },
        {
          "name": "stdout",
          "output_type": "stream",
          "text": [
            "The quantization error of layer 12 is 77.7275619506836.\n",
            "The relative quantization error of layer 12 is 0.30638477206230164.\n",
            "\n"
          ]
        },
        {
          "name": "stderr",
          "output_type": "stream",
          "text": [
            "\n"
          ]
        },
        {
          "name": "stdout",
          "output_type": "stream",
          "text": [
            "\n",
            "Quantizing layer with index: 13\n",
            "Quantization progress: 13 out of 20\n",
            "\n",
            "shape of W: torch.Size([256, 256, 3, 3])\n",
            "shape of analog_layer_input: torch.Size([384, 2304])\n",
            "shape of quantized_layer_input: torch.Size([384, 2304])\n",
            "The number of groups: 1\n",
            "\n"
          ]
        },
        {
          "name": "stderr",
          "output_type": "stream",
          "text": [
            "100%|██████████| 2304/2304 [00:00<00:00, 3401.46it/s]\n"
          ]
        },
        {
          "name": "stdout",
          "output_type": "stream",
          "text": [
            "The quantization error of layer 13 is 20.1449031829834.\n",
            "The relative quantization error of layer 13 is 0.09636538475751877.\n",
            "\n",
            "\n",
            "Quantizing layer with index: 14\n",
            "Quantization progress: 14 out of 20\n",
            "\n",
            "shape of W: torch.Size([256, 256, 3, 3])\n",
            "shape of analog_layer_input: torch.Size([384, 2304])\n",
            "shape of quantized_layer_input: torch.Size([384, 2304])\n",
            "The number of groups: 1\n",
            "\n"
          ]
        },
        {
          "name": "stderr",
          "output_type": "stream",
          "text": [
            "100%|██████████| 2304/2304 [00:00<00:00, 3277.42it/s]\n"
          ]
        },
        {
          "name": "stdout",
          "output_type": "stream",
          "text": [
            "The quantization error of layer 14 is 7.502277851104736.\n",
            "The relative quantization error of layer 14 is 0.12187064439058304.\n",
            "\n",
            "\n",
            "Quantizing layer with index: 15\n",
            "Quantization progress: 15 out of 20\n",
            "\n",
            "shape of W: torch.Size([512, 256, 3, 3])\n",
            "shape of analog_layer_input: torch.Size([384, 2304])\n",
            "shape of quantized_layer_input: torch.Size([384, 2304])\n",
            "The number of groups: 1\n",
            "\n"
          ]
        },
        {
          "name": "stderr",
          "output_type": "stream",
          "text": [
            "100%|██████████| 2304/2304 [00:00<00:00, 2942.33it/s]\n"
          ]
        },
        {
          "name": "stdout",
          "output_type": "stream",
          "text": [
            "The quantization error of layer 15 is 28.236675262451172.\n",
            "The relative quantization error of layer 15 is 0.11454498022794724.\n",
            "\n",
            "\n",
            "Quantizing layer with index: 16\n",
            "Quantization progress: 16 out of 20\n",
            "\n",
            "shape of W: torch.Size([512, 512, 3, 3])\n",
            "shape of analog_layer_input: torch.Size([256, 4608])\n",
            "shape of quantized_layer_input: torch.Size([256, 4608])\n",
            "The number of groups: 1\n",
            "\n"
          ]
        },
        {
          "name": "stderr",
          "output_type": "stream",
          "text": [
            "100%|██████████| 4608/4608 [00:01<00:00, 3025.22it/s]\n"
          ]
        },
        {
          "name": "stdout",
          "output_type": "stream",
          "text": [
            "The quantization error of layer 16 is 4.242550849914551.\n",
            "The relative quantization error of layer 16 is 0.06858718395233154.\n",
            "\n",
            "\n",
            "Quantizing layer with index: 17\n",
            "Quantization progress: 17 out of 20\n",
            "\n",
            "shape of W: torch.Size([512, 256, 1, 1])\n",
            "shape of analog_layer_input: torch.Size([2176, 256])\n",
            "shape of quantized_layer_input: torch.Size([2176, 256])\n",
            "The number of groups: 1\n",
            "\n"
          ]
        },
        {
          "name": "stderr",
          "output_type": "stream",
          "text": [
            "100%|██████████| 256/256 [00:00<00:00, 1093.49it/s]\n"
          ]
        },
        {
          "name": "stdout",
          "output_type": "stream",
          "text": [
            "The quantization error of layer 17 is 61.31575393676758.\n",
            "The relative quantization error of layer 17 is 0.3766123950481415.\n",
            "\n",
            "\n",
            "Quantizing layer with index: 18\n",
            "Quantization progress: 18 out of 20\n",
            "\n",
            "shape of W: torch.Size([512, 512, 3, 3])\n",
            "shape of analog_layer_input: torch.Size([256, 4608])\n",
            "shape of quantized_layer_input: torch.Size([256, 4608])\n",
            "The number of groups: 1\n",
            "\n"
          ]
        },
        {
          "name": "stderr",
          "output_type": "stream",
          "text": [
            "100%|██████████| 4608/4608 [00:01<00:00, 3241.51it/s]\n"
          ]
        },
        {
          "name": "stdout",
          "output_type": "stream",
          "text": [
            "The quantization error of layer 18 is 10.340404510498047.\n",
            "The relative quantization error of layer 18 is 0.05858737975358963.\n",
            "\n",
            "\n",
            "Quantizing layer with index: 19\n",
            "Quantization progress: 19 out of 20\n",
            "\n",
            "shape of W: torch.Size([512, 512, 3, 3])\n",
            "shape of analog_layer_input: torch.Size([256, 4608])\n",
            "shape of quantized_layer_input: torch.Size([256, 4608])\n",
            "The number of groups: 1\n",
            "\n"
          ]
        },
        {
          "name": "stderr",
          "output_type": "stream",
          "text": [
            "100%|██████████| 4608/4608 [00:01<00:00, 2780.23it/s]\n"
          ]
        },
        {
          "name": "stdout",
          "output_type": "stream",
          "text": [
            "The quantization error of layer 19 is 5.994527816772461.\n",
            "The relative quantization error of layer 19 is 0.1609760820865631.\n",
            "\n",
            "\n",
            "Quantizing layer with index: 20\n",
            "Quantization progress: 20 out of 20\n",
            "\n",
            "The number of groups: 1\n",
            "\n"
          ]
        },
        {
          "name": "stderr",
          "output_type": "stream",
          "text": [
            "100%|██████████| 512/512 [00:00<00:00, 3239.51it/s]"
          ]
        },
        {
          "name": "stdout",
          "output_type": "stream",
          "text": [
            "The quantization error of layer 20 is 94.85945892333984.\n",
            "The relative quantization error of layer 20 is 0.38892054557800293.\n",
            "\n"
          ]
        },
        {
          "name": "stderr",
          "output_type": "stream",
          "text": [
            "\n"
          ]
        },
        {
          "name": "stdout",
          "output_type": "stream",
          "text": [
            "Bits 3, Effective Quantized Bit Size: 4.003665664873391\n",
            "Bits 3, Quantized Test Accuracy: 0.8736\n",
            "Layer indices to quantize [0, 1, 2, 3, 4, 5, 6, 7, 8, 9, 10, 11, 12, 13, 14, 15, 16, 17, 18, 19, 20]\n",
            "Total number of layers to quantize 21\n",
            "\n",
            "Quantizing layer with index: 0\n",
            "Quantization progress: 0 out of 20\n",
            "\n",
            "shape of W: torch.Size([64, 3, 3, 3])\n",
            "shape of analog_layer_input: torch.Size([3968, 27])\n",
            "shape of quantized_layer_input: torch.Size([3968, 27])\n",
            "The number of groups: 1\n",
            "\n"
          ]
        },
        {
          "name": "stderr",
          "output_type": "stream",
          "text": [
            "100%|██████████| 27/27 [00:00<00:00, 452.94it/s]\n"
          ]
        },
        {
          "name": "stdout",
          "output_type": "stream",
          "text": [
            "The quantization error of layer 0 is 86.72093200683594.\n",
            "The relative quantization error of layer 0 is 0.23548245429992676.\n",
            "\n",
            "\n",
            "Quantizing layer with index: 1\n",
            "Quantization progress: 1 out of 20\n",
            "\n",
            "shape of W: torch.Size([64, 64, 3, 3])\n",
            "shape of analog_layer_input: torch.Size([3968, 576])\n",
            "shape of quantized_layer_input: torch.Size([3968, 576])\n",
            "The number of groups: 1\n",
            "\n"
          ]
        },
        {
          "name": "stderr",
          "output_type": "stream",
          "text": [
            "100%|██████████| 576/576 [00:00<00:00, 2782.86it/s]\n"
          ]
        },
        {
          "name": "stdout",
          "output_type": "stream",
          "text": [
            "The quantization error of layer 1 is 66.54373168945312.\n",
            "The relative quantization error of layer 1 is 0.115626260638237.\n",
            "\n",
            "\n",
            "Quantizing layer with index: 2\n",
            "Quantization progress: 2 out of 20\n",
            "\n",
            "shape of W: torch.Size([64, 64, 3, 3])\n",
            "shape of analog_layer_input: torch.Size([3968, 576])\n",
            "shape of quantized_layer_input: torch.Size([3968, 576])\n",
            "The number of groups: 1\n",
            "\n"
          ]
        },
        {
          "name": "stderr",
          "output_type": "stream",
          "text": [
            "100%|██████████| 576/576 [00:00<00:00, 2671.46it/s]\n"
          ]
        },
        {
          "name": "stdout",
          "output_type": "stream",
          "text": [
            "The quantization error of layer 2 is 54.20298767089844.\n",
            "The relative quantization error of layer 2 is 0.1885504424571991.\n",
            "\n",
            "\n",
            "Quantizing layer with index: 3\n",
            "Quantization progress: 3 out of 20\n",
            "\n",
            "shape of W: torch.Size([64, 64, 3, 3])\n",
            "shape of analog_layer_input: torch.Size([3968, 576])\n",
            "shape of quantized_layer_input: torch.Size([3968, 576])\n",
            "The number of groups: 1\n",
            "\n"
          ]
        },
        {
          "name": "stderr",
          "output_type": "stream",
          "text": [
            "100%|██████████| 576/576 [00:00<00:00, 2759.59it/s]\n"
          ]
        },
        {
          "name": "stdout",
          "output_type": "stream",
          "text": [
            "The quantization error of layer 3 is 106.88013458251953.\n",
            "The relative quantization error of layer 3 is 0.19117246568202972.\n",
            "\n",
            "\n",
            "Quantizing layer with index: 4\n",
            "Quantization progress: 4 out of 20\n",
            "\n",
            "shape of W: torch.Size([64, 64, 3, 3])\n",
            "shape of analog_layer_input: torch.Size([3968, 576])\n",
            "shape of quantized_layer_input: torch.Size([3968, 576])\n",
            "The number of groups: 1\n",
            "\n"
          ]
        },
        {
          "name": "stderr",
          "output_type": "stream",
          "text": [
            "100%|██████████| 576/576 [00:00<00:00, 2396.06it/s]\n"
          ]
        },
        {
          "name": "stdout",
          "output_type": "stream",
          "text": [
            "The quantization error of layer 4 is 56.30119323730469.\n",
            "The relative quantization error of layer 4 is 0.26778972148895264.\n",
            "\n",
            "\n",
            "Quantizing layer with index: 5\n",
            "Quantization progress: 5 out of 20\n",
            "\n",
            "shape of W: torch.Size([128, 64, 3, 3])\n",
            "shape of analog_layer_input: torch.Size([3968, 576])\n",
            "shape of quantized_layer_input: torch.Size([3968, 576])\n",
            "The number of groups: 1\n",
            "\n"
          ]
        },
        {
          "name": "stderr",
          "output_type": "stream",
          "text": [
            "100%|██████████| 576/576 [00:00<00:00, 1910.75it/s]\n"
          ]
        },
        {
          "name": "stdout",
          "output_type": "stream",
          "text": [
            "The quantization error of layer 5 is 197.4095001220703.\n",
            "The relative quantization error of layer 5 is 0.23839519917964935.\n",
            "\n",
            "\n",
            "Quantizing layer with index: 6\n",
            "Quantization progress: 6 out of 20\n",
            "\n",
            "shape of W: torch.Size([128, 128, 3, 3])\n",
            "shape of analog_layer_input: torch.Size([1280, 1152])\n",
            "shape of quantized_layer_input: torch.Size([1280, 1152])\n",
            "The number of groups: 1\n",
            "\n"
          ]
        },
        {
          "name": "stderr",
          "output_type": "stream",
          "text": [
            "100%|██████████| 1152/1152 [00:00<00:00, 2690.43it/s]\n"
          ]
        },
        {
          "name": "stdout",
          "output_type": "stream",
          "text": [
            "The quantization error of layer 6 is 33.29951858520508.\n",
            "The relative quantization error of layer 6 is 0.19835327565670013.\n",
            "\n",
            "\n",
            "Quantizing layer with index: 7\n",
            "Quantization progress: 7 out of 20\n",
            "\n",
            "shape of W: torch.Size([128, 64, 1, 1])\n",
            "shape of analog_layer_input: torch.Size([32896, 64])\n",
            "shape of quantized_layer_input: torch.Size([32896, 64])\n",
            "The number of groups: 1\n",
            "\n"
          ]
        },
        {
          "name": "stderr",
          "output_type": "stream",
          "text": [
            "100%|██████████| 64/64 [00:00<00:00, 351.21it/s]\n"
          ]
        },
        {
          "name": "stdout",
          "output_type": "stream",
          "text": [
            "The quantization error of layer 7 is 317.9324035644531.\n",
            "The relative quantization error of layer 7 is 0.36717110872268677.\n",
            "\n",
            "\n",
            "Quantizing layer with index: 8\n",
            "Quantization progress: 8 out of 20\n",
            "\n",
            "shape of W: torch.Size([128, 128, 3, 3])\n",
            "shape of analog_layer_input: torch.Size([1280, 1152])\n",
            "shape of quantized_layer_input: torch.Size([1280, 1152])\n",
            "The number of groups: 1\n",
            "\n"
          ]
        },
        {
          "name": "stderr",
          "output_type": "stream",
          "text": [
            "100%|██████████| 1152/1152 [00:00<00:00, 3278.44it/s]\n"
          ]
        },
        {
          "name": "stdout",
          "output_type": "stream",
          "text": [
            "The quantization error of layer 8 is 59.943153381347656.\n",
            "The relative quantization error of layer 8 is 0.21676860749721527.\n",
            "\n",
            "\n",
            "Quantizing layer with index: 9\n",
            "Quantization progress: 9 out of 20\n",
            "\n",
            "shape of W: torch.Size([128, 128, 3, 3])\n",
            "shape of analog_layer_input: torch.Size([1280, 1152])\n",
            "shape of quantized_layer_input: torch.Size([1280, 1152])\n",
            "The number of groups: 1\n",
            "\n"
          ]
        },
        {
          "name": "stderr",
          "output_type": "stream",
          "text": [
            "100%|██████████| 1152/1152 [00:00<00:00, 3271.30it/s]\n"
          ]
        },
        {
          "name": "stdout",
          "output_type": "stream",
          "text": [
            "The quantization error of layer 9 is 25.34235954284668.\n",
            "The relative quantization error of layer 9 is 0.2568444311618805.\n",
            "\n",
            "\n",
            "Quantizing layer with index: 10\n",
            "Quantization progress: 10 out of 20\n",
            "\n",
            "shape of W: torch.Size([256, 128, 3, 3])\n",
            "shape of analog_layer_input: torch.Size([1280, 1152])\n",
            "shape of quantized_layer_input: torch.Size([1280, 1152])\n",
            "The number of groups: 1\n",
            "\n"
          ]
        },
        {
          "name": "stderr",
          "output_type": "stream",
          "text": [
            "100%|██████████| 1152/1152 [00:00<00:00, 2473.31it/s]\n"
          ]
        },
        {
          "name": "stdout",
          "output_type": "stream",
          "text": [
            "The quantization error of layer 10 is 91.8590316772461.\n",
            "The relative quantization error of layer 10 is 0.22527597844600677.\n",
            "\n",
            "\n",
            "Quantizing layer with index: 11\n",
            "Quantization progress: 11 out of 20\n",
            "\n",
            "shape of W: torch.Size([256, 256, 3, 3])\n",
            "shape of analog_layer_input: torch.Size([384, 2304])\n",
            "shape of quantized_layer_input: torch.Size([384, 2304])\n",
            "The number of groups: 1\n",
            "\n"
          ]
        },
        {
          "name": "stderr",
          "output_type": "stream",
          "text": [
            "100%|██████████| 2304/2304 [00:00<00:00, 3346.03it/s]\n"
          ]
        },
        {
          "name": "stdout",
          "output_type": "stream",
          "text": [
            "The quantization error of layer 11 is 18.679807662963867.\n",
            "The relative quantization error of layer 11 is 0.15038543939590454.\n",
            "\n",
            "\n",
            "Quantizing layer with index: 12\n",
            "Quantization progress: 12 out of 20\n",
            "\n",
            "shape of W: torch.Size([256, 128, 1, 1])\n",
            "shape of analog_layer_input: torch.Size([8320, 128])\n",
            "shape of quantized_layer_input: torch.Size([8320, 128])\n",
            "The number of groups: 1\n",
            "\n"
          ]
        },
        {
          "name": "stderr",
          "output_type": "stream",
          "text": [
            "100%|██████████| 128/128 [00:00<00:00, 943.75it/s]"
          ]
        },
        {
          "name": "stdout",
          "output_type": "stream",
          "text": [
            "The quantization error of layer 12 is 92.08834838867188.\n",
            "The relative quantization error of layer 12 is 0.36416691541671753.\n",
            "\n"
          ]
        },
        {
          "name": "stderr",
          "output_type": "stream",
          "text": [
            "\n"
          ]
        },
        {
          "name": "stdout",
          "output_type": "stream",
          "text": [
            "\n",
            "Quantizing layer with index: 13\n",
            "Quantization progress: 13 out of 20\n",
            "\n",
            "shape of W: torch.Size([256, 256, 3, 3])\n",
            "shape of analog_layer_input: torch.Size([384, 2304])\n",
            "shape of quantized_layer_input: torch.Size([384, 2304])\n",
            "The number of groups: 1\n",
            "\n"
          ]
        },
        {
          "name": "stderr",
          "output_type": "stream",
          "text": [
            "100%|██████████| 2304/2304 [00:00<00:00, 3504.97it/s]\n"
          ]
        },
        {
          "name": "stdout",
          "output_type": "stream",
          "text": [
            "The quantization error of layer 13 is 24.43253517150879.\n",
            "The relative quantization error of layer 13 is 0.11758832633495331.\n",
            "\n",
            "\n",
            "Quantizing layer with index: 14\n",
            "Quantization progress: 14 out of 20\n",
            "\n",
            "shape of W: torch.Size([256, 256, 3, 3])\n",
            "shape of analog_layer_input: torch.Size([384, 2304])\n",
            "shape of quantized_layer_input: torch.Size([384, 2304])\n",
            "The number of groups: 1\n",
            "\n"
          ]
        },
        {
          "name": "stderr",
          "output_type": "stream",
          "text": [
            "100%|██████████| 2304/2304 [00:00<00:00, 3269.85it/s]\n"
          ]
        },
        {
          "name": "stdout",
          "output_type": "stream",
          "text": [
            "The quantization error of layer 14 is 9.191985130310059.\n",
            "The relative quantization error of layer 14 is 0.14828574657440186.\n",
            "\n",
            "\n",
            "Quantizing layer with index: 15\n",
            "Quantization progress: 15 out of 20\n",
            "\n",
            "shape of W: torch.Size([512, 256, 3, 3])\n",
            "shape of analog_layer_input: torch.Size([384, 2304])\n",
            "shape of quantized_layer_input: torch.Size([384, 2304])\n",
            "The number of groups: 1\n",
            "\n"
          ]
        },
        {
          "name": "stderr",
          "output_type": "stream",
          "text": [
            "100%|██████████| 2304/2304 [00:00<00:00, 3034.73it/s]\n"
          ]
        },
        {
          "name": "stdout",
          "output_type": "stream",
          "text": [
            "The quantization error of layer 15 is 34.69237518310547.\n",
            "The relative quantization error of layer 15 is 0.13934902846813202.\n",
            "\n",
            "\n",
            "Quantizing layer with index: 16\n",
            "Quantization progress: 16 out of 20\n",
            "\n",
            "shape of W: torch.Size([512, 512, 3, 3])\n",
            "shape of analog_layer_input: torch.Size([256, 4608])\n",
            "shape of quantized_layer_input: torch.Size([256, 4608])\n",
            "The number of groups: 1\n",
            "\n"
          ]
        },
        {
          "name": "stderr",
          "output_type": "stream",
          "text": [
            "100%|██████████| 4608/4608 [00:01<00:00, 2854.72it/s]\n"
          ]
        },
        {
          "name": "stdout",
          "output_type": "stream",
          "text": [
            "The quantization error of layer 16 is 5.289008617401123.\n",
            "The relative quantization error of layer 16 is 0.08563324809074402.\n",
            "\n",
            "\n",
            "Quantizing layer with index: 17\n",
            "Quantization progress: 17 out of 20\n",
            "\n",
            "shape of W: torch.Size([512, 256, 1, 1])\n",
            "shape of analog_layer_input: torch.Size([2176, 256])\n",
            "shape of quantized_layer_input: torch.Size([2176, 256])\n",
            "The number of groups: 1\n",
            "\n"
          ]
        },
        {
          "name": "stderr",
          "output_type": "stream",
          "text": [
            "100%|██████████| 256/256 [00:00<00:00, 1419.68it/s]\n"
          ]
        },
        {
          "name": "stdout",
          "output_type": "stream",
          "text": [
            "The quantization error of layer 17 is 75.35169219970703.\n",
            "The relative quantization error of layer 17 is 0.4637473225593567.\n",
            "\n",
            "\n",
            "Quantizing layer with index: 18\n",
            "Quantization progress: 18 out of 20\n",
            "\n",
            "shape of W: torch.Size([512, 512, 3, 3])\n",
            "shape of analog_layer_input: torch.Size([256, 4608])\n",
            "shape of quantized_layer_input: torch.Size([256, 4608])\n",
            "The number of groups: 1\n",
            "\n"
          ]
        },
        {
          "name": "stderr",
          "output_type": "stream",
          "text": [
            "100%|██████████| 4608/4608 [00:01<00:00, 2526.38it/s]\n"
          ]
        },
        {
          "name": "stdout",
          "output_type": "stream",
          "text": [
            "The quantization error of layer 18 is 12.73023509979248.\n",
            "The relative quantization error of layer 18 is 0.07170610874891281.\n",
            "\n",
            "\n",
            "Quantizing layer with index: 19\n",
            "Quantization progress: 19 out of 20\n",
            "\n",
            "shape of W: torch.Size([512, 512, 3, 3])\n",
            "shape of analog_layer_input: torch.Size([256, 4608])\n",
            "shape of quantized_layer_input: torch.Size([256, 4608])\n",
            "The number of groups: 1\n",
            "\n"
          ]
        },
        {
          "name": "stderr",
          "output_type": "stream",
          "text": [
            "100%|██████████| 4608/4608 [00:01<00:00, 2813.18it/s]\n"
          ]
        },
        {
          "name": "stdout",
          "output_type": "stream",
          "text": [
            "The quantization error of layer 19 is 6.626831531524658.\n",
            "The relative quantization error of layer 19 is 0.18418580293655396.\n",
            "\n",
            "\n",
            "Quantizing layer with index: 20\n",
            "Quantization progress: 20 out of 20\n",
            "\n",
            "The number of groups: 1\n",
            "\n"
          ]
        },
        {
          "name": "stderr",
          "output_type": "stream",
          "text": [
            "100%|██████████| 512/512 [00:00<00:00, 3246.25it/s]"
          ]
        },
        {
          "name": "stdout",
          "output_type": "stream",
          "text": [
            "The quantization error of layer 20 is 129.2133331298828.\n",
            "The relative quantization error of layer 20 is 0.525170624256134.\n",
            "\n"
          ]
        },
        {
          "name": "stderr",
          "output_type": "stream",
          "text": [
            "\n"
          ]
        },
        {
          "name": "stdout",
          "output_type": "stream",
          "text": [
            "Bits 2, Effective Quantized Bit Size: 3.0045257000158045\n",
            "Bits 2, Quantized Test Accuracy: 0.8176\n",
            "Results saved to checkpoints_student/checkpoints_student_DML/results_student_quantization_dml.csv\n"
          ]
        }
      ],
      "source": [
        "range1 = range(32, 20, -6)\n",
        "range2= range(20, 8, -4) \n",
        "range3= range(8, 4, -2)\n",
        "range4= range(4, 1, -1)\n",
        "bits_list = list(range1) + list(range2) + list(range3) + list(range4)\n",
        "\n",
        "for bits in bits_list:\n",
        "    # Quantization process\n",
        "    quantizer = QuantizeNeuralNet(\n",
        "        student_net.model,\n",
        "        'resnet18',\n",
        "        batch_size=128,\n",
        "        data_loader=train_loader,\n",
        "        mlp_bits=bits,\n",
        "        cnn_bits=bits,\n",
        "        ignore_layers=[],\n",
        "        mlp_alphabet_scalar=scalar(bits),#3\n",
        "        cnn_alphabet_scalar=scalar(bits),\n",
        "        mlp_percentile=1,\n",
        "        cnn_percentile=1,\n",
        "        reg=None,\n",
        "        lamb=0.1,\n",
        "        retain_rate=0.25,\n",
        "        stochastic_quantization=False,\n",
        "        device=fast_device\n",
        "    )\n",
        "    \n",
        "    # Measure training time\n",
        "    start_time = time.time()\n",
        "\n",
        "    quantized_model = quantizer.quantize_network()\n",
        "\n",
        "    training_time = time.time() - start_time\n",
        "\n",
        "    # Check quantized model bit size\n",
        "    effective_bit_size = calculate_bit_size(quantized_model)\n",
        "    print(f\"Bits {bits}, Effective Quantized Bit Size: {effective_bit_size}\")\n",
        "\n",
        "    _, quantized_test_accuracy = utils.getLossAccuracyOnDataset(quantized_model, test_loader, fast_device)\n",
        "    print(f\"Bits {bits}, Quantized Test Accuracy: {quantized_test_accuracy}\")\n",
        "\n",
        "    parameter = count_parameters(quantized_model) \n",
        "\n",
        "    # Write results to CSV\n",
        "    with open(csv_file, mode='a', newline='') as file:\n",
        "        writer = csv.writer(file)\n",
        "        writer.writerow([\n",
        "            bits, 0.932, quantized_test_accuracy, training_time  # Include effective bit size\n",
        "        ])\n",
        "\n",
        "print(f\"Results saved to {csv_file}\")"
      ]
    },
    {
      "cell_type": "code",
      "execution_count": 58,
      "metadata": {},
      "outputs": [
        {
          "data": {
            "image/png": "[encoded data removed]",
            "text/plain": [
              "<Figure size 1000x500 with 1 Axes>"
            ]
          },
          "metadata": {},
          "output_type": "display_data"
        }
      ],
      "source": [
        "# Load the CSV file into a DataFrame\n",
        "df = pd.read_csv('checkpoints_student/checkpoints_student_DML/results_student.csv')\n",
        "\n",
        "# Filter data for each student\n",
        "student_0 = df[df['Student ID'] == 0]\n",
        "student_1 = df[df['Student ID'] == 1]\n",
        "\n",
        "# Convert 'Epoch' column to integers\n",
        "df['Epoch'] = df['Epoch'].astype(int)\n",
        "\n",
        "# Plotting\n",
        "plt.figure(figsize=(10, 5))\n",
        "plt.plot(student_0['Epoch'], student_0['Valid Accuracy'], label='Student 0', marker='o')\n",
        "plt.plot(student_1['Epoch'], student_1['Valid Accuracy'], label='Student 1', marker='o')\n",
        "plt.title('Validation Accuracy by Epoch for Each Student')\n",
        "plt.xlabel('Epoch')\n",
        "plt.ylabel('Validation Accuracy')\n",
        "plt.xticks(df['Epoch'].unique())  # Ensure all epochs are included in x-axis\n",
        "plt.legend()\n",
        "plt.grid(True)\n",
        "plt.show()\n"
      ]
    },
    {
      "cell_type": "markdown",
      "metadata": {},
      "source": [
        "### Result"
      ]
    },
    {
      "cell_type": "code",
      "execution_count": 40,
      "metadata": {},
      "outputs": [
        {
          "data": {
            "image/png": "[encoded data removed]",
            "text/plain": [
              "<Figure size 800x600 with 1 Axes>"
            ]
          },
          "metadata": {},
          "output_type": "display_data"
        }
      ],
      "source": [
        "# Load the CSV files\n",
        "quant_teacher = pd.read_csv(\"checkpoints_teacher/results_teacher_quantization.csv\")\n",
        "quant_student_dml = pd.read_csv(\"checkpoints_student/checkpoints_student_DML/results_student_quantization_dml.csv\")\n",
        "quant_student_van = pd.read_csv(\"checkpoints_student/checkpoints_student_VAN/results_student_quantization_van.csv\")\n",
        "\n",
        "# Plot both lines sharing the same axes\n",
        "plt.figure(figsize=(8, 6))\n",
        "plt.plot(quant_teacher[\"Bits\"], quant_teacher[\"Quantized Test Accuracy\"], marker='o', label=\"Teacher Model\")\n",
        "plt.plot(quant_student_dml[\"Bits\"], quant_student_dml[\"Quantized Test Accuracy\"], marker='o', label=\"Student Model with DML\")\n",
        "plt.plot(quant_student_van[\"Bits\"], quant_student_van[\"Quantized Test Accuracy\"], marker='o', label=\"Student Model with VKD\")\n",
        "\n",
        "# Add horizontal lines for original accuracy\n",
        "plt.axhline(y=0.9225, color='blue', linestyle='--', alpha=0.7)\n",
        "plt.axhline(y=0.932, color='orange', linestyle='--', alpha=0.7)\n",
        "plt.axhline(y=0.9152, color='green', linestyle='--', alpha=0.7)\n",
        "\n",
        "# Add labels and title\n",
        "plt.title(\"Quantization Effect on Accuracy (CIFAR-10)\")\n",
        "plt.xlabel(\"Bits\")\n",
        "plt.ylabel(\"Accuracy\")\n",
        "plt.grid(True)\n",
        "plt.legend(title=\"Method\", loc=\"best\")\n",
        "\n",
        "# Save the plot as PNG\n",
        "plt.tight_layout()\n",
        "plt.savefig('images/teacher_student_quant_acc_comparison.png', dpi=500)\n",
        "\n",
        "# Show the plot\n",
        "plt.show()"
      ]
    },
    {
      "cell_type": "code",
      "execution_count": 41,
      "metadata": {},
      "outputs": [
        {
          "name": "stderr",
          "output_type": "stream",
          "text": [
            "C:\\Users\\17598\\AppData\\Local\\Temp\\ipykernel_13896\\774814024.py:1: FutureWarning: You are using `torch.load` with `weights_only=False` (the current default value), which uses the default pickle module implicitly. It is possible to construct malicious pickle data which will execute arbitrary code during unpickling (See https://github.com/pytorch/pytorch/blob/main/SECURITY.md#untrusted-models for more details). In a future release, the default value for `weights_only` will be flipped to `True`. This limits the functions that could be executed during unpickling. Arbitrary objects will no longer be allowed to be loaded via this mode unless they are explicitly allowlisted by the user via `torch.serialization.add_safe_globals`. We recommend you start setting `weights_only=True` for any use case where you don't have full control of the loaded file. Please open an issue on GitHub for any issues related to this experimental feature.\n",
            "  checkpoint = torch.load('checkpoints_student/checkpoints_student_VAN/student_epoch_19.pth')\n",
            "c:\\Users\\17598\\AppData\\Local\\Programs\\Python\\Python310\\lib\\site-packages\\torchvision\\models\\_utils.py:208: UserWarning: The parameter 'pretrained' is deprecated since 0.13 and may be removed in the future, please use 'weights' instead.\n",
            "  warnings.warn(\n",
            "c:\\Users\\17598\\AppData\\Local\\Programs\\Python\\Python310\\lib\\site-packages\\torchvision\\models\\_utils.py:223: UserWarning: Arguments other than a weight enum or `None` for 'weights' are deprecated since 0.13 and may be removed in the future. The current behavior is equivalent to passing `weights=None`.\n",
            "  warnings.warn(msg)\n"
          ]
        },
        {
          "data": {
            "text/plain": [
              "(0.0, 0.9152)"
            ]
          },
          "execution_count": 41,
          "metadata": {},
          "output_type": "execute_result"
        }
      ],
      "source": [
        "checkpoint = torch.load('checkpoints_student/checkpoints_student_VAN/student_epoch_19.pth')\n",
        "van_student_net = networks.StudentNetwork(0.0, teacher_net = teacher_net)\n",
        "van_student_net = student_net.to(fast_device)\n",
        "van_student_net.load_state_dict(checkpoint)\n",
        "\n",
        "utils.getLossAccuracyOnDataset(student_net, test_loader, fast_device)"
      ]
    },
    {
      "cell_type": "code",
      "execution_count": 42,
      "metadata": {},
      "outputs": [
        {
          "data": {
            "image/png": "[encoded data removed]",
            "text/plain": [
              "<Figure size 800x600 with 1 Axes>"
            ]
          },
          "metadata": {},
          "output_type": "display_data"
        }
      ],
      "source": [
        "# Load the CSV files\n",
        "quant_teacher = pd.read_csv(\"checkpoints_teacher/results_teacher_quantization.csv\")\n",
        "quant_student_dml = pd.read_csv(\"checkpoints_student/checkpoints_student_DML/results_student_quantization_dml.csv\")\n",
        "quant_student_van = pd.read_csv(\"checkpoints_student/checkpoints_student_VAN/results_student_quantization_van.csv\")\n",
        "\n",
        "num_parameter_teacher = count_parameters(teacher_net)\n",
        "quant_teacher[\"Bits*Num_Parameter\"] = quant_teacher['Bits'] * num_parameter_teacher\n",
        "\n",
        "num_parameter_student = count_parameters(van_student_net)\n",
        "quant_student_dml[\"Bits*Num_Parameter\"] = quant_student_dml['Bits'] * num_parameter_student\n",
        "quant_student_van[\"Bits*Num_Parameter\"] = quant_student_van['Bits'] * num_parameter_student\n",
        "\n",
        "# Define fixed colors for pre-quantization models\n",
        "pre_student_color_dml = \"red\"\n",
        "pre_student_color_van = \"green\"\n",
        "pre_teacher_color = \"blue\"\n",
        "\n",
        "# Define marker styles\n",
        "marker_mapping = {\n",
        "    \"pre_student\": \"o\",  # Circle for pre-quantization Student\n",
        "    \"post_student\": \"s\",  # Square for post-quantization Student\n",
        "    \"pre_teacher\": \"^\",  # Triangle for pre-quantization Teacher\n",
        "    \"post_teacher\": \"D\"  # Diamond for post-quantization Teacher\n",
        "}\n",
        "\n",
        "# Scatter plots for pre and post-quantization\n",
        "# Assumed that pre-quantization accuracy data is available; otherwise replace with actual data\n",
        "pre_quantization_student_van_accuracy = 0.9152\n",
        "pre_quantization_student_dml_accuracy = 0.932  # Example data\n",
        "pre_quantization_teacher_accuracy = 0.9225  # Example data\n",
        "\n",
        "pre_quantization_student_dml_bit_para = 357566784\n",
        "pre_quantization_teacher_bit_para = 752666944\n",
        "\n",
        "# Create colormap for bit precisions\n",
        "cmap_student_dml = plt.cm.Reds\n",
        "cmap_student_van = plt.cm.Greens\n",
        "cmap_teacher = plt.cm.Blues\n",
        "norm_student_dml = plt.Normalize(vmin=min(quant_student_dml['Bits*Num_Parameter']), vmax=max(quant_student_dml['Bits*Num_Parameter']))\n",
        "norm_student_van = plt.Normalize(vmin=min(quant_student_van['Bits*Num_Parameter']), vmax=max(quant_student_van['Bits*Num_Parameter']))\n",
        "norm_teacher = plt.Normalize(vmin=min(quant_teacher['Bits*Num_Parameter']), vmax=max(quant_teacher['Bits*Num_Parameter']))\n",
        "\n",
        "# Define fixed colors for pre-quantization models\n",
        "pre_student__dml_color = \"red\"\n",
        "pre_student__van_color = \"green\"\n",
        "pre_teacher_color = \"blue\"\n",
        "\n",
        "# Define marker styles\n",
        "marker_mapping = {\n",
        "    \"pre_student\": \"o\",  # Circle for pre-quantization Student\n",
        "    \"post_student\": \"s\",  # Square for post-quantization Student\n",
        "    \"pre_teacher\": \"^\",  # Triangle for pre-quantization Teacher\n",
        "    \"post_teacher\": \"D\"  # Diamond for post-quantization Teacher\n",
        "}\n",
        "\n",
        "fig, ax = plt.subplots(figsize=(8, 6))\n",
        "\n",
        "# Plot Post-Quantization Student\n",
        "ax.plot(quant_student_dml['Bits*Num_Parameter'], quant_student_dml['Quantized Test Accuracy'], \n",
        "        color='red', alpha=0.5, linestyle='-', linewidth=1.5)\n",
        "ax.plot(quant_student_van['Bits*Num_Parameter'], quant_student_van['Quantized Test Accuracy'], \n",
        "        color='green', alpha=0.5, linestyle='-', linewidth=1.5)\n",
        "\n",
        "# Plot Post-Quantization Teacher\n",
        "ax.plot(quant_teacher['Bits*Num_Parameter'], quant_teacher['Quantized Test Accuracy'], \n",
        "        color='blue', alpha=0.5, linestyle='-', linewidth=1.5)\n",
        "\n",
        "\n",
        "# Plot Post-Quantization points\n",
        "for index, row in quant_teacher.iterrows():\n",
        "    color_teacher = cmap_teacher(norm_teacher(row['Bits*Num_Parameter']))\n",
        "    ax.scatter(row['Bits*Num_Parameter'], row['Quantized Test Accuracy'], \n",
        "               color=color_teacher, marker=marker_mapping[\"post_teacher\"], s=50, zorder = 10, label=\"Teacher (Post-Quantization)\" if index == 0 else \"\")\n",
        "ax.scatter(pre_quantization_teacher_bit_para, pre_quantization_teacher_accuracy, \n",
        "           color=pre_teacher_color, marker=marker_mapping[\"pre_teacher\"], label=\"Teacher (Pre-Quantization)\", s=40, zorder = 10)\n",
        "\n",
        "for index, row in quant_student_van.iterrows():\n",
        "    color_student = cmap_student_van(norm_student_van(row['Bits*Num_Parameter']))\n",
        "    ax.scatter(row['Bits*Num_Parameter'], row['Quantized Test Accuracy'], \n",
        "               color=color_student, marker=marker_mapping[\"post_student\"], s=50, zorder = 10, label=\"Student VKD (Post-Quantization)\" if index == 0 else \"\")\n",
        "ax.scatter(pre_quantization_student_dml_bit_para, pre_quantization_student_van_accuracy, \n",
        "           color=pre_student_color_van, marker=marker_mapping[\"pre_student\"], label=\"Student VKD (Pre-Quantization)\", s=40, zorder = 10)\n",
        "   \n",
        "   \n",
        "for index, row in quant_student_dml.iterrows():\n",
        "    color_student = cmap_student_dml(norm_student_dml(row['Bits*Num_Parameter']))\n",
        "    ax.scatter(row['Bits*Num_Parameter'], row['Quantized Test Accuracy'], \n",
        "               color=color_student, marker=marker_mapping[\"post_student\"], s=50, zorder = 10, label=\"Student DML (Post-Quantization)\" if index == 0 else \"\")\n",
        "ax.scatter(pre_quantization_student_dml_bit_para, pre_quantization_student_dml_accuracy, \n",
        "           color=pre_student_color_dml, marker=marker_mapping[\"pre_student\"], label=\"Student DML (Pre-Quantization)\", s=40, zorder = 10)  \n",
        "\n",
        "\n",
        "# Labels and title\n",
        "plt.xlabel(\"Bits * Number of Parameters\")\n",
        "plt.ylabel(\"Accuracy (%)\")\n",
        "plt.title(\"Accuracy vs. Bits * Number of Parameters (Pre & Post Quantization)\")\n",
        "plt.xscale(\"log\")  # Using log scale for better parameter visualization\n",
        "plt.legend()\n",
        "plt.grid(True, linestyle='--', alpha=0.6)\n",
        "\n",
        "# Save the plot\n",
        "if not os.path.exists('images'):\n",
        "    os.makedirs('images')\n",
        "image_path = os.path.join('images', \"quantization_effects.png\")\n",
        "plt.savefig(image_path, dpi=500)\n",
        "plt.show()"
      ]
    },
    {
      "cell_type": "code",
      "execution_count": null,
      "metadata": {},
      "outputs": [],
      "source": []
    }
  ],
  "metadata": {
    "accelerator": "GPU",
    "colab": {
      "gpuType": "T4",
      "machine_shape": "hm",
      "provenance": []
    },
    "kernelspec": {
      "display_name": "Python 3",
      "language": "python",
      "name": "python3"
    },
    "language_info": {
      "codemirror_mode": {
        "name": "ipython",
        "version": 3
      },
      "file_extension": ".py",
      "mimetype": "text/x-python",
      "name": "python",
      "nbconvert_exporter": "python",
      "pygments_lexer": "ipython3",
      "version": "3.10.0"
    }
  },
  "nbformat": 4,
  "nbformat_minor": 0
}
